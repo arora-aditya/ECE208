{
 "cells": [
  {
   "cell_type": "code",
   "execution_count": 1,
   "metadata": {},
   "outputs": [],
   "source": [
    "import sympy as sp\n",
    "from sympy import *\n",
    "from sympy.abc import *\n",
    "from sympy.parsing.sympy_parser import parse_expr\n",
    "import itertools"
   ]
  },
  {
   "cell_type": "code",
   "execution_count": 2,
   "metadata": {},
   "outputs": [],
   "source": [
    "NNF_FILE_NAME = 'nnf/test_case20.nnf'\n",
    "CNF_FILE_NAME = 'test.cnf'"
   ]
  },
  {
   "cell_type": "code",
   "execution_count": 3,
   "metadata": {},
   "outputs": [],
   "source": [
    "def read_NNF_from_file(filename=NNF_FILE_NAME):\n",
    "    f = open(filename, \"r\")\n",
    "    line = f.readline()\n",
    "    for i in range(len(line)-1,-1,-1):\n",
    "        char = line[i]\n",
    "        if char == '0':\n",
    "            line = line[:i]\n",
    "            break\n",
    "    line = line.replace(' ', '')\n",
    "    return line.strip()"
   ]
  },
  {
   "cell_type": "code",
   "execution_count": 4,
   "metadata": {},
   "outputs": [],
   "source": [
    "NNF_STRING = read_NNF_from_file()"
   ]
  },
  {
   "cell_type": "code",
   "execution_count": 5,
   "metadata": {},
   "outputs": [
    {
     "data": {
      "text/plain": [
       "'6+-2+-3+-2.13.-11.13.-3.-15.8.-4+-11+12+6+-8.15.12.15'"
      ]
     },
     "execution_count": 5,
     "metadata": {},
     "output_type": "execute_result"
    }
   ],
   "source": [
    "NNF_STRING"
   ]
  },
  {
   "cell_type": "code",
   "execution_count": 6,
   "metadata": {},
   "outputs": [],
   "source": [
    "def max_no(clause):\n",
    "    final = []\n",
    "    clause = clause.replace('(', '')\n",
    "    clause = clause.replace(')', '')\n",
    "    dot_split = clause.split('.')\n",
    "    for ds in dot_split:\n",
    "        final.extend(ds.split('+'))\n",
    "    for i in range(len(final)):\n",
    "        final[i] = abs(int(final[i]))\n",
    "    return max(final)"
   ]
  },
  {
   "cell_type": "code",
   "execution_count": null,
   "metadata": {},
   "outputs": [],
   "source": []
  },
  {
   "cell_type": "code",
   "execution_count": 7,
   "metadata": {},
   "outputs": [],
   "source": [
    "def define_variables(max_no):\n",
    "    return symbols(f'x:{max_no}')"
   ]
  },
  {
   "cell_type": "code",
   "execution_count": 8,
   "metadata": {},
   "outputs": [],
   "source": [
    "max_num = max_no(NNF_STRING)\n",
    "syms = define_variables(max_num+1)\n",
    "for i in range(max_num+1):\n",
    "    exec(f'x{i} = syms[{i}]')"
   ]
  },
  {
   "cell_type": "code",
   "execution_count": 9,
   "metadata": {},
   "outputs": [],
   "source": [
    "def replace_nums_with_symbols(clause):\n",
    "    max_num = max_no(clause)\n",
    "    clause = clause.replace('-', '~')\n",
    "    split_by_and = clause.split('.')\n",
    "    syms = define_variables(max_num+1)\n",
    "    for i in range(max_num+1):\n",
    "        exec(f'x{i} = syms[{i}]')\n",
    "    fin_clause = ''\n",
    "    for sub_clause in split_by_and:\n",
    "        fin_sub_clause = ''\n",
    "        for sub_sub_clause in sub_clause.split('+'):\n",
    "            for i in range(max_num, 0, -1):\n",
    "                if sub_sub_clause.replace(str(i), str(syms[i])) != sub_sub_clause:\n",
    "                    sub_sub_clause = sub_sub_clause.replace(str(i), str(syms[i]))\n",
    "                    break\n",
    "            fin_sub_clause = fin_sub_clause + '|' + sub_sub_clause\n",
    "        \n",
    "        fin_clause = fin_clause + '&' + fin_sub_clause[1:]\n",
    "    return fin_clause[1:]"
   ]
  },
  {
   "cell_type": "code",
   "execution_count": 10,
   "metadata": {},
   "outputs": [],
   "source": [
    "def get_sp_clause(clause):\n",
    "    converted_clause_string = replace_nums_with_symbols(clause)\n",
    "    try:\n",
    "        return parse_expr(converted_clause_string)\n",
    "    except Exception as e:\n",
    "        print(f'Error in clause {clause} {e}')\n",
    "        print()"
   ]
  },
  {
   "cell_type": "code",
   "execution_count": 11,
   "metadata": {},
   "outputs": [],
   "source": [
    "def subformulas(expr):\n",
    "# subformula of expr without atoms\n",
    "# considering operator as binary\n",
    "    \n",
    "    if expr.func == sp.Symbol:\n",
    "        return []\n",
    "    elif len(expr.args)==1:\n",
    "        return [expr] + subformulas(expr.args[0])\n",
    "    elif len(expr.args)==2:\n",
    "        return [expr] + subformulas(expr.args[0]) + subformulas(expr.args[1]) \n",
    "    elif len(expr.args)>2:\n",
    "        return [expr] + subformulas(expr.args[0]) + subformulas(eval(str(expr.func)+str(expr.args[1:])))  \n",
    "    else:\n",
    "        return \"error\""
   ]
  },
  {
   "cell_type": "code",
   "execution_count": 12,
   "metadata": {},
   "outputs": [],
   "source": [
    "def depth(expr):\n",
    "# still considering operator as binary\n",
    "    if expr.func == Not:\n",
    "        return 1 + depth(expr.args[0])\n",
    "    elif (len(expr.args)==2):\n",
    "        return 1 + max([depth(x) for x in expr.args])\n",
    "    elif ( len(expr.args)>2):\n",
    "        #return 1 + max(depth(expr.args[0]), depth(eval(str(expr.func)+str(expr.args[1:]))))\n",
    "        return len(expr.args)-1 + max([depth(x) for x in expr.args])\n",
    "    elif expr.func == Symbol:\n",
    "        return 0\n",
    "    else: \n",
    "        return\"error\""
   ]
  },
  {
   "cell_type": "code",
   "execution_count": 13,
   "metadata": {},
   "outputs": [],
   "source": [
    "def symbol_init(x, count=0):\n",
    "    def new_symbol ():\n",
    "        nonlocal count\n",
    "        count += 1\n",
    "        return var(str(x) + str(count)) #var add the new symbol in the name space\n",
    "    return new_symbol"
   ]
  },
  {
   "cell_type": "code",
   "execution_count": 14,
   "metadata": {},
   "outputs": [],
   "source": [
    "def binSubs(x, y, z):\n",
    "    #replace y by z in x\n",
    "    #print(\"subs\", x, y, z)\n",
    "    if (len(y.args) >0) and (len(x.args)>2) and (y!=x) and (y.func==x.func):\n",
    "     \n",
    "        if all([y in x.args for y in y.args]): \n",
    "            l = list(x.args)\n",
    "            for i in y.args:\n",
    "                l.remove(i)\n",
    "            if (z.func== Symbol):\n",
    "                t=tuple(l + [z])\n",
    "            else:\n",
    "                t=tuple(l+list(z.args))\n",
    "            return eval(str(x.func) + str(t))\n",
    "    \n",
    "    return x.subs(y,z)"
   ]
  },
  {
   "cell_type": "code",
   "execution_count": 15,
   "metadata": {},
   "outputs": [],
   "source": [
    "def tseitin1(string):\n",
    "    # for binary operation\n",
    "    try:\n",
    "        expr = get_sp_clause(string)\n",
    "        s=symbol_init(\"p\")\n",
    "        if expr.func == Symbol:\n",
    "            return true\n",
    "        else:\n",
    "            return tseitin_aux(sorted(set(subformulas(expr)), key=depth), s) \n",
    "    except Exception as e:\n",
    "        raise e\n",
    "        return None\n",
    "\n",
    "def tseitin_aux(L, s):\n",
    "    #nonlocal newvar\n",
    "    newvar = s()\n",
    "    if (L==[]):\n",
    "        return true\n",
    "    if depth(L[0]) > 0:\n",
    "        if len(L[1:])>0 :\n",
    "            #newList = [x.subs(L[0], newvar) for x in L[1:]]  \n",
    "            \n",
    "            newList = [binSubs(x, L[0], newvar) for x in L[1:]]  \n",
    "            \n",
    "            return Equivalent(newvar, L[0]) & tseitin_aux(newList, s)\n",
    "        else:      \n",
    "            return Equivalent(newvar, L[0]) & newvar\n",
    "    else:\n",
    "        print(\"error\")"
   ]
  },
  {
   "cell_type": "code",
   "execution_count": 16,
   "metadata": {},
   "outputs": [],
   "source": [
    "def demorgan(a, neg=False, depth=0):\n",
    "#     print(a)\n",
    "#     print(depth*\"\\t\",\"demorgan\", a)\n",
    "    s = f''\n",
    "#     print(depth*\"\\t\", a)\n",
    "    if a.func == sp.Or:\n",
    "        ls = []\n",
    "        for i in range(len(a.args)):\n",
    "            if a.args[i].func == sp.And:\n",
    "    #             print(depth*\"\\t\",'1')\n",
    "                ls.append(a.args[i].args)\n",
    "            elif a.args[i].func == sp.Symbol:\n",
    "                ls.append([a.args[i]])\n",
    "            elif len(a.args[i].args) == 1:\n",
    "                ls.append([a.args[i]])\n",
    "            else:\n",
    "                print('a', a.args[i])\n",
    "#                 ls.append()\n",
    "        ls2 = []\n",
    "        for element in itertools.product(*ls):\n",
    "            ls2.append(parse_expr('Or' + str(tuple(element))))\n",
    "        ls2_str = 'And(' + str(ls2)[1:-1] + ')'\n",
    "#         print('ls2', ls2_str)\n",
    "        return parse_expr(ls2_str)\n",
    "    else:\n",
    "        return a"
   ]
  },
  {
   "cell_type": "code",
   "execution_count": 17,
   "metadata": {},
   "outputs": [],
   "source": [
    "def cnf(a, neg=False, depth=0):\n",
    "#     print(depth*'\\t', a, a.func, len(a.args), neg)\n",
    "    if a.func == sp.Symbol:\n",
    "        if neg:\n",
    "            return ~a\n",
    "        else:\n",
    "            return a\n",
    "    elif len(a.args)==1:\n",
    "#         print(a.args)\n",
    "        return cnf(eval(str(a.args[0])), neg=not neg, depth=depth+1)\n",
    "    elif len(a.args)==2 and a.func == sp.Equivalent:\n",
    "        if not neg:\n",
    "            return demorgan(demorgan(cnf(a.args[0], depth=depth+1), depth=depth+1) | demorgan(cnf(a.args[1], neg=True, depth=depth+1), depth=depth+1), depth=depth+1) & demorgan(demorgan(cnf(a.args[0], neg=True, depth=depth+1), depth=depth+1) | demorgan(cnf(a.args[1], depth=depth+1), depth=depth+1), depth=depth+1)\n",
    "        else:\n",
    "            assert False\n",
    "            # return (cnf(a.args[0], neg=True, depth=depth+1) | cnf(a.args[1], neg=True, depth=depth+1) & (cnf(a.args[1], neg=False, depth=depth+1) | cnf(a.args[0], neg=False, depth=depth+1)))\n",
    "    elif len(a.args)>=2:\n",
    "        if a.func == sp.And:\n",
    "            if not neg:\n",
    "                return demorgan(cnf(a.args[0], depth=depth+1) & demorgan(cnf(eval(str(a.func)+str(a.args[1:])), depth=depth+1), depth=depth+1), depth=depth+1)\n",
    "            else:\n",
    "                return demorgan(cnf(a.args[0], neg=True, depth=depth+1) | demorgan(cnf(eval(str(a.func)+str(a.args[1:])), neg=True, depth=depth+1), depth=depth+1), depth=depth+1)\n",
    "        elif a.func == sp.Or:\n",
    "            if not neg:\n",
    "                return demorgan(cnf(a.args[0], depth=depth+1) | demorgan(cnf(eval(str(a.func)+str(a.args[1:])), depth=depth+1), depth=depth+1), depth=depth+1)\n",
    "            else:\n",
    "                return demorgan(cnf(a.args[0], depth=depth+1, neg=neg) & demorgan(cnf(eval(str(a.func)+str(a.args[1:])), neg=neg, depth=depth+1), depth=depth+1), depth=depth+1)\n",
    "    else:\n",
    "        return \"error\"\n"
   ]
  },
  {
   "cell_type": "code",
   "execution_count": 18,
   "metadata": {},
   "outputs": [],
   "source": [
    "def set_wrapper(cnf_ans):\n",
    "    set_of_vars = {}\n",
    "    counter = 1\n",
    "    def recursive_add_to_set(a):\n",
    "        nonlocal counter\n",
    "        if a.func == sp.Symbol:\n",
    "            if a not in set_of_vars:\n",
    "                set_of_vars[a] = counter\n",
    "                counter += 1\n",
    "        elif len(a.args)==1:\n",
    "            b = a.args[0]\n",
    "            if b not in set_of_vars:\n",
    "                set_of_vars[b] = counter\n",
    "                counter += 1\n",
    "        else:\n",
    "            for arg in a.args:\n",
    "                recursive_add_to_set(arg)\n",
    "    recursive_add_to_set(cnf_ans)\n",
    "    return set_of_vars"
   ]
  },
  {
   "cell_type": "code",
   "execution_count": 19,
   "metadata": {},
   "outputs": [],
   "source": [
    "def write_cnf(filename, cnf_ans, set_of_vars):\n",
    "    assert cnf_ans.func == sp.And\n",
    "    l = [f'p cnf {len(set_of_vars)} {len(cnf_ans.args)}']\n",
    "    for arg in cnf_ans.args:\n",
    "        s = ''\n",
    "        if arg.func == sp.Symbol:\n",
    "            s += str(set_of_vars[arg]) + ' '\n",
    "        else:\n",
    "            assert arg.func == sp.Or\n",
    "            for sub_arg in arg.args:\n",
    "                if len(sub_arg.args) == 1:\n",
    "                    s += str(-1*(set_of_vars[sub_arg.args[0]])) + ' '\n",
    "                elif len(sub_arg.args) == 0:\n",
    "                    s += str(set_of_vars[sub_arg]) + ' '\n",
    "        s += '0 '\n",
    "        l.append(s)\n",
    "    with open(filename,'w') as f:\n",
    "        f.write('\\n'.join(l))"
   ]
  },
  {
   "cell_type": "code",
   "execution_count": 20,
   "metadata": {},
   "outputs": [],
   "source": [
    "def make_cnf(s):\n",
    "    global CNF_FILE_NAME\n",
    "    clause = tseitin1(s)\n",
    "    cnf_ans = cnf(clause)\n",
    "    set_of_vars = set_wrapper(cnf_ans)\n",
    "    write_cnf(CNF_FILE_NAME, cnf_ans, set_of_vars)\n",
    "    return cnf_ans"
   ]
  },
  {
   "cell_type": "code",
   "execution_count": 21,
   "metadata": {},
   "outputs": [
    {
     "data": {
      "text/latex": [
       "$\\displaystyle p_{20} \\wedge \\left(p_{1} \\vee x_{2}\\right) \\wedge \\left(p_{1} \\vee \\neg p_{9}\\right) \\wedge \\left(p_{11} \\vee \\neg p_{12}\\right) \\wedge \\left(p_{12} \\vee \\neg p_{13}\\right) \\wedge \\left(p_{13} \\vee \\neg p_{14}\\right) \\wedge \\left(p_{16} \\vee \\neg p_{15}\\right) \\wedge \\left(p_{16} \\vee \\neg p_{5}\\right) \\wedge \\left(p_{17} \\vee \\neg p_{1}\\right) \\wedge \\left(p_{17} \\vee \\neg p_{16}\\right) \\wedge \\left(p_{18} \\vee \\neg p_{17}\\right) \\wedge \\left(p_{18} \\vee \\neg p_{3}\\right) \\wedge \\left(p_{19} \\vee \\neg p_{18}\\right) \\wedge \\left(p_{19} \\vee \\neg x_{6}\\right) \\wedge \\left(p_{2} \\vee x_{15}\\right) \\wedge \\left(p_{2} \\vee \\neg p_{11}\\right) \\wedge \\left(p_{20} \\vee \\neg p_{19}\\right) \\wedge \\left(p_{20} \\vee \\neg x_{12}\\right) \\wedge \\left(p_{3} \\vee x_{11}\\right) \\wedge \\left(p_{3} \\vee \\neg p_{12}\\right) \\wedge \\left(p_{4} \\vee x_{4}\\right) \\wedge \\left(p_{4} \\vee \\neg p_{7}\\right) \\wedge \\left(p_{5} \\vee x_{3}\\right) \\wedge \\left(p_{5} \\vee \\neg p_{7}\\right) \\wedge \\left(p_{6} \\vee x_{8}\\right) \\wedge \\left(p_{6} \\vee \\neg p_{8}\\right) \\wedge \\left(p_{7} \\vee \\neg p_{9}\\right) \\wedge \\left(p_{8} \\vee \\neg p_{10}\\right) \\wedge \\left(p_{9} \\vee \\neg p_{11}\\right) \\wedge \\left(x_{12} \\vee \\neg p_{10}\\right) \\wedge \\left(x_{13} \\vee \\neg p_{14}\\right) \\wedge \\left(x_{15} \\vee \\neg p_{8}\\right) \\wedge \\left(x_{8} \\vee \\neg p_{13}\\right) \\wedge \\left(\\neg p_{1} \\vee \\neg x_{2}\\right) \\wedge \\left(\\neg p_{2} \\vee \\neg x_{15}\\right) \\wedge \\left(\\neg p_{3} \\vee \\neg x_{11}\\right) \\wedge \\left(\\neg p_{4} \\vee \\neg x_{4}\\right) \\wedge \\left(\\neg p_{5} \\vee \\neg x_{3}\\right) \\wedge \\left(\\neg p_{6} \\vee \\neg x_{8}\\right) \\wedge \\left(p_{1} \\vee p_{16} \\vee \\neg p_{17}\\right) \\wedge \\left(p_{1} \\vee p_{6} \\vee \\neg p_{15}\\right) \\wedge \\left(p_{1} \\vee x_{12} \\vee \\neg p_{15}\\right) \\wedge \\left(p_{1} \\vee x_{15} \\vee \\neg p_{15}\\right) \\wedge \\left(p_{10} \\vee \\neg p_{8} \\vee \\neg x_{12}\\right) \\wedge \\left(p_{11} \\vee \\neg p_{2} \\vee \\neg p_{9}\\right) \\wedge \\left(p_{12} \\vee \\neg p_{11} \\vee \\neg p_{3}\\right) \\wedge \\left(p_{13} \\vee \\neg p_{12} \\vee \\neg x_{8}\\right) \\wedge \\left(p_{14} \\vee \\neg p_{13} \\vee \\neg x_{13}\\right) \\wedge \\left(p_{15} \\vee p_{5} \\vee \\neg p_{16}\\right) \\wedge \\left(p_{17} \\vee p_{3} \\vee \\neg p_{18}\\right) \\wedge \\left(p_{18} \\vee x_{6} \\vee \\neg p_{19}\\right) \\wedge \\left(p_{19} \\vee x_{12} \\vee \\neg p_{20}\\right) \\wedge \\left(p_{2} \\vee p_{6} \\vee \\neg p_{15}\\right) \\wedge \\left(p_{2} \\vee x_{12} \\vee \\neg p_{15}\\right) \\wedge \\left(p_{2} \\vee x_{15} \\vee \\neg p_{15}\\right) \\wedge \\left(p_{3} \\vee p_{6} \\vee \\neg p_{15}\\right) \\wedge \\left(p_{3} \\vee x_{12} \\vee \\neg p_{15}\\right) \\wedge \\left(p_{3} \\vee x_{15} \\vee \\neg p_{15}\\right) \\wedge \\left(p_{4} \\vee p_{6} \\vee \\neg p_{15}\\right) \\wedge \\left(p_{4} \\vee x_{12} \\vee \\neg p_{15}\\right) \\wedge \\left(p_{4} \\vee x_{15} \\vee \\neg p_{15}\\right) \\wedge \\left(p_{5} \\vee p_{6} \\vee \\neg p_{15}\\right) \\wedge \\left(p_{5} \\vee x_{12} \\vee \\neg p_{15}\\right) \\wedge \\left(p_{5} \\vee x_{15} \\vee \\neg p_{15}\\right) \\wedge \\left(p_{6} \\vee x_{13} \\vee \\neg p_{15}\\right) \\wedge \\left(p_{6} \\vee x_{8} \\vee \\neg p_{15}\\right) \\wedge \\left(p_{7} \\vee \\neg p_{4} \\vee \\neg p_{5}\\right) \\wedge \\left(p_{8} \\vee \\neg p_{6} \\vee \\neg x_{15}\\right) \\wedge \\left(p_{9} \\vee \\neg p_{1} \\vee \\neg p_{7}\\right) \\wedge \\left(x_{12} \\vee x_{13} \\vee \\neg p_{15}\\right) \\wedge \\left(x_{12} \\vee x_{8} \\vee \\neg p_{15}\\right) \\wedge \\left(x_{13} \\vee x_{15} \\vee \\neg p_{15}\\right) \\wedge \\left(x_{15} \\vee x_{8} \\vee \\neg p_{15}\\right) \\wedge \\left(p_{15} \\vee \\neg p_{6} \\vee \\neg x_{12} \\vee \\neg x_{15}\\right) \\wedge \\left(p_{15} \\vee \\neg p_{1} \\vee \\neg p_{2} \\vee \\neg p_{3} \\vee \\neg p_{4} \\vee \\neg p_{5} \\vee \\neg x_{13} \\vee \\neg x_{8}\\right)$"
      ],
      "text/plain": [
       "p20 & (p1 | x2) & (p2 | x15) & (p3 | x11) & (p4 | x4) & (p5 | x3) & (p6 | x8) & (p1 | ~p9) & (p11 | ~p12) & (p12 | ~p13) & (p13 | ~p14) & (p16 | ~p15) & (p16 | ~p5) & (p17 | ~p1) & (p17 | ~p16) & (p18 | ~p17) & (p18 | ~p3) & (p19 | ~p18) & (p19 | ~x6) & (p2 | ~p11) & (p20 | ~p19) & (p20 | ~x12) & (p3 | ~p12) & (p4 | ~p7) & (p5 | ~p7) & (p6 | ~p8) & (p7 | ~p9) & (p8 | ~p10) & (p9 | ~p11) & (x12 | ~p10) & (x13 | ~p14) & (x15 | ~p8) & (x8 | ~p13) & (~p1 | ~x2) & (~p2 | ~x15) & (~p3 | ~x11) & (~p4 | ~x4) & (~p5 | ~x3) & (~p6 | ~x8) & (p1 | p16 | ~p17) & (p1 | p6 | ~p15) & (p1 | x12 | ~p15) & (p1 | x15 | ~p15) & (p15 | p5 | ~p16) & (p17 | p3 | ~p18) & (p18 | x6 | ~p19) & (p19 | x12 | ~p20) & (p2 | p6 | ~p15) & (p2 | x12 | ~p15) & (p2 | x15 | ~p15) & (p3 | p6 | ~p15) & (p3 | x12 | ~p15) & (p3 | x15 | ~p15) & (p4 | p6 | ~p15) & (p4 | x12 | ~p15) & (p4 | x15 | ~p15) & (p5 | p6 | ~p15) & (p5 | x12 | ~p15) & (p5 | x15 | ~p15) & (p6 | x13 | ~p15) & (p6 | x8 | ~p15) & (x12 | x13 | ~p15) & (x12 | x8 | ~p15) & (x13 | x15 | ~p15) & (x15 | x8 | ~p15) & (p10 | ~p8 | ~x12) & (p11 | ~p2 | ~p9) & (p12 | ~p11 | ~p3) & (p13 | ~p12 | ~x8) & (p14 | ~p13 | ~x13) & (p7 | ~p4 | ~p5) & (p8 | ~p6 | ~x15) & (p9 | ~p1 | ~p7) & (p15 | ~p6 | ~x12 | ~x15) & (p15 | ~p1 | ~p2 | ~p3 | ~p4 | ~p5 | ~x13 | ~x8)"
      ]
     },
     "execution_count": 21,
     "metadata": {},
     "output_type": "execute_result"
    }
   ],
   "source": [
    "make_cnf(NNF_STRING)"
   ]
  },
  {
   "cell_type": "code",
   "execution_count": null,
   "metadata": {},
   "outputs": [],
   "source": []
  },
  {
   "cell_type": "code",
   "execution_count": 22,
   "metadata": {},
   "outputs": [
    {
     "data": {
      "text/plain": [
       "'6+-2+-3+-2.13.-11.13.-3.-15.8.-4+-11+12+6+-8.15.12.15'"
      ]
     },
     "execution_count": 22,
     "metadata": {},
     "output_type": "execute_result"
    }
   ],
   "source": [
    "NNF_STRING"
   ]
  },
  {
   "cell_type": "code",
   "execution_count": null,
   "metadata": {},
   "outputs": [],
   "source": []
  },
  {
   "cell_type": "code",
   "execution_count": 23,
   "metadata": {},
   "outputs": [
    {
     "data": {
      "text/plain": [
       "True"
      ]
     },
     "execution_count": 23,
     "metadata": {},
     "output_type": "execute_result"
    }
   ],
   "source": [
    "sp.to_cnf(tseitin1(NNF_STRING)) == make_cnf(NNF_STRING)"
   ]
  },
  {
   "cell_type": "code",
   "execution_count": null,
   "metadata": {},
   "outputs": [],
   "source": []
  },
  {
   "cell_type": "code",
   "execution_count": null,
   "metadata": {},
   "outputs": [],
   "source": []
  },
  {
   "cell_type": "code",
   "execution_count": null,
   "metadata": {},
   "outputs": [],
   "source": []
  },
  {
   "cell_type": "code",
   "execution_count": null,
   "metadata": {},
   "outputs": [],
   "source": []
  },
  {
   "cell_type": "code",
   "execution_count": null,
   "metadata": {},
   "outputs": [],
   "source": []
  },
  {
   "cell_type": "code",
   "execution_count": null,
   "metadata": {},
   "outputs": [],
   "source": []
  },
  {
   "cell_type": "code",
   "execution_count": null,
   "metadata": {},
   "outputs": [],
   "source": []
  }
 ],
 "metadata": {
  "kernelspec": {
   "display_name": "Python 3",
   "language": "python",
   "name": "python3"
  },
  "language_info": {
   "codemirror_mode": {
    "name": "ipython",
    "version": 3
   },
   "file_extension": ".py",
   "mimetype": "text/x-python",
   "name": "python",
   "nbconvert_exporter": "python",
   "pygments_lexer": "ipython3",
   "version": "3.7.3"
  }
 },
 "nbformat": 4,
 "nbformat_minor": 2
}
