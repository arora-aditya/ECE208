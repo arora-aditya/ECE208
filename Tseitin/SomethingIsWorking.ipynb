{
 "cells": [
  {
   "cell_type": "code",
   "execution_count": 1,
   "metadata": {},
   "outputs": [],
   "source": [
    "import sympy as sp\n",
    "from sympy import *\n",
    "from sympy.abc import *\n",
    "from sympy.parsing.sympy_parser import parse_expr\n",
    "import pdb"
   ]
  },
  {
   "cell_type": "code",
   "execution_count": 2,
   "metadata": {},
   "outputs": [],
   "source": [
    "def given(fx):\n",
    "    li = [\n",
    "        \"1+-2.3+4+5.-6\",\n",
    "        \"1.(2 + (3.5) + -1.3) + 4.6 + 12 + 15\",\n",
    "        \"1.(2 + 3.5 + -1.3() + 4.6 + 12 + 15.16 + (17.18) + (-1)\",\n",
    "        \"(1+(2).(3+5).(-1+3)).(4+6).(12).(15+16).((17+18)).(((-1)))\",\n",
    "        \"1 . 2 . 3 . 4 . -5 . -1 . (-2 . (-1))\",\n",
    "        \"1+-2.3+4+5+-6\",\n",
    "    ]\n",
    "    li_ret = []\n",
    "    for cl in li:\n",
    "        try:\n",
    "            li_ret.append([cl, fx(cl)])\n",
    "        except Exception as e:\n",
    "            print(e)\n",
    "            li_ret.append('{e.message}')\n",
    "    return li_ret\n",
    "        "
   ]
  },
  {
   "cell_type": "code",
   "execution_count": null,
   "metadata": {},
   "outputs": [],
   "source": []
  },
  {
   "cell_type": "code",
   "execution_count": 3,
   "metadata": {},
   "outputs": [],
   "source": [
    "max_number = float('inf')"
   ]
  },
  {
   "cell_type": "code",
   "execution_count": 4,
   "metadata": {},
   "outputs": [],
   "source": [
    "def max_no(clause):\n",
    "    final = []\n",
    "    clause = clause.replace('(', '')\n",
    "    clause = clause.replace(')', '')\n",
    "    dot_split = clause.split('.')\n",
    "    for ds in dot_split:\n",
    "        final.extend(ds.split('+'))\n",
    "    for i in range(len(final)):\n",
    "        final[i] = abs(int(final[i]))\n",
    "    return max(final)\n",
    "\n"
   ]
  },
  {
   "cell_type": "code",
   "execution_count": 5,
   "metadata": {},
   "outputs": [],
   "source": [
    "def define_variables(max_no):\n",
    "    return symbols(f'x:{max_no}')"
   ]
  },
  {
   "cell_type": "code",
   "execution_count": 6,
   "metadata": {},
   "outputs": [],
   "source": [
    "def replace_nums_with_symbols(clause):\n",
    "    max_num = max_no(clause)\n",
    "    clause = clause.replace('-', '~')\n",
    "    split_by_and = clause.split('.')\n",
    "    syms = define_variables(max_num+1)\n",
    "    for i in range(max_num+1):\n",
    "        exec(f'x{i} = syms[{i}]')\n",
    "    fin_clause = ''\n",
    "    for sub_clause in split_by_and:\n",
    "        fin_sub_clause = ''\n",
    "        for sub_sub_clause in sub_clause.split('+'):\n",
    "            for i in range(max_num, 0, -1):\n",
    "                if sub_sub_clause.replace(str(i), str(syms[i])) != sub_sub_clause:\n",
    "                    sub_sub_clause = sub_sub_clause.replace(str(i), str(syms[i]))\n",
    "                    break\n",
    "            fin_sub_clause = fin_sub_clause + '|' + sub_sub_clause\n",
    "        \n",
    "        fin_clause = fin_clause + '&' + fin_sub_clause[1:]\n",
    "    return fin_clause[1:]"
   ]
  },
  {
   "cell_type": "code",
   "execution_count": 7,
   "metadata": {},
   "outputs": [
    {
     "data": {
      "text/plain": [
       "[['1+-2.3+4+5.-6', 'x1|~x2&x3|x4|x5&~x6'],\n",
       " ['1.(2 + (3.5) + -1.3) + 4.6 + 12 + 15',\n",
       "  'x1&(x2 | (x3&x5) | ~x1&x3) | x4&x6 | x12 | x15'],\n",
       " ['1.(2 + 3.5 + -1.3() + 4.6 + 12 + 15.16 + (17.18) + (-1)',\n",
       "  'x1&(x2 | x3&x5 | ~x1&x3() | x4&x6 | x12 | x15&x16 | (x17&x18) | (~x1)'],\n",
       " ['(1+(2).(3+5).(-1+3)).(4+6).(12).(15+16).((17+18)).(((-1)))',\n",
       "  '(x1|(x2)&(x3|x5)&(~x1|x3))&(x4|x6)&(x12)&(x15|x16)&((x17|x18))&(((~x1)))'],\n",
       " ['1 . 2 . 3 . 4 . -5 . -1 . (-2 . (-1))',\n",
       "  'x1 & x2 & x3 & x4 & ~x5 & ~x1 & (~x2 & (~x1))'],\n",
       " ['1+-2.3+4+5+-6', 'x1|~x2&x3|x4|x5|~x6']]"
      ]
     },
     "execution_count": 7,
     "metadata": {},
     "output_type": "execute_result"
    }
   ],
   "source": [
    "given(replace_nums_with_symbols)"
   ]
  },
  {
   "cell_type": "code",
   "execution_count": 8,
   "metadata": {},
   "outputs": [],
   "source": [
    "def auto_convert_to_cnf(clause):\n",
    "    \n",
    "    converted_clause_string = replace_nums_with_symbols(clause)\n",
    "    try:\n",
    "        exec(f'converted_clause = {converted_clause_string}')\n",
    "        print(clause, sp.to_cnf(converted_clause_string))\n",
    "        print()\n",
    "    except:\n",
    "        print(f'Error in clause {clause}')\n",
    "        print()"
   ]
  },
  {
   "cell_type": "code",
   "execution_count": 9,
   "metadata": {},
   "outputs": [],
   "source": [
    "def get_sp_clause(clause):\n",
    "    converted_clause_string = replace_nums_with_symbols(clause)\n",
    "    try:\n",
    "        return parse_expr(converted_clause_string)\n",
    "    except Exception as e:\n",
    "        print(f'Error in clause {clause} {e}')\n",
    "        print()"
   ]
  },
  {
   "cell_type": "code",
   "execution_count": 10,
   "metadata": {},
   "outputs": [
    {
     "name": "stdout",
     "output_type": "stream",
     "text": [
      "Error in clause 1.(2 + 3.5 + -1.3() + 4.6 + 12 + 15.16 + (17.18) + (-1) ('EOF in multi-line statement', (2, 0))\n",
      "\n"
     ]
    },
    {
     "data": {
      "text/plain": [
       "[['1+-2.3+4+5.-6', x1 | x4 | (x3 & ~x2) | (x5 & ~x6)],\n",
       " ['1.(2 + (3.5) + -1.3) + 4.6 + 12 + 15',\n",
       "  x12 | x15 | (x4 & x6) | (x1 & (x2 | (x3 & x5) | (x3 & ~x1)))],\n",
       " ['1.(2 + 3.5 + -1.3() + 4.6 + 12 + 15.16 + (17.18) + (-1)', None],\n",
       " ['(1+(2).(3+5).(-1+3)).(4+6).(12).(15+16).((17+18)).(((-1)))',\n",
       "  x12 & ~x1 & (x15 | x16) & (x17 | x18) & (x4 | x6) & (x1 | (x2 & (x3 | x5) & (x3 | ~x1)))],\n",
       " ['1 . 2 . 3 . 4 . -5 . -1 . (-2 . (-1))',\n",
       "  x1 & x2 & x3 & x4 & ~x1 & ~x2 & ~x5],\n",
       " ['1+-2.3+4+5+-6', x1 | x4 | x5 | ~x6 | (x3 & ~x2)]]"
      ]
     },
     "execution_count": 10,
     "metadata": {},
     "output_type": "execute_result"
    }
   ],
   "source": [
    "given(get_sp_clause)"
   ]
  },
  {
   "cell_type": "code",
   "execution_count": 11,
   "metadata": {},
   "outputs": [],
   "source": [
    "def subformulas(expr):\n",
    "# subformula of expr without atoms\n",
    "# considering operator as binary\n",
    "    \n",
    "    if expr.func == sp.Symbol:\n",
    "        return []\n",
    "    elif len(expr.args)==1:\n",
    "        return [expr] + subformulas(expr.args[0])\n",
    "    elif len(expr.args)==2:\n",
    "        return [expr] + subformulas(expr.args[0]) + subformulas(expr.args[1]) \n",
    "    elif len(expr.args)>2:\n",
    "        return [expr] + subformulas(expr.args[0]) + subformulas(eval(str(expr.func)+str(expr.args[1:])))  \n",
    "    else:\n",
    "        return \"error\""
   ]
  },
  {
   "cell_type": "code",
   "execution_count": 12,
   "metadata": {},
   "outputs": [],
   "source": [
    "syms = define_variables(18+1)\n",
    "for i in range(18+1):\n",
    "    exec(f'x{i} = syms[{i}]')"
   ]
  },
  {
   "cell_type": "code",
   "execution_count": 13,
   "metadata": {},
   "outputs": [
    {
     "data": {
      "text/plain": [
       "~x1"
      ]
     },
     "execution_count": 13,
     "metadata": {},
     "output_type": "execute_result"
    }
   ],
   "source": [
    "~x1"
   ]
  },
  {
   "cell_type": "code",
   "execution_count": 14,
   "metadata": {},
   "outputs": [
    {
     "data": {
      "text/plain": [
       "[x1 | x4 | (x3 & ~x2) | (x5 & ~x6),\n",
       " x4 | (x3 & ~x2) | (x5 & ~x6),\n",
       " (x3 & ~x2) | (x5 & ~x6),\n",
       " x3 & ~x2,\n",
       " ~x2,\n",
       " x5 & ~x6,\n",
       " ~x6]"
      ]
     },
     "execution_count": 14,
     "metadata": {},
     "output_type": "execute_result"
    }
   ],
   "source": [
    "subformulas((x1 | x4 | (x3 & ~x2) | (x5 & ~x6)))"
   ]
  },
  {
   "cell_type": "code",
   "execution_count": 15,
   "metadata": {},
   "outputs": [],
   "source": [
    "def depth(expr):\n",
    "# still considering operator as binary\n",
    "    if expr.func == Not:\n",
    "        return 1 + depth(expr.args[0])\n",
    "    elif (len(expr.args)==2):\n",
    "        return 1 + max([depth(x) for x in expr.args])\n",
    "    elif ( len(expr.args)>2):\n",
    "        #return 1 + max(depth(expr.args[0]), depth(eval(str(expr.func)+str(expr.args[1:]))))\n",
    "        return len(expr.args)-1 + max([depth(x) for x in expr.args])\n",
    "    elif expr.func == Symbol:\n",
    "        return 0\n",
    "    else: \n",
    "        return\"error\""
   ]
  },
  {
   "cell_type": "code",
   "execution_count": 16,
   "metadata": {},
   "outputs": [
    {
     "data": {
      "text/plain": [
       "5"
      ]
     },
     "execution_count": 16,
     "metadata": {},
     "output_type": "execute_result"
    }
   ],
   "source": [
    "depth(x1 | x4 | (x3 & ~x2) | (x5 & ~x6))"
   ]
  },
  {
   "cell_type": "code",
   "execution_count": 17,
   "metadata": {},
   "outputs": [
    {
     "data": {
      "text/plain": [
       "[~x2,\n",
       " x5 & ~x2,\n",
       " x3 & ~x2,\n",
       " (x3 & ~x2) | (x5 & ~x2),\n",
       " x4 | (x3 & ~x2) | (x5 & ~x2),\n",
       " x1 | x4 | (x3 & ~x2) | (x5 & ~x2)]"
      ]
     },
     "execution_count": 17,
     "metadata": {},
     "output_type": "execute_result"
    }
   ],
   "source": [
    "F = x1 | x4 | (x3 & ~x2) | (x5 & ~x2)\n",
    "sorted(set(subformulas(F)), key=depth)"
   ]
  },
  {
   "cell_type": "code",
   "execution_count": 18,
   "metadata": {},
   "outputs": [],
   "source": [
    "def symbol_init(x, count=0):\n",
    "    def new_symbol ():\n",
    "        nonlocal count\n",
    "        count += 1\n",
    "        return var(str(x) + str(count)) #var add the new symbol in the name space\n",
    "    return new_symbol"
   ]
  },
  {
   "cell_type": "code",
   "execution_count": 19,
   "metadata": {},
   "outputs": [],
   "source": [
    "def binSubs(x, y, z):\n",
    "    #replace y by z in x\n",
    "    #print(\"subs\", x, y, z)\n",
    "    if (len(y.args) >0) and (len(x.args)>2) and (y!=x) and (y.func==x.func):\n",
    "     \n",
    "        if all([y in x.args for y in y.args]): \n",
    "            l = list(x.args)\n",
    "            for i in y.args:\n",
    "                l.remove(i)\n",
    "            if (z.func== Symbol):\n",
    "                t=tuple(l + [z])\n",
    "            else:\n",
    "                t=tuple(l+list(z.args))\n",
    "            return eval(str(x.func) + str(t))\n",
    "    \n",
    "    return x.subs(y,z)"
   ]
  },
  {
   "cell_type": "code",
   "execution_count": null,
   "metadata": {},
   "outputs": [],
   "source": []
  },
  {
   "cell_type": "code",
   "execution_count": 20,
   "metadata": {},
   "outputs": [],
   "source": [
    "def tseitin1(s):\n",
    "    # for binary operation\n",
    "    try:\n",
    "        expr = get_sp_clause(s)\n",
    "        s=symbol_init(\"p\")\n",
    "        if expr.func == Symbol:\n",
    "            return true\n",
    "        else:\n",
    "            return tseitin_aux(sorted(set(subformulas(expr)), key=depth), s) \n",
    "    except:\n",
    "        return None\n",
    "\n",
    "def tseitin_aux(L, s):\n",
    "    #nonlocal newvar\n",
    "    newvar = s()\n",
    "    if (L==[]):\n",
    "        return true\n",
    "    if depth(L[0]) > 0:\n",
    "        if len(L[1:])>0 :\n",
    "            #newList = [x.subs(L[0], newvar) for x in L[1:]]  \n",
    "            \n",
    "            newList = [binSubs(x, L[0], newvar) for x in L[1:]]  \n",
    "            \n",
    "            return Equivalent(newvar, L[0]) & tseitin_aux(newList, s)\n",
    "        else:      \n",
    "            return Equivalent(newvar, L[0]) & newvar\n",
    "    else:\n",
    "        print(\"error\")\n",
    "    "
   ]
  },
  {
   "cell_type": "code",
   "execution_count": 21,
   "metadata": {},
   "outputs": [
    {
     "data": {
      "text/plain": [
       "p9 & (p1 | x5) & (p2 | x2) & (p3 | x1) & (p1 | ~p4) & (p2 | ~p4) & (p3 | ~p5) & (p4 | ~p5) & (p5 | ~p6) & (p6 | ~p7) & (p7 | ~p8) & (p8 | ~p9) & (x1 | ~p9) & (x2 | ~p8) & (x3 | ~p7) & (x4 | ~p6) & (~p1 | ~x5) & (~p2 | ~x2) & (~p3 | ~x1) & (p4 | ~p1 | ~p2) & (p5 | ~p3 | ~p4) & (p6 | ~p5 | ~x4) & (p7 | ~p6 | ~x3) & (p8 | ~p7 | ~x2) & (p9 | ~p8 | ~x1)"
      ]
     },
     "execution_count": 21,
     "metadata": {},
     "output_type": "execute_result"
    }
   ],
   "source": [
    "sp.to_cnf(tseitin1(\"1 . 2 . 3 . 4 . -5 . -1 . (-2 . (-1))\"))"
   ]
  },
  {
   "cell_type": "code",
   "execution_count": null,
   "metadata": {},
   "outputs": [],
   "source": [
    "# given(tseitin1)"
   ]
  },
  {
   "cell_type": "code",
   "execution_count": 22,
   "metadata": {},
   "outputs": [],
   "source": [
    "ans = tseitin1(\"1.(-2 + -1)\")"
   ]
  },
  {
   "cell_type": "code",
   "execution_count": 23,
   "metadata": {},
   "outputs": [
    {
     "data": {
      "text/plain": [
       "p4 & (Equivalent(p1, ~x2)) & (Equivalent(p2, ~x1)) & (Equivalent(p3, p1 | p2)) & (Equivalent(p4, p3 & x1))"
      ]
     },
     "execution_count": 23,
     "metadata": {},
     "output_type": "execute_result"
    }
   ],
   "source": [
    "ans"
   ]
  },
  {
   "cell_type": "code",
   "execution_count": 24,
   "metadata": {},
   "outputs": [
    {
     "name": "stdout",
     "output_type": "stream",
     "text": [
      "Error in clause 1.(2 + 3.5 + -1.3() + 4.6 + 12 + 15.16 + (17.18) + (-1) ('EOF in multi-line statement', (2, 0))\n",
      "\n"
     ]
    },
    {
     "data": {
      "text/plain": [
       "[['1+-2.3+4+5.-6',\n",
       "  p7 & (Equivalent(p1, ~x2)) & (Equivalent(p2, ~x6)) & (Equivalent(p3, p2 & x5)) & (Equivalent(p4, p1 & x3)) & (Equivalent(p5, p3 | p4)) & (Equivalent(p6, p5 | x4)) & (Equivalent(p7, p6 | x1))],\n",
       " ['1.(2 + (3.5) + -1.3) + 4.6 + 12 + 15',\n",
       "  p10 & (Equivalent(p3, ~x1)) & (Equivalent(p1, x3 & x5)) & (Equivalent(p10, p9 | x12)) & (Equivalent(p2, x4 & x6)) & (Equivalent(p4, p3 & x3)) & (Equivalent(p5, p1 | p4)) & (Equivalent(p6, p5 | x2)) & (Equivalent(p8, p2 | p7)) & (Equivalent(p9, p8 | x15)) & (Equivalent(p7, x1 & (p1 | p4 | x2)))],\n",
       " ['1.(2 + 3.5 + -1.3() + 4.6 + 12 + 15.16 + (17.18) + (-1)', None],\n",
       " ['(1+(2).(3+5).(-1+3)).(4+6).(12).(15+16).((17+18)).(((-1)))',\n",
       "  p14 & (Equivalent(p5, ~x1)) & (Equivalent(p1, x15 | x16)) & (Equivalent(p10, p3 & p9)) & (Equivalent(p11, p10 & p2)) & (Equivalent(p12, p1 & p11)) & (Equivalent(p13, p12 & p5)) & (Equivalent(p14, p13 & x12)) & (Equivalent(p2, x17 | x18)) & (Equivalent(p3, x4 | x6)) & (Equivalent(p4, x3 | x5)) & (Equivalent(p6, p5 | x3)) & (Equivalent(p7, p4 & p6)) & (Equivalent(p8, p7 & x2)) & (Equivalent(p9, x1 | (p4 & p6 & x2)))],\n",
       " ['1 . 2 . 3 . 4 . -5 . -1 . (-2 . (-1))',\n",
       "  p9 & (Equivalent(p1, ~x5)) & (Equivalent(p2, ~x2)) & (Equivalent(p3, ~x1)) & (Equivalent(p4, p1 & p2)) & (Equivalent(p5, p3 & p4)) & (Equivalent(p6, p5 & x4)) & (Equivalent(p7, p6 & x3)) & (Equivalent(p8, p7 & x2)) & (Equivalent(p9, p8 & x1))],\n",
       " ['1+-2.3+4+5+-6',\n",
       "  p7 & (Equivalent(p1, ~x2)) & (Equivalent(p2, ~x6)) & (Equivalent(p3, p1 & x3)) & (Equivalent(p4, p2 | p3)) & (Equivalent(p5, p4 | x5)) & (Equivalent(p6, p5 | x4)) & (Equivalent(p7, p6 | x1))]]"
      ]
     },
     "execution_count": 24,
     "metadata": {},
     "output_type": "execute_result"
    }
   ],
   "source": [
    "given(tseitin1)"
   ]
  },
  {
   "cell_type": "code",
   "execution_count": 25,
   "metadata": {},
   "outputs": [
    {
     "data": {
      "text/plain": [
       "p4 & (Equivalent(p1, ~x2)) & (Equivalent(p2, ~x1)) & (Equivalent(p3, p1 | p2)) & (Equivalent(p4, p3 & x1))"
      ]
     },
     "execution_count": 25,
     "metadata": {},
     "output_type": "execute_result"
    }
   ],
   "source": [
    "ans"
   ]
  },
  {
   "cell_type": "code",
   "execution_count": 26,
   "metadata": {},
   "outputs": [
    {
     "data": {
      "text/plain": [
       "p4 & (p1 | x2) & (p2 | x1) & (p3 | ~p1) & (p3 | ~p2) & (p3 | ~p4) & (x1 | ~p4) & (~p1 | ~x2) & (~p2 | ~x1) & (p1 | p2 | ~p3) & (p4 | ~p3 | ~x1)"
      ]
     },
     "execution_count": 26,
     "metadata": {},
     "output_type": "execute_result"
    }
   ],
   "source": [
    "sp.to_cnf(ans)"
   ]
  },
  {
   "cell_type": "code",
   "execution_count": 27,
   "metadata": {},
   "outputs": [],
   "source": [
    "def cnf(a, neg=False, depth=0):\n",
    "#     print(depth*'\\t', a, a.func, len(a.args), neg)\n",
    "    if a.func == sp.Symbol:\n",
    "        if neg:\n",
    "            return ~a\n",
    "        else:\n",
    "            return a\n",
    "    elif len(a.args)==1:\n",
    "#         print(a.args)\n",
    "        return cnf(eval(str(a.args[0])), neg=not neg, depth=depth+1)\n",
    "    elif len(a.args)==2 and a.func == sp.Equivalent:\n",
    "        if not neg:\n",
    "            return demorgan(cnf(a.args[0], depth=depth+1) | cnf(a.args[1], neg=True, depth=depth+1), depth=depth+1) & demorgan(cnf(a.args[0], neg=True, depth=depth+1) | cnf(a.args[1], depth=depth+1), depth=depth+1)\n",
    "        else:\n",
    "            assert False\n",
    "            return (cnf(a.args[0], neg=True, depth=depth+1) | cnf(a.args[1], neg=True, depth=depth+1) & (cnf(a.args[1], neg=False, depth=depth+1) | cnf(a.args[0], neg=False, depth=depth+1)))\n",
    "    elif len(a.args)>=2:\n",
    "        if a.func == sp.And:\n",
    "            if not neg:\n",
    "                return cnf(a.args[0], depth=depth+1) & cnf(eval(str(a.func)+str(a.args[1:])), depth=depth+1)  \n",
    "            else:\n",
    "                return (cnf(a.args[0], neg=True, depth=depth+1) | cnf(eval(str(a.func)+str(a.args[1:])), neg=True, depth=depth+1))\n",
    "        elif a.func == sp.Or:\n",
    "            if not neg:\n",
    "                return demorgan(cnf(a.args[0], depth=depth+1) | cnf(eval(str(a.func)+str(a.args[1:])), depth=depth+1), depth=depth+1)\n",
    "            else:\n",
    "                return cnf(a.args[0], depth=depth+1, neg=neg) & cnf(eval(str(a.func)+str(a.args[1:])), neg=neg, depth=depth+1)\n",
    "    else:\n",
    "        return \"error\""
   ]
  },
  {
   "cell_type": "code",
   "execution_count": 38,
   "metadata": {},
   "outputs": [],
   "source": [
    "def cnf(a, neg=False, depth=0):\n",
    "#     print(depth*'\\t', a, a.func, len(a.args), neg)\n",
    "    if a.func == sp.Symbol:\n",
    "        if neg:\n",
    "            return ~a\n",
    "        else:\n",
    "            return a\n",
    "    elif len(a.args)==1:\n",
    "#         print(a.args)\n",
    "        return cnf(eval(str(a.args[0])), neg=not neg, depth=depth+1)\n",
    "    elif len(a.args)==2 and a.func == sp.Equivalent:\n",
    "        if not neg:\n",
    "            return demorgan(cnf(a.args[0], depth=depth+1) | cnf(a.args[1], neg=True, depth=depth+1), depth=depth+1) & demorgan(cnf(a.args[0], neg=True, depth=depth+1) | cnf(a.args[1], depth=depth+1), depth=depth+1)\n",
    "        else:\n",
    "            assert False\n",
    "            # return (cnf(a.args[0], neg=True, depth=depth+1) | cnf(a.args[1], neg=True, depth=depth+1) & (cnf(a.args[1], neg=False, depth=depth+1) | cnf(a.args[0], neg=False, depth=depth+1)))\n",
    "    elif len(a.args)>=2:\n",
    "        if a.func == sp.And:\n",
    "            if not neg:\n",
    "                return cnf(a.args[0], depth=depth+1) & demorgan(cnf(eval(str(a.func)+str(a.args[1:])), depth=depth+1), depth=depth+1)\n",
    "            else:\n",
    "                return demorgan(cnf(a.args[0], neg=True, depth=depth+1) | demorgan(cnf(eval(str(a.func)+str(a.args[1:])), neg=True, depth=depth+1), depth=depth+1), depth=depth+1)\n",
    "        elif a.func == sp.Or:\n",
    "            if not neg:\n",
    "                return demorgan(cnf(a.args[0], depth=depth+1) | cnf(eval(str(a.func)+str(a.args[1:])), depth=depth+1), depth=depth+1)\n",
    "            else:\n",
    "                return cnf(a.args[0], depth=depth+1, neg=neg) & demorgan(cnf(eval(str(a.func)+str(a.args[1:])), neg=neg, depth=depth+1), depth=depth+1)\n",
    "    else:\n",
    "        return \"error\"\n"
   ]
  },
  {
   "cell_type": "code",
   "execution_count": 40,
   "metadata": {},
   "outputs": [],
   "source": [
    "def demorgan(a, neg=False, depth=0):\n",
    "#     print(depth*\"\\t\",\"demorgan\", a)\n",
    "    s = f''\n",
    "#     print(depth*\"\\t\", a)\n",
    "    if a.func == sp.Or:\n",
    "        if a.args[1].func == sp.And:\n",
    "#             print(depth*\"\\t\",'1')\n",
    "            for var in a.args[1].args:\n",
    "                s += f'({a.args[0] | var}) &'\n",
    "            return eval(s[:-2])\n",
    "        elif a.args[0].func == sp.And:\n",
    "#             print(depth*\"\\t\",'0')\n",
    "            for var in a.args[0].args:\n",
    "                s += f'({a.args[1] | var}) &'\n",
    "            return eval(s[:-2])\n",
    "        else:\n",
    "            return a\n",
    "    else:\n",
    "        return a\n",
    "        "
   ]
  },
  {
   "cell_type": "code",
   "execution_count": null,
   "metadata": {},
   "outputs": [],
   "source": [
    "demorgan(Or(p4, p1& p3&p5))"
   ]
  },
  {
   "cell_type": "code",
   "execution_count": null,
   "metadata": {},
   "outputs": [],
   "source": [
    "cnf(ans)"
   ]
  },
  {
   "cell_type": "code",
   "execution_count": null,
   "metadata": {},
   "outputs": [],
   "source": []
  },
  {
   "cell_type": "code",
   "execution_count": null,
   "metadata": {},
   "outputs": [],
   "source": [
    "def make_cnf(s):\n",
    "    clause = tseitin1(s)\n",
    "    cnf_ans = cnf(clause)\n",
    "    return cnf_ans"
   ]
  },
  {
   "cell_type": "code",
   "execution_count": null,
   "metadata": {},
   "outputs": [],
   "source": []
  },
  {
   "cell_type": "code",
   "execution_count": 73,
   "metadata": {},
   "outputs": [
    {
     "name": "stdout",
     "output_type": "stream",
     "text": [
      "p14 & (Equivalent(p5, ~x1)) & (Equivalent(p1, x15 | x16)) & (Equivalent(p10, p3 & p9)) & (Equivalent(p11, p10 & p2)) & (Equivalent(p12, p1 & p11)) & (Equivalent(p13, p12 & p5)) & (Equivalent(p14, p13 & x12)) & (Equivalent(p2, x17 | x18)) & (Equivalent(p3, x4 | x6)) & (Equivalent(p4, x3 | x5)) & (Equivalent(p6, p5 | x3)) & (Equivalent(p7, p4 & p6)) & (Equivalent(p8, p7 & x2)) & (Equivalent(p9, x1 | (p4 & p6 & x2)))\n",
      "True\n",
      "None\n"
     ]
    }
   ],
   "source": [
    "li = [\n",
    "#         \"1+-2.3+4+5.-6\",\n",
    "#         \"1.(2 + (3.5) + -1.3) + 4.6 + 12 + 15\",\n",
    "#         \"1.(2 + 3.5 + -1.3() + 4.6 + 12 + 15.16 + (17.18) + (-1)\",\n",
    "        \"(1+(2).(3+5).(-1+3)).(4+6).(12).(15+16).((17+18)).(((-1)))\",\n",
    "#         \"1 . 2 . 3 . 4 . -5 . -1 . (-2 . (-1))\",\n",
    "#         \"1+-2.3+4+5+-6\",\n",
    "#         \"1.2.3\",\n",
    "#         \"1+2.3\",\n",
    "#         \"1+-3\",\n",
    "        \"-5+-3.-3+-5+-7+7.9-4\"\n",
    "    ]\n",
    "for clause in li:\n",
    "    tseitin_clause = tseitin1(clause)\n",
    "    print(tseitin_clause)\n",
    "    if tseitin_clause is not None:\n",
    "        sp_cnf = sp.to_cnf(tseitin_clause)\n",
    "        cnf_ans = cnf(tseitin_clause)\n",
    "        print(sp_cnf == cnf_ans)"
   ]
  },
  {
   "cell_type": "code",
   "execution_count": 70,
   "metadata": {},
   "outputs": [
    {
     "data": {
      "text/plain": [
       "p14 & (p5 | x1) & (p1 | ~p12) & (p1 | ~x15) & (p1 | ~x16) & (p10 | ~p11) & (p11 | ~p12) & (p12 | ~p13) & (p13 | ~p14) & (p2 | ~p11) & (p2 | ~x17) & (p2 | ~x18) & (p3 | ~p10) & (p3 | ~x4) & (p3 | ~x6) & (p4 | ~p7) & (p4 | ~x3) & (p4 | ~x5) & (p5 | ~p13) & (p6 | ~p5) & (p6 | ~p7) & (p6 | ~x3) & (p7 | ~p8) & (p9 | ~p10) & (p9 | ~x1) & (x12 | ~p14) & (x2 | ~p8) & (~p5 | ~x1) & (p4 | x1 | ~p9) & (p5 | x3 | ~p6) & (p6 | x1 | ~p9) & (x1 | x2 | ~p9) & (x15 | x16 | ~p1) & (x17 | x18 | ~p2) & (x3 | x5 | ~p4) & (x4 | x6 | ~p3) & (p10 | ~p3 | ~p9) & (p11 | ~p10 | ~p2) & (p12 | ~p1 | ~p11) & (p13 | ~p12 | ~p5) & (p14 | ~p13 | ~x12) & (p7 | ~p4 | ~p6) & (p8 | ~p7 | ~x2) & (p9 | ~p4 | ~p6 | ~x2)"
      ]
     },
     "execution_count": 70,
     "metadata": {},
     "output_type": "execute_result"
    }
   ],
   "source": [
    "cnf_ans"
   ]
  },
  {
   "cell_type": "code",
   "execution_count": 82,
   "metadata": {},
   "outputs": [],
   "source": [
    "def set_wrapper(cnf_ans):\n",
    "    set_of_vars = {}\n",
    "    counter = 1\n",
    "    def recursive_add_to_set(a):\n",
    "        nonlocal counter\n",
    "        if a.func == sp.Symbol:\n",
    "            if a not in set_of_vars:\n",
    "                set_of_vars[a] = counter\n",
    "                counter += 1\n",
    "        elif len(a.args)==1:\n",
    "            b = a.args[0]\n",
    "            if b not in set_of_vars:\n",
    "                set_of_vars[b] = counter\n",
    "                counter += 1\n",
    "        else:\n",
    "            for arg in a.args:\n",
    "                recursive_add_to_set(arg)\n",
    "    recursive_add_to_set(cnf_ans)\n",
    "    return set_of_vars\n",
    "set_of_vars = set_wrapper(cnf_ans)"
   ]
  },
  {
   "cell_type": "code",
   "execution_count": 106,
   "metadata": {},
   "outputs": [],
   "source": [
    "def write_cnf(filename):\n",
    "    assert cnf_ans.func == sp.And\n",
    "    l = [f'p cnf {len(set_of_vars)} {len(cnf_ans.args)}']\n",
    "    for arg in cnf_ans.args:\n",
    "        s = ''\n",
    "        if arg.func == sp.Symbol:\n",
    "            s += str(set_of_vars[arg]) + ' '\n",
    "        else:\n",
    "            assert arg.func == sp.Or\n",
    "            for sub_arg in arg.args:\n",
    "                if len(sub_arg.args) == 1:\n",
    "                    s += str(-1*(set_of_vars[sub_arg.args[0]])) + ' '\n",
    "                elif len(sub_arg.args) == 0:\n",
    "                    s += str(set_of_vars[sub_arg]) + ' '\n",
    "        l.append(s)\n",
    "    with open(filename,'w') as f:\n",
    "        f.write('\\n'.join(l))\n",
    "    "
   ]
  },
  {
   "cell_type": "code",
   "execution_count": 107,
   "metadata": {},
   "outputs": [],
   "source": [
    "write_cnf('test.cnf')"
   ]
  },
  {
   "cell_type": "code",
   "execution_count": 74,
   "metadata": {},
   "outputs": [],
   "source": [
    "tseitin1()"
   ]
  },
  {
   "cell_type": "code",
   "execution_count": 85,
   "metadata": {},
   "outputs": [
    {
     "data": {
      "text/plain": [
       "44"
      ]
     },
     "execution_count": 85,
     "metadata": {},
     "output_type": "execute_result"
    }
   ],
   "source": [
    "len(cnf_ans.args)"
   ]
  },
  {
   "cell_type": "code",
   "execution_count": 86,
   "metadata": {},
   "outputs": [
    {
     "data": {
      "text/plain": [
       "And"
      ]
     },
     "execution_count": 86,
     "metadata": {},
     "output_type": "execute_result"
    }
   ],
   "source": [
    "cnf_ans.func"
   ]
  },
  {
   "cell_type": "code",
   "execution_count": 108,
   "metadata": {},
   "outputs": [
    {
     "data": {
      "text/plain": [
       "(p14,\n",
       " p5 | x1,\n",
       " p1 | ~p12,\n",
       " p1 | ~x15,\n",
       " p1 | ~x16,\n",
       " p10 | ~p11,\n",
       " p11 | ~p12,\n",
       " p12 | ~p13,\n",
       " p13 | ~p14,\n",
       " p2 | ~p11,\n",
       " p2 | ~x17,\n",
       " p2 | ~x18,\n",
       " p3 | ~p10,\n",
       " p3 | ~x4,\n",
       " p3 | ~x6,\n",
       " p4 | ~p7,\n",
       " p4 | ~x3,\n",
       " p4 | ~x5,\n",
       " p5 | ~p13,\n",
       " p6 | ~p5,\n",
       " p6 | ~p7,\n",
       " p6 | ~x3,\n",
       " p7 | ~p8,\n",
       " p9 | ~p10,\n",
       " p9 | ~x1,\n",
       " x12 | ~p14,\n",
       " x2 | ~p8,\n",
       " ~p5 | ~x1,\n",
       " p4 | x1 | ~p9,\n",
       " p5 | x3 | ~p6,\n",
       " p6 | x1 | ~p9,\n",
       " x1 | x2 | ~p9,\n",
       " x15 | x16 | ~p1,\n",
       " x17 | x18 | ~p2,\n",
       " x3 | x5 | ~p4,\n",
       " x4 | x6 | ~p3,\n",
       " p10 | ~p3 | ~p9,\n",
       " p11 | ~p10 | ~p2,\n",
       " p12 | ~p1 | ~p11,\n",
       " p13 | ~p12 | ~p5,\n",
       " p14 | ~p13 | ~x12,\n",
       " p7 | ~p4 | ~p6,\n",
       " p8 | ~p7 | ~x2,\n",
       " p9 | ~p4 | ~p6 | ~x2)"
      ]
     },
     "execution_count": 108,
     "metadata": {},
     "output_type": "execute_result"
    }
   ],
   "source": [
    "cnf_ans.args"
   ]
  },
  {
   "cell_type": "code",
   "execution_count": 103,
   "metadata": {},
   "outputs": [
    {
     "data": {
      "text/plain": [
       "{p14: 1,\n",
       " p5: 2,\n",
       " x1: 3,\n",
       " p1: 4,\n",
       " p12: 5,\n",
       " x15: 6,\n",
       " x16: 7,\n",
       " p10: 8,\n",
       " p11: 9,\n",
       " p13: 10,\n",
       " p2: 11,\n",
       " x17: 12,\n",
       " x18: 13,\n",
       " p3: 14,\n",
       " x4: 15,\n",
       " x6: 16,\n",
       " p4: 17,\n",
       " p7: 18,\n",
       " x3: 19,\n",
       " x5: 20,\n",
       " p6: 21,\n",
       " p8: 22,\n",
       " p9: 23,\n",
       " x12: 24,\n",
       " x2: 25}"
      ]
     },
     "execution_count": 103,
     "metadata": {},
     "output_type": "execute_result"
    }
   ],
   "source": [
    "set_of_vars"
   ]
  },
  {
   "cell_type": "code",
   "execution_count": null,
   "metadata": {},
   "outputs": [],
   "source": []
  }
 ],
 "metadata": {
  "kernelspec": {
   "display_name": "Python 3",
   "language": "python",
   "name": "python3"
  },
  "language_info": {
   "codemirror_mode": {
    "name": "ipython",
    "version": 3
   },
   "file_extension": ".py",
   "mimetype": "text/x-python",
   "name": "python",
   "nbconvert_exporter": "python",
   "pygments_lexer": "ipython3",
   "version": "3.6.3"
  }
 },
 "nbformat": 4,
 "nbformat_minor": 2
}
