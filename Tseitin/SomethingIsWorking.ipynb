{
 "cells": [
  {
   "cell_type": "code",
   "execution_count": 1,
   "metadata": {},
   "outputs": [],
   "source": [
    "import sympy as sp\n",
    "from sympy import *\n",
    "from sympy.abc import *\n",
    "from sympy.parsing.sympy_parser import parse_expr"
   ]
  },
  {
   "cell_type": "code",
   "execution_count": 2,
   "metadata": {},
   "outputs": [],
   "source": [
    "def given(fx):\n",
    "    li = [\n",
    "        \"1+-2.3+4+5.-6\",\n",
    "        \"1.(2 + (3.5) + -1.3) + 4.6 + 12 + 15\",\n",
    "        \"1.(2 + 3.5 + -1.3() + 4.6 + 12 + 15.16 + (17.18) + (-1)\",\n",
    "        \"(1+(2).(3+5).(-1+3)).(4+6).(12).(15+16).((17+18)).(((-1)))\",\n",
    "        \"1 . 2 . 3 . 4 . -5 . -1 . (-2 . (-1))\" \n",
    "    ]\n",
    "    li_ret = []\n",
    "    for cl in li:\n",
    "        try:\n",
    "            li_ret.append(fx(cl))\n",
    "        except Exception as e:\n",
    "            print(e)\n",
    "            li_ret.append('{e.message}')\n",
    "    return li_ret\n",
    "        "
   ]
  },
  {
   "cell_type": "code",
   "execution_count": 3,
   "metadata": {},
   "outputs": [],
   "source": [
    "clause = '1+-2.3+4+5.6'"
   ]
  },
  {
   "cell_type": "code",
   "execution_count": 4,
   "metadata": {},
   "outputs": [],
   "source": [
    "def te(cl):\n",
    "    print(cl)\n",
    "    return cl"
   ]
  },
  {
   "cell_type": "code",
   "execution_count": 5,
   "metadata": {},
   "outputs": [
    {
     "name": "stdout",
     "output_type": "stream",
     "text": [
      "1+-2.3+4+5.-6\n",
      "1.(2 + (3.5) + -1.3) + 4.6 + 12 + 15\n",
      "1.(2 + 3.5 + -1.3() + 4.6 + 12 + 15.16 + (17.18) + (-1)\n",
      "(1+(2).(3+5).(-1+3)).(4+6).(12).(15+16).((17+18)).(((-1)))\n",
      "1 . 2 . 3 . 4 . -5 . -1 . (-2 . (-1))\n"
     ]
    },
    {
     "data": {
      "text/plain": [
       "['1+-2.3+4+5.-6',\n",
       " '1.(2 + (3.5) + -1.3) + 4.6 + 12 + 15',\n",
       " '1.(2 + 3.5 + -1.3() + 4.6 + 12 + 15.16 + (17.18) + (-1)',\n",
       " '(1+(2).(3+5).(-1+3)).(4+6).(12).(15+16).((17+18)).(((-1)))',\n",
       " '1 . 2 . 3 . 4 . -5 . -1 . (-2 . (-1))']"
      ]
     },
     "execution_count": 5,
     "metadata": {},
     "output_type": "execute_result"
    }
   ],
   "source": [
    "given(te)"
   ]
  },
  {
   "cell_type": "code",
   "execution_count": null,
   "metadata": {},
   "outputs": [],
   "source": []
  },
  {
   "cell_type": "code",
   "execution_count": 6,
   "metadata": {},
   "outputs": [],
   "source": [
    "max_number = float('inf')"
   ]
  },
  {
   "cell_type": "code",
   "execution_count": 7,
   "metadata": {},
   "outputs": [],
   "source": [
    "def max_no(clause):\n",
    "    final = []\n",
    "    clause = clause.replace('(', '')\n",
    "    clause = clause.replace(')', '')\n",
    "    dot_split = clause.split('.')\n",
    "    for ds in dot_split:\n",
    "        final.extend(ds.split('+'))\n",
    "    for i in range(len(final)):\n",
    "        final[i] = abs(int(final[i]))\n",
    "    return max(final)\n",
    "\n"
   ]
  },
  {
   "cell_type": "code",
   "execution_count": 8,
   "metadata": {},
   "outputs": [],
   "source": [
    "def define_variables(max_no):\n",
    "    return symbols(f'x:{max_no}')"
   ]
  },
  {
   "cell_type": "code",
   "execution_count": 9,
   "metadata": {},
   "outputs": [],
   "source": [
    "def replace_nums_with_symbols(clause):\n",
    "    max_num = max_no(clause)\n",
    "    clause = clause.replace('-', '~')\n",
    "    split_by_and = clause.split('.')\n",
    "    syms = define_variables(max_num+1)\n",
    "    for i in range(max_num+1):\n",
    "        exec(f'x{i} = syms[{i}]')\n",
    "    fin_clause = ''\n",
    "    for sub_clause in split_by_and:\n",
    "        fin_sub_clause = ''\n",
    "        for sub_sub_clause in sub_clause.split('+'):\n",
    "            for i in range(max_num, 0, -1):\n",
    "                if sub_sub_clause.replace(str(i), str(syms[i])) != sub_sub_clause:\n",
    "                    sub_sub_clause = sub_sub_clause.replace(str(i), str(syms[i]))\n",
    "                    break\n",
    "            fin_sub_clause = fin_sub_clause + '|' + sub_sub_clause\n",
    "        \n",
    "        fin_clause = fin_clause + '&' + fin_sub_clause[1:]\n",
    "    return fin_clause[1:]"
   ]
  },
  {
   "cell_type": "code",
   "execution_count": 10,
   "metadata": {},
   "outputs": [],
   "source": [
    "li = given(replace_nums_with_symbols)"
   ]
  },
  {
   "cell_type": "code",
   "execution_count": 11,
   "metadata": {},
   "outputs": [],
   "source": [
    "def auto_convert_to_cnf(clause):\n",
    "    \n",
    "    converted_clause_string = replace_nums_with_symbols(clause)\n",
    "    try:\n",
    "        exec(f'converted_clause = {converted_clause_string}')\n",
    "        print(clause, sp.to_cnf(converted_clause_string))\n",
    "        print()\n",
    "    except:\n",
    "        print(f'Error in clause {clause}')\n",
    "        print()"
   ]
  },
  {
   "cell_type": "code",
   "execution_count": 12,
   "metadata": {},
   "outputs": [],
   "source": [
    "def get_sp_clause(clause):\n",
    "    converted_clause_string = replace_nums_with_symbols(clause)\n",
    "    try:\n",
    "        return parse_expr(converted_clause_string)\n",
    "    except Exception as e:\n",
    "        print(f'Error in clause {clause} {e}')\n",
    "        print()"
   ]
  },
  {
   "cell_type": "code",
   "execution_count": 13,
   "metadata": {},
   "outputs": [
    {
     "name": "stdout",
     "output_type": "stream",
     "text": [
      "Error in clause 1.(2 + 3.5 + -1.3() + 4.6 + 12 + 15.16 + (17.18) + (-1) ('EOF in multi-line statement', (2, 0))\n",
      "\n"
     ]
    },
    {
     "data": {
      "text/plain": [
       "[x1 | x4 | (x3 & ~x2) | (x5 & ~x6),\n",
       " x12 | x15 | (x4 & x6) | (x1 & (x2 | (x3 & x5) | (x3 & ~x1))),\n",
       " None,\n",
       " x12 & ~x1 & (x15 | x16) & (x17 | x18) & (x4 | x6) & (x1 | (x2 & (x3 | x5) & (x3 | ~x1))),\n",
       " x1 & x2 & x3 & x4 & ~x1 & ~x2 & ~x5]"
      ]
     },
     "execution_count": 13,
     "metadata": {},
     "output_type": "execute_result"
    }
   ],
   "source": [
    "given(get_sp_clause)"
   ]
  },
  {
   "cell_type": "code",
   "execution_count": 14,
   "metadata": {},
   "outputs": [],
   "source": [
    "def subformulas(expr):\n",
    "# subformula of expr without atoms\n",
    "# considering operator as binary\n",
    "    \n",
    "    if expr.func == sp.Symbol:\n",
    "        return []\n",
    "    elif len(expr.args)==1:\n",
    "        return [expr] + subformulas(expr.args[0])\n",
    "    elif len(expr.args)==2:\n",
    "        return [expr] + subformulas(expr.args[0]) + subformulas(expr.args[1]) \n",
    "    elif len(expr.args)>2:\n",
    "        return [expr] + subformulas(expr.args[0]) + subformulas(eval(str(expr.func)+str(expr.args[1:])))  \n",
    "    else:\n",
    "        return \"error\""
   ]
  },
  {
   "cell_type": "code",
   "execution_count": 31,
   "metadata": {},
   "outputs": [],
   "source": [
    "syms = define_variables(18+1)\n",
    "for i in range(18+1):\n",
    "    exec(f'x{i} = syms[{i}]')"
   ]
  },
  {
   "cell_type": "code",
   "execution_count": null,
   "metadata": {},
   "outputs": [],
   "source": []
  },
  {
   "cell_type": "code",
   "execution_count": 20,
   "metadata": {},
   "outputs": [
    {
     "data": {
      "text/plain": [
       "[x1 | x4 | (x3 & ~x2) | (x5 & ~x6),\n",
       " x4 | (x3 & ~x2) | (x5 & ~x6),\n",
       " (x3 & ~x2) | (x5 & ~x6),\n",
       " x3 & ~x2,\n",
       " ~x2,\n",
       " x5 & ~x6,\n",
       " ~x6]"
      ]
     },
     "execution_count": 20,
     "metadata": {},
     "output_type": "execute_result"
    }
   ],
   "source": [
    "subformulas((x1 | x4 | (x3 & ~x2) | (x5 & ~x6)))"
   ]
  },
  {
   "cell_type": "code",
   "execution_count": 21,
   "metadata": {},
   "outputs": [],
   "source": [
    "def depth(expr):\n",
    "# still considering operator as binary\n",
    "    if expr.func == Not:\n",
    "        return 1 + depth(expr.args[0])\n",
    "    elif (len(expr.args)==2):\n",
    "        return 1 + max([depth(x) for x in expr.args])\n",
    "    elif ( len(expr.args)>2):\n",
    "        #return 1 + max(depth(expr.args[0]), depth(eval(str(expr.func)+str(expr.args[1:]))))\n",
    "        return len(expr.args)-1 + max([depth(x) for x in expr.args])\n",
    "    elif expr.func == Symbol:\n",
    "        return 0\n",
    "    else: \n",
    "        return\"error\""
   ]
  },
  {
   "cell_type": "code",
   "execution_count": 22,
   "metadata": {},
   "outputs": [
    {
     "data": {
      "text/plain": [
       "5"
      ]
     },
     "execution_count": 22,
     "metadata": {},
     "output_type": "execute_result"
    }
   ],
   "source": [
    "depth(x1 | x4 | (x3 & ~x2) | (x5 & ~x6))"
   ]
  },
  {
   "cell_type": "code",
   "execution_count": 23,
   "metadata": {},
   "outputs": [
    {
     "data": {
      "text/plain": [
       "[~x2,\n",
       " ~x6,\n",
       " x3 & ~x2,\n",
       " x5 & ~x6,\n",
       " (x3 & ~x2) | (x5 & ~x6),\n",
       " x4 | (x3 & ~x2) | (x5 & ~x6),\n",
       " x1 | x4 | (x3 & ~x2) | (x5 & ~x6)]"
      ]
     },
     "execution_count": 23,
     "metadata": {},
     "output_type": "execute_result"
    }
   ],
   "source": [
    "F = x1 | x4 | (x3 & ~x2) | (x5 & ~x6)\n",
    "sorted(subformulas(F), key=depth)"
   ]
  },
  {
   "cell_type": "code",
   "execution_count": 24,
   "metadata": {},
   "outputs": [],
   "source": [
    "def symbol_init(x, count=0):\n",
    "    def new_symbol ():\n",
    "        nonlocal count\n",
    "        count += 1\n",
    "        return var(str(x) + str(count)) #var add the new symbol in the name space\n",
    "    return new_symbol"
   ]
  },
  {
   "cell_type": "code",
   "execution_count": 25,
   "metadata": {},
   "outputs": [],
   "source": [
    "def binSubs(x, y, z):\n",
    "    #replace y by z in x\n",
    "    #print(\"subs\", x, y, z)\n",
    "    if (len(y.args) >0) and (len(x.args)>2) and (y!=x) and (y.func==x.func):\n",
    "     \n",
    "        if all([y in x.args for y in y.args]): \n",
    "            l = list(x.args)\n",
    "            for i in y.args:\n",
    "                l.remove(i)\n",
    "            if (z.func== Symbol):\n",
    "                t=tuple(l + [z])\n",
    "            else:\n",
    "                t=tuple(l+list(z.args))\n",
    "            return eval(str(x.func) + str(t))\n",
    "    \n",
    "    return x.subs(y,z)"
   ]
  },
  {
   "cell_type": "code",
   "execution_count": 28,
   "metadata": {},
   "outputs": [],
   "source": [
    "def tseitin1(s):\n",
    "    # for binary operation\n",
    "    \n",
    "    expr = get_sp_clause(s)\n",
    "    s=symbol_init(\"p\")\n",
    "    if expr.func == Symbol:\n",
    "        return true\n",
    "    else:\n",
    "        return tseitin_aux(sorted(subformulas(expr), key=depth), s) \n",
    "\n",
    "def tseitin_aux(L, s):\n",
    "    #nonlocal newvar\n",
    "    newvar = s()\n",
    "    if (L==[]):\n",
    "        return true\n",
    "    if depth(L[0]) > 0:\n",
    "        if len(L[1:])>0 :\n",
    "            #newList = [x.subs(L[0], newvar) for x in L[1:]]  \n",
    "            \n",
    "            newList = [binSubs(x, L[0], newvar) for x in L[1:]]  \n",
    "            \n",
    "            return Equivalent(newvar, L[0]) & tseitin_aux(newList, s)\n",
    "        else:      \n",
    "            return Equivalent(newvar, L[0]) & newvar\n",
    "    else:\n",
    "        print(\"error\")"
   ]
  },
  {
   "cell_type": "code",
   "execution_count": 35,
   "metadata": {},
   "outputs": [
    {
     "data": {
      "text/plain": [
       "p9 & (p1 | x1) & (p2 | x2) & (p3 | x5) & (p1 | ~p5) & (p2 | ~p4) & (p3 | ~p4) & (p4 | ~p5) & (p5 | ~p6) & (p6 | ~p7) & (p7 | ~p8) & (p8 | ~p9) & (x1 | ~p9) & (x2 | ~p8) & (x3 | ~p7) & (x4 | ~p6) & (~p1 | ~x1) & (~p2 | ~x2) & (~p3 | ~x5) & (p4 | ~p2 | ~p3) & (p5 | ~p1 | ~p4) & (p6 | ~p5 | ~x4) & (p7 | ~p6 | ~x3) & (p8 | ~p7 | ~x2) & (p9 | ~p8 | ~x1)"
      ]
     },
     "execution_count": 35,
     "metadata": {},
     "output_type": "execute_result"
    }
   ],
   "source": [
    "sp.to_cnf(tseitin1(\"1 . 2 . 3 . 4 . -5 . -1 . (-2 . (-1))\"))"
   ]
  },
  {
   "cell_type": "code",
   "execution_count": 36,
   "metadata": {},
   "outputs": [],
   "source": [
    "# given(tseitin1)"
   ]
  },
  {
   "cell_type": "code",
   "execution_count": null,
   "metadata": {},
   "outputs": [],
   "source": []
  },
  {
   "cell_type": "code",
   "execution_count": null,
   "metadata": {},
   "outputs": [],
   "source": []
  },
  {
   "cell_type": "code",
   "execution_count": null,
   "metadata": {},
   "outputs": [],
   "source": []
  },
  {
   "cell_type": "code",
   "execution_count": null,
   "metadata": {},
   "outputs": [],
   "source": []
  }
 ],
 "metadata": {
  "kernelspec": {
   "display_name": "Python 3",
   "language": "python",
   "name": "python3"
  },
  "language_info": {
   "codemirror_mode": {
    "name": "ipython",
    "version": 3
   },
   "file_extension": ".py",
   "mimetype": "text/x-python",
   "name": "python",
   "nbconvert_exporter": "python",
   "pygments_lexer": "ipython3",
   "version": "3.6.3"
  }
 },
 "nbformat": 4,
 "nbformat_minor": 2
}
