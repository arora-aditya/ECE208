{
 "cells": [
  {
   "cell_type": "code",
   "execution_count": 117,
   "metadata": {},
   "outputs": [],
   "source": [
    "import sympy as sp\n",
    "from sympy import *\n",
    "from sympy.abc import *\n",
    "from sympy.parsing.sympy_parser import parse_expr\n",
    "import pdb\n",
    "import itertools\n"
   ]
  },
  {
   "cell_type": "code",
   "execution_count": 118,
   "metadata": {},
   "outputs": [],
   "source": [
    "def given(fx):\n",
    "    li = [\n",
    "        \"1+-2.3+4+5.-6\",\n",
    "        \"1.(2 + (3.5) + -1.3) + 4.6 + 12 + 15\",\n",
    "        \"1.(2 + 3.5 + -1.3() + 4.6 + 12 + 15.16 + (17.18) + (-1)\",\n",
    "        \"(1+(2).(3+5).(-1+3)).(4+6).(12).(15+16).((17+18)).(((-1)))\",\n",
    "        \"1 . 2 . 3 . 4 . -5 . -1 . (-2 . (-1))\",\n",
    "        \"1+-2.3+4+5+-6\",\n",
    "    ]\n",
    "    li_ret = []\n",
    "    for cl in li:\n",
    "        try:\n",
    "            li_ret.append([cl, fx(cl)])\n",
    "        except Exception as e:\n",
    "            print(e)\n",
    "            li_ret.append('{e.message}')\n",
    "    return li_ret\n",
    "        "
   ]
  },
  {
   "cell_type": "code",
   "execution_count": null,
   "metadata": {},
   "outputs": [],
   "source": []
  },
  {
   "cell_type": "code",
   "execution_count": 119,
   "metadata": {},
   "outputs": [],
   "source": [
    "max_number = float('inf')"
   ]
  },
  {
   "cell_type": "code",
   "execution_count": 120,
   "metadata": {},
   "outputs": [],
   "source": [
    "def max_no(clause):\n",
    "    final = []\n",
    "    clause = clause.replace('(', '')\n",
    "    clause = clause.replace(')', '')\n",
    "    dot_split = clause.split('.')\n",
    "    for ds in dot_split:\n",
    "        final.extend(ds.split('+'))\n",
    "    for i in range(len(final)):\n",
    "        final[i] = abs(int(final[i]))\n",
    "    return max(final)\n",
    "\n"
   ]
  },
  {
   "cell_type": "code",
   "execution_count": 121,
   "metadata": {},
   "outputs": [],
   "source": [
    "def define_variables(max_no):\n",
    "    return symbols(f'x:{max_no}')"
   ]
  },
  {
   "cell_type": "code",
   "execution_count": 122,
   "metadata": {},
   "outputs": [],
   "source": [
    "def replace_nums_with_symbols(clause):\n",
    "    max_num = max_no(clause)\n",
    "    clause = clause.replace('-', '~')\n",
    "    split_by_and = clause.split('.')\n",
    "    syms = define_variables(max_num+1)\n",
    "    for i in range(max_num+1):\n",
    "        exec(f'x{i} = syms[{i}]')\n",
    "    fin_clause = ''\n",
    "    for sub_clause in split_by_and:\n",
    "        fin_sub_clause = ''\n",
    "        for sub_sub_clause in sub_clause.split('+'):\n",
    "            for i in range(max_num, 0, -1):\n",
    "                if sub_sub_clause.replace(str(i), str(syms[i])) != sub_sub_clause:\n",
    "                    sub_sub_clause = sub_sub_clause.replace(str(i), str(syms[i]))\n",
    "                    break\n",
    "            fin_sub_clause = fin_sub_clause + '|' + sub_sub_clause\n",
    "        \n",
    "        fin_clause = fin_clause + '&' + fin_sub_clause[1:]\n",
    "    return fin_clause[1:]"
   ]
  },
  {
   "cell_type": "code",
   "execution_count": 123,
   "metadata": {},
   "outputs": [
    {
     "data": {
      "text/plain": [
       "[['1+-2.3+4+5.-6', 'x1|~x2&x3|x4|x5&~x6'],\n",
       " ['1.(2 + (3.5) + -1.3) + 4.6 + 12 + 15',\n",
       "  'x1&(x2 | (x3&x5) | ~x1&x3) | x4&x6 | x12 | x15'],\n",
       " ['1.(2 + 3.5 + -1.3() + 4.6 + 12 + 15.16 + (17.18) + (-1)',\n",
       "  'x1&(x2 | x3&x5 | ~x1&x3() | x4&x6 | x12 | x15&x16 | (x17&x18) | (~x1)'],\n",
       " ['(1+(2).(3+5).(-1+3)).(4+6).(12).(15+16).((17+18)).(((-1)))',\n",
       "  '(x1|(x2)&(x3|x5)&(~x1|x3))&(x4|x6)&(x12)&(x15|x16)&((x17|x18))&(((~x1)))'],\n",
       " ['1 . 2 . 3 . 4 . -5 . -1 . (-2 . (-1))',\n",
       "  'x1 & x2 & x3 & x4 & ~x5 & ~x1 & (~x2 & (~x1))'],\n",
       " ['1+-2.3+4+5+-6', 'x1|~x2&x3|x4|x5|~x6']]"
      ]
     },
     "execution_count": 123,
     "metadata": {},
     "output_type": "execute_result"
    }
   ],
   "source": [
    "given(replace_nums_with_symbols)"
   ]
  },
  {
   "cell_type": "code",
   "execution_count": 124,
   "metadata": {},
   "outputs": [],
   "source": [
    "def auto_convert_to_cnf(clause):\n",
    "    \n",
    "    converted_clause_string = replace_nums_with_symbols(clause)\n",
    "    try:\n",
    "        exec(f'converted_clause = {converted_clause_string}')\n",
    "        print(clause, sp.to_cnf(converted_clause_string))\n",
    "        print()\n",
    "    except:\n",
    "        print(f'Error in clause {clause}')\n",
    "        print()"
   ]
  },
  {
   "cell_type": "code",
   "execution_count": 125,
   "metadata": {},
   "outputs": [],
   "source": [
    "def get_sp_clause(clause):\n",
    "    converted_clause_string = replace_nums_with_symbols(clause)\n",
    "    try:\n",
    "        return parse_expr(converted_clause_string)\n",
    "    except Exception as e:\n",
    "        print(f'Error in clause {clause} {e}')\n",
    "        print()"
   ]
  },
  {
   "cell_type": "code",
   "execution_count": 126,
   "metadata": {},
   "outputs": [
    {
     "name": "stdout",
     "output_type": "stream",
     "text": [
      "Error in clause 1.(2 + 3.5 + -1.3() + 4.6 + 12 + 15.16 + (17.18) + (-1) ('EOF in multi-line statement', (2, 0))\n",
      "\n"
     ]
    },
    {
     "data": {
      "text/plain": [
       "[['1+-2.3+4+5.-6', x1 | x4 | (x3 & ~x2) | (x5 & ~x6)],\n",
       " ['1.(2 + (3.5) + -1.3) + 4.6 + 12 + 15',\n",
       "  x12 | x15 | (x4 & x6) | (x1 & (x2 | (x3 & x5) | (x3 & ~x1)))],\n",
       " ['1.(2 + 3.5 + -1.3() + 4.6 + 12 + 15.16 + (17.18) + (-1)', None],\n",
       " ['(1+(2).(3+5).(-1+3)).(4+6).(12).(15+16).((17+18)).(((-1)))',\n",
       "  x12 & ~x1 & (x15 | x16) & (x17 | x18) & (x4 | x6) & (x1 | (x2 & (x3 | x5) & (x3 | ~x1)))],\n",
       " ['1 . 2 . 3 . 4 . -5 . -1 . (-2 . (-1))',\n",
       "  x1 & x2 & x3 & x4 & ~x1 & ~x2 & ~x5],\n",
       " ['1+-2.3+4+5+-6', x1 | x4 | x5 | ~x6 | (x3 & ~x2)]]"
      ]
     },
     "execution_count": 126,
     "metadata": {},
     "output_type": "execute_result"
    }
   ],
   "source": [
    "given(get_sp_clause)"
   ]
  },
  {
   "cell_type": "code",
   "execution_count": 127,
   "metadata": {},
   "outputs": [],
   "source": [
    "def subformulas(expr):\n",
    "# subformula of expr without atoms\n",
    "# considering operator as binary\n",
    "    \n",
    "    if expr.func == sp.Symbol:\n",
    "        return []\n",
    "    elif len(expr.args)==1:\n",
    "        return [expr] + subformulas(expr.args[0])\n",
    "    elif len(expr.args)==2:\n",
    "        return [expr] + subformulas(expr.args[0]) + subformulas(expr.args[1]) \n",
    "    elif len(expr.args)>2:\n",
    "        return [expr] + subformulas(expr.args[0]) + subformulas(eval(str(expr.func)+str(expr.args[1:])))  \n",
    "    else:\n",
    "        return \"error\""
   ]
  },
  {
   "cell_type": "code",
   "execution_count": 128,
   "metadata": {},
   "outputs": [],
   "source": [
    "syms = define_variables(18+1)\n",
    "for i in range(18+1):\n",
    "    exec(f'x{i} = syms[{i}]')"
   ]
  },
  {
   "cell_type": "code",
   "execution_count": 129,
   "metadata": {},
   "outputs": [
    {
     "data": {
      "text/plain": [
       "~x1"
      ]
     },
     "execution_count": 129,
     "metadata": {},
     "output_type": "execute_result"
    }
   ],
   "source": [
    "~x1"
   ]
  },
  {
   "cell_type": "code",
   "execution_count": 130,
   "metadata": {},
   "outputs": [
    {
     "data": {
      "text/plain": [
       "[x1 | x4 | (x3 & ~x2) | (x5 & ~x6),\n",
       " x4 | (x3 & ~x2) | (x5 & ~x6),\n",
       " (x3 & ~x2) | (x5 & ~x6),\n",
       " x3 & ~x2,\n",
       " ~x2,\n",
       " x5 & ~x6,\n",
       " ~x6]"
      ]
     },
     "execution_count": 130,
     "metadata": {},
     "output_type": "execute_result"
    }
   ],
   "source": [
    "subformulas((x1 | x4 | (x3 & ~x2) | (x5 & ~x6)))"
   ]
  },
  {
   "cell_type": "code",
   "execution_count": 131,
   "metadata": {},
   "outputs": [],
   "source": [
    "def depth(expr):\n",
    "# still considering operator as binary\n",
    "    if expr.func == Not:\n",
    "        return 1 + depth(expr.args[0])\n",
    "    elif (len(expr.args)==2):\n",
    "        return 1 + max([depth(x) for x in expr.args])\n",
    "    elif ( len(expr.args)>2):\n",
    "        #return 1 + max(depth(expr.args[0]), depth(eval(str(expr.func)+str(expr.args[1:]))))\n",
    "        return len(expr.args)-1 + max([depth(x) for x in expr.args])\n",
    "    elif expr.func == Symbol:\n",
    "        return 0\n",
    "    else: \n",
    "        return\"error\""
   ]
  },
  {
   "cell_type": "code",
   "execution_count": 132,
   "metadata": {},
   "outputs": [
    {
     "data": {
      "text/plain": [
       "5"
      ]
     },
     "execution_count": 132,
     "metadata": {},
     "output_type": "execute_result"
    }
   ],
   "source": [
    "depth(x1 | x4 | (x3 & ~x2) | (x5 & ~x6))"
   ]
  },
  {
   "cell_type": "code",
   "execution_count": 133,
   "metadata": {},
   "outputs": [
    {
     "data": {
      "text/plain": [
       "[~x2,\n",
       " x5 & ~x2,\n",
       " x3 & ~x2,\n",
       " (x3 & ~x2) | (x5 & ~x2),\n",
       " x4 | (x3 & ~x2) | (x5 & ~x2),\n",
       " x1 | x4 | (x3 & ~x2) | (x5 & ~x2)]"
      ]
     },
     "execution_count": 133,
     "metadata": {},
     "output_type": "execute_result"
    }
   ],
   "source": [
    "F = x1 | x4 | (x3 & ~x2) | (x5 & ~x2)\n",
    "sorted(set(subformulas(F)), key=depth)"
   ]
  },
  {
   "cell_type": "code",
   "execution_count": 134,
   "metadata": {},
   "outputs": [],
   "source": [
    "def symbol_init(x, count=0):\n",
    "    def new_symbol ():\n",
    "        nonlocal count\n",
    "        count += 1\n",
    "        return var(str(x) + str(count)) #var add the new symbol in the name space\n",
    "    return new_symbol"
   ]
  },
  {
   "cell_type": "code",
   "execution_count": 135,
   "metadata": {},
   "outputs": [],
   "source": [
    "def binSubs(x, y, z):\n",
    "    #replace y by z in x\n",
    "    #print(\"subs\", x, y, z)\n",
    "    if (len(y.args) >0) and (len(x.args)>2) and (y!=x) and (y.func==x.func):\n",
    "     \n",
    "        if all([y in x.args for y in y.args]): \n",
    "            l = list(x.args)\n",
    "            for i in y.args:\n",
    "                l.remove(i)\n",
    "            if (z.func== Symbol):\n",
    "                t=tuple(l + [z])\n",
    "            else:\n",
    "                t=tuple(l+list(z.args))\n",
    "            return eval(str(x.func) + str(t))\n",
    "    \n",
    "    return x.subs(y,z)"
   ]
  },
  {
   "cell_type": "code",
   "execution_count": null,
   "metadata": {},
   "outputs": [],
   "source": []
  },
  {
   "cell_type": "code",
   "execution_count": 167,
   "metadata": {},
   "outputs": [],
   "source": [
    "def tseitin1(s):\n",
    "    # for binary operation\n",
    "    try:\n",
    "        \n",
    "        expr = get_sp_clause(s)\n",
    "        s=symbol_init(\"p\")\n",
    "        if expr.func == sp.Symbol:\n",
    "            return true\n",
    "        else:\n",
    "            return tseitin_aux(sorted(set(subformulas(expr)), key=depth), s) \n",
    "    except Exception as e:\n",
    "        raise e\n",
    "\n",
    "def tseitin_aux(L, s):\n",
    "    #nonlocal newvar\n",
    "    newvar = s()\n",
    "    if (L==[]):\n",
    "        return true\n",
    "    if depth(L[0]) > 0:\n",
    "        if len(L[1:])>0 :\n",
    "            #newList = [x.subs(L[0], newvar) for x in L[1:]]  \n",
    "            \n",
    "            newList = [binSubs(x, L[0], newvar) for x in L[1:]]  \n",
    "            \n",
    "            return Equivalent(newvar, L[0]) & tseitin_aux(newList, s)\n",
    "        else:      \n",
    "            return Equivalent(newvar, L[0]) & newvar\n",
    "    else:\n",
    "        print(\"error\")\n",
    "    "
   ]
  },
  {
   "cell_type": "code",
   "execution_count": 137,
   "metadata": {},
   "outputs": [],
   "source": [
    "sp.to_cnf(tseitin1(\"1 . 2 . 3 . 4 . -5 . -1 . (-2 . (-1))\"))"
   ]
  },
  {
   "cell_type": "code",
   "execution_count": 138,
   "metadata": {},
   "outputs": [],
   "source": [
    "# given(tseitin1)"
   ]
  },
  {
   "cell_type": "code",
   "execution_count": 168,
   "metadata": {},
   "outputs": [],
   "source": [
    "ans = tseitin1(\"1.(-2 + -1)\")"
   ]
  },
  {
   "cell_type": "code",
   "execution_count": 169,
   "metadata": {},
   "outputs": [
    {
     "data": {
      "text/plain": [
       "p4 & (Equivalent(p1, ~x2)) & (Equivalent(p2, ~x1)) & (Equivalent(p3, p1 | p2)) & (Equivalent(p4, p3 & x1))"
      ]
     },
     "execution_count": 169,
     "metadata": {},
     "output_type": "execute_result"
    }
   ],
   "source": [
    "ans"
   ]
  },
  {
   "cell_type": "code",
   "execution_count": 141,
   "metadata": {},
   "outputs": [
    {
     "data": {
      "text/plain": [
       "[['1+-2.3+4+5.-6', None],\n",
       " ['1.(2 + (3.5) + -1.3) + 4.6 + 12 + 15', None],\n",
       " ['1.(2 + 3.5 + -1.3() + 4.6 + 12 + 15.16 + (17.18) + (-1)', None],\n",
       " ['(1+(2).(3+5).(-1+3)).(4+6).(12).(15+16).((17+18)).(((-1)))', None],\n",
       " ['1 . 2 . 3 . 4 . -5 . -1 . (-2 . (-1))', None],\n",
       " ['1+-2.3+4+5+-6', None]]"
      ]
     },
     "execution_count": 141,
     "metadata": {},
     "output_type": "execute_result"
    }
   ],
   "source": [
    "given(tseitin1)"
   ]
  },
  {
   "cell_type": "code",
   "execution_count": 142,
   "metadata": {},
   "outputs": [],
   "source": [
    "ans"
   ]
  },
  {
   "cell_type": "code",
   "execution_count": 143,
   "metadata": {},
   "outputs": [],
   "source": [
    "sp.to_cnf(ans)"
   ]
  },
  {
   "cell_type": "code",
   "execution_count": 144,
   "metadata": {},
   "outputs": [],
   "source": [
    "def cnf(a, neg=False, depth=0):\n",
    "#     print(depth*'\\t', a, a.func, len(a.args), neg)\n",
    "    if a.func == sp.Symbol:\n",
    "        if neg:\n",
    "            return ~a\n",
    "        else:\n",
    "            return a\n",
    "    elif len(a.args)==1:\n",
    "#         print(a.args)\n",
    "        return cnf(eval(str(a.args[0])), neg=not neg, depth=depth+1)\n",
    "    elif len(a.args)==2 and a.func == sp.Equivalent:\n",
    "        if not neg:\n",
    "            return demorgan(cnf(a.args[0], depth=depth+1) | cnf(a.args[1], neg=True, depth=depth+1), depth=depth+1) & demorgan(cnf(a.args[0], neg=True, depth=depth+1) | cnf(a.args[1], depth=depth+1), depth=depth+1)\n",
    "        else:\n",
    "            assert False\n",
    "            return (cnf(a.args[0], neg=True, depth=depth+1) | cnf(a.args[1], neg=True, depth=depth+1) & (cnf(a.args[1], neg=False, depth=depth+1) | cnf(a.args[0], neg=False, depth=depth+1)))\n",
    "    elif len(a.args)>=2:\n",
    "        if a.func == sp.And:\n",
    "            if not neg:\n",
    "                return cnf(a.args[0], depth=depth+1) & cnf(eval(str(a.func)+str(a.args[1:])), depth=depth+1)  \n",
    "            else:\n",
    "                return (cnf(a.args[0], neg=True, depth=depth+1) | cnf(eval(str(a.func)+str(a.args[1:])), neg=True, depth=depth+1))\n",
    "        elif a.func == sp.Or:\n",
    "            if not neg:\n",
    "                return demorgan(cnf(a.args[0], depth=depth+1) | cnf(eval(str(a.func)+str(a.args[1:])), depth=depth+1), depth=depth+1)\n",
    "            else:\n",
    "                return cnf(a.args[0], depth=depth+1, neg=neg) & cnf(eval(str(a.func)+str(a.args[1:])), neg=neg, depth=depth+1)\n",
    "    else:\n",
    "        return \"error\""
   ]
  },
  {
   "cell_type": "code",
   "execution_count": 160,
   "metadata": {},
   "outputs": [],
   "source": [
    "def cnf(a, neg=False, depth=0):\n",
    "    print(depth*'\\t', a, a.func, len(a.args), neg)\n",
    "    if a.func == sp.Symbol:\n",
    "        if neg:\n",
    "            return ~a\n",
    "        else:\n",
    "            return a\n",
    "    elif len(a.args)==1:\n",
    "#         print(a.args)\n",
    "        return cnf(eval(str(a.args[0])), neg=not neg, depth=depth+1)\n",
    "    elif len(a.args)==2 and a.func == sp.Equivalent:\n",
    "        if not neg:\n",
    "            return demorgan(cnf(a.args[0], depth=depth+1) | cnf(a.args[1], neg=True, depth=depth+1), depth=depth+1) & demorgan(cnf(a.args[0], neg=True, depth=depth+1) | cnf(a.args[1], depth=depth+1), depth=depth+1)\n",
    "        else:\n",
    "            assert False\n",
    "            # return (cnf(a.args[0], neg=True, depth=depth+1) | cnf(a.args[1], neg=True, depth=depth+1) & (cnf(a.args[1], neg=False, depth=depth+1) | cnf(a.args[0], neg=False, depth=depth+1)))\n",
    "    elif len(a.args)>=2:\n",
    "        if a.func == sp.And:\n",
    "            if not neg:\n",
    "                return cnf(a.args[0], depth=depth+1) & demorgan(cnf(eval(str(a.func)+str(a.args[1:])), depth=depth+1), depth=depth+1)\n",
    "            else:\n",
    "                return demorgan(cnf(a.args[0], neg=True, depth=depth+1) | demorgan(cnf(eval(str(a.func)+str(a.args[1:])), neg=True, depth=depth+1), depth=depth+1), depth=depth+1)\n",
    "        elif a.func == sp.Or:\n",
    "            if not neg:\n",
    "                return demorgan(cnf(a.args[0], depth=depth+1) | cnf(eval(str(a.func)+str(a.args[1:])), depth=depth+1), depth=depth+1)\n",
    "            else:\n",
    "                return cnf(a.args[0], depth=depth+1, neg=neg) & demorgan(cnf(eval(str(a.func)+str(a.args[1:])), neg=neg, depth=depth+1), depth=depth+1)\n",
    "    else:\n",
    "        return \"error\"\n"
   ]
  },
  {
   "cell_type": "code",
   "execution_count": 230,
   "metadata": {},
   "outputs": [],
   "source": [
    "def demorgan(a, neg=False, depth=0):\n",
    "#     print(depth*\"\\t\",\"demorgan\", a)\n",
    "    s = f''\n",
    "#     print(depth*\"\\t\", a)\n",
    "    if a.func == sp.Or:\n",
    "        ls = []\n",
    "        for i in range(len(a.args)):\n",
    "            if a.args[i].func == sp.And:\n",
    "    #             print(depth*\"\\t\",'1')\n",
    "                ls.append(a.args[i].args)\n",
    "            elif a.args[i].func == sp.Symbol:\n",
    "                ls.append([a.args[i]])\n",
    "            else:\n",
    "                return a\n",
    "        ls2 = set()\n",
    "        for element in itertools.product(*ls):\n",
    "            ls2.add('And' + str(tuple(set(element))))\n",
    "        ls2_str = 'Or(' + ','.join(ls2) + ')'\n",
    "        print('ls2', ls2)\n",
    "        return parse_expr(ls2_str)\n",
    "    else:\n",
    "        return a"
   ]
  },
  {
   "cell_type": "code",
   "execution_count": 240,
   "metadata": {},
   "outputs": [
    {
     "name": "stdout",
     "output_type": "stream",
     "text": [
      "[[p1], (p1, p3), (p10, p11), (p10, p3), (p11, p3), (p12, p7), (p2, p3), (p2, p5), (p2, p9), (p3, p4), (p3, p5), (p3, p9)]\n",
      "Or(And(p1, p1, p10, p10, p11, p12, p2, p2, p2, p3, p3, p3),And(p1, p1, p10, p10, p11, p12, p2, p2, p2, p3, p3, p9),And(p1, p1, p10, p10, p11, p12, p2, p2, p2, p3, p5, p3),And(p1, p1, p10, p10, p11, p12, p2, p2, p2, p3, p5, p9),And(p1, p1, p10, p10, p11, p12, p2, p2, p2, p4, p3, p3),And(p1, p1, p10, p10, p11, p12, p2, p2, p2, p4, p3, p9),And(p1, p1, p10, p10, p11, p12, p2, p2, p2, p4, p5, p3),And(p1, p1, p10, p10, p11, p12, p2, p2, p2, p4, p5, p9),And(p1, p1, p10, p10, p11, p12, p2, p2, p9, p3, p3, p3),And(p1, p1, p10, p10, p11, p12, p2, p2, p9, p3, p3, p9),And(p1, p1, p10, p10, p11, p12, p2, p2, p9, p3, p5, p3),And(p1, p1, p10, p10, p11, p12, p2, p2, p9, p3, p5, p9),And(p1, p1, p10, p10, p11, p12, p2, p2, p9, p4, p3, p3),And(p1, p1, p10, p10, p11, p12, p2, p2, p9, p4, p3, p9),And(p1, p1, p10, p10, p11, p12, p2, p2, p9, p4, p5, p3),And(p1, p1, p10, p10, p11, p12, p2, p2, p9, p4, p5, p9),And(p1, p1, p10, p10, p11, p12, p2, p5, p2, p3, p3, p3),And(p1, p1, p10, p10, p11, p12, p2, p5, p2, p3, p3, p9),And(p1, p1, p10, p10, p11, p12, p2, p5, p2, p3, p5, p3),And(p1, p1, p10, p10, p11, p12, p2, p5, p2, p3, p5, p9),And(p1, p1, p10, p10, p11, p12, p2, p5, p2, p4, p3, p3),And(p1, p1, p10, p10, p11, p12, p2, p5, p2, p4, p3, p9),And(p1, p1, p10, p10, p11, p12, p2, p5, p2, p4, p5, p3),And(p1, p1, p10, p10, p11, p12, p2, p5, p2, p4, p5, p9),And(p1, p1, p10, p10, p11, p12, p2, p5, p9, p3, p3, p3),And(p1, p1, p10, p10, p11, p12, p2, p5, p9, p3, p3, p9),And(p1, p1, p10, p10, p11, p12, p2, p5, p9, p3, p5, p3),And(p1, p1, p10, p10, p11, p12, p2, p5, p9, p3, p5, p9),And(p1, p1, p10, p10, p11, p12, p2, p5, p9, p4, p3, p3),And(p1, p1, p10, p10, p11, p12, p2, p5, p9, p4, p3, p9),And(p1, p1, p10, p10, p11, p12, p2, p5, p9, p4, p5, p3),And(p1, p1, p10, p10, p11, p12, p2, p5, p9, p4, p5, p9),And(p1, p1, p10, p10, p11, p12, p3, p2, p2, p3, p3, p3),And(p1, p1, p10, p10, p11, p12, p3, p2, p2, p3, p3, p9),And(p1, p1, p10, p10, p11, p12, p3, p2, p2, p3, p5, p3),And(p1, p1, p10, p10, p11, p12, p3, p2, p2, p3, p5, p9),And(p1, p1, p10, p10, p11, p12, p3, p2, p2, p4, p3, p3),And(p1, p1, p10, p10, p11, p12, p3, p2, p2, p4, p3, p9),And(p1, p1, p10, p10, p11, p12, p3, p2, p2, p4, p5, p3),And(p1, p1, p10, p10, p11, p12, p3, p2, p2, p4, p5, p9),And(p1, p1, p10, p10, p11, p12, p3, p2, p9, p3, p3, p3),And(p1, p1, p10, p10, p11, p12, p3, p2, p9, p3, p3, p9),And(p1, p1, p10, p10, p11, p12, p3, p2, p9, p3, p5, p3),And(p1, p1, p10, p10, p11, p12, p3, p2, p9, p3, p5, p9),And(p1, p1, p10, p10, p11, p12, p3, p2, p9, p4, p3, p3),And(p1, p1, p10, p10, p11, p12, p3, p2, p9, p4, p3, p9),And(p1, p1, p10, p10, p11, p12, p3, p2, p9, p4, p5, p3),And(p1, p1, p10, p10, p11, p12, p3, p2, p9, p4, p5, p9),And(p1, p1, p10, p10, p11, p12, p3, p5, p2, p3, p3, p3),And(p1, p1, p10, p10, p11, p12, p3, p5, p2, p3, p3, p9),And(p1, p1, p10, p10, p11, p12, p3, p5, p2, p3, p5, p3),And(p1, p1, p10, p10, p11, p12, p3, p5, p2, p3, p5, p9),And(p1, p1, p10, p10, p11, p12, p3, p5, p2, p4, p3, p3),And(p1, p1, p10, p10, p11, p12, p3, p5, p2, p4, p3, p9),And(p1, p1, p10, p10, p11, p12, p3, p5, p2, p4, p5, p3),And(p1, p1, p10, p10, p11, p12, p3, p5, p2, p4, p5, p9),And(p1, p1, p10, p10, p11, p12, p3, p5, p9, p3, p3, p3),And(p1, p1, p10, p10, p11, p12, p3, p5, p9, p3, p3, p9),And(p1, p1, p10, p10, p11, p12, p3, p5, p9, p3, p5, p3),And(p1, p1, p10, p10, p11, p12, p3, p5, p9, p3, p5, p9),And(p1, p1, p10, p10, p11, p12, p3, p5, p9, p4, p3, p3),And(p1, p1, p10, p10, p11, p12, p3, p5, p9, p4, p3, p9),And(p1, p1, p10, p10, p11, p12, p3, p5, p9, p4, p5, p3),And(p1, p1, p10, p10, p11, p12, p3, p5, p9, p4, p5, p9),And(p1, p1, p10, p10, p11, p7, p2, p2, p2, p3, p3, p3),And(p1, p1, p10, p10, p11, p7, p2, p2, p2, p3, p3, p9),And(p1, p1, p10, p10, p11, p7, p2, p2, p2, p3, p5, p3),And(p1, p1, p10, p10, p11, p7, p2, p2, p2, p3, p5, p9),And(p1, p1, p10, p10, p11, p7, p2, p2, p2, p4, p3, p3),And(p1, p1, p10, p10, p11, p7, p2, p2, p2, p4, p3, p9),And(p1, p1, p10, p10, p11, p7, p2, p2, p2, p4, p5, p3),And(p1, p1, p10, p10, p11, p7, p2, p2, p2, p4, p5, p9),And(p1, p1, p10, p10, p11, p7, p2, p2, p9, p3, p3, p3),And(p1, p1, p10, p10, p11, p7, p2, p2, p9, p3, p3, p9),And(p1, p1, p10, p10, p11, p7, p2, p2, p9, p3, p5, p3),And(p1, p1, p10, p10, p11, p7, p2, p2, p9, p3, p5, p9),And(p1, p1, p10, p10, p11, p7, p2, p2, p9, p4, p3, p3),And(p1, p1, p10, p10, p11, p7, p2, p2, p9, p4, p3, p9),And(p1, p1, p10, p10, p11, p7, p2, p2, p9, p4, p5, p3),And(p1, p1, p10, p10, p11, p7, p2, p2, p9, p4, p5, p9),And(p1, p1, p10, p10, p11, p7, p2, p5, p2, p3, p3, p3),And(p1, p1, p10, p10, p11, p7, p2, p5, p2, p3, p3, p9),And(p1, p1, p10, p10, p11, p7, p2, p5, p2, p3, p5, p3),And(p1, p1, p10, p10, p11, p7, p2, p5, p2, p3, p5, p9),And(p1, p1, p10, p10, p11, p7, p2, p5, p2, p4, p3, p3),And(p1, p1, p10, p10, p11, p7, p2, p5, p2, p4, p3, p9),And(p1, p1, p10, p10, p11, p7, p2, p5, p2, p4, p5, p3),And(p1, p1, p10, p10, p11, p7, p2, p5, p2, p4, p5, p9),And(p1, p1, p10, p10, p11, p7, p2, p5, p9, p3, p3, p3),And(p1, p1, p10, p10, p11, p7, p2, p5, p9, p3, p3, p9),And(p1, p1, p10, p10, p11, p7, p2, p5, p9, p3, p5, p3),And(p1, p1, p10, p10, p11, p7, p2, p5, p9, p3, p5, p9),And(p1, p1, p10, p10, p11, p7, p2, p5, p9, p4, p3, p3),And(p1, p1, p10, p10, p11, p7, p2, p5, p9, p4, p3, p9),And(p1, p1, p10, p10, p11, p7, p2, p5, p9, p4, p5, p3),And(p1, p1, p10, p10, p11, p7, p2, p5, p9, p4, p5, p9),And(p1, p1, p10, p10, p11, p7, p3, p2, p2, p3, p3, p3),And(p1, p1, p10, p10, p11, p7, p3, p2, p2, p3, p3, p9),And(p1, p1, p10, p10, p11, p7, p3, p2, p2, p3, p5, p3),And(p1, p1, p10, p10, p11, p7, p3, p2, p2, p3, p5, p9),And(p1, p1, p10, p10, p11, p7, p3, p2, p2, p4, p3, p3),And(p1, p1, p10, p10, p11, p7, p3, p2, p2, p4, p3, p9),And(p1, p1, p10, p10, p11, p7, p3, p2, p2, p4, p5, p3),And(p1, p1, p10, p10, p11, p7, p3, p2, p2, p4, p5, p9),And(p1, p1, p10, p10, p11, p7, p3, p2, p9, p3, p3, p3),And(p1, p1, p10, p10, p11, p7, p3, p2, p9, p3, p3, p9),And(p1, p1, p10, p10, p11, p7, p3, p2, p9, p3, p5, p3),And(p1, p1, p10, p10, p11, p7, p3, p2, p9, p3, p5, p9),And(p1, p1, p10, p10, p11, p7, p3, p2, p9, p4, p3, p3),And(p1, p1, p10, p10, p11, p7, p3, p2, p9, p4, p3, p9),And(p1, p1, p10, p10, p11, p7, p3, p2, p9, p4, p5, p3),And(p1, p1, p10, p10, p11, p7, p3, p2, p9, p4, p5, p9),And(p1, p1, p10, p10, p11, p7, p3, p5, p2, p3, p3, p3),And(p1, p1, p10, p10, p11, p7, p3, p5, p2, p3, p3, p9),And(p1, p1, p10, p10, p11, p7, p3, p5, p2, p3, p5, p3),And(p1, p1, p10, p10, p11, p7, p3, p5, p2, p3, p5, p9),And(p1, p1, p10, p10, p11, p7, p3, p5, p2, p4, p3, p3),And(p1, p1, p10, p10, p11, p7, p3, p5, p2, p4, p3, p9),And(p1, p1, p10, p10, p11, p7, p3, p5, p2, p4, p5, p3),And(p1, p1, p10, p10, p11, p7, p3, p5, p2, p4, p5, p9),And(p1, p1, p10, p10, p11, p7, p3, p5, p9, p3, p3, p3),And(p1, p1, p10, p10, p11, p7, p3, p5, p9, p3, p3, p9),And(p1, p1, p10, p10, p11, p7, p3, p5, p9, p3, p5, p3),And(p1, p1, p10, p10, p11, p7, p3, p5, p9, p3, p5, p9),And(p1, p1, p10, p10, p11, p7, p3, p5, p9, p4, p3, p3),And(p1, p1, p10, p10, p11, p7, p3, p5, p9, p4, p3, p9),And(p1, p1, p10, p10, p11, p7, p3, p5, p9, p4, p5, p3),And(p1, p1, p10, p10, p11, p7, p3, p5, p9, p4, p5, p9),And(p1, p1, p10, p10, p3, p12, p2, p2, p2, p3, p3, p3),And(p1, p1, p10, p10, p3, p12, p2, p2, p2, p3, p3, p9),And(p1, p1, p10, p10, p3, p12, p2, p2, p2, p3, p5, p3),And(p1, p1, p10, p10, p3, p12, p2, p2, p2, p3, p5, p9),And(p1, p1, p10, p10, p3, p12, p2, p2, p2, p4, p3, p3),And(p1, p1, p10, p10, p3, p12, p2, p2, p2, p4, p3, p9),And(p1, p1, p10, p10, p3, p12, p2, p2, p2, p4, p5, p3),And(p1, p1, p10, p10, p3, p12, p2, p2, p2, p4, p5, p9),And(p1, p1, p10, p10, p3, p12, p2, p2, p9, p3, p3, p3),And(p1, p1, p10, p10, p3, p12, p2, p2, p9, p3, p3, p9),And(p1, p1, p10, p10, p3, p12, p2, p2, p9, p3, p5, p3),And(p1, p1, p10, p10, p3, p12, p2, p2, p9, p3, p5, p9),And(p1, p1, p10, p10, p3, p12, p2, p2, p9, p4, p3, p3),And(p1, p1, p10, p10, p3, p12, p2, p2, p9, p4, p3, p9),And(p1, p1, p10, p10, p3, p12, p2, p2, p9, p4, p5, p3),And(p1, p1, p10, p10, p3, p12, p2, p2, p9, p4, p5, p9),And(p1, p1, p10, p10, p3, p12, p2, p5, p2, p3, p3, p3),And(p1, p1, p10, p10, p3, p12, p2, p5, p2, p3, p3, p9),And(p1, p1, p10, p10, p3, p12, p2, p5, p2, p3, p5, p3),And(p1, p1, p10, p10, p3, p12, p2, p5, p2, p3, p5, p9),And(p1, p1, p10, p10, p3, p12, p2, p5, p2, p4, p3, p3),And(p1, p1, p10, p10, p3, p12, p2, p5, p2, p4, p3, p9),And(p1, p1, p10, p10, p3, p12, p2, p5, p2, p4, p5, p3),And(p1, p1, p10, p10, p3, p12, p2, p5, p2, p4, p5, p9),And(p1, p1, p10, p10, p3, p12, p2, p5, p9, p3, p3, p3),And(p1, p1, p10, p10, p3, p12, p2, p5, p9, p3, p3, p9),And(p1, p1, p10, p10, p3, p12, p2, p5, p9, p3, p5, p3),And(p1, p1, p10, p10, p3, p12, p2, p5, p9, p3, p5, p9),And(p1, p1, p10, p10, p3, p12, p2, p5, p9, p4, p3, p3),And(p1, p1, p10, p10, p3, p12, p2, p5, p9, p4, p3, p9),And(p1, p1, p10, p10, p3, p12, p2, p5, p9, p4, p5, p3),And(p1, p1, p10, p10, p3, p12, p2, p5, p9, p4, p5, p9),And(p1, p1, p10, p10, p3, p12, p3, p2, p2, p3, p3, p3),And(p1, p1, p10, p10, p3, p12, p3, p2, p2, p3, p3, p9),And(p1, p1, p10, p10, p3, p12, p3, p2, p2, p3, p5, p3),And(p1, p1, p10, p10, p3, p12, p3, p2, p2, p3, p5, p9),And(p1, p1, p10, p10, p3, p12, p3, p2, p2, p4, p3, p3),And(p1, p1, p10, p10, p3, p12, p3, p2, p2, p4, p3, p9),And(p1, p1, p10, p10, p3, p12, p3, p2, p2, p4, p5, p3),And(p1, p1, p10, p10, p3, p12, p3, p2, p2, p4, p5, p9),And(p1, p1, p10, p10, p3, p12, p3, p2, p9, p3, p3, p3),And(p1, p1, p10, p10, p3, p12, p3, p2, p9, p3, p3, p9),And(p1, p1, p10, p10, p3, p12, p3, p2, p9, p3, p5, p3),And(p1, p1, p10, p10, p3, p12, p3, p2, p9, p3, p5, p9),And(p1, p1, p10, p10, p3, p12, p3, p2, p9, p4, p3, p3),And(p1, p1, p10, p10, p3, p12, p3, p2, p9, p4, p3, p9),And(p1, p1, p10, p10, p3, p12, p3, p2, p9, p4, p5, p3),And(p1, p1, p10, p10, p3, p12, p3, p2, p9, p4, p5, p9),And(p1, p1, p10, p10, p3, p12, p3, p5, p2, p3, p3, p3),And(p1, p1, p10, p10, p3, p12, p3, p5, p2, p3, p3, p9),And(p1, p1, p10, p10, p3, p12, p3, p5, p2, p3, p5, p3),And(p1, p1, p10, p10, p3, p12, p3, p5, p2, p3, p5, p9),And(p1, p1, p10, p10, p3, p12, p3, p5, p2, p4, p3, p3),And(p1, p1, p10, p10, p3, p12, p3, p5, p2, p4, p3, p9),And(p1, p1, p10, p10, p3, p12, p3, p5, p2, p4, p5, p3),And(p1, p1, p10, p10, p3, p12, p3, p5, p2, p4, p5, p9),And(p1, p1, p10, p10, p3, p12, p3, p5, p9, p3, p3, p3),And(p1, p1, p10, p10, p3, p12, p3, p5, p9, p3, p3, p9),And(p1, p1, p10, p10, p3, p12, p3, p5, p9, p3, p5, p3),And(p1, p1, p10, p10, p3, p12, p3, p5, p9, p3, p5, p9),And(p1, p1, p10, p10, p3, p12, p3, p5, p9, p4, p3, p3),And(p1, p1, p10, p10, p3, p12, p3, p5, p9, p4, p3, p9),And(p1, p1, p10, p10, p3, p12, p3, p5, p9, p4, p5, p3),And(p1, p1, p10, p10, p3, p12, p3, p5, p9, p4, p5, p9),And(p1, p1, p10, p10, p3, p7, p2, p2, p2, p3, p3, p3),And(p1, p1, p10, p10, p3, p7, p2, p2, p2, p3, p3, p9),And(p1, p1, p10, p10, p3, p7, p2, p2, p2, p3, p5, p3),And(p1, p1, p10, p10, p3, p7, p2, p2, p2, p3, p5, p9),And(p1, p1, p10, p10, p3, p7, p2, p2, p2, p4, p3, p3),And(p1, p1, p10, p10, p3, p7, p2, p2, p2, p4, p3, p9),And(p1, p1, p10, p10, p3, p7, p2, p2, p2, p4, p5, p3),And(p1, p1, p10, p10, p3, p7, p2, p2, p2, p4, p5, p9),And(p1, p1, p10, p10, p3, p7, p2, p2, p9, p3, p3, p3),And(p1, p1, p10, p10, p3, p7, p2, p2, p9, p3, p3, p9),And(p1, p1, p10, p10, p3, p7, p2, p2, p9, p3, p5, p3),And(p1, p1, p10, p10, p3, p7, p2, p2, p9, p3, p5, p9),And(p1, p1, p10, p10, p3, p7, p2, p2, p9, p4, p3, p3),And(p1, p1, p10, p10, p3, p7, p2, p2, p9, p4, p3, p9),And(p1, p1, p10, p10, p3, p7, p2, p2, p9, p4, p5, p3),And(p1, p1, p10, p10, p3, p7, p2, p2, p9, p4, p5, p9),And(p1, p1, p10, p10, p3, p7, p2, p5, p2, p3, p3, p3),And(p1, p1, p10, p10, p3, p7, p2, p5, p2, p3, p3, p9),And(p1, p1, p10, p10, p3, p7, p2, p5, p2, p3, p5, p3),And(p1, p1, p10, p10, p3, p7, p2, p5, p2, p3, p5, p9),And(p1, p1, p10, p10, p3, p7, p2, p5, p2, p4, p3, p3),And(p1, p1, p10, p10, p3, p7, p2, p5, p2, p4, p3, p9),And(p1, p1, p10, p10, p3, p7, p2, p5, p2, p4, p5, p3),And(p1, p1, p10, p10, p3, p7, p2, p5, p2, p4, p5, p9),And(p1, p1, p10, p10, p3, p7, p2, p5, p9, p3, p3, p3),And(p1, p1, p10, p10, p3, p7, p2, p5, p9, p3, p3, p9),And(p1, p1, p10, p10, p3, p7, p2, p5, p9, p3, p5, p3),And(p1, p1, p10, p10, p3, p7, p2, p5, p9, p3, p5, p9),And(p1, p1, p10, p10, p3, p7, p2, p5, p9, p4, p3, p3),And(p1, p1, p10, p10, p3, p7, p2, p5, p9, p4, p3, p9),And(p1, p1, p10, p10, p3, p7, p2, p5, p9, p4, p5, p3),And(p1, p1, p10, p10, p3, p7, p2, p5, p9, p4, p5, p9),And(p1, p1, p10, p10, p3, p7, p3, p2, p2, p3, p3, p3),And(p1, p1, p10, p10, p3, p7, p3, p2, p2, p3, p3, p9),And(p1, p1, p10, p10, p3, p7, p3, p2, p2, p3, p5, p3),And(p1, p1, p10, p10, p3, p7, p3, p2, p2, p3, p5, p9),And(p1, p1, p10, p10, p3, p7, p3, p2, p2, p4, p3, p3),And(p1, p1, p10, p10, p3, p7, p3, p2, p2, p4, p3, p9),And(p1, p1, p10, p10, p3, p7, p3, p2, p2, p4, p5, p3),And(p1, p1, p10, p10, p3, p7, p3, p2, p2, p4, p5, p9),And(p1, p1, p10, p10, p3, p7, p3, p2, p9, p3, p3, p3),And(p1, p1, p10, p10, p3, p7, p3, p2, p9, p3, p3, p9),And(p1, p1, p10, p10, p3, p7, p3, p2, p9, p3, p5, p3),And(p1, p1, p10, p10, p3, p7, p3, p2, p9, p3, p5, p9),And(p1, p1, p10, p10, p3, p7, p3, p2, p9, p4, p3, p3),And(p1, p1, p10, p10, p3, p7, p3, p2, p9, p4, p3, p9),And(p1, p1, p10, p10, p3, p7, p3, p2, p9, p4, p5, p3),And(p1, p1, p10, p10, p3, p7, p3, p2, p9, p4, p5, p9),And(p1, p1, p10, p10, p3, p7, p3, p5, p2, p3, p3, p3),And(p1, p1, p10, p10, p3, p7, p3, p5, p2, p3, p3, p9),And(p1, p1, p10, p10, p3, p7, p3, p5, p2, p3, p5, p3),And(p1, p1, p10, p10, p3, p7, p3, p5, p2, p3, p5, p9),And(p1, p1, p10, p10, p3, p7, p3, p5, p2, p4, p3, p3),And(p1, p1, p10, p10, p3, p7, p3, p5, p2, p4, p3, p9),And(p1, p1, p10, p10, p3, p7, p3, p5, p2, p4, p5, p3),And(p1, p1, p10, p10, p3, p7, p3, p5, p2, p4, p5, p9),And(p1, p1, p10, p10, p3, p7, p3, p5, p9, p3, p3, p3),And(p1, p1, p10, p10, p3, p7, p3, p5, p9, p3, p3, p9),And(p1, p1, p10, p10, p3, p7, p3, p5, p9, p3, p5, p3),And(p1, p1, p10, p10, p3, p7, p3, p5, p9, p3, p5, p9),And(p1, p1, p10, p10, p3, p7, p3, p5, p9, p4, p3, p3),And(p1, p1, p10, p10, p3, p7, p3, p5, p9, p4, p3, p9),And(p1, p1, p10, p10, p3, p7, p3, p5, p9, p4, p5, p3),And(p1, p1, p10, p10, p3, p7, p3, p5, p9, p4, p5, p9),And(p1, p1, p10, p3, p11, p12, p2, p2, p2, p3, p3, p3),And(p1, p1, p10, p3, p11, p12, p2, p2, p2, p3, p3, p9),And(p1, p1, p10, p3, p11, p12, p2, p2, p2, p3, p5, p3),And(p1, p1, p10, p3, p11, p12, p2, p2, p2, p3, p5, p9),And(p1, p1, p10, p3, p11, p12, p2, p2, p2, p4, p3, p3),And(p1, p1, p10, p3, p11, p12, p2, p2, p2, p4, p3, p9),And(p1, p1, p10, p3, p11, p12, p2, p2, p2, p4, p5, p3),And(p1, p1, p10, p3, p11, p12, p2, p2, p2, p4, p5, p9),And(p1, p1, p10, p3, p11, p12, p2, p2, p9, p3, p3, p3),And(p1, p1, p10, p3, p11, p12, p2, p2, p9, p3, p3, p9),And(p1, p1, p10, p3, p11, p12, p2, p2, p9, p3, p5, p3),And(p1, p1, p10, p3, p11, p12, p2, p2, p9, p3, p5, p9),And(p1, p1, p10, p3, p11, p12, p2, p2, p9, p4, p3, p3),And(p1, p1, p10, p3, p11, p12, p2, p2, p9, p4, p3, p9),And(p1, p1, p10, p3, p11, p12, p2, p2, p9, p4, p5, p3),And(p1, p1, p10, p3, p11, p12, p2, p2, p9, p4, p5, p9),And(p1, p1, p10, p3, p11, p12, p2, p5, p2, p3, p3, p3),And(p1, p1, p10, p3, p11, p12, p2, p5, p2, p3, p3, p9),And(p1, p1, p10, p3, p11, p12, p2, p5, p2, p3, p5, p3),And(p1, p1, p10, p3, p11, p12, p2, p5, p2, p3, p5, p9),And(p1, p1, p10, p3, p11, p12, p2, p5, p2, p4, p3, p3),And(p1, p1, p10, p3, p11, p12, p2, p5, p2, p4, p3, p9),And(p1, p1, p10, p3, p11, p12, p2, p5, p2, p4, p5, p3),And(p1, p1, p10, p3, p11, p12, p2, p5, p2, p4, p5, p9),And(p1, p1, p10, p3, p11, p12, p2, p5, p9, p3, p3, p3),And(p1, p1, p10, p3, p11, p12, p2, p5, p9, p3, p3, p9),And(p1, p1, p10, p3, p11, p12, p2, p5, p9, p3, p5, p3),And(p1, p1, p10, p3, p11, p12, p2, p5, p9, p3, p5, p9),And(p1, p1, p10, p3, p11, p12, p2, p5, p9, p4, p3, p3),And(p1, p1, p10, p3, p11, p12, p2, p5, p9, p4, p3, p9),And(p1, p1, p10, p3, p11, p12, p2, p5, p9, p4, p5, p3),And(p1, p1, p10, p3, p11, p12, p2, p5, p9, p4, p5, p9),And(p1, p1, p10, p3, p11, p12, p3, p2, p2, p3, p3, p3),And(p1, p1, p10, p3, p11, p12, p3, p2, p2, p3, p3, p9),And(p1, p1, p10, p3, p11, p12, p3, p2, p2, p3, p5, p3),And(p1, p1, p10, p3, p11, p12, p3, p2, p2, p3, p5, p9),And(p1, p1, p10, p3, p11, p12, p3, p2, p2, p4, p3, p3),And(p1, p1, p10, p3, p11, p12, p3, p2, p2, p4, p3, p9),And(p1, p1, p10, p3, p11, p12, p3, p2, p2, p4, p5, p3),And(p1, p1, p10, p3, p11, p12, p3, p2, p2, p4, p5, p9),And(p1, p1, p10, p3, p11, p12, p3, p2, p9, p3, p3, p3),And(p1, p1, p10, p3, p11, p12, p3, p2, p9, p3, p3, p9),And(p1, p1, p10, p3, p11, p12, p3, p2, p9, p3, p5, p3),And(p1, p1, p10, p3, p11, p12, p3, p2, p9, p3, p5, p9),And(p1, p1, p10, p3, p11, p12, p3, p2, p9, p4, p3, p3),And(p1, p1, p10, p3, p11, p12, p3, p2, p9, p4, p3, p9),And(p1, p1, p10, p3, p11, p12, p3, p2, p9, p4, p5, p3),And(p1, p1, p10, p3, p11, p12, p3, p2, p9, p4, p5, p9),And(p1, p1, p10, p3, p11, p12, p3, p5, p2, p3, p3, p3),And(p1, p1, p10, p3, p11, p12, p3, p5, p2, p3, p3, p9),And(p1, p1, p10, p3, p11, p12, p3, p5, p2, p3, p5, p3),And(p1, p1, p10, p3, p11, p12, p3, p5, p2, p3, p5, p9),And(p1, p1, p10, p3, p11, p12, p3, p5, p2, p4, p3, p3),And(p1, p1, p10, p3, p11, p12, p3, p5, p2, p4, p3, p9),And(p1, p1, p10, p3, p11, p12, p3, p5, p2, p4, p5, p3),And(p1, p1, p10, p3, p11, p12, p3, p5, p2, p4, p5, p9),And(p1, p1, p10, p3, p11, p12, p3, p5, p9, p3, p3, p3),And(p1, p1, p10, p3, p11, p12, p3, p5, p9, p3, p3, p9),And(p1, p1, p10, p3, p11, p12, p3, p5, p9, p3, p5, p3),And(p1, p1, p10, p3, p11, p12, p3, p5, p9, p3, p5, p9),And(p1, p1, p10, p3, p11, p12, p3, p5, p9, p4, p3, p3),And(p1, p1, p10, p3, p11, p12, p3, p5, p9, p4, p3, p9),And(p1, p1, p10, p3, p11, p12, p3, p5, p9, p4, p5, p3),And(p1, p1, p10, p3, p11, p12, p3, p5, p9, p4, p5, p9),And(p1, p1, p10, p3, p11, p7, p2, p2, p2, p3, p3, p3),And(p1, p1, p10, p3, p11, p7, p2, p2, p2, p3, p3, p9),And(p1, p1, p10, p3, p11, p7, p2, p2, p2, p3, p5, p3),And(p1, p1, p10, p3, p11, p7, p2, p2, p2, p3, p5, p9),And(p1, p1, p10, p3, p11, p7, p2, p2, p2, p4, p3, p3),And(p1, p1, p10, p3, p11, p7, p2, p2, p2, p4, p3, p9),And(p1, p1, p10, p3, p11, p7, p2, p2, p2, p4, p5, p3),And(p1, p1, p10, p3, p11, p7, p2, p2, p2, p4, p5, p9),And(p1, p1, p10, p3, p11, p7, p2, p2, p9, p3, p3, p3),And(p1, p1, p10, p3, p11, p7, p2, p2, p9, p3, p3, p9),And(p1, p1, p10, p3, p11, p7, p2, p2, p9, p3, p5, p3),And(p1, p1, p10, p3, p11, p7, p2, p2, p9, p3, p5, p9),And(p1, p1, p10, p3, p11, p7, p2, p2, p9, p4, p3, p3),And(p1, p1, p10, p3, p11, p7, p2, p2, p9, p4, p3, p9),And(p1, p1, p10, p3, p11, p7, p2, p2, p9, p4, p5, p3),And(p1, p1, p10, p3, p11, p7, p2, p2, p9, p4, p5, p9),And(p1, p1, p10, p3, p11, p7, p2, p5, p2, p3, p3, p3),And(p1, p1, p10, p3, p11, p7, p2, p5, p2, p3, p3, p9),And(p1, p1, p10, p3, p11, p7, p2, p5, p2, p3, p5, p3),And(p1, p1, p10, p3, p11, p7, p2, p5, p2, p3, p5, p9),And(p1, p1, p10, p3, p11, p7, p2, p5, p2, p4, p3, p3),And(p1, p1, p10, p3, p11, p7, p2, p5, p2, p4, p3, p9),And(p1, p1, p10, p3, p11, p7, p2, p5, p2, p4, p5, p3),And(p1, p1, p10, p3, p11, p7, p2, p5, p2, p4, p5, p9),And(p1, p1, p10, p3, p11, p7, p2, p5, p9, p3, p3, p3),And(p1, p1, p10, p3, p11, p7, p2, p5, p9, p3, p3, p9),And(p1, p1, p10, p3, p11, p7, p2, p5, p9, p3, p5, p3),And(p1, p1, p10, p3, p11, p7, p2, p5, p9, p3, p5, p9),And(p1, p1, p10, p3, p11, p7, p2, p5, p9, p4, p3, p3),And(p1, p1, p10, p3, p11, p7, p2, p5, p9, p4, p3, p9),And(p1, p1, p10, p3, p11, p7, p2, p5, p9, p4, p5, p3),And(p1, p1, p10, p3, p11, p7, p2, p5, p9, p4, p5, p9),And(p1, p1, p10, p3, p11, p7, p3, p2, p2, p3, p3, p3),And(p1, p1, p10, p3, p11, p7, p3, p2, p2, p3, p3, p9),And(p1, p1, p10, p3, p11, p7, p3, p2, p2, p3, p5, p3),And(p1, p1, p10, p3, p11, p7, p3, p2, p2, p3, p5, p9),And(p1, p1, p10, p3, p11, p7, p3, p2, p2, p4, p3, p3),And(p1, p1, p10, p3, p11, p7, p3, p2, p2, p4, p3, p9),And(p1, p1, p10, p3, p11, p7, p3, p2, p2, p4, p5, p3),And(p1, p1, p10, p3, p11, p7, p3, p2, p2, p4, p5, p9),And(p1, p1, p10, p3, p11, p7, p3, p2, p9, p3, p3, p3),And(p1, p1, p10, p3, p11, p7, p3, p2, p9, p3, p3, p9),And(p1, p1, p10, p3, p11, p7, p3, p2, p9, p3, p5, p3),And(p1, p1, p10, p3, p11, p7, p3, p2, p9, p3, p5, p9),And(p1, p1, p10, p3, p11, p7, p3, p2, p9, p4, p3, p3),And(p1, p1, p10, p3, p11, p7, p3, p2, p9, p4, p3, p9),And(p1, p1, p10, p3, p11, p7, p3, p2, p9, p4, p5, p3),And(p1, p1, p10, p3, p11, p7, p3, p2, p9, p4, p5, p9),And(p1, p1, p10, p3, p11, p7, p3, p5, p2, p3, p3, p3),And(p1, p1, p10, p3, p11, p7, p3, p5, p2, p3, p3, p9),And(p1, p1, p10, p3, p11, p7, p3, p5, p2, p3, p5, p3),And(p1, p1, p10, p3, p11, p7, p3, p5, p2, p3, p5, p9),And(p1, p1, p10, p3, p11, p7, p3, p5, p2, p4, p3, p3),And(p1, p1, p10, p3, p11, p7, p3, p5, p2, p4, p3, p9),And(p1, p1, p10, p3, p11, p7, p3, p5, p2, p4, p5, p3),And(p1, p1, p10, p3, p11, p7, p3, p5, p2, p4, p5, p9),And(p1, p1, p10, p3, p11, p7, p3, p5, p9, p3, p3, p3),And(p1, p1, p10, p3, p11, p7, p3, p5, p9, p3, p3, p9),And(p1, p1, p10, p3, p11, p7, p3, p5, p9, p3, p5, p3),And(p1, p1, p10, p3, p11, p7, p3, p5, p9, p3, p5, p9),And(p1, p1, p10, p3, p11, p7, p3, p5, p9, p4, p3, p3),And(p1, p1, p10, p3, p11, p7, p3, p5, p9, p4, p3, p9),And(p1, p1, p10, p3, p11, p7, p3, p5, p9, p4, p5, p3),And(p1, p1, p10, p3, p11, p7, p3, p5, p9, p4, p5, p9),And(p1, p1, p10, p3, p3, p12, p2, p2, p2, p3, p3, p3),And(p1, p1, p10, p3, p3, p12, p2, p2, p2, p3, p3, p9),And(p1, p1, p10, p3, p3, p12, p2, p2, p2, p3, p5, p3),And(p1, p1, p10, p3, p3, p12, p2, p2, p2, p3, p5, p9),And(p1, p1, p10, p3, p3, p12, p2, p2, p2, p4, p3, p3),And(p1, p1, p10, p3, p3, p12, p2, p2, p2, p4, p3, p9),And(p1, p1, p10, p3, p3, p12, p2, p2, p2, p4, p5, p3),And(p1, p1, p10, p3, p3, p12, p2, p2, p2, p4, p5, p9),And(p1, p1, p10, p3, p3, p12, p2, p2, p9, p3, p3, p3),And(p1, p1, p10, p3, p3, p12, p2, p2, p9, p3, p3, p9),And(p1, p1, p10, p3, p3, p12, p2, p2, p9, p3, p5, p3),And(p1, p1, p10, p3, p3, p12, p2, p2, p9, p3, p5, p9),And(p1, p1, p10, p3, p3, p12, p2, p2, p9, p4, p3, p3),And(p1, p1, p10, p3, p3, p12, p2, p2, p9, p4, p3, p9),And(p1, p1, p10, p3, p3, p12, p2, p2, p9, p4, p5, p3),And(p1, p1, p10, p3, p3, p12, p2, p2, p9, p4, p5, p9),And(p1, p1, p10, p3, p3, p12, p2, p5, p2, p3, p3, p3),And(p1, p1, p10, p3, p3, p12, p2, p5, p2, p3, p3, p9),And(p1, p1, p10, p3, p3, p12, p2, p5, p2, p3, p5, p3),And(p1, p1, p10, p3, p3, p12, p2, p5, p2, p3, p5, p9),And(p1, p1, p10, p3, p3, p12, p2, p5, p2, p4, p3, p3),And(p1, p1, p10, p3, p3, p12, p2, p5, p2, p4, p3, p9),And(p1, p1, p10, p3, p3, p12, p2, p5, p2, p4, p5, p3),And(p1, p1, p10, p3, p3, p12, p2, p5, p2, p4, p5, p9),And(p1, p1, p10, p3, p3, p12, p2, p5, p9, p3, p3, p3),And(p1, p1, p10, p3, p3, p12, p2, p5, p9, p3, p3, p9),And(p1, p1, p10, p3, p3, p12, p2, p5, p9, p3, p5, p3),And(p1, p1, p10, p3, p3, p12, p2, p5, p9, p3, p5, p9),And(p1, p1, p10, p3, p3, p12, p2, p5, p9, p4, p3, p3),And(p1, p1, p10, p3, p3, p12, p2, p5, p9, p4, p3, p9),And(p1, p1, p10, p3, p3, p12, p2, p5, p9, p4, p5, p3),And(p1, p1, p10, p3, p3, p12, p2, p5, p9, p4, p5, p9),And(p1, p1, p10, p3, p3, p12, p3, p2, p2, p3, p3, p3),And(p1, p1, p10, p3, p3, p12, p3, p2, p2, p3, p3, p9),And(p1, p1, p10, p3, p3, p12, p3, p2, p2, p3, p5, p3),And(p1, p1, p10, p3, p3, p12, p3, p2, p2, p3, p5, p9),And(p1, p1, p10, p3, p3, p12, p3, p2, p2, p4, p3, p3),And(p1, p1, p10, p3, p3, p12, p3, p2, p2, p4, p3, p9),And(p1, p1, p10, p3, p3, p12, p3, p2, p2, p4, p5, p3),And(p1, p1, p10, p3, p3, p12, p3, p2, p2, p4, p5, p9),And(p1, p1, p10, p3, p3, p12, p3, p2, p9, p3, p3, p3),And(p1, p1, p10, p3, p3, p12, p3, p2, p9, p3, p3, p9),And(p1, p1, p10, p3, p3, p12, p3, p2, p9, p3, p5, p3),And(p1, p1, p10, p3, p3, p12, p3, p2, p9, p3, p5, p9),And(p1, p1, p10, p3, p3, p12, p3, p2, p9, p4, p3, p3),And(p1, p1, p10, p3, p3, p12, p3, p2, p9, p4, p3, p9),And(p1, p1, p10, p3, p3, p12, p3, p2, p9, p4, p5, p3),And(p1, p1, p10, p3, p3, p12, p3, p2, p9, p4, p5, p9),And(p1, p1, p10, p3, p3, p12, p3, p5, p2, p3, p3, p3),And(p1, p1, p10, p3, p3, p12, p3, p5, p2, p3, p3, p9),And(p1, p1, p10, p3, p3, p12, p3, p5, p2, p3, p5, p3),And(p1, p1, p10, p3, p3, p12, p3, p5, p2, p3, p5, p9),And(p1, p1, p10, p3, p3, p12, p3, p5, p2, p4, p3, p3),And(p1, p1, p10, p3, p3, p12, p3, p5, p2, p4, p3, p9),And(p1, p1, p10, p3, p3, p12, p3, p5, p2, p4, p5, p3),And(p1, p1, p10, p3, p3, p12, p3, p5, p2, p4, p5, p9),And(p1, p1, p10, p3, p3, p12, p3, p5, p9, p3, p3, p3),And(p1, p1, p10, p3, p3, p12, p3, p5, p9, p3, p3, p9),And(p1, p1, p10, p3, p3, p12, p3, p5, p9, p3, p5, p3),And(p1, p1, p10, p3, p3, p12, p3, p5, p9, p3, p5, p9),And(p1, p1, p10, p3, p3, p12, p3, p5, p9, p4, p3, p3),And(p1, p1, p10, p3, p3, p12, p3, p5, p9, p4, p3, p9),And(p1, p1, p10, p3, p3, p12, p3, p5, p9, p4, p5, p3),And(p1, p1, p10, p3, p3, p12, p3, p5, p9, p4, p5, p9),And(p1, p1, p10, p3, p3, p7, p2, p2, p2, p3, p3, p3),And(p1, p1, p10, p3, p3, p7, p2, p2, p2, p3, p3, p9),And(p1, p1, p10, p3, p3, p7, p2, p2, p2, p3, p5, p3),And(p1, p1, p10, p3, p3, p7, p2, p2, p2, p3, p5, p9),And(p1, p1, p10, p3, p3, p7, p2, p2, p2, p4, p3, p3),And(p1, p1, p10, p3, p3, p7, p2, p2, p2, p4, p3, p9),And(p1, p1, p10, p3, p3, p7, p2, p2, p2, p4, p5, p3),And(p1, p1, p10, p3, p3, p7, p2, p2, p2, p4, p5, p9),And(p1, p1, p10, p3, p3, p7, p2, p2, p9, p3, p3, p3),And(p1, p1, p10, p3, p3, p7, p2, p2, p9, p3, p3, p9),And(p1, p1, p10, p3, p3, p7, p2, p2, p9, p3, p5, p3),And(p1, p1, p10, p3, p3, p7, p2, p2, p9, p3, p5, p9),And(p1, p1, p10, p3, p3, p7, p2, p2, p9, p4, p3, p3),And(p1, p1, p10, p3, p3, p7, p2, p2, p9, p4, p3, p9),And(p1, p1, p10, p3, p3, p7, p2, p2, p9, p4, p5, p3),And(p1, p1, p10, p3, p3, p7, p2, p2, p9, p4, p5, p9),And(p1, p1, p10, p3, p3, p7, p2, p5, p2, p3, p3, p3),And(p1, p1, p10, p3, p3, p7, p2, p5, p2, p3, p3, p9),And(p1, p1, p10, p3, p3, p7, p2, p5, p2, p3, p5, p3),And(p1, p1, p10, p3, p3, p7, p2, p5, p2, p3, p5, p9),And(p1, p1, p10, p3, p3, p7, p2, p5, p2, p4, p3, p3),And(p1, p1, p10, p3, p3, p7, p2, p5, p2, p4, p3, p9),And(p1, p1, p10, p3, p3, p7, p2, p5, p2, p4, p5, p3),And(p1, p1, p10, p3, p3, p7, p2, p5, p2, p4, p5, p9),And(p1, p1, p10, p3, p3, p7, p2, p5, p9, p3, p3, p3),And(p1, p1, p10, p3, p3, p7, p2, p5, p9, p3, p3, p9),And(p1, p1, p10, p3, p3, p7, p2, p5, p9, p3, p5, p3),And(p1, p1, p10, p3, p3, p7, p2, p5, p9, p3, p5, p9),And(p1, p1, p10, p3, p3, p7, p2, p5, p9, p4, p3, p3),And(p1, p1, p10, p3, p3, p7, p2, p5, p9, p4, p3, p9),And(p1, p1, p10, p3, p3, p7, p2, p5, p9, p4, p5, p3),And(p1, p1, p10, p3, p3, p7, p2, p5, p9, p4, p5, p9),And(p1, p1, p10, p3, p3, p7, p3, p2, p2, p3, p3, p3),And(p1, p1, p10, p3, p3, p7, p3, p2, p2, p3, p3, p9),And(p1, p1, p10, p3, p3, p7, p3, p2, p2, p3, p5, p3),And(p1, p1, p10, p3, p3, p7, p3, p2, p2, p3, p5, p9),And(p1, p1, p10, p3, p3, p7, p3, p2, p2, p4, p3, p3),And(p1, p1, p10, p3, p3, p7, p3, p2, p2, p4, p3, p9),And(p1, p1, p10, p3, p3, p7, p3, p2, p2, p4, p5, p3),And(p1, p1, p10, p3, p3, p7, p3, p2, p2, p4, p5, p9),And(p1, p1, p10, p3, p3, p7, p3, p2, p9, p3, p3, p3),And(p1, p1, p10, p3, p3, p7, p3, p2, p9, p3, p3, p9),And(p1, p1, p10, p3, p3, p7, p3, p2, p9, p3, p5, p3),And(p1, p1, p10, p3, p3, p7, p3, p2, p9, p3, p5, p9),And(p1, p1, p10, p3, p3, p7, p3, p2, p9, p4, p3, p3),And(p1, p1, p10, p3, p3, p7, p3, p2, p9, p4, p3, p9),And(p1, p1, p10, p3, p3, p7, p3, p2, p9, p4, p5, p3),And(p1, p1, p10, p3, p3, p7, p3, p2, p9, p4, p5, p9),And(p1, p1, p10, p3, p3, p7, p3, p5, p2, p3, p3, p3),And(p1, p1, p10, p3, p3, p7, p3, p5, p2, p3, p3, p9),And(p1, p1, p10, p3, p3, p7, p3, p5, p2, p3, p5, p3),And(p1, p1, p10, p3, p3, p7, p3, p5, p2, p3, p5, p9),And(p1, p1, p10, p3, p3, p7, p3, p5, p2, p4, p3, p3),And(p1, p1, p10, p3, p3, p7, p3, p5, p2, p4, p3, p9),And(p1, p1, p10, p3, p3, p7, p3, p5, p2, p4, p5, p3),And(p1, p1, p10, p3, p3, p7, p3, p5, p2, p4, p5, p9),And(p1, p1, p10, p3, p3, p7, p3, p5, p9, p3, p3, p3),And(p1, p1, p10, p3, p3, p7, p3, p5, p9, p3, p3, p9),And(p1, p1, p10, p3, p3, p7, p3, p5, p9, p3, p5, p3),And(p1, p1, p10, p3, p3, p7, p3, p5, p9, p3, p5, p9),And(p1, p1, p10, p3, p3, p7, p3, p5, p9, p4, p3, p3),And(p1, p1, p10, p3, p3, p7, p3, p5, p9, p4, p3, p9),And(p1, p1, p10, p3, p3, p7, p3, p5, p9, p4, p5, p3),And(p1, p1, p10, p3, p3, p7, p3, p5, p9, p4, p5, p9),And(p1, p1, p11, p10, p11, p12, p2, p2, p2, p3, p3, p3),And(p1, p1, p11, p10, p11, p12, p2, p2, p2, p3, p3, p9),And(p1, p1, p11, p10, p11, p12, p2, p2, p2, p3, p5, p3),And(p1, p1, p11, p10, p11, p12, p2, p2, p2, p3, p5, p9),And(p1, p1, p11, p10, p11, p12, p2, p2, p2, p4, p3, p3),And(p1, p1, p11, p10, p11, p12, p2, p2, p2, p4, p3, p9),And(p1, p1, p11, p10, p11, p12, p2, p2, p2, p4, p5, p3),And(p1, p1, p11, p10, p11, p12, p2, p2, p2, p4, p5, p9),And(p1, p1, p11, p10, p11, p12, p2, p2, p9, p3, p3, p3),And(p1, p1, p11, p10, p11, p12, p2, p2, p9, p3, p3, p9),And(p1, p1, p11, p10, p11, p12, p2, p2, p9, p3, p5, p3),And(p1, p1, p11, p10, p11, p12, p2, p2, p9, p3, p5, p9),And(p1, p1, p11, p10, p11, p12, p2, p2, p9, p4, p3, p3),And(p1, p1, p11, p10, p11, p12, p2, p2, p9, p4, p3, p9),And(p1, p1, p11, p10, p11, p12, p2, p2, p9, p4, p5, p3),And(p1, p1, p11, p10, p11, p12, p2, p2, p9, p4, p5, p9),And(p1, p1, p11, p10, p11, p12, p2, p5, p2, p3, p3, p3),And(p1, p1, p11, p10, p11, p12, p2, p5, p2, p3, p3, p9),And(p1, p1, p11, p10, p11, p12, p2, p5, p2, p3, p5, p3),And(p1, p1, p11, p10, p11, p12, p2, p5, p2, p3, p5, p9),And(p1, p1, p11, p10, p11, p12, p2, p5, p2, p4, p3, p3),And(p1, p1, p11, p10, p11, p12, p2, p5, p2, p4, p3, p9),And(p1, p1, p11, p10, p11, p12, p2, p5, p2, p4, p5, p3),And(p1, p1, p11, p10, p11, p12, p2, p5, p2, p4, p5, p9),And(p1, p1, p11, p10, p11, p12, p2, p5, p9, p3, p3, p3),And(p1, p1, p11, p10, p11, p12, p2, p5, p9, p3, p3, p9),And(p1, p1, p11, p10, p11, p12, p2, p5, p9, p3, p5, p3),And(p1, p1, p11, p10, p11, p12, p2, p5, p9, p3, p5, p9),And(p1, p1, p11, p10, p11, p12, p2, p5, p9, p4, p3, p3),And(p1, p1, p11, p10, p11, p12, p2, p5, p9, p4, p3, p9),And(p1, p1, p11, p10, p11, p12, p2, p5, p9, p4, p5, p3),And(p1, p1, p11, p10, p11, p12, p2, p5, p9, p4, p5, p9),And(p1, p1, p11, p10, p11, p12, p3, p2, p2, p3, p3, p3),And(p1, p1, p11, p10, p11, p12, p3, p2, p2, p3, p3, p9),And(p1, p1, p11, p10, p11, p12, p3, p2, p2, p3, p5, p3),And(p1, p1, p11, p10, p11, p12, p3, p2, p2, p3, p5, p9),And(p1, p1, p11, p10, p11, p12, p3, p2, p2, p4, p3, p3),And(p1, p1, p11, p10, p11, p12, p3, p2, p2, p4, p3, p9),And(p1, p1, p11, p10, p11, p12, p3, p2, p2, p4, p5, p3),And(p1, p1, p11, p10, p11, p12, p3, p2, p2, p4, p5, p9),And(p1, p1, p11, p10, p11, p12, p3, p2, p9, p3, p3, p3),And(p1, p1, p11, p10, p11, p12, p3, p2, p9, p3, p3, p9),And(p1, p1, p11, p10, p11, p12, p3, p2, p9, p3, p5, p3),And(p1, p1, p11, p10, p11, p12, p3, p2, p9, p3, p5, p9),And(p1, p1, p11, p10, p11, p12, p3, p2, p9, p4, p3, p3),And(p1, p1, p11, p10, p11, p12, p3, p2, p9, p4, p3, p9),And(p1, p1, p11, p10, p11, p12, p3, p2, p9, p4, p5, p3),And(p1, p1, p11, p10, p11, p12, p3, p2, p9, p4, p5, p9),And(p1, p1, p11, p10, p11, p12, p3, p5, p2, p3, p3, p3),And(p1, p1, p11, p10, p11, p12, p3, p5, p2, p3, p3, p9),And(p1, p1, p11, p10, p11, p12, p3, p5, p2, p3, p5, p3),And(p1, p1, p11, p10, p11, p12, p3, p5, p2, p3, p5, p9),And(p1, p1, p11, p10, p11, p12, p3, p5, p2, p4, p3, p3),And(p1, p1, p11, p10, p11, p12, p3, p5, p2, p4, p3, p9),And(p1, p1, p11, p10, p11, p12, p3, p5, p2, p4, p5, p3),And(p1, p1, p11, p10, p11, p12, p3, p5, p2, p4, p5, p9),And(p1, p1, p11, p10, p11, p12, p3, p5, p9, p3, p3, p3),And(p1, p1, p11, p10, p11, p12, p3, p5, p9, p3, p3, p9),And(p1, p1, p11, p10, p11, p12, p3, p5, p9, p3, p5, p3),And(p1, p1, p11, p10, p11, p12, p3, p5, p9, p3, p5, p9),And(p1, p1, p11, p10, p11, p12, p3, p5, p9, p4, p3, p3),And(p1, p1, p11, p10, p11, p12, p3, p5, p9, p4, p3, p9),And(p1, p1, p11, p10, p11, p12, p3, p5, p9, p4, p5, p3),And(p1, p1, p11, p10, p11, p12, p3, p5, p9, p4, p5, p9),And(p1, p1, p11, p10, p11, p7, p2, p2, p2, p3, p3, p3),And(p1, p1, p11, p10, p11, p7, p2, p2, p2, p3, p3, p9),And(p1, p1, p11, p10, p11, p7, p2, p2, p2, p3, p5, p3),And(p1, p1, p11, p10, p11, p7, p2, p2, p2, p3, p5, p9),And(p1, p1, p11, p10, p11, p7, p2, p2, p2, p4, p3, p3),And(p1, p1, p11, p10, p11, p7, p2, p2, p2, p4, p3, p9),And(p1, p1, p11, p10, p11, p7, p2, p2, p2, p4, p5, p3),And(p1, p1, p11, p10, p11, p7, p2, p2, p2, p4, p5, p9),And(p1, p1, p11, p10, p11, p7, p2, p2, p9, p3, p3, p3),And(p1, p1, p11, p10, p11, p7, p2, p2, p9, p3, p3, p9),And(p1, p1, p11, p10, p11, p7, p2, p2, p9, p3, p5, p3),And(p1, p1, p11, p10, p11, p7, p2, p2, p9, p3, p5, p9),And(p1, p1, p11, p10, p11, p7, p2, p2, p9, p4, p3, p3),And(p1, p1, p11, p10, p11, p7, p2, p2, p9, p4, p3, p9),And(p1, p1, p11, p10, p11, p7, p2, p2, p9, p4, p5, p3),And(p1, p1, p11, p10, p11, p7, p2, p2, p9, p4, p5, p9),And(p1, p1, p11, p10, p11, p7, p2, p5, p2, p3, p3, p3),And(p1, p1, p11, p10, p11, p7, p2, p5, p2, p3, p3, p9),And(p1, p1, p11, p10, p11, p7, p2, p5, p2, p3, p5, p3),And(p1, p1, p11, p10, p11, p7, p2, p5, p2, p3, p5, p9),And(p1, p1, p11, p10, p11, p7, p2, p5, p2, p4, p3, p3),And(p1, p1, p11, p10, p11, p7, p2, p5, p2, p4, p3, p9),And(p1, p1, p11, p10, p11, p7, p2, p5, p2, p4, p5, p3),And(p1, p1, p11, p10, p11, p7, p2, p5, p2, p4, p5, p9),And(p1, p1, p11, p10, p11, p7, p2, p5, p9, p3, p3, p3),And(p1, p1, p11, p10, p11, p7, p2, p5, p9, p3, p3, p9),And(p1, p1, p11, p10, p11, p7, p2, p5, p9, p3, p5, p3),And(p1, p1, p11, p10, p11, p7, p2, p5, p9, p3, p5, p9),And(p1, p1, p11, p10, p11, p7, p2, p5, p9, p4, p3, p3),And(p1, p1, p11, p10, p11, p7, p2, p5, p9, p4, p3, p9),And(p1, p1, p11, p10, p11, p7, p2, p5, p9, p4, p5, p3),And(p1, p1, p11, p10, p11, p7, p2, p5, p9, p4, p5, p9),And(p1, p1, p11, p10, p11, p7, p3, p2, p2, p3, p3, p3),And(p1, p1, p11, p10, p11, p7, p3, p2, p2, p3, p3, p9),And(p1, p1, p11, p10, p11, p7, p3, p2, p2, p3, p5, p3),And(p1, p1, p11, p10, p11, p7, p3, p2, p2, p3, p5, p9),And(p1, p1, p11, p10, p11, p7, p3, p2, p2, p4, p3, p3),And(p1, p1, p11, p10, p11, p7, p3, p2, p2, p4, p3, p9),And(p1, p1, p11, p10, p11, p7, p3, p2, p2, p4, p5, p3),And(p1, p1, p11, p10, p11, p7, p3, p2, p2, p4, p5, p9),And(p1, p1, p11, p10, p11, p7, p3, p2, p9, p3, p3, p3),And(p1, p1, p11, p10, p11, p7, p3, p2, p9, p3, p3, p9),And(p1, p1, p11, p10, p11, p7, p3, p2, p9, p3, p5, p3),And(p1, p1, p11, p10, p11, p7, p3, p2, p9, p3, p5, p9),And(p1, p1, p11, p10, p11, p7, p3, p2, p9, p4, p3, p3),And(p1, p1, p11, p10, p11, p7, p3, p2, p9, p4, p3, p9),And(p1, p1, p11, p10, p11, p7, p3, p2, p9, p4, p5, p3),And(p1, p1, p11, p10, p11, p7, p3, p2, p9, p4, p5, p9),And(p1, p1, p11, p10, p11, p7, p3, p5, p2, p3, p3, p3),And(p1, p1, p11, p10, p11, p7, p3, p5, p2, p3, p3, p9),And(p1, p1, p11, p10, p11, p7, p3, p5, p2, p3, p5, p3),And(p1, p1, p11, p10, p11, p7, p3, p5, p2, p3, p5, p9),And(p1, p1, p11, p10, p11, p7, p3, p5, p2, p4, p3, p3),And(p1, p1, p11, p10, p11, p7, p3, p5, p2, p4, p3, p9),And(p1, p1, p11, p10, p11, p7, p3, p5, p2, p4, p5, p3),And(p1, p1, p11, p10, p11, p7, p3, p5, p2, p4, p5, p9),And(p1, p1, p11, p10, p11, p7, p3, p5, p9, p3, p3, p3),And(p1, p1, p11, p10, p11, p7, p3, p5, p9, p3, p3, p9),And(p1, p1, p11, p10, p11, p7, p3, p5, p9, p3, p5, p3),And(p1, p1, p11, p10, p11, p7, p3, p5, p9, p3, p5, p9),And(p1, p1, p11, p10, p11, p7, p3, p5, p9, p4, p3, p3),And(p1, p1, p11, p10, p11, p7, p3, p5, p9, p4, p3, p9),And(p1, p1, p11, p10, p11, p7, p3, p5, p9, p4, p5, p3),And(p1, p1, p11, p10, p11, p7, p3, p5, p9, p4, p5, p9),And(p1, p1, p11, p10, p3, p12, p2, p2, p2, p3, p3, p3),And(p1, p1, p11, p10, p3, p12, p2, p2, p2, p3, p3, p9),And(p1, p1, p11, p10, p3, p12, p2, p2, p2, p3, p5, p3),And(p1, p1, p11, p10, p3, p12, p2, p2, p2, p3, p5, p9),And(p1, p1, p11, p10, p3, p12, p2, p2, p2, p4, p3, p3),And(p1, p1, p11, p10, p3, p12, p2, p2, p2, p4, p3, p9),And(p1, p1, p11, p10, p3, p12, p2, p2, p2, p4, p5, p3),And(p1, p1, p11, p10, p3, p12, p2, p2, p2, p4, p5, p9),And(p1, p1, p11, p10, p3, p12, p2, p2, p9, p3, p3, p3),And(p1, p1, p11, p10, p3, p12, p2, p2, p9, p3, p3, p9),And(p1, p1, p11, p10, p3, p12, p2, p2, p9, p3, p5, p3),And(p1, p1, p11, p10, p3, p12, p2, p2, p9, p3, p5, p9),And(p1, p1, p11, p10, p3, p12, p2, p2, p9, p4, p3, p3),And(p1, p1, p11, p10, p3, p12, p2, p2, p9, p4, p3, p9),And(p1, p1, p11, p10, p3, p12, p2, p2, p9, p4, p5, p3),And(p1, p1, p11, p10, p3, p12, p2, p2, p9, p4, p5, p9),And(p1, p1, p11, p10, p3, p12, p2, p5, p2, p3, p3, p3),And(p1, p1, p11, p10, p3, p12, p2, p5, p2, p3, p3, p9),And(p1, p1, p11, p10, p3, p12, p2, p5, p2, p3, p5, p3),And(p1, p1, p11, p10, p3, p12, p2, p5, p2, p3, p5, p9),And(p1, p1, p11, p10, p3, p12, p2, p5, p2, p4, p3, p3),And(p1, p1, p11, p10, p3, p12, p2, p5, p2, p4, p3, p9),And(p1, p1, p11, p10, p3, p12, p2, p5, p2, p4, p5, p3),And(p1, p1, p11, p10, p3, p12, p2, p5, p2, p4, p5, p9),And(p1, p1, p11, p10, p3, p12, p2, p5, p9, p3, p3, p3),And(p1, p1, p11, p10, p3, p12, p2, p5, p9, p3, p3, p9),And(p1, p1, p11, p10, p3, p12, p2, p5, p9, p3, p5, p3),And(p1, p1, p11, p10, p3, p12, p2, p5, p9, p3, p5, p9),And(p1, p1, p11, p10, p3, p12, p2, p5, p9, p4, p3, p3),And(p1, p1, p11, p10, p3, p12, p2, p5, p9, p4, p3, p9),And(p1, p1, p11, p10, p3, p12, p2, p5, p9, p4, p5, p3),And(p1, p1, p11, p10, p3, p12, p2, p5, p9, p4, p5, p9),And(p1, p1, p11, p10, p3, p12, p3, p2, p2, p3, p3, p3),And(p1, p1, p11, p10, p3, p12, p3, p2, p2, p3, p3, p9),And(p1, p1, p11, p10, p3, p12, p3, p2, p2, p3, p5, p3),And(p1, p1, p11, p10, p3, p12, p3, p2, p2, p3, p5, p9),And(p1, p1, p11, p10, p3, p12, p3, p2, p2, p4, p3, p3),And(p1, p1, p11, p10, p3, p12, p3, p2, p2, p4, p3, p9),And(p1, p1, p11, p10, p3, p12, p3, p2, p2, p4, p5, p3),And(p1, p1, p11, p10, p3, p12, p3, p2, p2, p4, p5, p9),And(p1, p1, p11, p10, p3, p12, p3, p2, p9, p3, p3, p3),And(p1, p1, p11, p10, p3, p12, p3, p2, p9, p3, p3, p9),And(p1, p1, p11, p10, p3, p12, p3, p2, p9, p3, p5, p3),And(p1, p1, p11, p10, p3, p12, p3, p2, p9, p3, p5, p9),And(p1, p1, p11, p10, p3, p12, p3, p2, p9, p4, p3, p3),And(p1, p1, p11, p10, p3, p12, p3, p2, p9, p4, p3, p9),And(p1, p1, p11, p10, p3, p12, p3, p2, p9, p4, p5, p3),And(p1, p1, p11, p10, p3, p12, p3, p2, p9, p4, p5, p9),And(p1, p1, p11, p10, p3, p12, p3, p5, p2, p3, p3, p3),And(p1, p1, p11, p10, p3, p12, p3, p5, p2, p3, p3, p9),And(p1, p1, p11, p10, p3, p12, p3, p5, p2, p3, p5, p3),And(p1, p1, p11, p10, p3, p12, p3, p5, p2, p3, p5, p9),And(p1, p1, p11, p10, p3, p12, p3, p5, p2, p4, p3, p3),And(p1, p1, p11, p10, p3, p12, p3, p5, p2, p4, p3, p9),And(p1, p1, p11, p10, p3, p12, p3, p5, p2, p4, p5, p3),And(p1, p1, p11, p10, p3, p12, p3, p5, p2, p4, p5, p9),And(p1, p1, p11, p10, p3, p12, p3, p5, p9, p3, p3, p3),And(p1, p1, p11, p10, p3, p12, p3, p5, p9, p3, p3, p9),And(p1, p1, p11, p10, p3, p12, p3, p5, p9, p3, p5, p3),And(p1, p1, p11, p10, p3, p12, p3, p5, p9, p3, p5, p9),And(p1, p1, p11, p10, p3, p12, p3, p5, p9, p4, p3, p3),And(p1, p1, p11, p10, p3, p12, p3, p5, p9, p4, p3, p9),And(p1, p1, p11, p10, p3, p12, p3, p5, p9, p4, p5, p3),And(p1, p1, p11, p10, p3, p12, p3, p5, p9, p4, p5, p9),And(p1, p1, p11, p10, p3, p7, p2, p2, p2, p3, p3, p3),And(p1, p1, p11, p10, p3, p7, p2, p2, p2, p3, p3, p9),And(p1, p1, p11, p10, p3, p7, p2, p2, p2, p3, p5, p3),And(p1, p1, p11, p10, p3, p7, p2, p2, p2, p3, p5, p9),And(p1, p1, p11, p10, p3, p7, p2, p2, p2, p4, p3, p3),And(p1, p1, p11, p10, p3, p7, p2, p2, p2, p4, p3, p9),And(p1, p1, p11, p10, p3, p7, p2, p2, p2, p4, p5, p3),And(p1, p1, p11, p10, p3, p7, p2, p2, p2, p4, p5, p9),And(p1, p1, p11, p10, p3, p7, p2, p2, p9, p3, p3, p3),And(p1, p1, p11, p10, p3, p7, p2, p2, p9, p3, p3, p9),And(p1, p1, p11, p10, p3, p7, p2, p2, p9, p3, p5, p3),And(p1, p1, p11, p10, p3, p7, p2, p2, p9, p3, p5, p9),And(p1, p1, p11, p10, p3, p7, p2, p2, p9, p4, p3, p3),And(p1, p1, p11, p10, p3, p7, p2, p2, p9, p4, p3, p9),And(p1, p1, p11, p10, p3, p7, p2, p2, p9, p4, p5, p3),And(p1, p1, p11, p10, p3, p7, p2, p2, p9, p4, p5, p9),And(p1, p1, p11, p10, p3, p7, p2, p5, p2, p3, p3, p3),And(p1, p1, p11, p10, p3, p7, p2, p5, p2, p3, p3, p9),And(p1, p1, p11, p10, p3, p7, p2, p5, p2, p3, p5, p3),And(p1, p1, p11, p10, p3, p7, p2, p5, p2, p3, p5, p9),And(p1, p1, p11, p10, p3, p7, p2, p5, p2, p4, p3, p3),And(p1, p1, p11, p10, p3, p7, p2, p5, p2, p4, p3, p9),And(p1, p1, p11, p10, p3, p7, p2, p5, p2, p4, p5, p3),And(p1, p1, p11, p10, p3, p7, p2, p5, p2, p4, p5, p9),And(p1, p1, p11, p10, p3, p7, p2, p5, p9, p3, p3, p3),And(p1, p1, p11, p10, p3, p7, p2, p5, p9, p3, p3, p9),And(p1, p1, p11, p10, p3, p7, p2, p5, p9, p3, p5, p3),And(p1, p1, p11, p10, p3, p7, p2, p5, p9, p3, p5, p9),And(p1, p1, p11, p10, p3, p7, p2, p5, p9, p4, p3, p3),And(p1, p1, p11, p10, p3, p7, p2, p5, p9, p4, p3, p9),And(p1, p1, p11, p10, p3, p7, p2, p5, p9, p4, p5, p3),And(p1, p1, p11, p10, p3, p7, p2, p5, p9, p4, p5, p9),And(p1, p1, p11, p10, p3, p7, p3, p2, p2, p3, p3, p3),And(p1, p1, p11, p10, p3, p7, p3, p2, p2, p3, p3, p9),And(p1, p1, p11, p10, p3, p7, p3, p2, p2, p3, p5, p3),And(p1, p1, p11, p10, p3, p7, p3, p2, p2, p3, p5, p9),And(p1, p1, p11, p10, p3, p7, p3, p2, p2, p4, p3, p3),And(p1, p1, p11, p10, p3, p7, p3, p2, p2, p4, p3, p9),And(p1, p1, p11, p10, p3, p7, p3, p2, p2, p4, p5, p3),And(p1, p1, p11, p10, p3, p7, p3, p2, p2, p4, p5, p9),And(p1, p1, p11, p10, p3, p7, p3, p2, p9, p3, p3, p3),And(p1, p1, p11, p10, p3, p7, p3, p2, p9, p3, p3, p9),And(p1, p1, p11, p10, p3, p7, p3, p2, p9, p3, p5, p3),And(p1, p1, p11, p10, p3, p7, p3, p2, p9, p3, p5, p9),And(p1, p1, p11, p10, p3, p7, p3, p2, p9, p4, p3, p3),And(p1, p1, p11, p10, p3, p7, p3, p2, p9, p4, p3, p9),And(p1, p1, p11, p10, p3, p7, p3, p2, p9, p4, p5, p3),And(p1, p1, p11, p10, p3, p7, p3, p2, p9, p4, p5, p9),And(p1, p1, p11, p10, p3, p7, p3, p5, p2, p3, p3, p3),And(p1, p1, p11, p10, p3, p7, p3, p5, p2, p3, p3, p9),And(p1, p1, p11, p10, p3, p7, p3, p5, p2, p3, p5, p3),And(p1, p1, p11, p10, p3, p7, p3, p5, p2, p3, p5, p9),And(p1, p1, p11, p10, p3, p7, p3, p5, p2, p4, p3, p3),And(p1, p1, p11, p10, p3, p7, p3, p5, p2, p4, p3, p9),And(p1, p1, p11, p10, p3, p7, p3, p5, p2, p4, p5, p3),And(p1, p1, p11, p10, p3, p7, p3, p5, p2, p4, p5, p9),And(p1, p1, p11, p10, p3, p7, p3, p5, p9, p3, p3, p3),And(p1, p1, p11, p10, p3, p7, p3, p5, p9, p3, p3, p9),And(p1, p1, p11, p10, p3, p7, p3, p5, p9, p3, p5, p3),And(p1, p1, p11, p10, p3, p7, p3, p5, p9, p3, p5, p9),And(p1, p1, p11, p10, p3, p7, p3, p5, p9, p4, p3, p3),And(p1, p1, p11, p10, p3, p7, p3, p5, p9, p4, p3, p9),And(p1, p1, p11, p10, p3, p7, p3, p5, p9, p4, p5, p3),And(p1, p1, p11, p10, p3, p7, p3, p5, p9, p4, p5, p9),And(p1, p1, p11, p3, p11, p12, p2, p2, p2, p3, p3, p3),And(p1, p1, p11, p3, p11, p12, p2, p2, p2, p3, p3, p9),And(p1, p1, p11, p3, p11, p12, p2, p2, p2, p3, p5, p3),And(p1, p1, p11, p3, p11, p12, p2, p2, p2, p3, p5, p9),And(p1, p1, p11, p3, p11, p12, p2, p2, p2, p4, p3, p3),And(p1, p1, p11, p3, p11, p12, p2, p2, p2, p4, p3, p9),And(p1, p1, p11, p3, p11, p12, p2, p2, p2, p4, p5, p3),And(p1, p1, p11, p3, p11, p12, p2, p2, p2, p4, p5, p9),And(p1, p1, p11, p3, p11, p12, p2, p2, p9, p3, p3, p3),And(p1, p1, p11, p3, p11, p12, p2, p2, p9, p3, p3, p9),And(p1, p1, p11, p3, p11, p12, p2, p2, p9, p3, p5, p3),And(p1, p1, p11, p3, p11, p12, p2, p2, p9, p3, p5, p9),And(p1, p1, p11, p3, p11, p12, p2, p2, p9, p4, p3, p3),And(p1, p1, p11, p3, p11, p12, p2, p2, p9, p4, p3, p9),And(p1, p1, p11, p3, p11, p12, p2, p2, p9, p4, p5, p3),And(p1, p1, p11, p3, p11, p12, p2, p2, p9, p4, p5, p9),And(p1, p1, p11, p3, p11, p12, p2, p5, p2, p3, p3, p3),And(p1, p1, p11, p3, p11, p12, p2, p5, p2, p3, p3, p9),And(p1, p1, p11, p3, p11, p12, p2, p5, p2, p3, p5, p3),And(p1, p1, p11, p3, p11, p12, p2, p5, p2, p3, p5, p9),And(p1, p1, p11, p3, p11, p12, p2, p5, p2, p4, p3, p3),And(p1, p1, p11, p3, p11, p12, p2, p5, p2, p4, p3, p9),And(p1, p1, p11, p3, p11, p12, p2, p5, p2, p4, p5, p3),And(p1, p1, p11, p3, p11, p12, p2, p5, p2, p4, p5, p9),And(p1, p1, p11, p3, p11, p12, p2, p5, p9, p3, p3, p3),And(p1, p1, p11, p3, p11, p12, p2, p5, p9, p3, p3, p9),And(p1, p1, p11, p3, p11, p12, p2, p5, p9, p3, p5, p3),And(p1, p1, p11, p3, p11, p12, p2, p5, p9, p3, p5, p9),And(p1, p1, p11, p3, p11, p12, p2, p5, p9, p4, p3, p3),And(p1, p1, p11, p3, p11, p12, p2, p5, p9, p4, p3, p9),And(p1, p1, p11, p3, p11, p12, p2, p5, p9, p4, p5, p3),And(p1, p1, p11, p3, p11, p12, p2, p5, p9, p4, p5, p9),And(p1, p1, p11, p3, p11, p12, p3, p2, p2, p3, p3, p3),And(p1, p1, p11, p3, p11, p12, p3, p2, p2, p3, p3, p9),And(p1, p1, p11, p3, p11, p12, p3, p2, p2, p3, p5, p3),And(p1, p1, p11, p3, p11, p12, p3, p2, p2, p3, p5, p9),And(p1, p1, p11, p3, p11, p12, p3, p2, p2, p4, p3, p3),And(p1, p1, p11, p3, p11, p12, p3, p2, p2, p4, p3, p9),And(p1, p1, p11, p3, p11, p12, p3, p2, p2, p4, p5, p3),And(p1, p1, p11, p3, p11, p12, p3, p2, p2, p4, p5, p9),And(p1, p1, p11, p3, p11, p12, p3, p2, p9, p3, p3, p3),And(p1, p1, p11, p3, p11, p12, p3, p2, p9, p3, p3, p9),And(p1, p1, p11, p3, p11, p12, p3, p2, p9, p3, p5, p3),And(p1, p1, p11, p3, p11, p12, p3, p2, p9, p3, p5, p9),And(p1, p1, p11, p3, p11, p12, p3, p2, p9, p4, p3, p3),And(p1, p1, p11, p3, p11, p12, p3, p2, p9, p4, p3, p9),And(p1, p1, p11, p3, p11, p12, p3, p2, p9, p4, p5, p3),And(p1, p1, p11, p3, p11, p12, p3, p2, p9, p4, p5, p9),And(p1, p1, p11, p3, p11, p12, p3, p5, p2, p3, p3, p3),And(p1, p1, p11, p3, p11, p12, p3, p5, p2, p3, p3, p9),And(p1, p1, p11, p3, p11, p12, p3, p5, p2, p3, p5, p3),And(p1, p1, p11, p3, p11, p12, p3, p5, p2, p3, p5, p9),And(p1, p1, p11, p3, p11, p12, p3, p5, p2, p4, p3, p3),And(p1, p1, p11, p3, p11, p12, p3, p5, p2, p4, p3, p9),And(p1, p1, p11, p3, p11, p12, p3, p5, p2, p4, p5, p3),And(p1, p1, p11, p3, p11, p12, p3, p5, p2, p4, p5, p9),And(p1, p1, p11, p3, p11, p12, p3, p5, p9, p3, p3, p3),And(p1, p1, p11, p3, p11, p12, p3, p5, p9, p3, p3, p9),And(p1, p1, p11, p3, p11, p12, p3, p5, p9, p3, p5, p3),And(p1, p1, p11, p3, p11, p12, p3, p5, p9, p3, p5, p9),And(p1, p1, p11, p3, p11, p12, p3, p5, p9, p4, p3, p3),And(p1, p1, p11, p3, p11, p12, p3, p5, p9, p4, p3, p9),And(p1, p1, p11, p3, p11, p12, p3, p5, p9, p4, p5, p3),And(p1, p1, p11, p3, p11, p12, p3, p5, p9, p4, p5, p9),And(p1, p1, p11, p3, p11, p7, p2, p2, p2, p3, p3, p3),And(p1, p1, p11, p3, p11, p7, p2, p2, p2, p3, p3, p9),And(p1, p1, p11, p3, p11, p7, p2, p2, p2, p3, p5, p3),And(p1, p1, p11, p3, p11, p7, p2, p2, p2, p3, p5, p9),And(p1, p1, p11, p3, p11, p7, p2, p2, p2, p4, p3, p3),And(p1, p1, p11, p3, p11, p7, p2, p2, p2, p4, p3, p9),And(p1, p1, p11, p3, p11, p7, p2, p2, p2, p4, p5, p3),And(p1, p1, p11, p3, p11, p7, p2, p2, p2, p4, p5, p9),And(p1, p1, p11, p3, p11, p7, p2, p2, p9, p3, p3, p3),And(p1, p1, p11, p3, p11, p7, p2, p2, p9, p3, p3, p9),And(p1, p1, p11, p3, p11, p7, p2, p2, p9, p3, p5, p3),And(p1, p1, p11, p3, p11, p7, p2, p2, p9, p3, p5, p9),And(p1, p1, p11, p3, p11, p7, p2, p2, p9, p4, p3, p3),And(p1, p1, p11, p3, p11, p7, p2, p2, p9, p4, p3, p9),And(p1, p1, p11, p3, p11, p7, p2, p2, p9, p4, p5, p3),And(p1, p1, p11, p3, p11, p7, p2, p2, p9, p4, p5, p9),And(p1, p1, p11, p3, p11, p7, p2, p5, p2, p3, p3, p3),And(p1, p1, p11, p3, p11, p7, p2, p5, p2, p3, p3, p9),And(p1, p1, p11, p3, p11, p7, p2, p5, p2, p3, p5, p3),And(p1, p1, p11, p3, p11, p7, p2, p5, p2, p3, p5, p9),And(p1, p1, p11, p3, p11, p7, p2, p5, p2, p4, p3, p3),And(p1, p1, p11, p3, p11, p7, p2, p5, p2, p4, p3, p9),And(p1, p1, p11, p3, p11, p7, p2, p5, p2, p4, p5, p3),And(p1, p1, p11, p3, p11, p7, p2, p5, p2, p4, p5, p9),And(p1, p1, p11, p3, p11, p7, p2, p5, p9, p3, p3, p3),And(p1, p1, p11, p3, p11, p7, p2, p5, p9, p3, p3, p9),And(p1, p1, p11, p3, p11, p7, p2, p5, p9, p3, p5, p3),And(p1, p1, p11, p3, p11, p7, p2, p5, p9, p3, p5, p9),And(p1, p1, p11, p3, p11, p7, p2, p5, p9, p4, p3, p3),And(p1, p1, p11, p3, p11, p7, p2, p5, p9, p4, p3, p9),And(p1, p1, p11, p3, p11, p7, p2, p5, p9, p4, p5, p3),And(p1, p1, p11, p3, p11, p7, p2, p5, p9, p4, p5, p9),And(p1, p1, p11, p3, p11, p7, p3, p2, p2, p3, p3, p3),And(p1, p1, p11, p3, p11, p7, p3, p2, p2, p3, p3, p9),And(p1, p1, p11, p3, p11, p7, p3, p2, p2, p3, p5, p3),And(p1, p1, p11, p3, p11, p7, p3, p2, p2, p3, p5, p9),And(p1, p1, p11, p3, p11, p7, p3, p2, p2, p4, p3, p3),And(p1, p1, p11, p3, p11, p7, p3, p2, p2, p4, p3, p9),And(p1, p1, p11, p3, p11, p7, p3, p2, p2, p4, p5, p3),And(p1, p1, p11, p3, p11, p7, p3, p2, p2, p4, p5, p9),And(p1, p1, p11, p3, p11, p7, p3, p2, p9, p3, p3, p3),And(p1, p1, p11, p3, p11, p7, p3, p2, p9, p3, p3, p9),And(p1, p1, p11, p3, p11, p7, p3, p2, p9, p3, p5, p3),And(p1, p1, p11, p3, p11, p7, p3, p2, p9, p3, p5, p9),And(p1, p1, p11, p3, p11, p7, p3, p2, p9, p4, p3, p3),And(p1, p1, p11, p3, p11, p7, p3, p2, p9, p4, p3, p9),And(p1, p1, p11, p3, p11, p7, p3, p2, p9, p4, p5, p3),And(p1, p1, p11, p3, p11, p7, p3, p2, p9, p4, p5, p9),And(p1, p1, p11, p3, p11, p7, p3, p5, p2, p3, p3, p3),And(p1, p1, p11, p3, p11, p7, p3, p5, p2, p3, p3, p9),And(p1, p1, p11, p3, p11, p7, p3, p5, p2, p3, p5, p3),And(p1, p1, p11, p3, p11, p7, p3, p5, p2, p3, p5, p9),And(p1, p1, p11, p3, p11, p7, p3, p5, p2, p4, p3, p3),And(p1, p1, p11, p3, p11, p7, p3, p5, p2, p4, p3, p9),And(p1, p1, p11, p3, p11, p7, p3, p5, p2, p4, p5, p3),And(p1, p1, p11, p3, p11, p7, p3, p5, p2, p4, p5, p9),And(p1, p1, p11, p3, p11, p7, p3, p5, p9, p3, p3, p3),And(p1, p1, p11, p3, p11, p7, p3, p5, p9, p3, p3, p9),And(p1, p1, p11, p3, p11, p7, p3, p5, p9, p3, p5, p3),And(p1, p1, p11, p3, p11, p7, p3, p5, p9, p3, p5, p9),And(p1, p1, p11, p3, p11, p7, p3, p5, p9, p4, p3, p3),And(p1, p1, p11, p3, p11, p7, p3, p5, p9, p4, p3, p9),And(p1, p1, p11, p3, p11, p7, p3, p5, p9, p4, p5, p3),And(p1, p1, p11, p3, p11, p7, p3, p5, p9, p4, p5, p9),And(p1, p1, p11, p3, p3, p12, p2, p2, p2, p3, p3, p3),And(p1, p1, p11, p3, p3, p12, p2, p2, p2, p3, p3, p9),And(p1, p1, p11, p3, p3, p12, p2, p2, p2, p3, p5, p3),And(p1, p1, p11, p3, p3, p12, p2, p2, p2, p3, p5, p9),And(p1, p1, p11, p3, p3, p12, p2, p2, p2, p4, p3, p3),And(p1, p1, p11, p3, p3, p12, p2, p2, p2, p4, p3, p9),And(p1, p1, p11, p3, p3, p12, p2, p2, p2, p4, p5, p3),And(p1, p1, p11, p3, p3, p12, p2, p2, p2, p4, p5, p9),And(p1, p1, p11, p3, p3, p12, p2, p2, p9, p3, p3, p3),And(p1, p1, p11, p3, p3, p12, p2, p2, p9, p3, p3, p9),And(p1, p1, p11, p3, p3, p12, p2, p2, p9, p3, p5, p3),And(p1, p1, p11, p3, p3, p12, p2, p2, p9, p3, p5, p9),And(p1, p1, p11, p3, p3, p12, p2, p2, p9, p4, p3, p3),And(p1, p1, p11, p3, p3, p12, p2, p2, p9, p4, p3, p9),And(p1, p1, p11, p3, p3, p12, p2, p2, p9, p4, p5, p3),And(p1, p1, p11, p3, p3, p12, p2, p2, p9, p4, p5, p9),And(p1, p1, p11, p3, p3, p12, p2, p5, p2, p3, p3, p3),And(p1, p1, p11, p3, p3, p12, p2, p5, p2, p3, p3, p9),And(p1, p1, p11, p3, p3, p12, p2, p5, p2, p3, p5, p3),And(p1, p1, p11, p3, p3, p12, p2, p5, p2, p3, p5, p9),And(p1, p1, p11, p3, p3, p12, p2, p5, p2, p4, p3, p3),And(p1, p1, p11, p3, p3, p12, p2, p5, p2, p4, p3, p9),And(p1, p1, p11, p3, p3, p12, p2, p5, p2, p4, p5, p3),And(p1, p1, p11, p3, p3, p12, p2, p5, p2, p4, p5, p9),And(p1, p1, p11, p3, p3, p12, p2, p5, p9, p3, p3, p3),And(p1, p1, p11, p3, p3, p12, p2, p5, p9, p3, p3, p9),And(p1, p1, p11, p3, p3, p12, p2, p5, p9, p3, p5, p3),And(p1, p1, p11, p3, p3, p12, p2, p5, p9, p3, p5, p9),And(p1, p1, p11, p3, p3, p12, p2, p5, p9, p4, p3, p3),And(p1, p1, p11, p3, p3, p12, p2, p5, p9, p4, p3, p9),And(p1, p1, p11, p3, p3, p12, p2, p5, p9, p4, p5, p3),And(p1, p1, p11, p3, p3, p12, p2, p5, p9, p4, p5, p9),And(p1, p1, p11, p3, p3, p12, p3, p2, p2, p3, p3, p3),And(p1, p1, p11, p3, p3, p12, p3, p2, p2, p3, p3, p9),And(p1, p1, p11, p3, p3, p12, p3, p2, p2, p3, p5, p3),And(p1, p1, p11, p3, p3, p12, p3, p2, p2, p3, p5, p9),And(p1, p1, p11, p3, p3, p12, p3, p2, p2, p4, p3, p3),And(p1, p1, p11, p3, p3, p12, p3, p2, p2, p4, p3, p9),And(p1, p1, p11, p3, p3, p12, p3, p2, p2, p4, p5, p3),And(p1, p1, p11, p3, p3, p12, p3, p2, p2, p4, p5, p9),And(p1, p1, p11, p3, p3, p12, p3, p2, p9, p3, p3, p3),And(p1, p1, p11, p3, p3, p12, p3, p2, p9, p3, p3, p9),And(p1, p1, p11, p3, p3, p12, p3, p2, p9, p3, p5, p3),And(p1, p1, p11, p3, p3, p12, p3, p2, p9, p3, p5, p9),And(p1, p1, p11, p3, p3, p12, p3, p2, p9, p4, p3, p3),And(p1, p1, p11, p3, p3, p12, p3, p2, p9, p4, p3, p9),And(p1, p1, p11, p3, p3, p12, p3, p2, p9, p4, p5, p3),And(p1, p1, p11, p3, p3, p12, p3, p2, p9, p4, p5, p9),And(p1, p1, p11, p3, p3, p12, p3, p5, p2, p3, p3, p3),And(p1, p1, p11, p3, p3, p12, p3, p5, p2, p3, p3, p9),And(p1, p1, p11, p3, p3, p12, p3, p5, p2, p3, p5, p3),And(p1, p1, p11, p3, p3, p12, p3, p5, p2, p3, p5, p9),And(p1, p1, p11, p3, p3, p12, p3, p5, p2, p4, p3, p3),And(p1, p1, p11, p3, p3, p12, p3, p5, p2, p4, p3, p9),And(p1, p1, p11, p3, p3, p12, p3, p5, p2, p4, p5, p3),And(p1, p1, p11, p3, p3, p12, p3, p5, p2, p4, p5, p9),And(p1, p1, p11, p3, p3, p12, p3, p5, p9, p3, p3, p3),And(p1, p1, p11, p3, p3, p12, p3, p5, p9, p3, p3, p9),And(p1, p1, p11, p3, p3, p12, p3, p5, p9, p3, p5, p3),And(p1, p1, p11, p3, p3, p12, p3, p5, p9, p3, p5, p9),And(p1, p1, p11, p3, p3, p12, p3, p5, p9, p4, p3, p3),And(p1, p1, p11, p3, p3, p12, p3, p5, p9, p4, p3, p9),And(p1, p1, p11, p3, p3, p12, p3, p5, p9, p4, p5, p3),And(p1, p1, p11, p3, p3, p12, p3, p5, p9, p4, p5, p9),And(p1, p1, p11, p3, p3, p7, p2, p2, p2, p3, p3, p3),And(p1, p1, p11, p3, p3, p7, p2, p2, p2, p3, p3, p9),And(p1, p1, p11, p3, p3, p7, p2, p2, p2, p3, p5, p3),And(p1, p1, p11, p3, p3, p7, p2, p2, p2, p3, p5, p9),And(p1, p1, p11, p3, p3, p7, p2, p2, p2, p4, p3, p3),And(p1, p1, p11, p3, p3, p7, p2, p2, p2, p4, p3, p9),And(p1, p1, p11, p3, p3, p7, p2, p2, p2, p4, p5, p3),And(p1, p1, p11, p3, p3, p7, p2, p2, p2, p4, p5, p9),And(p1, p1, p11, p3, p3, p7, p2, p2, p9, p3, p3, p3),And(p1, p1, p11, p3, p3, p7, p2, p2, p9, p3, p3, p9),And(p1, p1, p11, p3, p3, p7, p2, p2, p9, p3, p5, p3),And(p1, p1, p11, p3, p3, p7, p2, p2, p9, p3, p5, p9),And(p1, p1, p11, p3, p3, p7, p2, p2, p9, p4, p3, p3),And(p1, p1, p11, p3, p3, p7, p2, p2, p9, p4, p3, p9),And(p1, p1, p11, p3, p3, p7, p2, p2, p9, p4, p5, p3),And(p1, p1, p11, p3, p3, p7, p2, p2, p9, p4, p5, p9),And(p1, p1, p11, p3, p3, p7, p2, p5, p2, p3, p3, p3),And(p1, p1, p11, p3, p3, p7, p2, p5, p2, p3, p3, p9),And(p1, p1, p11, p3, p3, p7, p2, p5, p2, p3, p5, p3),And(p1, p1, p11, p3, p3, p7, p2, p5, p2, p3, p5, p9),And(p1, p1, p11, p3, p3, p7, p2, p5, p2, p4, p3, p3),And(p1, p1, p11, p3, p3, p7, p2, p5, p2, p4, p3, p9),And(p1, p1, p11, p3, p3, p7, p2, p5, p2, p4, p5, p3),And(p1, p1, p11, p3, p3, p7, p2, p5, p2, p4, p5, p9),And(p1, p1, p11, p3, p3, p7, p2, p5, p9, p3, p3, p3),And(p1, p1, p11, p3, p3, p7, p2, p5, p9, p3, p3, p9),And(p1, p1, p11, p3, p3, p7, p2, p5, p9, p3, p5, p3),And(p1, p1, p11, p3, p3, p7, p2, p5, p9, p3, p5, p9),And(p1, p1, p11, p3, p3, p7, p2, p5, p9, p4, p3, p3),And(p1, p1, p11, p3, p3, p7, p2, p5, p9, p4, p3, p9),And(p1, p1, p11, p3, p3, p7, p2, p5, p9, p4, p5, p3),And(p1, p1, p11, p3, p3, p7, p2, p5, p9, p4, p5, p9),And(p1, p1, p11, p3, p3, p7, p3, p2, p2, p3, p3, p3),And(p1, p1, p11, p3, p3, p7, p3, p2, p2, p3, p3, p9),And(p1, p1, p11, p3, p3, p7, p3, p2, p2, p3, p5, p3),And(p1, p1, p11, p3, p3, p7, p3, p2, p2, p3, p5, p9),And(p1, p1, p11, p3, p3, p7, p3, p2, p2, p4, p3, p3),And(p1, p1, p11, p3, p3, p7, p3, p2, p2, p4, p3, p9),And(p1, p1, p11, p3, p3, p7, p3, p2, p2, p4, p5, p3),And(p1, p1, p11, p3, p3, p7, p3, p2, p2, p4, p5, p9),And(p1, p1, p11, p3, p3, p7, p3, p2, p9, p3, p3, p3),And(p1, p1, p11, p3, p3, p7, p3, p2, p9, p3, p3, p9),And(p1, p1, p11, p3, p3, p7, p3, p2, p9, p3, p5, p3),And(p1, p1, p11, p3, p3, p7, p3, p2, p9, p3, p5, p9),And(p1, p1, p11, p3, p3, p7, p3, p2, p9, p4, p3, p3),And(p1, p1, p11, p3, p3, p7, p3, p2, p9, p4, p3, p9),And(p1, p1, p11, p3, p3, p7, p3, p2, p9, p4, p5, p3),And(p1, p1, p11, p3, p3, p7, p3, p2, p9, p4, p5, p9),And(p1, p1, p11, p3, p3, p7, p3, p5, p2, p3, p3, p3),And(p1, p1, p11, p3, p3, p7, p3, p5, p2, p3, p3, p9),And(p1, p1, p11, p3, p3, p7, p3, p5, p2, p3, p5, p3),And(p1, p1, p11, p3, p3, p7, p3, p5, p2, p3, p5, p9),And(p1, p1, p11, p3, p3, p7, p3, p5, p2, p4, p3, p3),And(p1, p1, p11, p3, p3, p7, p3, p5, p2, p4, p3, p9),And(p1, p1, p11, p3, p3, p7, p3, p5, p2, p4, p5, p3),And(p1, p1, p11, p3, p3, p7, p3, p5, p2, p4, p5, p9),And(p1, p1, p11, p3, p3, p7, p3, p5, p9, p3, p3, p3),And(p1, p1, p11, p3, p3, p7, p3, p5, p9, p3, p3, p9),And(p1, p1, p11, p3, p3, p7, p3, p5, p9, p3, p5, p3),And(p1, p1, p11, p3, p3, p7, p3, p5, p9, p3, p5, p9),And(p1, p1, p11, p3, p3, p7, p3, p5, p9, p4, p3, p3),And(p1, p1, p11, p3, p3, p7, p3, p5, p9, p4, p3, p9),And(p1, p1, p11, p3, p3, p7, p3, p5, p9, p4, p5, p3),And(p1, p1, p11, p3, p3, p7, p3, p5, p9, p4, p5, p9),And(p1, p3, p10, p10, p11, p12, p2, p2, p2, p3, p3, p3),And(p1, p3, p10, p10, p11, p12, p2, p2, p2, p3, p3, p9),And(p1, p3, p10, p10, p11, p12, p2, p2, p2, p3, p5, p3),And(p1, p3, p10, p10, p11, p12, p2, p2, p2, p3, p5, p9),And(p1, p3, p10, p10, p11, p12, p2, p2, p2, p4, p3, p3),And(p1, p3, p10, p10, p11, p12, p2, p2, p2, p4, p3, p9),And(p1, p3, p10, p10, p11, p12, p2, p2, p2, p4, p5, p3),And(p1, p3, p10, p10, p11, p12, p2, p2, p2, p4, p5, p9),And(p1, p3, p10, p10, p11, p12, p2, p2, p9, p3, p3, p3),And(p1, p3, p10, p10, p11, p12, p2, p2, p9, p3, p3, p9),And(p1, p3, p10, p10, p11, p12, p2, p2, p9, p3, p5, p3),And(p1, p3, p10, p10, p11, p12, p2, p2, p9, p3, p5, p9),And(p1, p3, p10, p10, p11, p12, p2, p2, p9, p4, p3, p3),And(p1, p3, p10, p10, p11, p12, p2, p2, p9, p4, p3, p9),And(p1, p3, p10, p10, p11, p12, p2, p2, p9, p4, p5, p3),And(p1, p3, p10, p10, p11, p12, p2, p2, p9, p4, p5, p9),And(p1, p3, p10, p10, p11, p12, p2, p5, p2, p3, p3, p3),And(p1, p3, p10, p10, p11, p12, p2, p5, p2, p3, p3, p9),And(p1, p3, p10, p10, p11, p12, p2, p5, p2, p3, p5, p3),And(p1, p3, p10, p10, p11, p12, p2, p5, p2, p3, p5, p9),And(p1, p3, p10, p10, p11, p12, p2, p5, p2, p4, p3, p3),And(p1, p3, p10, p10, p11, p12, p2, p5, p2, p4, p3, p9),And(p1, p3, p10, p10, p11, p12, p2, p5, p2, p4, p5, p3),And(p1, p3, p10, p10, p11, p12, p2, p5, p2, p4, p5, p9),And(p1, p3, p10, p10, p11, p12, p2, p5, p9, p3, p3, p3),And(p1, p3, p10, p10, p11, p12, p2, p5, p9, p3, p3, p9),And(p1, p3, p10, p10, p11, p12, p2, p5, p9, p3, p5, p3),And(p1, p3, p10, p10, p11, p12, p2, p5, p9, p3, p5, p9),And(p1, p3, p10, p10, p11, p12, p2, p5, p9, p4, p3, p3),And(p1, p3, p10, p10, p11, p12, p2, p5, p9, p4, p3, p9),And(p1, p3, p10, p10, p11, p12, p2, p5, p9, p4, p5, p3),And(p1, p3, p10, p10, p11, p12, p2, p5, p9, p4, p5, p9),And(p1, p3, p10, p10, p11, p12, p3, p2, p2, p3, p3, p3),And(p1, p3, p10, p10, p11, p12, p3, p2, p2, p3, p3, p9),And(p1, p3, p10, p10, p11, p12, p3, p2, p2, p3, p5, p3),And(p1, p3, p10, p10, p11, p12, p3, p2, p2, p3, p5, p9),And(p1, p3, p10, p10, p11, p12, p3, p2, p2, p4, p3, p3),And(p1, p3, p10, p10, p11, p12, p3, p2, p2, p4, p3, p9),And(p1, p3, p10, p10, p11, p12, p3, p2, p2, p4, p5, p3),And(p1, p3, p10, p10, p11, p12, p3, p2, p2, p4, p5, p9),And(p1, p3, p10, p10, p11, p12, p3, p2, p9, p3, p3, p3),And(p1, p3, p10, p10, p11, p12, p3, p2, p9, p3, p3, p9),And(p1, p3, p10, p10, p11, p12, p3, p2, p9, p3, p5, p3),And(p1, p3, p10, p10, p11, p12, p3, p2, p9, p3, p5, p9),And(p1, p3, p10, p10, p11, p12, p3, p2, p9, p4, p3, p3),And(p1, p3, p10, p10, p11, p12, p3, p2, p9, p4, p3, p9),And(p1, p3, p10, p10, p11, p12, p3, p2, p9, p4, p5, p3),And(p1, p3, p10, p10, p11, p12, p3, p2, p9, p4, p5, p9),And(p1, p3, p10, p10, p11, p12, p3, p5, p2, p3, p3, p3),And(p1, p3, p10, p10, p11, p12, p3, p5, p2, p3, p3, p9),And(p1, p3, p10, p10, p11, p12, p3, p5, p2, p3, p5, p3),And(p1, p3, p10, p10, p11, p12, p3, p5, p2, p3, p5, p9),And(p1, p3, p10, p10, p11, p12, p3, p5, p2, p4, p3, p3),And(p1, p3, p10, p10, p11, p12, p3, p5, p2, p4, p3, p9),And(p1, p3, p10, p10, p11, p12, p3, p5, p2, p4, p5, p3),And(p1, p3, p10, p10, p11, p12, p3, p5, p2, p4, p5, p9),And(p1, p3, p10, p10, p11, p12, p3, p5, p9, p3, p3, p3),And(p1, p3, p10, p10, p11, p12, p3, p5, p9, p3, p3, p9),And(p1, p3, p10, p10, p11, p12, p3, p5, p9, p3, p5, p3),And(p1, p3, p10, p10, p11, p12, p3, p5, p9, p3, p5, p9),And(p1, p3, p10, p10, p11, p12, p3, p5, p9, p4, p3, p3),And(p1, p3, p10, p10, p11, p12, p3, p5, p9, p4, p3, p9),And(p1, p3, p10, p10, p11, p12, p3, p5, p9, p4, p5, p3),And(p1, p3, p10, p10, p11, p12, p3, p5, p9, p4, p5, p9),And(p1, p3, p10, p10, p11, p7, p2, p2, p2, p3, p3, p3),And(p1, p3, p10, p10, p11, p7, p2, p2, p2, p3, p3, p9),And(p1, p3, p10, p10, p11, p7, p2, p2, p2, p3, p5, p3),And(p1, p3, p10, p10, p11, p7, p2, p2, p2, p3, p5, p9),And(p1, p3, p10, p10, p11, p7, p2, p2, p2, p4, p3, p3),And(p1, p3, p10, p10, p11, p7, p2, p2, p2, p4, p3, p9),And(p1, p3, p10, p10, p11, p7, p2, p2, p2, p4, p5, p3),And(p1, p3, p10, p10, p11, p7, p2, p2, p2, p4, p5, p9),And(p1, p3, p10, p10, p11, p7, p2, p2, p9, p3, p3, p3),And(p1, p3, p10, p10, p11, p7, p2, p2, p9, p3, p3, p9),And(p1, p3, p10, p10, p11, p7, p2, p2, p9, p3, p5, p3),And(p1, p3, p10, p10, p11, p7, p2, p2, p9, p3, p5, p9),And(p1, p3, p10, p10, p11, p7, p2, p2, p9, p4, p3, p3),And(p1, p3, p10, p10, p11, p7, p2, p2, p9, p4, p3, p9),And(p1, p3, p10, p10, p11, p7, p2, p2, p9, p4, p5, p3),And(p1, p3, p10, p10, p11, p7, p2, p2, p9, p4, p5, p9),And(p1, p3, p10, p10, p11, p7, p2, p5, p2, p3, p3, p3),And(p1, p3, p10, p10, p11, p7, p2, p5, p2, p3, p3, p9),And(p1, p3, p10, p10, p11, p7, p2, p5, p2, p3, p5, p3),And(p1, p3, p10, p10, p11, p7, p2, p5, p2, p3, p5, p9),And(p1, p3, p10, p10, p11, p7, p2, p5, p2, p4, p3, p3),And(p1, p3, p10, p10, p11, p7, p2, p5, p2, p4, p3, p9),And(p1, p3, p10, p10, p11, p7, p2, p5, p2, p4, p5, p3),And(p1, p3, p10, p10, p11, p7, p2, p5, p2, p4, p5, p9),And(p1, p3, p10, p10, p11, p7, p2, p5, p9, p3, p3, p3),And(p1, p3, p10, p10, p11, p7, p2, p5, p9, p3, p3, p9),And(p1, p3, p10, p10, p11, p7, p2, p5, p9, p3, p5, p3),And(p1, p3, p10, p10, p11, p7, p2, p5, p9, p3, p5, p9),And(p1, p3, p10, p10, p11, p7, p2, p5, p9, p4, p3, p3),And(p1, p3, p10, p10, p11, p7, p2, p5, p9, p4, p3, p9),And(p1, p3, p10, p10, p11, p7, p2, p5, p9, p4, p5, p3),And(p1, p3, p10, p10, p11, p7, p2, p5, p9, p4, p5, p9),And(p1, p3, p10, p10, p11, p7, p3, p2, p2, p3, p3, p3),And(p1, p3, p10, p10, p11, p7, p3, p2, p2, p3, p3, p9),And(p1, p3, p10, p10, p11, p7, p3, p2, p2, p3, p5, p3),And(p1, p3, p10, p10, p11, p7, p3, p2, p2, p3, p5, p9),And(p1, p3, p10, p10, p11, p7, p3, p2, p2, p4, p3, p3),And(p1, p3, p10, p10, p11, p7, p3, p2, p2, p4, p3, p9),And(p1, p3, p10, p10, p11, p7, p3, p2, p2, p4, p5, p3),And(p1, p3, p10, p10, p11, p7, p3, p2, p2, p4, p5, p9),And(p1, p3, p10, p10, p11, p7, p3, p2, p9, p3, p3, p3),And(p1, p3, p10, p10, p11, p7, p3, p2, p9, p3, p3, p9),And(p1, p3, p10, p10, p11, p7, p3, p2, p9, p3, p5, p3),And(p1, p3, p10, p10, p11, p7, p3, p2, p9, p3, p5, p9),And(p1, p3, p10, p10, p11, p7, p3, p2, p9, p4, p3, p3),And(p1, p3, p10, p10, p11, p7, p3, p2, p9, p4, p3, p9),And(p1, p3, p10, p10, p11, p7, p3, p2, p9, p4, p5, p3),And(p1, p3, p10, p10, p11, p7, p3, p2, p9, p4, p5, p9),And(p1, p3, p10, p10, p11, p7, p3, p5, p2, p3, p3, p3),And(p1, p3, p10, p10, p11, p7, p3, p5, p2, p3, p3, p9),And(p1, p3, p10, p10, p11, p7, p3, p5, p2, p3, p5, p3),And(p1, p3, p10, p10, p11, p7, p3, p5, p2, p3, p5, p9),And(p1, p3, p10, p10, p11, p7, p3, p5, p2, p4, p3, p3),And(p1, p3, p10, p10, p11, p7, p3, p5, p2, p4, p3, p9),And(p1, p3, p10, p10, p11, p7, p3, p5, p2, p4, p5, p3),And(p1, p3, p10, p10, p11, p7, p3, p5, p2, p4, p5, p9),And(p1, p3, p10, p10, p11, p7, p3, p5, p9, p3, p3, p3),And(p1, p3, p10, p10, p11, p7, p3, p5, p9, p3, p3, p9),And(p1, p3, p10, p10, p11, p7, p3, p5, p9, p3, p5, p3),And(p1, p3, p10, p10, p11, p7, p3, p5, p9, p3, p5, p9),And(p1, p3, p10, p10, p11, p7, p3, p5, p9, p4, p3, p3),And(p1, p3, p10, p10, p11, p7, p3, p5, p9, p4, p3, p9),And(p1, p3, p10, p10, p11, p7, p3, p5, p9, p4, p5, p3),And(p1, p3, p10, p10, p11, p7, p3, p5, p9, p4, p5, p9),And(p1, p3, p10, p10, p3, p12, p2, p2, p2, p3, p3, p3),And(p1, p3, p10, p10, p3, p12, p2, p2, p2, p3, p3, p9),And(p1, p3, p10, p10, p3, p12, p2, p2, p2, p3, p5, p3),And(p1, p3, p10, p10, p3, p12, p2, p2, p2, p3, p5, p9),And(p1, p3, p10, p10, p3, p12, p2, p2, p2, p4, p3, p3),And(p1, p3, p10, p10, p3, p12, p2, p2, p2, p4, p3, p9),And(p1, p3, p10, p10, p3, p12, p2, p2, p2, p4, p5, p3),And(p1, p3, p10, p10, p3, p12, p2, p2, p2, p4, p5, p9),And(p1, p3, p10, p10, p3, p12, p2, p2, p9, p3, p3, p3),And(p1, p3, p10, p10, p3, p12, p2, p2, p9, p3, p3, p9),And(p1, p3, p10, p10, p3, p12, p2, p2, p9, p3, p5, p3),And(p1, p3, p10, p10, p3, p12, p2, p2, p9, p3, p5, p9),And(p1, p3, p10, p10, p3, p12, p2, p2, p9, p4, p3, p3),And(p1, p3, p10, p10, p3, p12, p2, p2, p9, p4, p3, p9),And(p1, p3, p10, p10, p3, p12, p2, p2, p9, p4, p5, p3),And(p1, p3, p10, p10, p3, p12, p2, p2, p9, p4, p5, p9),And(p1, p3, p10, p10, p3, p12, p2, p5, p2, p3, p3, p3),And(p1, p3, p10, p10, p3, p12, p2, p5, p2, p3, p3, p9),And(p1, p3, p10, p10, p3, p12, p2, p5, p2, p3, p5, p3),And(p1, p3, p10, p10, p3, p12, p2, p5, p2, p3, p5, p9),And(p1, p3, p10, p10, p3, p12, p2, p5, p2, p4, p3, p3),And(p1, p3, p10, p10, p3, p12, p2, p5, p2, p4, p3, p9),And(p1, p3, p10, p10, p3, p12, p2, p5, p2, p4, p5, p3),And(p1, p3, p10, p10, p3, p12, p2, p5, p2, p4, p5, p9),And(p1, p3, p10, p10, p3, p12, p2, p5, p9, p3, p3, p3),And(p1, p3, p10, p10, p3, p12, p2, p5, p9, p3, p3, p9),And(p1, p3, p10, p10, p3, p12, p2, p5, p9, p3, p5, p3),And(p1, p3, p10, p10, p3, p12, p2, p5, p9, p3, p5, p9),And(p1, p3, p10, p10, p3, p12, p2, p5, p9, p4, p3, p3),And(p1, p3, p10, p10, p3, p12, p2, p5, p9, p4, p3, p9),And(p1, p3, p10, p10, p3, p12, p2, p5, p9, p4, p5, p3),And(p1, p3, p10, p10, p3, p12, p2, p5, p9, p4, p5, p9),And(p1, p3, p10, p10, p3, p12, p3, p2, p2, p3, p3, p3),And(p1, p3, p10, p10, p3, p12, p3, p2, p2, p3, p3, p9),And(p1, p3, p10, p10, p3, p12, p3, p2, p2, p3, p5, p3),And(p1, p3, p10, p10, p3, p12, p3, p2, p2, p3, p5, p9),And(p1, p3, p10, p10, p3, p12, p3, p2, p2, p4, p3, p3),And(p1, p3, p10, p10, p3, p12, p3, p2, p2, p4, p3, p9),And(p1, p3, p10, p10, p3, p12, p3, p2, p2, p4, p5, p3),And(p1, p3, p10, p10, p3, p12, p3, p2, p2, p4, p5, p9),And(p1, p3, p10, p10, p3, p12, p3, p2, p9, p3, p3, p3),And(p1, p3, p10, p10, p3, p12, p3, p2, p9, p3, p3, p9),And(p1, p3, p10, p10, p3, p12, p3, p2, p9, p3, p5, p3),And(p1, p3, p10, p10, p3, p12, p3, p2, p9, p3, p5, p9),And(p1, p3, p10, p10, p3, p12, p3, p2, p9, p4, p3, p3),And(p1, p3, p10, p10, p3, p12, p3, p2, p9, p4, p3, p9),And(p1, p3, p10, p10, p3, p12, p3, p2, p9, p4, p5, p3),And(p1, p3, p10, p10, p3, p12, p3, p2, p9, p4, p5, p9),And(p1, p3, p10, p10, p3, p12, p3, p5, p2, p3, p3, p3),And(p1, p3, p10, p10, p3, p12, p3, p5, p2, p3, p3, p9),And(p1, p3, p10, p10, p3, p12, p3, p5, p2, p3, p5, p3),And(p1, p3, p10, p10, p3, p12, p3, p5, p2, p3, p5, p9),And(p1, p3, p10, p10, p3, p12, p3, p5, p2, p4, p3, p3),And(p1, p3, p10, p10, p3, p12, p3, p5, p2, p4, p3, p9),And(p1, p3, p10, p10, p3, p12, p3, p5, p2, p4, p5, p3),And(p1, p3, p10, p10, p3, p12, p3, p5, p2, p4, p5, p9),And(p1, p3, p10, p10, p3, p12, p3, p5, p9, p3, p3, p3),And(p1, p3, p10, p10, p3, p12, p3, p5, p9, p3, p3, p9),And(p1, p3, p10, p10, p3, p12, p3, p5, p9, p3, p5, p3),And(p1, p3, p10, p10, p3, p12, p3, p5, p9, p3, p5, p9),And(p1, p3, p10, p10, p3, p12, p3, p5, p9, p4, p3, p3),And(p1, p3, p10, p10, p3, p12, p3, p5, p9, p4, p3, p9),And(p1, p3, p10, p10, p3, p12, p3, p5, p9, p4, p5, p3),And(p1, p3, p10, p10, p3, p12, p3, p5, p9, p4, p5, p9),And(p1, p3, p10, p10, p3, p7, p2, p2, p2, p3, p3, p3),And(p1, p3, p10, p10, p3, p7, p2, p2, p2, p3, p3, p9),And(p1, p3, p10, p10, p3, p7, p2, p2, p2, p3, p5, p3),And(p1, p3, p10, p10, p3, p7, p2, p2, p2, p3, p5, p9),And(p1, p3, p10, p10, p3, p7, p2, p2, p2, p4, p3, p3),And(p1, p3, p10, p10, p3, p7, p2, p2, p2, p4, p3, p9),And(p1, p3, p10, p10, p3, p7, p2, p2, p2, p4, p5, p3),And(p1, p3, p10, p10, p3, p7, p2, p2, p2, p4, p5, p9),And(p1, p3, p10, p10, p3, p7, p2, p2, p9, p3, p3, p3),And(p1, p3, p10, p10, p3, p7, p2, p2, p9, p3, p3, p9),And(p1, p3, p10, p10, p3, p7, p2, p2, p9, p3, p5, p3),And(p1, p3, p10, p10, p3, p7, p2, p2, p9, p3, p5, p9),And(p1, p3, p10, p10, p3, p7, p2, p2, p9, p4, p3, p3),And(p1, p3, p10, p10, p3, p7, p2, p2, p9, p4, p3, p9),And(p1, p3, p10, p10, p3, p7, p2, p2, p9, p4, p5, p3),And(p1, p3, p10, p10, p3, p7, p2, p2, p9, p4, p5, p9),And(p1, p3, p10, p10, p3, p7, p2, p5, p2, p3, p3, p3),And(p1, p3, p10, p10, p3, p7, p2, p5, p2, p3, p3, p9),And(p1, p3, p10, p10, p3, p7, p2, p5, p2, p3, p5, p3),And(p1, p3, p10, p10, p3, p7, p2, p5, p2, p3, p5, p9),And(p1, p3, p10, p10, p3, p7, p2, p5, p2, p4, p3, p3),And(p1, p3, p10, p10, p3, p7, p2, p5, p2, p4, p3, p9),And(p1, p3, p10, p10, p3, p7, p2, p5, p2, p4, p5, p3),And(p1, p3, p10, p10, p3, p7, p2, p5, p2, p4, p5, p9),And(p1, p3, p10, p10, p3, p7, p2, p5, p9, p3, p3, p3),And(p1, p3, p10, p10, p3, p7, p2, p5, p9, p3, p3, p9),And(p1, p3, p10, p10, p3, p7, p2, p5, p9, p3, p5, p3),And(p1, p3, p10, p10, p3, p7, p2, p5, p9, p3, p5, p9),And(p1, p3, p10, p10, p3, p7, p2, p5, p9, p4, p3, p3),And(p1, p3, p10, p10, p3, p7, p2, p5, p9, p4, p3, p9),And(p1, p3, p10, p10, p3, p7, p2, p5, p9, p4, p5, p3),And(p1, p3, p10, p10, p3, p7, p2, p5, p9, p4, p5, p9),And(p1, p3, p10, p10, p3, p7, p3, p2, p2, p3, p3, p3),And(p1, p3, p10, p10, p3, p7, p3, p2, p2, p3, p3, p9),And(p1, p3, p10, p10, p3, p7, p3, p2, p2, p3, p5, p3),And(p1, p3, p10, p10, p3, p7, p3, p2, p2, p3, p5, p9),And(p1, p3, p10, p10, p3, p7, p3, p2, p2, p4, p3, p3),And(p1, p3, p10, p10, p3, p7, p3, p2, p2, p4, p3, p9),And(p1, p3, p10, p10, p3, p7, p3, p2, p2, p4, p5, p3),And(p1, p3, p10, p10, p3, p7, p3, p2, p2, p4, p5, p9),And(p1, p3, p10, p10, p3, p7, p3, p2, p9, p3, p3, p3),And(p1, p3, p10, p10, p3, p7, p3, p2, p9, p3, p3, p9),And(p1, p3, p10, p10, p3, p7, p3, p2, p9, p3, p5, p3),And(p1, p3, p10, p10, p3, p7, p3, p2, p9, p3, p5, p9),And(p1, p3, p10, p10, p3, p7, p3, p2, p9, p4, p3, p3),And(p1, p3, p10, p10, p3, p7, p3, p2, p9, p4, p3, p9),And(p1, p3, p10, p10, p3, p7, p3, p2, p9, p4, p5, p3),And(p1, p3, p10, p10, p3, p7, p3, p2, p9, p4, p5, p9),And(p1, p3, p10, p10, p3, p7, p3, p5, p2, p3, p3, p3),And(p1, p3, p10, p10, p3, p7, p3, p5, p2, p3, p3, p9),And(p1, p3, p10, p10, p3, p7, p3, p5, p2, p3, p5, p3),And(p1, p3, p10, p10, p3, p7, p3, p5, p2, p3, p5, p9),And(p1, p3, p10, p10, p3, p7, p3, p5, p2, p4, p3, p3),And(p1, p3, p10, p10, p3, p7, p3, p5, p2, p4, p3, p9),And(p1, p3, p10, p10, p3, p7, p3, p5, p2, p4, p5, p3),And(p1, p3, p10, p10, p3, p7, p3, p5, p2, p4, p5, p9),And(p1, p3, p10, p10, p3, p7, p3, p5, p9, p3, p3, p3),And(p1, p3, p10, p10, p3, p7, p3, p5, p9, p3, p3, p9),And(p1, p3, p10, p10, p3, p7, p3, p5, p9, p3, p5, p3),And(p1, p3, p10, p10, p3, p7, p3, p5, p9, p3, p5, p9),And(p1, p3, p10, p10, p3, p7, p3, p5, p9, p4, p3, p3),And(p1, p3, p10, p10, p3, p7, p3, p5, p9, p4, p3, p9),And(p1, p3, p10, p10, p3, p7, p3, p5, p9, p4, p5, p3),And(p1, p3, p10, p10, p3, p7, p3, p5, p9, p4, p5, p9),And(p1, p3, p10, p3, p11, p12, p2, p2, p2, p3, p3, p3),And(p1, p3, p10, p3, p11, p12, p2, p2, p2, p3, p3, p9),And(p1, p3, p10, p3, p11, p12, p2, p2, p2, p3, p5, p3),And(p1, p3, p10, p3, p11, p12, p2, p2, p2, p3, p5, p9),And(p1, p3, p10, p3, p11, p12, p2, p2, p2, p4, p3, p3),And(p1, p3, p10, p3, p11, p12, p2, p2, p2, p4, p3, p9),And(p1, p3, p10, p3, p11, p12, p2, p2, p2, p4, p5, p3),And(p1, p3, p10, p3, p11, p12, p2, p2, p2, p4, p5, p9),And(p1, p3, p10, p3, p11, p12, p2, p2, p9, p3, p3, p3),And(p1, p3, p10, p3, p11, p12, p2, p2, p9, p3, p3, p9),And(p1, p3, p10, p3, p11, p12, p2, p2, p9, p3, p5, p3),And(p1, p3, p10, p3, p11, p12, p2, p2, p9, p3, p5, p9),And(p1, p3, p10, p3, p11, p12, p2, p2, p9, p4, p3, p3),And(p1, p3, p10, p3, p11, p12, p2, p2, p9, p4, p3, p9),And(p1, p3, p10, p3, p11, p12, p2, p2, p9, p4, p5, p3),And(p1, p3, p10, p3, p11, p12, p2, p2, p9, p4, p5, p9),And(p1, p3, p10, p3, p11, p12, p2, p5, p2, p3, p3, p3),And(p1, p3, p10, p3, p11, p12, p2, p5, p2, p3, p3, p9),And(p1, p3, p10, p3, p11, p12, p2, p5, p2, p3, p5, p3),And(p1, p3, p10, p3, p11, p12, p2, p5, p2, p3, p5, p9),And(p1, p3, p10, p3, p11, p12, p2, p5, p2, p4, p3, p3),And(p1, p3, p10, p3, p11, p12, p2, p5, p2, p4, p3, p9),And(p1, p3, p10, p3, p11, p12, p2, p5, p2, p4, p5, p3),And(p1, p3, p10, p3, p11, p12, p2, p5, p2, p4, p5, p9),And(p1, p3, p10, p3, p11, p12, p2, p5, p9, p3, p3, p3),And(p1, p3, p10, p3, p11, p12, p2, p5, p9, p3, p3, p9),And(p1, p3, p10, p3, p11, p12, p2, p5, p9, p3, p5, p3),And(p1, p3, p10, p3, p11, p12, p2, p5, p9, p3, p5, p9),And(p1, p3, p10, p3, p11, p12, p2, p5, p9, p4, p3, p3),And(p1, p3, p10, p3, p11, p12, p2, p5, p9, p4, p3, p9),And(p1, p3, p10, p3, p11, p12, p2, p5, p9, p4, p5, p3),And(p1, p3, p10, p3, p11, p12, p2, p5, p9, p4, p5, p9),And(p1, p3, p10, p3, p11, p12, p3, p2, p2, p3, p3, p3),And(p1, p3, p10, p3, p11, p12, p3, p2, p2, p3, p3, p9),And(p1, p3, p10, p3, p11, p12, p3, p2, p2, p3, p5, p3),And(p1, p3, p10, p3, p11, p12, p3, p2, p2, p3, p5, p9),And(p1, p3, p10, p3, p11, p12, p3, p2, p2, p4, p3, p3),And(p1, p3, p10, p3, p11, p12, p3, p2, p2, p4, p3, p9),And(p1, p3, p10, p3, p11, p12, p3, p2, p2, p4, p5, p3),And(p1, p3, p10, p3, p11, p12, p3, p2, p2, p4, p5, p9),And(p1, p3, p10, p3, p11, p12, p3, p2, p9, p3, p3, p3),And(p1, p3, p10, p3, p11, p12, p3, p2, p9, p3, p3, p9),And(p1, p3, p10, p3, p11, p12, p3, p2, p9, p3, p5, p3),And(p1, p3, p10, p3, p11, p12, p3, p2, p9, p3, p5, p9),And(p1, p3, p10, p3, p11, p12, p3, p2, p9, p4, p3, p3),And(p1, p3, p10, p3, p11, p12, p3, p2, p9, p4, p3, p9),And(p1, p3, p10, p3, p11, p12, p3, p2, p9, p4, p5, p3),And(p1, p3, p10, p3, p11, p12, p3, p2, p9, p4, p5, p9),And(p1, p3, p10, p3, p11, p12, p3, p5, p2, p3, p3, p3),And(p1, p3, p10, p3, p11, p12, p3, p5, p2, p3, p3, p9),And(p1, p3, p10, p3, p11, p12, p3, p5, p2, p3, p5, p3),And(p1, p3, p10, p3, p11, p12, p3, p5, p2, p3, p5, p9),And(p1, p3, p10, p3, p11, p12, p3, p5, p2, p4, p3, p3),And(p1, p3, p10, p3, p11, p12, p3, p5, p2, p4, p3, p9),And(p1, p3, p10, p3, p11, p12, p3, p5, p2, p4, p5, p3),And(p1, p3, p10, p3, p11, p12, p3, p5, p2, p4, p5, p9),And(p1, p3, p10, p3, p11, p12, p3, p5, p9, p3, p3, p3),And(p1, p3, p10, p3, p11, p12, p3, p5, p9, p3, p3, p9),And(p1, p3, p10, p3, p11, p12, p3, p5, p9, p3, p5, p3),And(p1, p3, p10, p3, p11, p12, p3, p5, p9, p3, p5, p9),And(p1, p3, p10, p3, p11, p12, p3, p5, p9, p4, p3, p3),And(p1, p3, p10, p3, p11, p12, p3, p5, p9, p4, p3, p9),And(p1, p3, p10, p3, p11, p12, p3, p5, p9, p4, p5, p3),And(p1, p3, p10, p3, p11, p12, p3, p5, p9, p4, p5, p9),And(p1, p3, p10, p3, p11, p7, p2, p2, p2, p3, p3, p3),And(p1, p3, p10, p3, p11, p7, p2, p2, p2, p3, p3, p9),And(p1, p3, p10, p3, p11, p7, p2, p2, p2, p3, p5, p3),And(p1, p3, p10, p3, p11, p7, p2, p2, p2, p3, p5, p9),And(p1, p3, p10, p3, p11, p7, p2, p2, p2, p4, p3, p3),And(p1, p3, p10, p3, p11, p7, p2, p2, p2, p4, p3, p9),And(p1, p3, p10, p3, p11, p7, p2, p2, p2, p4, p5, p3),And(p1, p3, p10, p3, p11, p7, p2, p2, p2, p4, p5, p9),And(p1, p3, p10, p3, p11, p7, p2, p2, p9, p3, p3, p3),And(p1, p3, p10, p3, p11, p7, p2, p2, p9, p3, p3, p9),And(p1, p3, p10, p3, p11, p7, p2, p2, p9, p3, p5, p3),And(p1, p3, p10, p3, p11, p7, p2, p2, p9, p3, p5, p9),And(p1, p3, p10, p3, p11, p7, p2, p2, p9, p4, p3, p3),And(p1, p3, p10, p3, p11, p7, p2, p2, p9, p4, p3, p9),And(p1, p3, p10, p3, p11, p7, p2, p2, p9, p4, p5, p3),And(p1, p3, p10, p3, p11, p7, p2, p2, p9, p4, p5, p9),And(p1, p3, p10, p3, p11, p7, p2, p5, p2, p3, p3, p3),And(p1, p3, p10, p3, p11, p7, p2, p5, p2, p3, p3, p9),And(p1, p3, p10, p3, p11, p7, p2, p5, p2, p3, p5, p3),And(p1, p3, p10, p3, p11, p7, p2, p5, p2, p3, p5, p9),And(p1, p3, p10, p3, p11, p7, p2, p5, p2, p4, p3, p3),And(p1, p3, p10, p3, p11, p7, p2, p5, p2, p4, p3, p9),And(p1, p3, p10, p3, p11, p7, p2, p5, p2, p4, p5, p3),And(p1, p3, p10, p3, p11, p7, p2, p5, p2, p4, p5, p9),And(p1, p3, p10, p3, p11, p7, p2, p5, p9, p3, p3, p3),And(p1, p3, p10, p3, p11, p7, p2, p5, p9, p3, p3, p9),And(p1, p3, p10, p3, p11, p7, p2, p5, p9, p3, p5, p3),And(p1, p3, p10, p3, p11, p7, p2, p5, p9, p3, p5, p9),And(p1, p3, p10, p3, p11, p7, p2, p5, p9, p4, p3, p3),And(p1, p3, p10, p3, p11, p7, p2, p5, p9, p4, p3, p9),And(p1, p3, p10, p3, p11, p7, p2, p5, p9, p4, p5, p3),And(p1, p3, p10, p3, p11, p7, p2, p5, p9, p4, p5, p9),And(p1, p3, p10, p3, p11, p7, p3, p2, p2, p3, p3, p3),And(p1, p3, p10, p3, p11, p7, p3, p2, p2, p3, p3, p9),And(p1, p3, p10, p3, p11, p7, p3, p2, p2, p3, p5, p3),And(p1, p3, p10, p3, p11, p7, p3, p2, p2, p3, p5, p9),And(p1, p3, p10, p3, p11, p7, p3, p2, p2, p4, p3, p3),And(p1, p3, p10, p3, p11, p7, p3, p2, p2, p4, p3, p9),And(p1, p3, p10, p3, p11, p7, p3, p2, p2, p4, p5, p3),And(p1, p3, p10, p3, p11, p7, p3, p2, p2, p4, p5, p9),And(p1, p3, p10, p3, p11, p7, p3, p2, p9, p3, p3, p3),And(p1, p3, p10, p3, p11, p7, p3, p2, p9, p3, p3, p9),And(p1, p3, p10, p3, p11, p7, p3, p2, p9, p3, p5, p3),And(p1, p3, p10, p3, p11, p7, p3, p2, p9, p3, p5, p9),And(p1, p3, p10, p3, p11, p7, p3, p2, p9, p4, p3, p3),And(p1, p3, p10, p3, p11, p7, p3, p2, p9, p4, p3, p9),And(p1, p3, p10, p3, p11, p7, p3, p2, p9, p4, p5, p3),And(p1, p3, p10, p3, p11, p7, p3, p2, p9, p4, p5, p9),And(p1, p3, p10, p3, p11, p7, p3, p5, p2, p3, p3, p3),And(p1, p3, p10, p3, p11, p7, p3, p5, p2, p3, p3, p9),And(p1, p3, p10, p3, p11, p7, p3, p5, p2, p3, p5, p3),And(p1, p3, p10, p3, p11, p7, p3, p5, p2, p3, p5, p9),And(p1, p3, p10, p3, p11, p7, p3, p5, p2, p4, p3, p3),And(p1, p3, p10, p3, p11, p7, p3, p5, p2, p4, p3, p9),And(p1, p3, p10, p3, p11, p7, p3, p5, p2, p4, p5, p3),And(p1, p3, p10, p3, p11, p7, p3, p5, p2, p4, p5, p9),And(p1, p3, p10, p3, p11, p7, p3, p5, p9, p3, p3, p3),And(p1, p3, p10, p3, p11, p7, p3, p5, p9, p3, p3, p9),And(p1, p3, p10, p3, p11, p7, p3, p5, p9, p3, p5, p3),And(p1, p3, p10, p3, p11, p7, p3, p5, p9, p3, p5, p9),And(p1, p3, p10, p3, p11, p7, p3, p5, p9, p4, p3, p3),And(p1, p3, p10, p3, p11, p7, p3, p5, p9, p4, p3, p9),And(p1, p3, p10, p3, p11, p7, p3, p5, p9, p4, p5, p3),And(p1, p3, p10, p3, p11, p7, p3, p5, p9, p4, p5, p9),And(p1, p3, p10, p3, p3, p12, p2, p2, p2, p3, p3, p3),And(p1, p3, p10, p3, p3, p12, p2, p2, p2, p3, p3, p9),And(p1, p3, p10, p3, p3, p12, p2, p2, p2, p3, p5, p3),And(p1, p3, p10, p3, p3, p12, p2, p2, p2, p3, p5, p9),And(p1, p3, p10, p3, p3, p12, p2, p2, p2, p4, p3, p3),And(p1, p3, p10, p3, p3, p12, p2, p2, p2, p4, p3, p9),And(p1, p3, p10, p3, p3, p12, p2, p2, p2, p4, p5, p3),And(p1, p3, p10, p3, p3, p12, p2, p2, p2, p4, p5, p9),And(p1, p3, p10, p3, p3, p12, p2, p2, p9, p3, p3, p3),And(p1, p3, p10, p3, p3, p12, p2, p2, p9, p3, p3, p9),And(p1, p3, p10, p3, p3, p12, p2, p2, p9, p3, p5, p3),And(p1, p3, p10, p3, p3, p12, p2, p2, p9, p3, p5, p9),And(p1, p3, p10, p3, p3, p12, p2, p2, p9, p4, p3, p3),And(p1, p3, p10, p3, p3, p12, p2, p2, p9, p4, p3, p9),And(p1, p3, p10, p3, p3, p12, p2, p2, p9, p4, p5, p3),And(p1, p3, p10, p3, p3, p12, p2, p2, p9, p4, p5, p9),And(p1, p3, p10, p3, p3, p12, p2, p5, p2, p3, p3, p3),And(p1, p3, p10, p3, p3, p12, p2, p5, p2, p3, p3, p9),And(p1, p3, p10, p3, p3, p12, p2, p5, p2, p3, p5, p3),And(p1, p3, p10, p3, p3, p12, p2, p5, p2, p3, p5, p9),And(p1, p3, p10, p3, p3, p12, p2, p5, p2, p4, p3, p3),And(p1, p3, p10, p3, p3, p12, p2, p5, p2, p4, p3, p9),And(p1, p3, p10, p3, p3, p12, p2, p5, p2, p4, p5, p3),And(p1, p3, p10, p3, p3, p12, p2, p5, p2, p4, p5, p9),And(p1, p3, p10, p3, p3, p12, p2, p5, p9, p3, p3, p3),And(p1, p3, p10, p3, p3, p12, p2, p5, p9, p3, p3, p9),And(p1, p3, p10, p3, p3, p12, p2, p5, p9, p3, p5, p3),And(p1, p3, p10, p3, p3, p12, p2, p5, p9, p3, p5, p9),And(p1, p3, p10, p3, p3, p12, p2, p5, p9, p4, p3, p3),And(p1, p3, p10, p3, p3, p12, p2, p5, p9, p4, p3, p9),And(p1, p3, p10, p3, p3, p12, p2, p5, p9, p4, p5, p3),And(p1, p3, p10, p3, p3, p12, p2, p5, p9, p4, p5, p9),And(p1, p3, p10, p3, p3, p12, p3, p2, p2, p3, p3, p3),And(p1, p3, p10, p3, p3, p12, p3, p2, p2, p3, p3, p9),And(p1, p3, p10, p3, p3, p12, p3, p2, p2, p3, p5, p3),And(p1, p3, p10, p3, p3, p12, p3, p2, p2, p3, p5, p9),And(p1, p3, p10, p3, p3, p12, p3, p2, p2, p4, p3, p3),And(p1, p3, p10, p3, p3, p12, p3, p2, p2, p4, p3, p9),And(p1, p3, p10, p3, p3, p12, p3, p2, p2, p4, p5, p3),And(p1, p3, p10, p3, p3, p12, p3, p2, p2, p4, p5, p9),And(p1, p3, p10, p3, p3, p12, p3, p2, p9, p3, p3, p3),And(p1, p3, p10, p3, p3, p12, p3, p2, p9, p3, p3, p9),And(p1, p3, p10, p3, p3, p12, p3, p2, p9, p3, p5, p3),And(p1, p3, p10, p3, p3, p12, p3, p2, p9, p3, p5, p9),And(p1, p3, p10, p3, p3, p12, p3, p2, p9, p4, p3, p3),And(p1, p3, p10, p3, p3, p12, p3, p2, p9, p4, p3, p9),And(p1, p3, p10, p3, p3, p12, p3, p2, p9, p4, p5, p3),And(p1, p3, p10, p3, p3, p12, p3, p2, p9, p4, p5, p9),And(p1, p3, p10, p3, p3, p12, p3, p5, p2, p3, p3, p3),And(p1, p3, p10, p3, p3, p12, p3, p5, p2, p3, p3, p9),And(p1, p3, p10, p3, p3, p12, p3, p5, p2, p3, p5, p3),And(p1, p3, p10, p3, p3, p12, p3, p5, p2, p3, p5, p9),And(p1, p3, p10, p3, p3, p12, p3, p5, p2, p4, p3, p3),And(p1, p3, p10, p3, p3, p12, p3, p5, p2, p4, p3, p9),And(p1, p3, p10, p3, p3, p12, p3, p5, p2, p4, p5, p3),And(p1, p3, p10, p3, p3, p12, p3, p5, p2, p4, p5, p9),And(p1, p3, p10, p3, p3, p12, p3, p5, p9, p3, p3, p3),And(p1, p3, p10, p3, p3, p12, p3, p5, p9, p3, p3, p9),And(p1, p3, p10, p3, p3, p12, p3, p5, p9, p3, p5, p3),And(p1, p3, p10, p3, p3, p12, p3, p5, p9, p3, p5, p9),And(p1, p3, p10, p3, p3, p12, p3, p5, p9, p4, p3, p3),And(p1, p3, p10, p3, p3, p12, p3, p5, p9, p4, p3, p9),And(p1, p3, p10, p3, p3, p12, p3, p5, p9, p4, p5, p3),And(p1, p3, p10, p3, p3, p12, p3, p5, p9, p4, p5, p9),And(p1, p3, p10, p3, p3, p7, p2, p2, p2, p3, p3, p3),And(p1, p3, p10, p3, p3, p7, p2, p2, p2, p3, p3, p9),And(p1, p3, p10, p3, p3, p7, p2, p2, p2, p3, p5, p3),And(p1, p3, p10, p3, p3, p7, p2, p2, p2, p3, p5, p9),And(p1, p3, p10, p3, p3, p7, p2, p2, p2, p4, p3, p3),And(p1, p3, p10, p3, p3, p7, p2, p2, p2, p4, p3, p9),And(p1, p3, p10, p3, p3, p7, p2, p2, p2, p4, p5, p3),And(p1, p3, p10, p3, p3, p7, p2, p2, p2, p4, p5, p9),And(p1, p3, p10, p3, p3, p7, p2, p2, p9, p3, p3, p3),And(p1, p3, p10, p3, p3, p7, p2, p2, p9, p3, p3, p9),And(p1, p3, p10, p3, p3, p7, p2, p2, p9, p3, p5, p3),And(p1, p3, p10, p3, p3, p7, p2, p2, p9, p3, p5, p9),And(p1, p3, p10, p3, p3, p7, p2, p2, p9, p4, p3, p3),And(p1, p3, p10, p3, p3, p7, p2, p2, p9, p4, p3, p9),And(p1, p3, p10, p3, p3, p7, p2, p2, p9, p4, p5, p3),And(p1, p3, p10, p3, p3, p7, p2, p2, p9, p4, p5, p9),And(p1, p3, p10, p3, p3, p7, p2, p5, p2, p3, p3, p3),And(p1, p3, p10, p3, p3, p7, p2, p5, p2, p3, p3, p9),And(p1, p3, p10, p3, p3, p7, p2, p5, p2, p3, p5, p3),And(p1, p3, p10, p3, p3, p7, p2, p5, p2, p3, p5, p9),And(p1, p3, p10, p3, p3, p7, p2, p5, p2, p4, p3, p3),And(p1, p3, p10, p3, p3, p7, p2, p5, p2, p4, p3, p9),And(p1, p3, p10, p3, p3, p7, p2, p5, p2, p4, p5, p3),And(p1, p3, p10, p3, p3, p7, p2, p5, p2, p4, p5, p9),And(p1, p3, p10, p3, p3, p7, p2, p5, p9, p3, p3, p3),And(p1, p3, p10, p3, p3, p7, p2, p5, p9, p3, p3, p9),And(p1, p3, p10, p3, p3, p7, p2, p5, p9, p3, p5, p3),And(p1, p3, p10, p3, p3, p7, p2, p5, p9, p3, p5, p9),And(p1, p3, p10, p3, p3, p7, p2, p5, p9, p4, p3, p3),And(p1, p3, p10, p3, p3, p7, p2, p5, p9, p4, p3, p9),And(p1, p3, p10, p3, p3, p7, p2, p5, p9, p4, p5, p3),And(p1, p3, p10, p3, p3, p7, p2, p5, p9, p4, p5, p9),And(p1, p3, p10, p3, p3, p7, p3, p2, p2, p3, p3, p3),And(p1, p3, p10, p3, p3, p7, p3, p2, p2, p3, p3, p9),And(p1, p3, p10, p3, p3, p7, p3, p2, p2, p3, p5, p3),And(p1, p3, p10, p3, p3, p7, p3, p2, p2, p3, p5, p9),And(p1, p3, p10, p3, p3, p7, p3, p2, p2, p4, p3, p3),And(p1, p3, p10, p3, p3, p7, p3, p2, p2, p4, p3, p9),And(p1, p3, p10, p3, p3, p7, p3, p2, p2, p4, p5, p3),And(p1, p3, p10, p3, p3, p7, p3, p2, p2, p4, p5, p9),And(p1, p3, p10, p3, p3, p7, p3, p2, p9, p3, p3, p3),And(p1, p3, p10, p3, p3, p7, p3, p2, p9, p3, p3, p9),And(p1, p3, p10, p3, p3, p7, p3, p2, p9, p3, p5, p3),And(p1, p3, p10, p3, p3, p7, p3, p2, p9, p3, p5, p9),And(p1, p3, p10, p3, p3, p7, p3, p2, p9, p4, p3, p3),And(p1, p3, p10, p3, p3, p7, p3, p2, p9, p4, p3, p9),And(p1, p3, p10, p3, p3, p7, p3, p2, p9, p4, p5, p3),And(p1, p3, p10, p3, p3, p7, p3, p2, p9, p4, p5, p9),And(p1, p3, p10, p3, p3, p7, p3, p5, p2, p3, p3, p3),And(p1, p3, p10, p3, p3, p7, p3, p5, p2, p3, p3, p9),And(p1, p3, p10, p3, p3, p7, p3, p5, p2, p3, p5, p3),And(p1, p3, p10, p3, p3, p7, p3, p5, p2, p3, p5, p9),And(p1, p3, p10, p3, p3, p7, p3, p5, p2, p4, p3, p3),And(p1, p3, p10, p3, p3, p7, p3, p5, p2, p4, p3, p9),And(p1, p3, p10, p3, p3, p7, p3, p5, p2, p4, p5, p3),And(p1, p3, p10, p3, p3, p7, p3, p5, p2, p4, p5, p9),And(p1, p3, p10, p3, p3, p7, p3, p5, p9, p3, p3, p3),And(p1, p3, p10, p3, p3, p7, p3, p5, p9, p3, p3, p9),And(p1, p3, p10, p3, p3, p7, p3, p5, p9, p3, p5, p3),And(p1, p3, p10, p3, p3, p7, p3, p5, p9, p3, p5, p9),And(p1, p3, p10, p3, p3, p7, p3, p5, p9, p4, p3, p3),And(p1, p3, p10, p3, p3, p7, p3, p5, p9, p4, p3, p9),And(p1, p3, p10, p3, p3, p7, p3, p5, p9, p4, p5, p3),And(p1, p3, p10, p3, p3, p7, p3, p5, p9, p4, p5, p9),And(p1, p3, p11, p10, p11, p12, p2, p2, p2, p3, p3, p3),And(p1, p3, p11, p10, p11, p12, p2, p2, p2, p3, p3, p9),And(p1, p3, p11, p10, p11, p12, p2, p2, p2, p3, p5, p3),And(p1, p3, p11, p10, p11, p12, p2, p2, p2, p3, p5, p9),And(p1, p3, p11, p10, p11, p12, p2, p2, p2, p4, p3, p3),And(p1, p3, p11, p10, p11, p12, p2, p2, p2, p4, p3, p9),And(p1, p3, p11, p10, p11, p12, p2, p2, p2, p4, p5, p3),And(p1, p3, p11, p10, p11, p12, p2, p2, p2, p4, p5, p9),And(p1, p3, p11, p10, p11, p12, p2, p2, p9, p3, p3, p3),And(p1, p3, p11, p10, p11, p12, p2, p2, p9, p3, p3, p9),And(p1, p3, p11, p10, p11, p12, p2, p2, p9, p3, p5, p3),And(p1, p3, p11, p10, p11, p12, p2, p2, p9, p3, p5, p9),And(p1, p3, p11, p10, p11, p12, p2, p2, p9, p4, p3, p3),And(p1, p3, p11, p10, p11, p12, p2, p2, p9, p4, p3, p9),And(p1, p3, p11, p10, p11, p12, p2, p2, p9, p4, p5, p3),And(p1, p3, p11, p10, p11, p12, p2, p2, p9, p4, p5, p9),And(p1, p3, p11, p10, p11, p12, p2, p5, p2, p3, p3, p3),And(p1, p3, p11, p10, p11, p12, p2, p5, p2, p3, p3, p9),And(p1, p3, p11, p10, p11, p12, p2, p5, p2, p3, p5, p3),And(p1, p3, p11, p10, p11, p12, p2, p5, p2, p3, p5, p9),And(p1, p3, p11, p10, p11, p12, p2, p5, p2, p4, p3, p3),And(p1, p3, p11, p10, p11, p12, p2, p5, p2, p4, p3, p9),And(p1, p3, p11, p10, p11, p12, p2, p5, p2, p4, p5, p3),And(p1, p3, p11, p10, p11, p12, p2, p5, p2, p4, p5, p9),And(p1, p3, p11, p10, p11, p12, p2, p5, p9, p3, p3, p3),And(p1, p3, p11, p10, p11, p12, p2, p5, p9, p3, p3, p9),And(p1, p3, p11, p10, p11, p12, p2, p5, p9, p3, p5, p3),And(p1, p3, p11, p10, p11, p12, p2, p5, p9, p3, p5, p9),And(p1, p3, p11, p10, p11, p12, p2, p5, p9, p4, p3, p3),And(p1, p3, p11, p10, p11, p12, p2, p5, p9, p4, p3, p9),And(p1, p3, p11, p10, p11, p12, p2, p5, p9, p4, p5, p3),And(p1, p3, p11, p10, p11, p12, p2, p5, p9, p4, p5, p9),And(p1, p3, p11, p10, p11, p12, p3, p2, p2, p3, p3, p3),And(p1, p3, p11, p10, p11, p12, p3, p2, p2, p3, p3, p9),And(p1, p3, p11, p10, p11, p12, p3, p2, p2, p3, p5, p3),And(p1, p3, p11, p10, p11, p12, p3, p2, p2, p3, p5, p9),And(p1, p3, p11, p10, p11, p12, p3, p2, p2, p4, p3, p3),And(p1, p3, p11, p10, p11, p12, p3, p2, p2, p4, p3, p9),And(p1, p3, p11, p10, p11, p12, p3, p2, p2, p4, p5, p3),And(p1, p3, p11, p10, p11, p12, p3, p2, p2, p4, p5, p9),And(p1, p3, p11, p10, p11, p12, p3, p2, p9, p3, p3, p3),And(p1, p3, p11, p10, p11, p12, p3, p2, p9, p3, p3, p9),And(p1, p3, p11, p10, p11, p12, p3, p2, p9, p3, p5, p3),And(p1, p3, p11, p10, p11, p12, p3, p2, p9, p3, p5, p9),And(p1, p3, p11, p10, p11, p12, p3, p2, p9, p4, p3, p3),And(p1, p3, p11, p10, p11, p12, p3, p2, p9, p4, p3, p9),And(p1, p3, p11, p10, p11, p12, p3, p2, p9, p4, p5, p3),And(p1, p3, p11, p10, p11, p12, p3, p2, p9, p4, p5, p9),And(p1, p3, p11, p10, p11, p12, p3, p5, p2, p3, p3, p3),And(p1, p3, p11, p10, p11, p12, p3, p5, p2, p3, p3, p9),And(p1, p3, p11, p10, p11, p12, p3, p5, p2, p3, p5, p3),And(p1, p3, p11, p10, p11, p12, p3, p5, p2, p3, p5, p9),And(p1, p3, p11, p10, p11, p12, p3, p5, p2, p4, p3, p3),And(p1, p3, p11, p10, p11, p12, p3, p5, p2, p4, p3, p9),And(p1, p3, p11, p10, p11, p12, p3, p5, p2, p4, p5, p3),And(p1, p3, p11, p10, p11, p12, p3, p5, p2, p4, p5, p9),And(p1, p3, p11, p10, p11, p12, p3, p5, p9, p3, p3, p3),And(p1, p3, p11, p10, p11, p12, p3, p5, p9, p3, p3, p9),And(p1, p3, p11, p10, p11, p12, p3, p5, p9, p3, p5, p3),And(p1, p3, p11, p10, p11, p12, p3, p5, p9, p3, p5, p9),And(p1, p3, p11, p10, p11, p12, p3, p5, p9, p4, p3, p3),And(p1, p3, p11, p10, p11, p12, p3, p5, p9, p4, p3, p9),And(p1, p3, p11, p10, p11, p12, p3, p5, p9, p4, p5, p3),And(p1, p3, p11, p10, p11, p12, p3, p5, p9, p4, p5, p9),And(p1, p3, p11, p10, p11, p7, p2, p2, p2, p3, p3, p3),And(p1, p3, p11, p10, p11, p7, p2, p2, p2, p3, p3, p9),And(p1, p3, p11, p10, p11, p7, p2, p2, p2, p3, p5, p3),And(p1, p3, p11, p10, p11, p7, p2, p2, p2, p3, p5, p9),And(p1, p3, p11, p10, p11, p7, p2, p2, p2, p4, p3, p3),And(p1, p3, p11, p10, p11, p7, p2, p2, p2, p4, p3, p9),And(p1, p3, p11, p10, p11, p7, p2, p2, p2, p4, p5, p3),And(p1, p3, p11, p10, p11, p7, p2, p2, p2, p4, p5, p9),And(p1, p3, p11, p10, p11, p7, p2, p2, p9, p3, p3, p3),And(p1, p3, p11, p10, p11, p7, p2, p2, p9, p3, p3, p9),And(p1, p3, p11, p10, p11, p7, p2, p2, p9, p3, p5, p3),And(p1, p3, p11, p10, p11, p7, p2, p2, p9, p3, p5, p9),And(p1, p3, p11, p10, p11, p7, p2, p2, p9, p4, p3, p3),And(p1, p3, p11, p10, p11, p7, p2, p2, p9, p4, p3, p9),And(p1, p3, p11, p10, p11, p7, p2, p2, p9, p4, p5, p3),And(p1, p3, p11, p10, p11, p7, p2, p2, p9, p4, p5, p9),And(p1, p3, p11, p10, p11, p7, p2, p5, p2, p3, p3, p3),And(p1, p3, p11, p10, p11, p7, p2, p5, p2, p3, p3, p9),And(p1, p3, p11, p10, p11, p7, p2, p5, p2, p3, p5, p3),And(p1, p3, p11, p10, p11, p7, p2, p5, p2, p3, p5, p9),And(p1, p3, p11, p10, p11, p7, p2, p5, p2, p4, p3, p3),And(p1, p3, p11, p10, p11, p7, p2, p5, p2, p4, p3, p9),And(p1, p3, p11, p10, p11, p7, p2, p5, p2, p4, p5, p3),And(p1, p3, p11, p10, p11, p7, p2, p5, p2, p4, p5, p9),And(p1, p3, p11, p10, p11, p7, p2, p5, p9, p3, p3, p3),And(p1, p3, p11, p10, p11, p7, p2, p5, p9, p3, p3, p9),And(p1, p3, p11, p10, p11, p7, p2, p5, p9, p3, p5, p3),And(p1, p3, p11, p10, p11, p7, p2, p5, p9, p3, p5, p9),And(p1, p3, p11, p10, p11, p7, p2, p5, p9, p4, p3, p3),And(p1, p3, p11, p10, p11, p7, p2, p5, p9, p4, p3, p9),And(p1, p3, p11, p10, p11, p7, p2, p5, p9, p4, p5, p3),And(p1, p3, p11, p10, p11, p7, p2, p5, p9, p4, p5, p9),And(p1, p3, p11, p10, p11, p7, p3, p2, p2, p3, p3, p3),And(p1, p3, p11, p10, p11, p7, p3, p2, p2, p3, p3, p9),And(p1, p3, p11, p10, p11, p7, p3, p2, p2, p3, p5, p3),And(p1, p3, p11, p10, p11, p7, p3, p2, p2, p3, p5, p9),And(p1, p3, p11, p10, p11, p7, p3, p2, p2, p4, p3, p3),And(p1, p3, p11, p10, p11, p7, p3, p2, p2, p4, p3, p9),And(p1, p3, p11, p10, p11, p7, p3, p2, p2, p4, p5, p3),And(p1, p3, p11, p10, p11, p7, p3, p2, p2, p4, p5, p9),And(p1, p3, p11, p10, p11, p7, p3, p2, p9, p3, p3, p3),And(p1, p3, p11, p10, p11, p7, p3, p2, p9, p3, p3, p9),And(p1, p3, p11, p10, p11, p7, p3, p2, p9, p3, p5, p3),And(p1, p3, p11, p10, p11, p7, p3, p2, p9, p3, p5, p9),And(p1, p3, p11, p10, p11, p7, p3, p2, p9, p4, p3, p3),And(p1, p3, p11, p10, p11, p7, p3, p2, p9, p4, p3, p9),And(p1, p3, p11, p10, p11, p7, p3, p2, p9, p4, p5, p3),And(p1, p3, p11, p10, p11, p7, p3, p2, p9, p4, p5, p9),And(p1, p3, p11, p10, p11, p7, p3, p5, p2, p3, p3, p3),And(p1, p3, p11, p10, p11, p7, p3, p5, p2, p3, p3, p9),And(p1, p3, p11, p10, p11, p7, p3, p5, p2, p3, p5, p3),And(p1, p3, p11, p10, p11, p7, p3, p5, p2, p3, p5, p9),And(p1, p3, p11, p10, p11, p7, p3, p5, p2, p4, p3, p3),And(p1, p3, p11, p10, p11, p7, p3, p5, p2, p4, p3, p9),And(p1, p3, p11, p10, p11, p7, p3, p5, p2, p4, p5, p3),And(p1, p3, p11, p10, p11, p7, p3, p5, p2, p4, p5, p9),And(p1, p3, p11, p10, p11, p7, p3, p5, p9, p3, p3, p3),And(p1, p3, p11, p10, p11, p7, p3, p5, p9, p3, p3, p9),And(p1, p3, p11, p10, p11, p7, p3, p5, p9, p3, p5, p3),And(p1, p3, p11, p10, p11, p7, p3, p5, p9, p3, p5, p9),And(p1, p3, p11, p10, p11, p7, p3, p5, p9, p4, p3, p3),And(p1, p3, p11, p10, p11, p7, p3, p5, p9, p4, p3, p9),And(p1, p3, p11, p10, p11, p7, p3, p5, p9, p4, p5, p3),And(p1, p3, p11, p10, p11, p7, p3, p5, p9, p4, p5, p9),And(p1, p3, p11, p10, p3, p12, p2, p2, p2, p3, p3, p3),And(p1, p3, p11, p10, p3, p12, p2, p2, p2, p3, p3, p9),And(p1, p3, p11, p10, p3, p12, p2, p2, p2, p3, p5, p3),And(p1, p3, p11, p10, p3, p12, p2, p2, p2, p3, p5, p9),And(p1, p3, p11, p10, p3, p12, p2, p2, p2, p4, p3, p3),And(p1, p3, p11, p10, p3, p12, p2, p2, p2, p4, p3, p9),And(p1, p3, p11, p10, p3, p12, p2, p2, p2, p4, p5, p3),And(p1, p3, p11, p10, p3, p12, p2, p2, p2, p4, p5, p9),And(p1, p3, p11, p10, p3, p12, p2, p2, p9, p3, p3, p3),And(p1, p3, p11, p10, p3, p12, p2, p2, p9, p3, p3, p9),And(p1, p3, p11, p10, p3, p12, p2, p2, p9, p3, p5, p3),And(p1, p3, p11, p10, p3, p12, p2, p2, p9, p3, p5, p9),And(p1, p3, p11, p10, p3, p12, p2, p2, p9, p4, p3, p3),And(p1, p3, p11, p10, p3, p12, p2, p2, p9, p4, p3, p9),And(p1, p3, p11, p10, p3, p12, p2, p2, p9, p4, p5, p3),And(p1, p3, p11, p10, p3, p12, p2, p2, p9, p4, p5, p9),And(p1, p3, p11, p10, p3, p12, p2, p5, p2, p3, p3, p3),And(p1, p3, p11, p10, p3, p12, p2, p5, p2, p3, p3, p9),And(p1, p3, p11, p10, p3, p12, p2, p5, p2, p3, p5, p3),And(p1, p3, p11, p10, p3, p12, p2, p5, p2, p3, p5, p9),And(p1, p3, p11, p10, p3, p12, p2, p5, p2, p4, p3, p3),And(p1, p3, p11, p10, p3, p12, p2, p5, p2, p4, p3, p9),And(p1, p3, p11, p10, p3, p12, p2, p5, p2, p4, p5, p3),And(p1, p3, p11, p10, p3, p12, p2, p5, p2, p4, p5, p9),And(p1, p3, p11, p10, p3, p12, p2, p5, p9, p3, p3, p3),And(p1, p3, p11, p10, p3, p12, p2, p5, p9, p3, p3, p9),And(p1, p3, p11, p10, p3, p12, p2, p5, p9, p3, p5, p3),And(p1, p3, p11, p10, p3, p12, p2, p5, p9, p3, p5, p9),And(p1, p3, p11, p10, p3, p12, p2, p5, p9, p4, p3, p3),And(p1, p3, p11, p10, p3, p12, p2, p5, p9, p4, p3, p9),And(p1, p3, p11, p10, p3, p12, p2, p5, p9, p4, p5, p3),And(p1, p3, p11, p10, p3, p12, p2, p5, p9, p4, p5, p9),And(p1, p3, p11, p10, p3, p12, p3, p2, p2, p3, p3, p3),And(p1, p3, p11, p10, p3, p12, p3, p2, p2, p3, p3, p9),And(p1, p3, p11, p10, p3, p12, p3, p2, p2, p3, p5, p3),And(p1, p3, p11, p10, p3, p12, p3, p2, p2, p3, p5, p9),And(p1, p3, p11, p10, p3, p12, p3, p2, p2, p4, p3, p3),And(p1, p3, p11, p10, p3, p12, p3, p2, p2, p4, p3, p9),And(p1, p3, p11, p10, p3, p12, p3, p2, p2, p4, p5, p3),And(p1, p3, p11, p10, p3, p12, p3, p2, p2, p4, p5, p9),And(p1, p3, p11, p10, p3, p12, p3, p2, p9, p3, p3, p3),And(p1, p3, p11, p10, p3, p12, p3, p2, p9, p3, p3, p9),And(p1, p3, p11, p10, p3, p12, p3, p2, p9, p3, p5, p3),And(p1, p3, p11, p10, p3, p12, p3, p2, p9, p3, p5, p9),And(p1, p3, p11, p10, p3, p12, p3, p2, p9, p4, p3, p3),And(p1, p3, p11, p10, p3, p12, p3, p2, p9, p4, p3, p9),And(p1, p3, p11, p10, p3, p12, p3, p2, p9, p4, p5, p3),And(p1, p3, p11, p10, p3, p12, p3, p2, p9, p4, p5, p9),And(p1, p3, p11, p10, p3, p12, p3, p5, p2, p3, p3, p3),And(p1, p3, p11, p10, p3, p12, p3, p5, p2, p3, p3, p9),And(p1, p3, p11, p10, p3, p12, p3, p5, p2, p3, p5, p3),And(p1, p3, p11, p10, p3, p12, p3, p5, p2, p3, p5, p9),And(p1, p3, p11, p10, p3, p12, p3, p5, p2, p4, p3, p3),And(p1, p3, p11, p10, p3, p12, p3, p5, p2, p4, p3, p9),And(p1, p3, p11, p10, p3, p12, p3, p5, p2, p4, p5, p3),And(p1, p3, p11, p10, p3, p12, p3, p5, p2, p4, p5, p9),And(p1, p3, p11, p10, p3, p12, p3, p5, p9, p3, p3, p3),And(p1, p3, p11, p10, p3, p12, p3, p5, p9, p3, p3, p9),And(p1, p3, p11, p10, p3, p12, p3, p5, p9, p3, p5, p3),And(p1, p3, p11, p10, p3, p12, p3, p5, p9, p3, p5, p9),And(p1, p3, p11, p10, p3, p12, p3, p5, p9, p4, p3, p3),And(p1, p3, p11, p10, p3, p12, p3, p5, p9, p4, p3, p9),And(p1, p3, p11, p10, p3, p12, p3, p5, p9, p4, p5, p3),And(p1, p3, p11, p10, p3, p12, p3, p5, p9, p4, p5, p9),And(p1, p3, p11, p10, p3, p7, p2, p2, p2, p3, p3, p3),And(p1, p3, p11, p10, p3, p7, p2, p2, p2, p3, p3, p9),And(p1, p3, p11, p10, p3, p7, p2, p2, p2, p3, p5, p3),And(p1, p3, p11, p10, p3, p7, p2, p2, p2, p3, p5, p9),And(p1, p3, p11, p10, p3, p7, p2, p2, p2, p4, p3, p3),And(p1, p3, p11, p10, p3, p7, p2, p2, p2, p4, p3, p9),And(p1, p3, p11, p10, p3, p7, p2, p2, p2, p4, p5, p3),And(p1, p3, p11, p10, p3, p7, p2, p2, p2, p4, p5, p9),And(p1, p3, p11, p10, p3, p7, p2, p2, p9, p3, p3, p3),And(p1, p3, p11, p10, p3, p7, p2, p2, p9, p3, p3, p9),And(p1, p3, p11, p10, p3, p7, p2, p2, p9, p3, p5, p3),And(p1, p3, p11, p10, p3, p7, p2, p2, p9, p3, p5, p9),And(p1, p3, p11, p10, p3, p7, p2, p2, p9, p4, p3, p3),And(p1, p3, p11, p10, p3, p7, p2, p2, p9, p4, p3, p9),And(p1, p3, p11, p10, p3, p7, p2, p2, p9, p4, p5, p3),And(p1, p3, p11, p10, p3, p7, p2, p2, p9, p4, p5, p9),And(p1, p3, p11, p10, p3, p7, p2, p5, p2, p3, p3, p3),And(p1, p3, p11, p10, p3, p7, p2, p5, p2, p3, p3, p9),And(p1, p3, p11, p10, p3, p7, p2, p5, p2, p3, p5, p3),And(p1, p3, p11, p10, p3, p7, p2, p5, p2, p3, p5, p9),And(p1, p3, p11, p10, p3, p7, p2, p5, p2, p4, p3, p3),And(p1, p3, p11, p10, p3, p7, p2, p5, p2, p4, p3, p9),And(p1, p3, p11, p10, p3, p7, p2, p5, p2, p4, p5, p3),And(p1, p3, p11, p10, p3, p7, p2, p5, p2, p4, p5, p9),And(p1, p3, p11, p10, p3, p7, p2, p5, p9, p3, p3, p3),And(p1, p3, p11, p10, p3, p7, p2, p5, p9, p3, p3, p9),And(p1, p3, p11, p10, p3, p7, p2, p5, p9, p3, p5, p3),And(p1, p3, p11, p10, p3, p7, p2, p5, p9, p3, p5, p9),And(p1, p3, p11, p10, p3, p7, p2, p5, p9, p4, p3, p3),And(p1, p3, p11, p10, p3, p7, p2, p5, p9, p4, p3, p9),And(p1, p3, p11, p10, p3, p7, p2, p5, p9, p4, p5, p3),And(p1, p3, p11, p10, p3, p7, p2, p5, p9, p4, p5, p9),And(p1, p3, p11, p10, p3, p7, p3, p2, p2, p3, p3, p3),And(p1, p3, p11, p10, p3, p7, p3, p2, p2, p3, p3, p9),And(p1, p3, p11, p10, p3, p7, p3, p2, p2, p3, p5, p3),And(p1, p3, p11, p10, p3, p7, p3, p2, p2, p3, p5, p9),And(p1, p3, p11, p10, p3, p7, p3, p2, p2, p4, p3, p3),And(p1, p3, p11, p10, p3, p7, p3, p2, p2, p4, p3, p9),And(p1, p3, p11, p10, p3, p7, p3, p2, p2, p4, p5, p3),And(p1, p3, p11, p10, p3, p7, p3, p2, p2, p4, p5, p9),And(p1, p3, p11, p10, p3, p7, p3, p2, p9, p3, p3, p3),And(p1, p3, p11, p10, p3, p7, p3, p2, p9, p3, p3, p9),And(p1, p3, p11, p10, p3, p7, p3, p2, p9, p3, p5, p3),And(p1, p3, p11, p10, p3, p7, p3, p2, p9, p3, p5, p9),And(p1, p3, p11, p10, p3, p7, p3, p2, p9, p4, p3, p3),And(p1, p3, p11, p10, p3, p7, p3, p2, p9, p4, p3, p9),And(p1, p3, p11, p10, p3, p7, p3, p2, p9, p4, p5, p3),And(p1, p3, p11, p10, p3, p7, p3, p2, p9, p4, p5, p9),And(p1, p3, p11, p10, p3, p7, p3, p5, p2, p3, p3, p3),And(p1, p3, p11, p10, p3, p7, p3, p5, p2, p3, p3, p9),And(p1, p3, p11, p10, p3, p7, p3, p5, p2, p3, p5, p3),And(p1, p3, p11, p10, p3, p7, p3, p5, p2, p3, p5, p9),And(p1, p3, p11, p10, p3, p7, p3, p5, p2, p4, p3, p3),And(p1, p3, p11, p10, p3, p7, p3, p5, p2, p4, p3, p9),And(p1, p3, p11, p10, p3, p7, p3, p5, p2, p4, p5, p3),And(p1, p3, p11, p10, p3, p7, p3, p5, p2, p4, p5, p9),And(p1, p3, p11, p10, p3, p7, p3, p5, p9, p3, p3, p3),And(p1, p3, p11, p10, p3, p7, p3, p5, p9, p3, p3, p9),And(p1, p3, p11, p10, p3, p7, p3, p5, p9, p3, p5, p3),And(p1, p3, p11, p10, p3, p7, p3, p5, p9, p3, p5, p9),And(p1, p3, p11, p10, p3, p7, p3, p5, p9, p4, p3, p3),And(p1, p3, p11, p10, p3, p7, p3, p5, p9, p4, p3, p9),And(p1, p3, p11, p10, p3, p7, p3, p5, p9, p4, p5, p3),And(p1, p3, p11, p10, p3, p7, p3, p5, p9, p4, p5, p9),And(p1, p3, p11, p3, p11, p12, p2, p2, p2, p3, p3, p3),And(p1, p3, p11, p3, p11, p12, p2, p2, p2, p3, p3, p9),And(p1, p3, p11, p3, p11, p12, p2, p2, p2, p3, p5, p3),And(p1, p3, p11, p3, p11, p12, p2, p2, p2, p3, p5, p9),And(p1, p3, p11, p3, p11, p12, p2, p2, p2, p4, p3, p3),And(p1, p3, p11, p3, p11, p12, p2, p2, p2, p4, p3, p9),And(p1, p3, p11, p3, p11, p12, p2, p2, p2, p4, p5, p3),And(p1, p3, p11, p3, p11, p12, p2, p2, p2, p4, p5, p9),And(p1, p3, p11, p3, p11, p12, p2, p2, p9, p3, p3, p3),And(p1, p3, p11, p3, p11, p12, p2, p2, p9, p3, p3, p9),And(p1, p3, p11, p3, p11, p12, p2, p2, p9, p3, p5, p3),And(p1, p3, p11, p3, p11, p12, p2, p2, p9, p3, p5, p9),And(p1, p3, p11, p3, p11, p12, p2, p2, p9, p4, p3, p3),And(p1, p3, p11, p3, p11, p12, p2, p2, p9, p4, p3, p9),And(p1, p3, p11, p3, p11, p12, p2, p2, p9, p4, p5, p3),And(p1, p3, p11, p3, p11, p12, p2, p2, p9, p4, p5, p9),And(p1, p3, p11, p3, p11, p12, p2, p5, p2, p3, p3, p3),And(p1, p3, p11, p3, p11, p12, p2, p5, p2, p3, p3, p9),And(p1, p3, p11, p3, p11, p12, p2, p5, p2, p3, p5, p3),And(p1, p3, p11, p3, p11, p12, p2, p5, p2, p3, p5, p9),And(p1, p3, p11, p3, p11, p12, p2, p5, p2, p4, p3, p3),And(p1, p3, p11, p3, p11, p12, p2, p5, p2, p4, p3, p9),And(p1, p3, p11, p3, p11, p12, p2, p5, p2, p4, p5, p3),And(p1, p3, p11, p3, p11, p12, p2, p5, p2, p4, p5, p9),And(p1, p3, p11, p3, p11, p12, p2, p5, p9, p3, p3, p3),And(p1, p3, p11, p3, p11, p12, p2, p5, p9, p3, p3, p9),And(p1, p3, p11, p3, p11, p12, p2, p5, p9, p3, p5, p3),And(p1, p3, p11, p3, p11, p12, p2, p5, p9, p3, p5, p9),And(p1, p3, p11, p3, p11, p12, p2, p5, p9, p4, p3, p3),And(p1, p3, p11, p3, p11, p12, p2, p5, p9, p4, p3, p9),And(p1, p3, p11, p3, p11, p12, p2, p5, p9, p4, p5, p3),And(p1, p3, p11, p3, p11, p12, p2, p5, p9, p4, p5, p9),And(p1, p3, p11, p3, p11, p12, p3, p2, p2, p3, p3, p3),And(p1, p3, p11, p3, p11, p12, p3, p2, p2, p3, p3, p9),And(p1, p3, p11, p3, p11, p12, p3, p2, p2, p3, p5, p3),And(p1, p3, p11, p3, p11, p12, p3, p2, p2, p3, p5, p9),And(p1, p3, p11, p3, p11, p12, p3, p2, p2, p4, p3, p3),And(p1, p3, p11, p3, p11, p12, p3, p2, p2, p4, p3, p9),And(p1, p3, p11, p3, p11, p12, p3, p2, p2, p4, p5, p3),And(p1, p3, p11, p3, p11, p12, p3, p2, p2, p4, p5, p9),And(p1, p3, p11, p3, p11, p12, p3, p2, p9, p3, p3, p3),And(p1, p3, p11, p3, p11, p12, p3, p2, p9, p3, p3, p9),And(p1, p3, p11, p3, p11, p12, p3, p2, p9, p3, p5, p3),And(p1, p3, p11, p3, p11, p12, p3, p2, p9, p3, p5, p9),And(p1, p3, p11, p3, p11, p12, p3, p2, p9, p4, p3, p3),And(p1, p3, p11, p3, p11, p12, p3, p2, p9, p4, p3, p9),And(p1, p3, p11, p3, p11, p12, p3, p2, p9, p4, p5, p3),And(p1, p3, p11, p3, p11, p12, p3, p2, p9, p4, p5, p9),And(p1, p3, p11, p3, p11, p12, p3, p5, p2, p3, p3, p3),And(p1, p3, p11, p3, p11, p12, p3, p5, p2, p3, p3, p9),And(p1, p3, p11, p3, p11, p12, p3, p5, p2, p3, p5, p3),And(p1, p3, p11, p3, p11, p12, p3, p5, p2, p3, p5, p9),And(p1, p3, p11, p3, p11, p12, p3, p5, p2, p4, p3, p3),And(p1, p3, p11, p3, p11, p12, p3, p5, p2, p4, p3, p9),And(p1, p3, p11, p3, p11, p12, p3, p5, p2, p4, p5, p3),And(p1, p3, p11, p3, p11, p12, p3, p5, p2, p4, p5, p9),And(p1, p3, p11, p3, p11, p12, p3, p5, p9, p3, p3, p3),And(p1, p3, p11, p3, p11, p12, p3, p5, p9, p3, p3, p9),And(p1, p3, p11, p3, p11, p12, p3, p5, p9, p3, p5, p3),And(p1, p3, p11, p3, p11, p12, p3, p5, p9, p3, p5, p9),And(p1, p3, p11, p3, p11, p12, p3, p5, p9, p4, p3, p3),And(p1, p3, p11, p3, p11, p12, p3, p5, p9, p4, p3, p9),And(p1, p3, p11, p3, p11, p12, p3, p5, p9, p4, p5, p3),And(p1, p3, p11, p3, p11, p12, p3, p5, p9, p4, p5, p9),And(p1, p3, p11, p3, p11, p7, p2, p2, p2, p3, p3, p3),And(p1, p3, p11, p3, p11, p7, p2, p2, p2, p3, p3, p9),And(p1, p3, p11, p3, p11, p7, p2, p2, p2, p3, p5, p3),And(p1, p3, p11, p3, p11, p7, p2, p2, p2, p3, p5, p9),And(p1, p3, p11, p3, p11, p7, p2, p2, p2, p4, p3, p3),And(p1, p3, p11, p3, p11, p7, p2, p2, p2, p4, p3, p9),And(p1, p3, p11, p3, p11, p7, p2, p2, p2, p4, p5, p3),And(p1, p3, p11, p3, p11, p7, p2, p2, p2, p4, p5, p9),And(p1, p3, p11, p3, p11, p7, p2, p2, p9, p3, p3, p3),And(p1, p3, p11, p3, p11, p7, p2, p2, p9, p3, p3, p9),And(p1, p3, p11, p3, p11, p7, p2, p2, p9, p3, p5, p3),And(p1, p3, p11, p3, p11, p7, p2, p2, p9, p3, p5, p9),And(p1, p3, p11, p3, p11, p7, p2, p2, p9, p4, p3, p3),And(p1, p3, p11, p3, p11, p7, p2, p2, p9, p4, p3, p9),And(p1, p3, p11, p3, p11, p7, p2, p2, p9, p4, p5, p3),And(p1, p3, p11, p3, p11, p7, p2, p2, p9, p4, p5, p9),And(p1, p3, p11, p3, p11, p7, p2, p5, p2, p3, p3, p3),And(p1, p3, p11, p3, p11, p7, p2, p5, p2, p3, p3, p9),And(p1, p3, p11, p3, p11, p7, p2, p5, p2, p3, p5, p3),And(p1, p3, p11, p3, p11, p7, p2, p5, p2, p3, p5, p9),And(p1, p3, p11, p3, p11, p7, p2, p5, p2, p4, p3, p3),And(p1, p3, p11, p3, p11, p7, p2, p5, p2, p4, p3, p9),And(p1, p3, p11, p3, p11, p7, p2, p5, p2, p4, p5, p3),And(p1, p3, p11, p3, p11, p7, p2, p5, p2, p4, p5, p9),And(p1, p3, p11, p3, p11, p7, p2, p5, p9, p3, p3, p3),And(p1, p3, p11, p3, p11, p7, p2, p5, p9, p3, p3, p9),And(p1, p3, p11, p3, p11, p7, p2, p5, p9, p3, p5, p3),And(p1, p3, p11, p3, p11, p7, p2, p5, p9, p3, p5, p9),And(p1, p3, p11, p3, p11, p7, p2, p5, p9, p4, p3, p3),And(p1, p3, p11, p3, p11, p7, p2, p5, p9, p4, p3, p9),And(p1, p3, p11, p3, p11, p7, p2, p5, p9, p4, p5, p3),And(p1, p3, p11, p3, p11, p7, p2, p5, p9, p4, p5, p9),And(p1, p3, p11, p3, p11, p7, p3, p2, p2, p3, p3, p3),And(p1, p3, p11, p3, p11, p7, p3, p2, p2, p3, p3, p9),And(p1, p3, p11, p3, p11, p7, p3, p2, p2, p3, p5, p3),And(p1, p3, p11, p3, p11, p7, p3, p2, p2, p3, p5, p9),And(p1, p3, p11, p3, p11, p7, p3, p2, p2, p4, p3, p3),And(p1, p3, p11, p3, p11, p7, p3, p2, p2, p4, p3, p9),And(p1, p3, p11, p3, p11, p7, p3, p2, p2, p4, p5, p3),And(p1, p3, p11, p3, p11, p7, p3, p2, p2, p4, p5, p9),And(p1, p3, p11, p3, p11, p7, p3, p2, p9, p3, p3, p3),And(p1, p3, p11, p3, p11, p7, p3, p2, p9, p3, p3, p9),And(p1, p3, p11, p3, p11, p7, p3, p2, p9, p3, p5, p3),And(p1, p3, p11, p3, p11, p7, p3, p2, p9, p3, p5, p9),And(p1, p3, p11, p3, p11, p7, p3, p2, p9, p4, p3, p3),And(p1, p3, p11, p3, p11, p7, p3, p2, p9, p4, p3, p9),And(p1, p3, p11, p3, p11, p7, p3, p2, p9, p4, p5, p3),And(p1, p3, p11, p3, p11, p7, p3, p2, p9, p4, p5, p9),And(p1, p3, p11, p3, p11, p7, p3, p5, p2, p3, p3, p3),And(p1, p3, p11, p3, p11, p7, p3, p5, p2, p3, p3, p9),And(p1, p3, p11, p3, p11, p7, p3, p5, p2, p3, p5, p3),And(p1, p3, p11, p3, p11, p7, p3, p5, p2, p3, p5, p9),And(p1, p3, p11, p3, p11, p7, p3, p5, p2, p4, p3, p3),And(p1, p3, p11, p3, p11, p7, p3, p5, p2, p4, p3, p9),And(p1, p3, p11, p3, p11, p7, p3, p5, p2, p4, p5, p3),And(p1, p3, p11, p3, p11, p7, p3, p5, p2, p4, p5, p9),And(p1, p3, p11, p3, p11, p7, p3, p5, p9, p3, p3, p3),And(p1, p3, p11, p3, p11, p7, p3, p5, p9, p3, p3, p9),And(p1, p3, p11, p3, p11, p7, p3, p5, p9, p3, p5, p3),And(p1, p3, p11, p3, p11, p7, p3, p5, p9, p3, p5, p9),And(p1, p3, p11, p3, p11, p7, p3, p5, p9, p4, p3, p3),And(p1, p3, p11, p3, p11, p7, p3, p5, p9, p4, p3, p9),And(p1, p3, p11, p3, p11, p7, p3, p5, p9, p4, p5, p3),And(p1, p3, p11, p3, p11, p7, p3, p5, p9, p4, p5, p9),And(p1, p3, p11, p3, p3, p12, p2, p2, p2, p3, p3, p3),And(p1, p3, p11, p3, p3, p12, p2, p2, p2, p3, p3, p9),And(p1, p3, p11, p3, p3, p12, p2, p2, p2, p3, p5, p3),And(p1, p3, p11, p3, p3, p12, p2, p2, p2, p3, p5, p9),And(p1, p3, p11, p3, p3, p12, p2, p2, p2, p4, p3, p3),And(p1, p3, p11, p3, p3, p12, p2, p2, p2, p4, p3, p9),And(p1, p3, p11, p3, p3, p12, p2, p2, p2, p4, p5, p3),And(p1, p3, p11, p3, p3, p12, p2, p2, p2, p4, p5, p9),And(p1, p3, p11, p3, p3, p12, p2, p2, p9, p3, p3, p3),And(p1, p3, p11, p3, p3, p12, p2, p2, p9, p3, p3, p9),And(p1, p3, p11, p3, p3, p12, p2, p2, p9, p3, p5, p3),And(p1, p3, p11, p3, p3, p12, p2, p2, p9, p3, p5, p9),And(p1, p3, p11, p3, p3, p12, p2, p2, p9, p4, p3, p3),And(p1, p3, p11, p3, p3, p12, p2, p2, p9, p4, p3, p9),And(p1, p3, p11, p3, p3, p12, p2, p2, p9, p4, p5, p3),And(p1, p3, p11, p3, p3, p12, p2, p2, p9, p4, p5, p9),And(p1, p3, p11, p3, p3, p12, p2, p5, p2, p3, p3, p3),And(p1, p3, p11, p3, p3, p12, p2, p5, p2, p3, p3, p9),And(p1, p3, p11, p3, p3, p12, p2, p5, p2, p3, p5, p3),And(p1, p3, p11, p3, p3, p12, p2, p5, p2, p3, p5, p9),And(p1, p3, p11, p3, p3, p12, p2, p5, p2, p4, p3, p3),And(p1, p3, p11, p3, p3, p12, p2, p5, p2, p4, p3, p9),And(p1, p3, p11, p3, p3, p12, p2, p5, p2, p4, p5, p3),And(p1, p3, p11, p3, p3, p12, p2, p5, p2, p4, p5, p9),And(p1, p3, p11, p3, p3, p12, p2, p5, p9, p3, p3, p3),And(p1, p3, p11, p3, p3, p12, p2, p5, p9, p3, p3, p9),And(p1, p3, p11, p3, p3, p12, p2, p5, p9, p3, p5, p3),And(p1, p3, p11, p3, p3, p12, p2, p5, p9, p3, p5, p9),And(p1, p3, p11, p3, p3, p12, p2, p5, p9, p4, p3, p3),And(p1, p3, p11, p3, p3, p12, p2, p5, p9, p4, p3, p9),And(p1, p3, p11, p3, p3, p12, p2, p5, p9, p4, p5, p3),And(p1, p3, p11, p3, p3, p12, p2, p5, p9, p4, p5, p9),And(p1, p3, p11, p3, p3, p12, p3, p2, p2, p3, p3, p3),And(p1, p3, p11, p3, p3, p12, p3, p2, p2, p3, p3, p9),And(p1, p3, p11, p3, p3, p12, p3, p2, p2, p3, p5, p3),And(p1, p3, p11, p3, p3, p12, p3, p2, p2, p3, p5, p9),And(p1, p3, p11, p3, p3, p12, p3, p2, p2, p4, p3, p3),And(p1, p3, p11, p3, p3, p12, p3, p2, p2, p4, p3, p9),And(p1, p3, p11, p3, p3, p12, p3, p2, p2, p4, p5, p3),And(p1, p3, p11, p3, p3, p12, p3, p2, p2, p4, p5, p9),And(p1, p3, p11, p3, p3, p12, p3, p2, p9, p3, p3, p3),And(p1, p3, p11, p3, p3, p12, p3, p2, p9, p3, p3, p9),And(p1, p3, p11, p3, p3, p12, p3, p2, p9, p3, p5, p3),And(p1, p3, p11, p3, p3, p12, p3, p2, p9, p3, p5, p9),And(p1, p3, p11, p3, p3, p12, p3, p2, p9, p4, p3, p3),And(p1, p3, p11, p3, p3, p12, p3, p2, p9, p4, p3, p9),And(p1, p3, p11, p3, p3, p12, p3, p2, p9, p4, p5, p3),And(p1, p3, p11, p3, p3, p12, p3, p2, p9, p4, p5, p9),And(p1, p3, p11, p3, p3, p12, p3, p5, p2, p3, p3, p3),And(p1, p3, p11, p3, p3, p12, p3, p5, p2, p3, p3, p9),And(p1, p3, p11, p3, p3, p12, p3, p5, p2, p3, p5, p3),And(p1, p3, p11, p3, p3, p12, p3, p5, p2, p3, p5, p9),And(p1, p3, p11, p3, p3, p12, p3, p5, p2, p4, p3, p3),And(p1, p3, p11, p3, p3, p12, p3, p5, p2, p4, p3, p9),And(p1, p3, p11, p3, p3, p12, p3, p5, p2, p4, p5, p3),And(p1, p3, p11, p3, p3, p12, p3, p5, p2, p4, p5, p9),And(p1, p3, p11, p3, p3, p12, p3, p5, p9, p3, p3, p3),And(p1, p3, p11, p3, p3, p12, p3, p5, p9, p3, p3, p9),And(p1, p3, p11, p3, p3, p12, p3, p5, p9, p3, p5, p3),And(p1, p3, p11, p3, p3, p12, p3, p5, p9, p3, p5, p9),And(p1, p3, p11, p3, p3, p12, p3, p5, p9, p4, p3, p3),And(p1, p3, p11, p3, p3, p12, p3, p5, p9, p4, p3, p9),And(p1, p3, p11, p3, p3, p12, p3, p5, p9, p4, p5, p3),And(p1, p3, p11, p3, p3, p12, p3, p5, p9, p4, p5, p9),And(p1, p3, p11, p3, p3, p7, p2, p2, p2, p3, p3, p3),And(p1, p3, p11, p3, p3, p7, p2, p2, p2, p3, p3, p9),And(p1, p3, p11, p3, p3, p7, p2, p2, p2, p3, p5, p3),And(p1, p3, p11, p3, p3, p7, p2, p2, p2, p3, p5, p9),And(p1, p3, p11, p3, p3, p7, p2, p2, p2, p4, p3, p3),And(p1, p3, p11, p3, p3, p7, p2, p2, p2, p4, p3, p9),And(p1, p3, p11, p3, p3, p7, p2, p2, p2, p4, p5, p3),And(p1, p3, p11, p3, p3, p7, p2, p2, p2, p4, p5, p9),And(p1, p3, p11, p3, p3, p7, p2, p2, p9, p3, p3, p3),And(p1, p3, p11, p3, p3, p7, p2, p2, p9, p3, p3, p9),And(p1, p3, p11, p3, p3, p7, p2, p2, p9, p3, p5, p3),And(p1, p3, p11, p3, p3, p7, p2, p2, p9, p3, p5, p9),And(p1, p3, p11, p3, p3, p7, p2, p2, p9, p4, p3, p3),And(p1, p3, p11, p3, p3, p7, p2, p2, p9, p4, p3, p9),And(p1, p3, p11, p3, p3, p7, p2, p2, p9, p4, p5, p3),And(p1, p3, p11, p3, p3, p7, p2, p2, p9, p4, p5, p9),And(p1, p3, p11, p3, p3, p7, p2, p5, p2, p3, p3, p3),And(p1, p3, p11, p3, p3, p7, p2, p5, p2, p3, p3, p9),And(p1, p3, p11, p3, p3, p7, p2, p5, p2, p3, p5, p3),And(p1, p3, p11, p3, p3, p7, p2, p5, p2, p3, p5, p9),And(p1, p3, p11, p3, p3, p7, p2, p5, p2, p4, p3, p3),And(p1, p3, p11, p3, p3, p7, p2, p5, p2, p4, p3, p9),And(p1, p3, p11, p3, p3, p7, p2, p5, p2, p4, p5, p3),And(p1, p3, p11, p3, p3, p7, p2, p5, p2, p4, p5, p9),And(p1, p3, p11, p3, p3, p7, p2, p5, p9, p3, p3, p3),And(p1, p3, p11, p3, p3, p7, p2, p5, p9, p3, p3, p9),And(p1, p3, p11, p3, p3, p7, p2, p5, p9, p3, p5, p3),And(p1, p3, p11, p3, p3, p7, p2, p5, p9, p3, p5, p9),And(p1, p3, p11, p3, p3, p7, p2, p5, p9, p4, p3, p3),And(p1, p3, p11, p3, p3, p7, p2, p5, p9, p4, p3, p9),And(p1, p3, p11, p3, p3, p7, p2, p5, p9, p4, p5, p3),And(p1, p3, p11, p3, p3, p7, p2, p5, p9, p4, p5, p9),And(p1, p3, p11, p3, p3, p7, p3, p2, p2, p3, p3, p3),And(p1, p3, p11, p3, p3, p7, p3, p2, p2, p3, p3, p9),And(p1, p3, p11, p3, p3, p7, p3, p2, p2, p3, p5, p3),And(p1, p3, p11, p3, p3, p7, p3, p2, p2, p3, p5, p9),And(p1, p3, p11, p3, p3, p7, p3, p2, p2, p4, p3, p3),And(p1, p3, p11, p3, p3, p7, p3, p2, p2, p4, p3, p9),And(p1, p3, p11, p3, p3, p7, p3, p2, p2, p4, p5, p3),And(p1, p3, p11, p3, p3, p7, p3, p2, p2, p4, p5, p9),And(p1, p3, p11, p3, p3, p7, p3, p2, p9, p3, p3, p3),And(p1, p3, p11, p3, p3, p7, p3, p2, p9, p3, p3, p9),And(p1, p3, p11, p3, p3, p7, p3, p2, p9, p3, p5, p3),And(p1, p3, p11, p3, p3, p7, p3, p2, p9, p3, p5, p9),And(p1, p3, p11, p3, p3, p7, p3, p2, p9, p4, p3, p3),And(p1, p3, p11, p3, p3, p7, p3, p2, p9, p4, p3, p9),And(p1, p3, p11, p3, p3, p7, p3, p2, p9, p4, p5, p3),And(p1, p3, p11, p3, p3, p7, p3, p2, p9, p4, p5, p9),And(p1, p3, p11, p3, p3, p7, p3, p5, p2, p3, p3, p3),And(p1, p3, p11, p3, p3, p7, p3, p5, p2, p3, p3, p9),And(p1, p3, p11, p3, p3, p7, p3, p5, p2, p3, p5, p3),And(p1, p3, p11, p3, p3, p7, p3, p5, p2, p3, p5, p9),And(p1, p3, p11, p3, p3, p7, p3, p5, p2, p4, p3, p3),And(p1, p3, p11, p3, p3, p7, p3, p5, p2, p4, p3, p9),And(p1, p3, p11, p3, p3, p7, p3, p5, p2, p4, p5, p3),And(p1, p3, p11, p3, p3, p7, p3, p5, p2, p4, p5, p9),And(p1, p3, p11, p3, p3, p7, p3, p5, p9, p3, p3, p3),And(p1, p3, p11, p3, p3, p7, p3, p5, p9, p3, p3, p9),And(p1, p3, p11, p3, p3, p7, p3, p5, p9, p3, p5, p3),And(p1, p3, p11, p3, p3, p7, p3, p5, p9, p3, p5, p9),And(p1, p3, p11, p3, p3, p7, p3, p5, p9, p4, p3, p3),And(p1, p3, p11, p3, p3, p7, p3, p5, p9, p4, p3, p9),And(p1, p3, p11, p3, p3, p7, p3, p5, p9, p4, p5, p3),And(p1, p3, p11, p3, p3, p7, p3, p5, p9, p4, p5, p9))\n"
     ]
    },
    {
     "ename": "SyntaxError",
     "evalue": "more than 255 arguments (<string>, line 1)",
     "output_type": "error",
     "traceback": [
      "Traceback \u001b[0;36m(most recent call last)\u001b[0m:\n",
      "  File \u001b[1;32m\"/Library/Frameworks/Python.framework/Versions/3.6/lib/python3.6/site-packages/IPython/core/interactiveshell.py\"\u001b[0m, line \u001b[1;32m3267\u001b[0m, in \u001b[1;35mrun_code\u001b[0m\n    exec(code_obj, self.user_global_ns, self.user_ns)\n",
      "  File \u001b[1;32m\"<ipython-input-240-88d66dc8d40a>\"\u001b[0m, line \u001b[1;32m1\u001b[0m, in \u001b[1;35m<module>\u001b[0m\n    demorgan(p1 | (p2 & p3)| (p2 & p3)| (p2 & p3)| (p5 & p3)| (p4 & p3)| (p9 & p3)| (p1 & p3)| (p10 & p3)| (p2 & p3)| (p2 & p5)| (p2 & p3)| (p12 & p7)| (p10 & p11)| (p11 & p3)| (p2 & p3)| (p2 & p3)| (p2 & p3)| (p2 & p3)| (p2 & p3)| (p2 & p9))\n",
      "\u001b[0;36m  File \u001b[0;32m\"<ipython-input-230-517c97fe30e1>\"\u001b[0;36m, line \u001b[0;32m22\u001b[0;36m, in \u001b[0;35mdemorgan\u001b[0;36m\u001b[0m\n\u001b[0;31m    print(eval(ls2))\u001b[0m\n",
      "\u001b[0;36m  File \u001b[0;32m\"<string>\"\u001b[0;36m, line \u001b[0;32m1\u001b[0m\n\u001b[0;31mSyntaxError\u001b[0m\u001b[0;31m:\u001b[0m more than 255 arguments\n"
     ]
    }
   ],
   "source": [
    "demorgan(p1 | (p2 & p3)| (p2 & p3)| (p2 & p3)| (p5 & p3)| (p4 & p3)| (p9 & p3)| (p1 & p3)| (p10 & p3)| (p2 & p3)| (p2 & p5)| (p2 & p3)| (p12 & p7)| (p10 & p11)| (p11 & p3)| (p2 & p3)| (p2 & p3)| (p2 & p3)| (p2 & p3)| (p2 & p3)| (p2 & p9))\n",
    "# Or(p4, p3, ~p5 & (x12 & x2 & x8))"
   ]
  },
  {
   "cell_type": "code",
   "execution_count": 162,
   "metadata": {},
   "outputs": [],
   "source": [
    "ans"
   ]
  },
  {
   "cell_type": "code",
   "execution_count": 161,
   "metadata": {},
   "outputs": [
    {
     "ename": "AttributeError",
     "evalue": "'NoneType' object has no attribute 'func'",
     "output_type": "error",
     "traceback": [
      "\u001b[0;31m---------------------------------------------------------------------------\u001b[0m",
      "\u001b[0;31mAttributeError\u001b[0m                            Traceback (most recent call last)",
      "\u001b[0;32m<ipython-input-161-c5ddacb979c8>\u001b[0m in \u001b[0;36m<module>\u001b[0;34m\u001b[0m\n\u001b[0;32m----> 1\u001b[0;31m \u001b[0mcnf\u001b[0m\u001b[0;34m(\u001b[0m\u001b[0mans\u001b[0m\u001b[0;34m)\u001b[0m\u001b[0;34m\u001b[0m\u001b[0m\n\u001b[0m",
      "\u001b[0;32m<ipython-input-160-dc20a6df164a>\u001b[0m in \u001b[0;36mcnf\u001b[0;34m(a, neg, depth)\u001b[0m\n\u001b[1;32m      1\u001b[0m \u001b[0;32mdef\u001b[0m \u001b[0mcnf\u001b[0m\u001b[0;34m(\u001b[0m\u001b[0ma\u001b[0m\u001b[0;34m,\u001b[0m \u001b[0mneg\u001b[0m\u001b[0;34m=\u001b[0m\u001b[0;32mFalse\u001b[0m\u001b[0;34m,\u001b[0m \u001b[0mdepth\u001b[0m\u001b[0;34m=\u001b[0m\u001b[0;36m0\u001b[0m\u001b[0;34m)\u001b[0m\u001b[0;34m:\u001b[0m\u001b[0;34m\u001b[0m\u001b[0m\n\u001b[0;32m----> 2\u001b[0;31m     \u001b[0mprint\u001b[0m\u001b[0;34m(\u001b[0m\u001b[0mdepth\u001b[0m\u001b[0;34m*\u001b[0m\u001b[0;34m'\\t'\u001b[0m\u001b[0;34m,\u001b[0m \u001b[0ma\u001b[0m\u001b[0;34m,\u001b[0m \u001b[0ma\u001b[0m\u001b[0;34m.\u001b[0m\u001b[0mfunc\u001b[0m\u001b[0;34m,\u001b[0m \u001b[0mlen\u001b[0m\u001b[0;34m(\u001b[0m\u001b[0ma\u001b[0m\u001b[0;34m.\u001b[0m\u001b[0margs\u001b[0m\u001b[0;34m)\u001b[0m\u001b[0;34m,\u001b[0m \u001b[0mneg\u001b[0m\u001b[0;34m)\u001b[0m\u001b[0;34m\u001b[0m\u001b[0m\n\u001b[0m\u001b[1;32m      3\u001b[0m     \u001b[0;32mif\u001b[0m \u001b[0ma\u001b[0m\u001b[0;34m.\u001b[0m\u001b[0mfunc\u001b[0m \u001b[0;34m==\u001b[0m \u001b[0msp\u001b[0m\u001b[0;34m.\u001b[0m\u001b[0mSymbol\u001b[0m\u001b[0;34m:\u001b[0m\u001b[0;34m\u001b[0m\u001b[0m\n\u001b[1;32m      4\u001b[0m         \u001b[0;32mif\u001b[0m \u001b[0mneg\u001b[0m\u001b[0;34m:\u001b[0m\u001b[0;34m\u001b[0m\u001b[0m\n\u001b[1;32m      5\u001b[0m             \u001b[0;32mreturn\u001b[0m \u001b[0;34m~\u001b[0m\u001b[0ma\u001b[0m\u001b[0;34m\u001b[0m\u001b[0m\n",
      "\u001b[0;31mAttributeError\u001b[0m: 'NoneType' object has no attribute 'func'"
     ]
    }
   ],
   "source": [
    "cnf(ans)"
   ]
  },
  {
   "cell_type": "code",
   "execution_count": null,
   "metadata": {},
   "outputs": [],
   "source": []
  },
  {
   "cell_type": "code",
   "execution_count": 149,
   "metadata": {},
   "outputs": [],
   "source": [
    "def make_cnf(s):\n",
    "    clause = tseitin1(s)\n",
    "    cnf_ans = cnf(clause)\n",
    "    return cnf_ans"
   ]
  },
  {
   "cell_type": "code",
   "execution_count": null,
   "metadata": {},
   "outputs": [],
   "source": []
  },
  {
   "cell_type": "code",
   "execution_count": 150,
   "metadata": {},
   "outputs": [
    {
     "name": "stdout",
     "output_type": "stream",
     "text": [
      "None\n",
      "None\n"
     ]
    }
   ],
   "source": [
    "li = [\n",
    "#         \"1+-2.3+4+5.-6\",\n",
    "#         \"1.(2 + (3.5) + -1.3) + 4.6 + 12 + 15\",\n",
    "#         \"1.(2 + 3.5 + -1.3() + 4.6 + 12 + 15.16 + (17.18) + (-1)\",\n",
    "        \"(1+(2).(3+5).(-1+3)).(4+6).(12).(15+16).((17+18)).(((-1)))\",\n",
    "#         \"1 . 2 . 3 . 4 . -5 . -1 . (-2 . (-1))\",\n",
    "#         \"1+-2.3+4+5+-6\",\n",
    "#         \"1.2.3\",\n",
    "#         \"1+2.3\",\n",
    "#         \"1+-3\",\n",
    "        \"7+-4.-7.-1.-9+-4.-2\"\n",
    "    ]\n",
    "for clause in li:\n",
    "    tseitin_clause = tseitin1(clause)\n",
    "    print(tseitin_clause)\n",
    "    if tseitin_clause is not None:\n",
    "        sp_cnf = sp.to_cnf(tseitin_clause)\n",
    "        cnf_ans = cnf(tseitin_clause)\n",
    "        print(sp_cnf == cnf_ans)"
   ]
  },
  {
   "cell_type": "code",
   "execution_count": 151,
   "metadata": {},
   "outputs": [
    {
     "data": {
      "text/plain": [
       "p11 & (p1 | x7) & (p2 | x4) & (p3 | x2) & (p4 | x1) & (p5 | x9) & (p1 | ~p6) & (p10 | ~p7) & (p11 | ~p10) & (p11 | ~x7) & (p2 | ~p7) & (p2 | ~p8) & (p3 | ~p7) & (p4 | ~p9) & (p5 | ~p6) & (p6 | ~p8) & (p8 | ~p9) & (~p1 | ~x7) & (~p2 | ~x4) & (~p3 | ~x2) & (~p4 | ~x1) & (~p5 | ~x9) & (p1 | p7 | ~p10) & (p10 | x7 | ~p11) & (p2 | p7 | ~p10) & (p4 | p7 | ~p10) & (p5 | p7 | ~p10) & (p6 | ~p1 | ~p5) & (p7 | ~p2 | ~p3) & (p8 | ~p2 | ~p6) & (p9 | ~p4 | ~p8) & (p10 | ~p1 | ~p2 | ~p4 | ~p5)"
      ]
     },
     "execution_count": 151,
     "metadata": {},
     "output_type": "execute_result"
    }
   ],
   "source": [
    "cnf_ans"
   ]
  },
  {
   "cell_type": "code",
   "execution_count": 152,
   "metadata": {},
   "outputs": [],
   "source": [
    "def set_wrapper(cnf_ans):\n",
    "    set_of_vars = {}\n",
    "    counter = 1\n",
    "    def recursive_add_to_set(a):\n",
    "        nonlocal counter\n",
    "        if a.func == sp.Symbol:\n",
    "            if a not in set_of_vars:\n",
    "                set_of_vars[a] = counter\n",
    "                counter += 1\n",
    "        elif len(a.args)==1:\n",
    "            b = a.args[0]\n",
    "            if b not in set_of_vars:\n",
    "                set_of_vars[b] = counter\n",
    "                counter += 1\n",
    "        else:\n",
    "            for arg in a.args:\n",
    "                recursive_add_to_set(arg)\n",
    "    recursive_add_to_set(cnf_ans)\n",
    "    return set_of_vars\n",
    "set_of_vars = set_wrapper(cnf_ans)"
   ]
  },
  {
   "cell_type": "code",
   "execution_count": 153,
   "metadata": {},
   "outputs": [],
   "source": [
    "def write_cnf(filename):\n",
    "    assert cnf_ans.func == sp.And\n",
    "    l = [f'p cnf {len(set_of_vars)} {len(cnf_ans.args)}']\n",
    "    for arg in cnf_ans.args:\n",
    "        s = ''\n",
    "        if arg.func == sp.Symbol:\n",
    "            s += str(set_of_vars[arg]) + ' '\n",
    "        else:\n",
    "            assert arg.func == sp.Or\n",
    "            for sub_arg in arg.args:\n",
    "                if len(sub_arg.args) == 1:\n",
    "                    s += str(-1*(set_of_vars[sub_arg.args[0]])) + ' '\n",
    "                elif len(sub_arg.args) == 0:\n",
    "                    s += str(set_of_vars[sub_arg]) + ' '\n",
    "        l.append(s)\n",
    "    with open(filename,'w') as f:\n",
    "        f.write('\\n'.join(l))\n",
    "    "
   ]
  },
  {
   "cell_type": "code",
   "execution_count": 154,
   "metadata": {},
   "outputs": [],
   "source": [
    "write_cnf('test.cnf')"
   ]
  },
  {
   "cell_type": "code",
   "execution_count": 155,
   "metadata": {},
   "outputs": [],
   "source": [
    "tseitin1('7+-4.-7.-1.-9+-4.-2')"
   ]
  },
  {
   "cell_type": "code",
   "execution_count": 156,
   "metadata": {},
   "outputs": [
    {
     "data": {
      "text/plain": [
       "32"
      ]
     },
     "execution_count": 156,
     "metadata": {},
     "output_type": "execute_result"
    }
   ],
   "source": [
    "len(cnf_ans.args)"
   ]
  },
  {
   "cell_type": "code",
   "execution_count": 157,
   "metadata": {},
   "outputs": [
    {
     "data": {
      "text/plain": [
       "And"
      ]
     },
     "execution_count": 157,
     "metadata": {},
     "output_type": "execute_result"
    }
   ],
   "source": [
    "cnf_ans.func"
   ]
  },
  {
   "cell_type": "code",
   "execution_count": 158,
   "metadata": {},
   "outputs": [
    {
     "data": {
      "text/plain": [
       "(p11,\n",
       " p1 | x7,\n",
       " p2 | x4,\n",
       " p3 | x2,\n",
       " p4 | x1,\n",
       " p5 | x9,\n",
       " p1 | ~p6,\n",
       " p10 | ~p7,\n",
       " p11 | ~p10,\n",
       " p11 | ~x7,\n",
       " p2 | ~p7,\n",
       " p2 | ~p8,\n",
       " p3 | ~p7,\n",
       " p4 | ~p9,\n",
       " p5 | ~p6,\n",
       " p6 | ~p8,\n",
       " p8 | ~p9,\n",
       " ~p1 | ~x7,\n",
       " ~p2 | ~x4,\n",
       " ~p3 | ~x2,\n",
       " ~p4 | ~x1,\n",
       " ~p5 | ~x9,\n",
       " p1 | p7 | ~p10,\n",
       " p10 | x7 | ~p11,\n",
       " p2 | p7 | ~p10,\n",
       " p4 | p7 | ~p10,\n",
       " p5 | p7 | ~p10,\n",
       " p6 | ~p1 | ~p5,\n",
       " p7 | ~p2 | ~p3,\n",
       " p8 | ~p2 | ~p6,\n",
       " p9 | ~p4 | ~p8,\n",
       " p10 | ~p1 | ~p2 | ~p4 | ~p5)"
      ]
     },
     "execution_count": 158,
     "metadata": {},
     "output_type": "execute_result"
    }
   ],
   "source": [
    "cnf_ans.args"
   ]
  },
  {
   "cell_type": "code",
   "execution_count": 159,
   "metadata": {},
   "outputs": [
    {
     "data": {
      "text/plain": [
       "{p11: 1,\n",
       " p1: 2,\n",
       " x7: 3,\n",
       " p2: 4,\n",
       " x4: 5,\n",
       " p3: 6,\n",
       " x2: 7,\n",
       " p4: 8,\n",
       " x1: 9,\n",
       " p5: 10,\n",
       " x9: 11,\n",
       " p6: 12,\n",
       " p10: 13,\n",
       " p7: 14,\n",
       " p8: 15,\n",
       " p9: 16}"
      ]
     },
     "execution_count": 159,
     "metadata": {},
     "output_type": "execute_result"
    }
   ],
   "source": [
    "set_of_vars"
   ]
  },
  {
   "cell_type": "code",
   "execution_count": null,
   "metadata": {},
   "outputs": [],
   "source": []
  },
  {
   "cell_type": "code",
   "execution_count": null,
   "metadata": {},
   "outputs": [],
   "source": []
  }
 ],
 "metadata": {
  "kernelspec": {
   "display_name": "Python 3",
   "language": "python",
   "name": "python3"
  },
  "language_info": {
   "codemirror_mode": {
    "name": "ipython",
    "version": 3
   },
   "file_extension": ".py",
   "mimetype": "text/x-python",
   "name": "python",
   "nbconvert_exporter": "python",
   "pygments_lexer": "ipython3",
   "version": "3.6.3"
  }
 },
 "nbformat": 4,
 "nbformat_minor": 2
}
