{
 "cells": [
  {
   "cell_type": "markdown",
   "metadata": {
    "colab_type": "text",
    "id": "9PhncAvWQp5d"
   },
   "source": [
    "# ECE 208 Bonus Assignment"
   ]
  },
  {
   "cell_type": "code",
   "execution_count": 25,
   "metadata": {
    "colab": {
     "base_uri": "https://localhost:8080/",
     "height": 122
    },
    "colab_type": "code",
    "id": "XhCmPaNCcZfm",
    "outputId": "73d64d14-3cc7-49b4-c78e-c5c39e1009c4"
   },
   "outputs": [],
   "source": [
    "# all imports \n",
    "from typing import List, Dict, Tuple, Type, Any\n",
    "# from google.colab import drive\n",
    "# drive.mount('/gdrive')"
   ]
  },
  {
   "cell_type": "code",
   "execution_count": 2,
   "metadata": {
    "colab": {},
    "colab_type": "code",
    "id": "4qq1Eb3bGkjV"
   },
   "outputs": [],
   "source": [
    "# %ls /gdrive/'My Drive'/Waterloo/ECE208"
   ]
  },
  {
   "cell_type": "markdown",
   "metadata": {
    "colab_type": "text",
    "id": "RaaSQMNcQtyX"
   },
   "source": [
    "### The NNF Format\n",
    "First,  we define the textual format for Boolean formulas in negation normal form (NNF). \n",
    "It is assumed that you are familiar with the inductive definition of NNF formulas over connectives: $\\neg,\\; \\land,\\; \\lor$ , and left/right parentheses.\n",
    "\n",
    "* Every Boolean variable is represented as a 32-bit number, written in decimal (just as the int datatypein C++ or Java).  For example, the number ”1” corresponds to the Boolean variable $x_1$.  The number ”0” is reserved for end of line.\n",
    "* Negated variables are represented by negative numbers, e.g.: $\\neg x_1$ is represented as $\\texttt{-1}$ , and $x_{199}$ is represented as $\\texttt{-199}$.\n",
    "* The Boolean connective $\\lor$ (OR) is represented by + symbol.  The Boolean connective $\\land$ (AND) is represented by the . symbol. \n",
    "    \n",
    "You may use the left and right parentheses to demarcate sub-formulas.You may assume that the constants $\\top$ and $\\bot$ have been simplified away from all input formulas. If youreally need to represent these constants, you can use suitable formulas over variables (e.g., $\\top$ is equivalent to\n",
    "$(x)\\lor(\\neg x)$)\n",
    "\n",
    "### The CNF Format\n",
    "Here we define the textual format for Boolean formulas in conjunctive normal form (CNF). \n",
    "It is assumed that you are familiar with the inductive definition of CNF. (This text format is the official DIMACS formatused by all SAT solvers).\n",
    "* Every Boolean variable is represented by a 32-bit number, exactly as in NNF. For example, the number ”1” corresponds to the Boolean variable $x_1$. The number ”0” is reserved for end of line.\n",
    "* Negated variables are represented by negative numbers, e.g.,$\\neg x_1$is represented as $\\texttt{-1}$.\n",
    "* Every clause is represented by a space separated list of numbers, ending in a 0 to denote end of line.That is, the Boolean connective OR in disjunctive clauses is represented by a white space.E.g., the clause \n",
    "$(x_{42} \\vee \\neg x_1 x_{100} \\vee x_{22} \n",
    "\\vee \\neg x_{90})$ would be written as $\\texttt{42 -1 100 22 -90 0}$.\n",
    "* A formula in CNF is a list of clauses, one clause per line. (The AND is implicit.)\n",
    "\n",
    "You may assume that the constants $\\top$ and $\\bot$ have been simplified away from all input formulas. If youreally need to represent these constants, you can use suitable formulas over variables (e.g.,$\\bot$ is equivalent to $(x)\\wedge (\\neg x)$)"
   ]
  },
  {
   "cell_type": "markdown",
   "metadata": {
    "colab_type": "text",
    "id": "x6AjOunWWaMd"
   },
   "source": [
    "## Question 1: Tseitin Transformer (maximum 2 points)\n",
    "Write a Tseitin transformer that takes as input a Boolean formula $F(x)$ in NNF and outputs an equi-satisfiable formula $G(y,x)$ in CNF. Both input and output must be text files "
   ]
  },
  {
   "cell_type": "code",
   "execution_count": 42,
   "metadata": {
    "cellView": "form",
    "colab": {},
    "colab_type": "code",
    "id": "DPb3YJOwmbLN"
   },
   "outputs": [],
   "source": [
    "# NNF = \"c this is a comment \\\\n p cnf 5 31 \\\\n -5 4 0 \\\\n -1 5 3 4 0 \\\\n -3 -4 0\" #@param {type:\"string\"}\n",
    "class NNFFileDoesNotExist(Exception):\n",
    "    pass\n",
    "class MisMatchedBrackets(Exception):\n",
    "    pass\n",
    "class InvalidNode(Exception):\n",
    "    pass"
   ]
  },
  {
   "cell_type": "code",
   "execution_count": 155,
   "metadata": {},
   "outputs": [],
   "source": [
    "class Formula:\n",
    "    def __init__(self, root=None):\n",
    "        self.root = root\n",
    "        self.vars = {}\n",
    "        \n",
    "class Node:\n",
    "    def __init__(self, val:str = '', typ:str = 'V', children:List = []):\n",
    "        self.val = val\n",
    "        self.typ = typ\n",
    "        if typ != 'V' and typ != 'INVALID' and children == []:\n",
    "            raise InvalidNode('Non-Variable nodes should have atleast one child')\n",
    "        self.children = children\n",
    "    \n",
    "    @property \n",
    "    def is_var(self):\n",
    "        return self.typ == 'V'\n",
    "    \n",
    "    def __str__(self):\n",
    "        st = []\n",
    "        st += str(self.val)\n",
    "        if self.typ != 'V':\n",
    "            st += '['\n",
    "            for node in self.children:\n",
    "                st += node.__str__()\n",
    "                st += ','\n",
    "            st[-1] = ']'\n",
    "        return ''.join(st)\n",
    "        "
   ]
  },
  {
   "cell_type": "code",
   "execution_count": 156,
   "metadata": {},
   "outputs": [
    {
     "name": "stdout",
     "output_type": "stream",
     "text": [
      ".[&[-1],-2,-3]\n"
     ]
    }
   ],
   "source": [
    "print(Node('.', '.', [Node('&', '&', [Node(-1)]), Node(-2), Node(-3)]))"
   ]
  },
  {
   "cell_type": "code",
   "execution_count": 110,
   "metadata": {},
   "outputs": [],
   "source": [
    "def question_1(NNF_filename: str, CNF_filename: str) -> None:\n",
    "    try:  \n",
    "        f = open(NNF_filename, 'r')\n",
    "    except:\n",
    "        raise NNFFileDoesNotExist\n",
    "    NNF = f.readline()\n",
    "    detect_mismatched_brackets(NNF)\n",
    "    NNF = NNF.replace(' ', '').replace('\\n', '')\n",
    "    NNF_no_brackets = remove_brackets(NNF)\n",
    "    root = construct_tree(NNF_no_brackets)\n",
    "    print(f'{NNF}: {NNF_no_brackets}')"
   ]
  },
  {
   "cell_type": "code",
   "execution_count": 119,
   "metadata": {},
   "outputs": [],
   "source": [
    "def detect_mismatched_brackets(NNF: str):\n",
    "    st = []\n",
    "    le = len(NNF)\n",
    "    for i in range(le):\n",
    "        char = NNF[i]\n",
    "        if char == '(':\n",
    "            st.append(i)\n",
    "        elif char == ')':\n",
    "            if st == []:\n",
    "                raise MisMatchedBrackets(f'Extra closing bracket at index {i+1} in file')\n",
    "            st.pop()\n",
    "        \n",
    "    if st != []:\n",
    "        raise MisMatchedBrackets(f'Unpaired opening bracket at index {st[0]+1} in file')"
   ]
  },
  {
   "cell_type": "code",
   "execution_count": 177,
   "metadata": {},
   "outputs": [],
   "source": [
    "def remove_brackets(NNF: str):\n",
    "    li = ['']\n",
    "    le = len(NNF)\n",
    "    i = 0\n",
    "    while i < le:\n",
    "        if NNF[i] == '(':\n",
    "            counter = 0\n",
    "            flag = True\n",
    "            for j in range(i+1, le):\n",
    "                flag = False\n",
    "                if NNF[j] == '(':\n",
    "                    counter += 1\n",
    "                if NNF[j] == ')':\n",
    "                    if counter == 0:\n",
    "                        sub_list = remove_brackets(NNF[i+1:j])\n",
    "                        if li[-1] == '':\n",
    "                            li.pop()\n",
    "                        if li == []:\n",
    "                            li.append(sub_list)\n",
    "                        else:\n",
    "                            li.append(sub_list)\n",
    "                        li.append('')\n",
    "                        i = j\n",
    "                        break\n",
    "                    counter -= 1\n",
    "        else:\n",
    "            li[-1] += NNF[i]\n",
    "        i += 1\n",
    "    if li[-1] == '':\n",
    "        li.pop()\n",
    "    return li"
   ]
  },
  {
   "cell_type": "code",
   "execution_count": 175,
   "metadata": {},
   "outputs": [],
   "source": [
    "def break_clause(clause: str):\n",
    "    li = []\n",
    "    for part_clause in clause.split('.'):\n",
    "        part_list = []\n",
    "        print(f'pc: {part_clause}, {isinstance(part_clause, str)}')\n",
    "        for part_part_clause in part_clause:\n",
    "            if isinstance(part_part_clause, list):\n",
    "                part_list.append(part_part_clause.split('+'))\n",
    "            else:\n",
    "                part_list.append(part_part_clause)\n",
    "        li.append(part_list)\n",
    "    return li"
   ]
  },
  {
   "cell_type": "code",
   "execution_count": null,
   "metadata": {},
   "outputs": [],
   "source": []
  },
  {
   "cell_type": "code",
   "execution_count": 179,
   "metadata": {
    "cellView": "both",
    "colab": {
     "base_uri": "https://localhost:8080/",
     "height": 232
    },
    "colab_type": "code",
    "id": "mW3sEWS6Pj8l",
    "outputId": "706c9849-2cf4-419c-f3fd-2e205d8a1090"
   },
   "outputs": [
    {
     "name": "stdout",
     "output_type": "stream",
     "text": [
      "pc: 1+, True\n",
      "1+ [['1', '+']]\n",
      "pc: -2, True\n",
      "pc: , True\n",
      "-2. [['-', '2'], []]\n",
      "pc: 3+-4, True\n",
      "3+-4 [['3', '+', '-', '4']]\n",
      "INVALID[INVALID]]\n",
      "INVALID[INVALID]]\n",
      "INVALID[INVALID]]\n",
      "1+(-2.(3+-4)): ['1+', ['-2.', ['3+-4']]]\n",
      "pc: 1, True\n",
      "pc: , True\n",
      "1. [['1'], []]\n",
      "pc: 2+, True\n",
      "2+ [['2', '+']]\n",
      "pc: 3, True\n",
      "pc: 5, True\n",
      "3.5 [['3'], ['5']]\n",
      "INVALID[INVALID]]\n",
      "pc: +-1, True\n",
      "pc: 3, True\n",
      "+-1.3 [['+', '-', '1'], ['3']]\n",
      "INVALID[INVALID]]\n",
      "pc: +4, True\n",
      "pc: 6+12+15, True\n",
      "+4.6+12+15 [['+', '4'], ['6', '+', '1', '2', '+', '1', '5']]\n",
      "INVALID[INVALID]]\n",
      "1.(2+(3.5)+-1.3)+4.6+12+15: ['1.', ['2+', ['3.5'], '+-1.3'], '+4.6+12+15']\n",
      "pc: -1, True\n",
      "-1 [['-', '1']]\n",
      "INVALID[INVALID]]\n",
      "INVALID[INVALID]]\n",
      "INVALID[INVALID]]\n",
      "INVALID[INVALID]]\n",
      "INVALID[INVALID]]\n",
      "INVALID[INVALID]]\n",
      "INVALID[INVALID]]\n",
      "INVALID[INVALID]]\n",
      "INVALID[INVALID]]\n",
      "INVALID[INVALID]]\n",
      "INVALID[INVALID]]\n",
      "INVALID[INVALID]]\n",
      "INVALID[INVALID]]\n",
      "INVALID[INVALID]]\n",
      "INVALID[INVALID]]\n",
      "INVALID[INVALID]]\n",
      "INVALID[INVALID]]\n",
      "INVALID[INVALID]]\n",
      "INVALID[INVALID]]\n",
      "INVALID[INVALID]]\n",
      "INVALID[INVALID]]\n",
      "INVALID[INVALID]]\n",
      "INVALID[INVALID]]\n",
      "INVALID[INVALID]]\n",
      "INVALID[INVALID]]\n",
      "((((((((((((((((((((((((-1)))))))))))))))))))))))): [[[[[[[[[[[[[[[[[[[[[[[[['-1']]]]]]]]]]]]]]]]]]]]]]]]]\n",
      "pc: 1, True\n",
      "pc: , True\n",
      "1. [['1'], []]\n",
      "pc: 2+3, True\n",
      "pc: 5+-1, True\n",
      "pc: 3, True\n",
      "2+3.5+-1.3 [['2', '+', '3'], ['5', '+', '-', '1'], ['3']]\n",
      "INVALID[INVALID]]\n",
      "pc: +4, True\n",
      "pc: 6+12+15, True\n",
      "pc: 16+, True\n",
      "+4.6+12+15.16+ [['+', '4'], ['6', '+', '1', '2', '+', '1', '5'], ['1', '6', '+']]\n",
      "pc: 17, True\n",
      "pc: 18, True\n",
      "17.18 [['1', '7'], ['1', '8']]\n",
      "INVALID[INVALID]]\n",
      "pc: +, True\n",
      "+ [['+']]\n",
      "pc: -1, True\n",
      "-1 [['-', '1']]\n",
      "INVALID[INVALID]]\n",
      "INVALID[INVALID]]\n",
      "INVALID[INVALID]]\n",
      "1.(2+3.5+-1.3)+4.6+12+15.16+(17.18)+((-1)): ['1.', ['2+3.5+-1.3'], '+4.6+12+15.16+', ['17.18'], '+', [['-1']]]\n",
      "./nnf/3.nnf: As Expected brackets mismatch\n",
      "./nnf/5.nnf: As Expected brackets mismatch\n"
     ]
    }
   ],
   "source": [
    "def construct_tree(NNF: List[Any]) -> Node:\n",
    "    parent_of_root = Node('INVALID', 'INVALID', [Node('INVALID', 'INVALID')])\n",
    "    last_node = None\n",
    "    for part_clause in NNF:\n",
    "        if isinstance(part_clause, list):\n",
    "            new_node = construct_tree(part_clause)\n",
    "            new_node = new_node.children[0]\n",
    "        elif isinstance(part_clause, str):\n",
    "            broken = break_clause(part_clause)\n",
    "            print(part_clause, broken)\n",
    "        else:\n",
    "            print('INVALID CLAUSE:', part_clause)\n",
    "    print(parent_of_root)\n",
    "    return parent_of_root\n",
    "            \n",
    "    \n",
    "def tseitin(NNF: str, CNF: str) -> None:\n",
    "    root = construct_tree(NNF)\n",
    "    \n",
    "question_1('./nnf/0.nnf','./cnf/0.cnf')\n",
    "question_1('./nnf/1.nnf','./cnf/1.cnf')\n",
    "question_1('./nnf/4.nnf','./cnf/4.cnf')\n",
    "question_1('./nnf/2.nnf','./cnf/2.cnf')\n",
    "try:\n",
    "    question_1('./nnf/3.nnf','./cnf/3.cnf')\n",
    "except MisMatchedBrackets:\n",
    "    print('./nnf/3.nnf: As Expected brackets mismatch')\n",
    "else:\n",
    "    print('./nnf/3.nnf: Expected MisMatchedBrackets')\n",
    "try:\n",
    "    question_1('./nnf/5.nnf','./cnf/5.cnf')\n",
    "except MisMatchedBrackets:\n",
    "    print(f'./nnf/5.nnf: As Expected brackets mismatch')\n",
    "else:\n",
    "    print('./nnf/5.nnf: Expected MisMatchedBrackets')"
   ]
  },
  {
   "cell_type": "code",
   "execution_count": null,
   "metadata": {},
   "outputs": [],
   "source": []
  },
  {
   "cell_type": "markdown",
   "metadata": {
    "colab_type": "text",
    "id": "ftsocb0fQo4i"
   },
   "source": [
    "## Question 2: DPLL SAT Solver (maximum 4 points)\n",
    "Write a DPLL SAT solver as specified in lecture 2 slides.  Your solver must take as input CNF formulasin  DIMACS  format,  and  determine  their  satisfiability.   Output  has  to  be  the  string  ”SAT”  (respectively, ”UNSAT”) printed to screen, if the input is satisfiable (respectively, unsatisfiable). Perhaps the hardest taskhere is to write the BCP routine, given there are many different kinds of BCP implementations.  Please usethe greedy BCP specified in class."
   ]
  },
  {
   "cell_type": "code",
   "execution_count": 0,
   "metadata": {
    "colab": {},
    "colab_type": "code",
    "id": "YBirMabcWtAe"
   },
   "outputs": [],
   "source": []
  },
  {
   "cell_type": "markdown",
   "metadata": {
    "colab_type": "text",
    "id": "7mJjkx_qWtKV"
   },
   "source": [
    "## Question 3: Solvers and Symbolic Execution-based Testing (maximum 2 points)\n",
    "Dynamic systematic testing (aka dynamic symbolic testing or concolic testing) is aimed at both 1) automaticsystematic test coverage, and 2) finding deep security vulnerabilities.  For convenience, I will interchange-ably use the term concolic testing and symbolic-execution based testing (or techniques). Symbolic executionis one of the biggest industrial application of SAT solvers.We learnt in class the power of the combination of symbolic execution, concretization and constraintsolvers (e.g., SAT solvers) in automatically finding security vulnerabilities and systematically testing soft-ware.  In this question, we will analyze the role of combining symbolic execution with concrete execution(aka concolic testing), and see how it is more powerful than either symbolic or concrete execution by them-selves. (The term concolic is a portmanteau of concrete and symbolic.)\n",
    "### Definitions\n",
    "* Concrete Execution: The term concrete execution refers to the normal execution or run of a program P on a computer on concrete inputs, i.e., the inputs to the program P are values from P’s input domain.\n",
    "* Program Path or Trace: A program path (simply path or trace) is the sequence of instructions executedby a program on a concrete or symbolic execution"
   ]
  },
  {
   "cell_type": "code",
   "execution_count": 0,
   "metadata": {
    "colab": {},
    "colab_type": "code",
    "id": "r1NyAmsRXBUi"
   },
   "outputs": [],
   "source": []
  }
 ],
 "metadata": {
  "colab": {
   "name": "ECE208.ipynb",
   "provenance": [],
   "toc_visible": true,
   "version": "0.3.2"
  },
  "kernelspec": {
   "display_name": "Python 3",
   "language": "python",
   "name": "python3"
  },
  "language_info": {
   "codemirror_mode": {
    "name": "ipython",
    "version": 3
   },
   "file_extension": ".py",
   "mimetype": "text/x-python",
   "name": "python",
   "nbconvert_exporter": "python",
   "pygments_lexer": "ipython3",
   "version": "3.6.3"
  }
 },
 "nbformat": 4,
 "nbformat_minor": 1
}
