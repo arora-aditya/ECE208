{
 "cells": [
  {
   "cell_type": "code",
   "execution_count": 1,
   "metadata": {},
   "outputs": [],
   "source": [
    "from typing import List, Dict, Tuple, Type, Any"
   ]
  },
  {
   "cell_type": "code",
   "execution_count": 2,
   "metadata": {},
   "outputs": [],
   "source": [
    "class MisMatchedBrackets(Exception):\n",
    "    pass\n",
    "class InvalidNode(Exception):\n",
    "    pass"
   ]
  },
  {
   "cell_type": "code",
   "execution_count": 4,
   "metadata": {},
   "outputs": [],
   "source": [
    "class Node:\n",
    "    def __init__(self, val:str, left = None, right = None, typ:str = 'V'):\n",
    "        self.val = val\n",
    "        self.typ = typ\n",
    "        if typ != 'V' and typ != 'INVALID' and typ != 'EMPTY' and left == None and right == None:\n",
    "            raise InvalidNode(f'Non-Variable nodes {val} should have atleast one child')\n",
    "        self.left = left\n",
    "        self.right = right\n",
    "    \n",
    "    @property \n",
    "    def is_var(self):\n",
    "        return self.typ == 'V'\n",
    "    \n",
    "    def __str__(self):\n",
    "        st = []\n",
    "        st += str(self.val)\n",
    "        if self.typ != 'V':\n",
    "            st += '['\n",
    "            for node in [self.left, self.right]:\n",
    "                st += node.__str__()\n",
    "                st += ','\n",
    "            st[-1] = ']'\n",
    "        return ''.join(st)"
   ]
  },
  {
   "cell_type": "code",
   "execution_count": 5,
   "metadata": {},
   "outputs": [],
   "source": [
    "def detect_mismatched_brackets(NNF: str):\n",
    "    st = []\n",
    "    le = len(NNF)\n",
    "    for i in range(le):\n",
    "        char = NNF[i]\n",
    "        if char == '(':\n",
    "            st.append(i)\n",
    "        elif char == ')':\n",
    "            if st == []:\n",
    "                raise MisMatchedBrackets(f'Extra closing bracket at index {i+1} in file')\n",
    "            st.pop()\n",
    "        \n",
    "    if st != []:\n",
    "        raise MisMatchedBrackets(f'Unpaired opening bracket at index {st[0]+1} in file')"
   ]
  },
  {
   "cell_type": "code",
   "execution_count": 6,
   "metadata": {},
   "outputs": [],
   "source": [
    "def remove_brackets(NNF: str):\n",
    "    li = ['']\n",
    "    le = len(NNF)\n",
    "    i = 0\n",
    "    while i < le:\n",
    "        if NNF[i] == '(':\n",
    "            counter = 0\n",
    "            flag = True\n",
    "            for j in range(i+1, le):\n",
    "                flag = False\n",
    "                if NNF[j] == '(':\n",
    "                    counter += 1\n",
    "                if NNF[j] == ')':\n",
    "                    if counter == 0:\n",
    "                        sub_list = remove_brackets(NNF[i+1:j])\n",
    "                        if li[-1] == '':\n",
    "                            li.pop()\n",
    "                        if li == []:\n",
    "                            li.extend(sub_list)\n",
    "                        else:\n",
    "                            li.append(sub_list)\n",
    "                        li.append('')\n",
    "                        i = j\n",
    "                        break\n",
    "                    counter -= 1\n",
    "        else:\n",
    "            li[-1] += NNF[i]\n",
    "        i += 1\n",
    "    if li[-1] == '':\n",
    "        li.pop()\n",
    "    return li"
   ]
  },
  {
   "cell_type": "code",
   "execution_count": 7,
   "metadata": {},
   "outputs": [],
   "source": [
    "def already_bracketed(NNF: str):\n",
    "    print(NNF)\n",
    "    st = []\n",
    "    le = len(NNF)\n",
    "    for i in range(le):\n",
    "        char = NNF[i]\n",
    "        if char == '(':\n",
    "            st.append(char)\n",
    "            flag = True\n",
    "        if char == ')':\n",
    "            st.pop()\n",
    "            if i != le-1 and st == []:\n",
    "                return False\n",
    "    return True\n",
    "    "
   ]
  },
  {
   "cell_type": "code",
   "execution_count": 17,
   "metadata": {},
   "outputs": [],
   "source": [
    "operators = {'+', '.'}\n",
    "def add_brackets(NNF):\n",
    "    print(NNF)\n",
    "    if NNF[0] == '(' and NNF[-1] == ')':\n",
    "        try:\n",
    "            detect_mismatched_brackets(NNF[1:-1])\n",
    "            print('here')\n",
    "            return add_brackets(NNF[1:-1])\n",
    "        except:\n",
    "            pass\n",
    "    if len(NNF) == 1:\n",
    "        return NNF\n",
    "    for i in range(len(NNF)):\n",
    "        if NNF[i] in operators:\n",
    "            return '(' + add_brackets(NNF[:i]) +  ')' + NNF[i] + '(' + add_brackets(NNF[i+1:]) +  ')'\n",
    "    return NNF"
   ]
  },
  {
   "cell_type": "code",
   "execution_count": 29,
   "metadata": {},
   "outputs": [],
   "source": [
    "def printDAG(filename):\n",
    "    f = open(filename)\n",
    "    NNF = f.readline()\n",
    "    detect_mismatched_brackets(NNF)\n",
    "    NNF = NNF.replace(' ', '').replace('\\n', '')\n",
    "    # .replace('.', ').(').replace('+', ')+(') + ')'\n",
    "    new_NNF = add_brackets(NNF)\n",
    "    print(new_NNF)"
   ]
  },
  {
   "cell_type": "code",
   "execution_count": 30,
   "metadata": {},
   "outputs": [
    {
     "name": "stdout",
     "output_type": "stream",
     "text": [
      "1+2+3+4+-5+-1+(-2+(-1))\n",
      "1\n",
      "2+3+4+-5+-1+(-2+(-1))\n",
      "2\n",
      "3+4+-5+-1+(-2+(-1))\n",
      "3\n",
      "4+-5+-1+(-2+(-1))\n",
      "4\n",
      "-5+-1+(-2+(-1))\n",
      "-5\n",
      "-1+(-2+(-1))\n",
      "-1\n",
      "(-2+(-1))\n",
      "here\n",
      "-2+(-1)\n",
      "-2\n",
      "(-1)\n",
      "here\n",
      "-1\n",
      "(1)+((2)+((3)+((4)+((-5)+((-1)+((-2)+(-1)))))))\n"
     ]
    }
   ],
   "source": [
    "printDAG('./nnf/7.nnf')"
   ]
  },
  {
   "cell_type": "code",
   "execution_count": 31,
   "metadata": {},
   "outputs": [
    {
     "name": "stdout",
     "output_type": "stream",
     "text": [
      "1.2.3.4.-5.-1.(-2.(-1))\n",
      "1\n",
      "2.3.4.-5.-1.(-2.(-1))\n",
      "2\n",
      "3.4.-5.-1.(-2.(-1))\n",
      "3\n",
      "4.-5.-1.(-2.(-1))\n",
      "4\n",
      "-5.-1.(-2.(-1))\n",
      "-5\n",
      "-1.(-2.(-1))\n",
      "-1\n",
      "(-2.(-1))\n",
      "here\n",
      "-2.(-1)\n",
      "-2\n",
      "(-1)\n",
      "here\n",
      "-1\n",
      "(1).((2).((3).((4).((-5).((-1).((-2).(-1)))))))\n"
     ]
    }
   ],
   "source": [
    "printDAG('./nnf/8.nnf')"
   ]
  },
  {
   "cell_type": "code",
   "execution_count": 32,
   "metadata": {},
   "outputs": [
    {
     "name": "stdout",
     "output_type": "stream",
     "text": [
      "1.(2+3.5+-1.3)+4.6+12+15.16+(17.18)+((-1))\n",
      "1\n",
      "(2+3.5+-1.3)+4.6+12+15.16+(17.18)+((-1))\n",
      "(2\n",
      "3.5+-1.3)+4.6+12+15.16+(17.18)+((-1))\n",
      "3\n",
      "5+-1.3)+4.6+12+15.16+(17.18)+((-1))\n",
      "5\n",
      "-1.3)+4.6+12+15.16+(17.18)+((-1))\n",
      "-1\n",
      "3)+4.6+12+15.16+(17.18)+((-1))\n",
      "3)\n",
      "4.6+12+15.16+(17.18)+((-1))\n",
      "4\n",
      "6+12+15.16+(17.18)+((-1))\n",
      "6\n",
      "12+15.16+(17.18)+((-1))\n",
      "12\n",
      "15.16+(17.18)+((-1))\n",
      "15\n",
      "16+(17.18)+((-1))\n",
      "16\n",
      "(17.18)+((-1))\n",
      "(17\n",
      "18)+((-1))\n",
      "18)\n",
      "((-1))\n",
      "here\n",
      "(-1)\n",
      "here\n",
      "-1\n",
      "(1).(((2)+((3).((5)+((-1).((3))+((4).((6)+((12)+((15).((16)+(((17).((18))+(-1)))))))))))))\n"
     ]
    }
   ],
   "source": [
    "printDAG('./nnf/2.nnf')"
   ]
  },
  {
   "cell_type": "code",
   "execution_count": 21,
   "metadata": {},
   "outputs": [],
   "source": [
    "# st = []\n",
    "# for i in range(len(NNF)):\n",
    "#     char = NNF[i]\n",
    "#     if char == '(':\n",
    "#         st.append(char)\n",
    "#     elif char == ')':\n",
    "#         st.pop()\n",
    "#         if st == []:"
   ]
  },
  {
   "cell_type": "code",
   "execution_count": 22,
   "metadata": {},
   "outputs": [],
   "source": [
    "def convert_to_DAG(NNF: str) -> Node:\n",
    "    # print(NNF)\n",
    "    if len(NNF) == 0:\n",
    "        return Node(val='EMPTY', typ='EMPTY', left=None, right=None)\n",
    "    if len(NNF) <= 2:\n",
    "        # print('2: ', NNF)\n",
    "        return Node(val=NNF, typ='V')\n",
    "    if len(NNF) <= 4:\n",
    "        # print('4: ', NNF)\n",
    "        return Node(val=NNF[1:-1], typ='V')\n",
    "    for i in range(len(NNF)):\n",
    "        char = NNF[i]\n",
    "        if char in operators:\n",
    "            # print(f'left: {NNF[:i]}, right: {NNF[i+2:-1]}')\n",
    "            return Node(val=char, typ=char, left=convert_to_DAG(NNF[:i]), right=convert_to_DAG(NNF[i+2:-1]))\n",
    "    print('E', NNF)\n",
    "    # return Node(val='INVALID', typ='INVALID', left=None, right=None)\n",
    "        \n",
    "\n",
    "            \n",
    "    "
   ]
  },
  {
   "cell_type": "code",
   "execution_count": 23,
   "metadata": {},
   "outputs": [],
   "source": [
    "# remove_brackets(NNF)"
   ]
  },
  {
   "cell_type": "code",
   "execution_count": 24,
   "metadata": {},
   "outputs": [],
   "source": [
    "root = convert_to_DAG(new_NNF)"
   ]
  },
  {
   "cell_type": "code",
   "execution_count": 25,
   "metadata": {},
   "outputs": [
    {
     "name": "stdout",
     "output_type": "stream",
     "text": [
      "+[1,+[2,+[3,+[4,+[-5,+[-1,+[-2,-1]]]]]]]\n"
     ]
    }
   ],
   "source": [
    "print(root)"
   ]
  },
  {
   "cell_type": "code",
   "execution_count": null,
   "metadata": {},
   "outputs": [],
   "source": []
  },
  {
   "cell_type": "code",
   "execution_count": null,
   "metadata": {},
   "outputs": [],
   "source": []
  },
  {
   "cell_type": "code",
   "execution_count": null,
   "metadata": {},
   "outputs": [],
   "source": []
  }
 ],
 "metadata": {
  "kernelspec": {
   "display_name": "Python 3",
   "language": "python",
   "name": "python3"
  },
  "language_info": {
   "codemirror_mode": {
    "name": "ipython",
    "version": 3
   },
   "file_extension": ".py",
   "mimetype": "text/x-python",
   "name": "python",
   "nbconvert_exporter": "python",
   "pygments_lexer": "ipython3",
   "version": "3.6.3"
  }
 },
 "nbformat": 4,
 "nbformat_minor": 2
}
