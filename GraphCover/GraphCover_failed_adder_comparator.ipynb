{
 "cells": [
  {
   "cell_type": "markdown",
   "metadata": {},
   "source": [
    "# Graph Cover"
   ]
  },
  {
   "cell_type": "code",
   "execution_count": null,
   "metadata": {},
   "outputs": [],
   "source": []
  },
  {
   "cell_type": "code",
   "execution_count": 2,
   "metadata": {},
   "outputs": [],
   "source": [
    "import sympy as sp\n",
    "from sympy import *\n",
    "from sympy.abc import *\n",
    "from sympy.parsing.sympy_parser import parse_expr"
   ]
  },
  {
   "cell_type": "code",
   "execution_count": null,
   "metadata": {},
   "outputs": [],
   "source": []
  },
  {
   "cell_type": "code",
   "execution_count": 3,
   "metadata": {},
   "outputs": [],
   "source": [
    "adjaceny_matrix = am = [\n",
    "     [0, 1, 0, 1, 1, 0],\n",
    "     [1, 0, 1, 1, 0, 1],\n",
    "     [0, 1, 0, 0, 1, 1],\n",
    "     [1, 1, 0, 0, 1, 1],\n",
    "     [1, 0, 1, 1, 0, 1],\n",
    "     [0, 1, 1, 1, 1, 0]\n",
    "]"
   ]
  },
  {
   "cell_type": "code",
   "execution_count": 4,
   "metadata": {},
   "outputs": [],
   "source": [
    "max_num = len(am)"
   ]
  },
  {
   "cell_type": "code",
   "execution_count": 5,
   "metadata": {},
   "outputs": [],
   "source": [
    "def define_variables(max_no: int):\n",
    "    return symbols(f'x:{max_no}')"
   ]
  },
  {
   "cell_type": "code",
   "execution_count": 6,
   "metadata": {},
   "outputs": [],
   "source": [
    "syms: sp.Symbol = define_variables(9+1)\n",
    "for i in range(max_num+1):\n",
    "    exec(f'x{i} = syms[{i}]')"
   ]
  },
  {
   "cell_type": "code",
   "execution_count": 55,
   "metadata": {},
   "outputs": [],
   "source": [
    "clauses = []"
   ]
  },
  {
   "cell_type": "code",
   "execution_count": 58,
   "metadata": {},
   "outputs": [],
   "source": [
    "for i in range(max_num):\n",
    "    for j in range(i+1):\n",
    "        if am[i][j] == 1:\n",
    "            clauses.append([i,j])"
   ]
  },
  {
   "cell_type": "code",
   "execution_count": 59,
   "metadata": {},
   "outputs": [
    {
     "data": {
      "text/plain": [
       "[[1, 0],\n",
       " [2, 1],\n",
       " [3, 0],\n",
       " [3, 1],\n",
       " [4, 0],\n",
       " [4, 2],\n",
       " [4, 3],\n",
       " [5, 1],\n",
       " [5, 2],\n",
       " [5, 3],\n",
       " [5, 4],\n",
       " [1, 0],\n",
       " [2, 1],\n",
       " [3, 0],\n",
       " [3, 1],\n",
       " [4, 0],\n",
       " [4, 2],\n",
       " [4, 3],\n",
       " [5, 1],\n",
       " [5, 2],\n",
       " [5, 3],\n",
       " [5, 4]]"
      ]
     },
     "execution_count": 59,
     "metadata": {},
     "output_type": "execute_result"
    }
   ],
   "source": [
    "clauses"
   ]
  },
  {
   "cell_type": "code",
   "execution_count": 9,
   "metadata": {},
   "outputs": [],
   "source": [
    "def comparator(a, b, g_i_1, e_i_1, l_i_1):\n",
    "    g_i = g_i_1 | (e_i_1 & a & ~b)\n",
    "    e_i = e_i_1 & ~(a ^ b)\n",
    "    l_i = l_i_1 | (e_i_1 & ~a & b)\n",
    "    return g_i, e_i, l_i"
   ]
  },
  {
   "cell_type": "code",
   "execution_count": 10,
   "metadata": {},
   "outputs": [],
   "source": [
    "def rippleAdder(x, y, carry):\n",
    "    su = x ^ y ^ carry\n",
    "    carry_out = Or((x & y), (y & carry), (x & carry))\n",
    "#     return su, carry_out\n",
    "    return sp.to_cnf(su, simplify=True), sp.to_cnf(carry_out, simplify=True)\n",
    "#     return sp.simplify(su), sp.simplify(carry_out)"
   ]
  },
  {
   "cell_type": "code",
   "execution_count": 11,
   "metadata": {},
   "outputs": [
    {
     "data": {
      "text/plain": [
       "((x1 | x2 | x3) & (x1 | ~x2 | ~x3) & (x2 | ~x1 | ~x3) & (x3 | ~x1 | ~x2),\n",
       " (x1 | x2) & (x1 | x3) & (x2 | x3))"
      ]
     },
     "execution_count": 11,
     "metadata": {},
     "output_type": "execute_result"
    }
   ],
   "source": [
    "rippleAdder(x1, x2, x3)"
   ]
  },
  {
   "cell_type": "code",
   "execution_count": 21,
   "metadata": {},
   "outputs": [
    {
     "data": {
      "text/plain": [
       "(x0, x1, x2, x3, x4, x5, x6, x7, x8, x9)"
      ]
     },
     "execution_count": 21,
     "metadata": {},
     "output_type": "execute_result"
    }
   ],
   "source": [
    "syms"
   ]
  },
  {
   "cell_type": "code",
   "execution_count": 12,
   "metadata": {},
   "outputs": [
    {
     "name": "stdout",
     "output_type": "stream",
     "text": [
      "0\n",
      "x0\n",
      "(x0 | x1) & (~x0 | ~x1)\n",
      "(x0 | x1 | x2) & (~x0 | ~x2) & (~x1 | ~x2)\n",
      "(~x0 | ~x3) & (~x1 | ~x3) & (~x2 | ~x3) & (x0 | x1 | x2 | x3)\n",
      "(~x0 | ~x4) & (~x1 | ~x4) & (~x2 | ~x4) & (~x3 | ~x4) & (x0 | x1 | x2 | x3 | x4)\n",
      "(~x0 | ~x5) & (~x1 | ~x5) & (~x2 | ~x5) & (~x3 | ~x5) & (~x4 | ~x5) & (x0 | x1 | x2 | x3 | x4 | x5)\n",
      "(~x0 | ~x6) & (~x1 | ~x6) & (~x2 | ~x6) & (~x3 | ~x6) & (~x4 | ~x6) & (~x5 | ~x6) & (x0 | x1 | x2 | x3 | x4 | x5 | x6)\n",
      "(~x0 | ~x7) & (~x1 | ~x7) & (~x2 | ~x7) & (~x3 | ~x7) & (~x4 | ~x7) & (~x5 | ~x7) & (~x6 | ~x7) & (x0 | x1 | x2 | x3 | x4 | x5 | x6 | x7)\n",
      "Xor(x8, x7 & (x0 | x1 | x2 | x3 | x4 | x5 | x6), (~x0 | ~x7) & (~x1 | ~x7) & (~x2 | ~x7) & (~x3 | ~x7) & (~x4 | ~x7) & (~x5 | ~x7) & (~x6 | ~x7) & (x0 | x1 | x2 | x3 | x4 | x5 | x6 | x7))\n"
     ]
    },
    {
     "data": {
      "text/latex": [
       "$\\displaystyle x_{8} \\veebar x_{9} \\veebar \\left(x_{7} \\wedge \\left(x_{0} \\vee x_{1} \\vee x_{2} \\vee x_{3} \\vee x_{4} \\vee x_{5} \\vee x_{6}\\right)\\right) \\veebar \\left(\\left(\\neg x_{0} \\vee \\neg x_{7}\\right) \\wedge \\left(\\neg x_{1} \\vee \\neg x_{7}\\right) \\wedge \\left(\\neg x_{2} \\vee \\neg x_{7}\\right) \\wedge \\left(\\neg x_{3} \\vee \\neg x_{7}\\right) \\wedge \\left(\\neg x_{4} \\vee \\neg x_{7}\\right) \\wedge \\left(\\neg x_{5} \\vee \\neg x_{7}\\right) \\wedge \\left(\\neg x_{6} \\vee \\neg x_{7}\\right) \\wedge \\left(x_{0} \\vee x_{1} \\vee x_{2} \\vee x_{3} \\vee x_{4} \\vee x_{5} \\vee x_{6} \\vee x_{7}\\right)\\right) \\veebar \\left(\\left(x_{7} \\wedge x_{8} \\wedge \\left(x_{0} \\vee x_{1} \\vee x_{2} \\vee x_{3} \\vee x_{4} \\vee x_{5} \\vee x_{6}\\right)\\right) \\vee \\left(x_{8} \\wedge \\left(\\neg x_{0} \\vee \\neg x_{7}\\right) \\wedge \\left(\\neg x_{1} \\vee \\neg x_{7}\\right) \\wedge \\left(\\neg x_{2} \\vee \\neg x_{7}\\right) \\wedge \\left(\\neg x_{3} \\vee \\neg x_{7}\\right) \\wedge \\left(\\neg x_{4} \\vee \\neg x_{7}\\right) \\wedge \\left(\\neg x_{5} \\vee \\neg x_{7}\\right) \\wedge \\left(\\neg x_{6} \\vee \\neg x_{7}\\right) \\wedge \\left(x_{0} \\vee x_{1} \\vee x_{2} \\vee x_{3} \\vee x_{4} \\vee x_{5} \\vee x_{6} \\vee x_{7}\\right)\\right) \\vee \\left(x_{7} \\wedge \\left(\\neg x_{0} \\vee \\neg x_{7}\\right) \\wedge \\left(\\neg x_{1} \\vee \\neg x_{7}\\right) \\wedge \\left(\\neg x_{2} \\vee \\neg x_{7}\\right) \\wedge \\left(\\neg x_{3} \\vee \\neg x_{7}\\right) \\wedge \\left(\\neg x_{4} \\vee \\neg x_{7}\\right) \\wedge \\left(\\neg x_{5} \\vee \\neg x_{7}\\right) \\wedge \\left(\\neg x_{6} \\vee \\neg x_{7}\\right) \\wedge \\left(x_{0} \\vee x_{1} \\vee x_{2} \\vee x_{3} \\vee x_{4} \\vee x_{5} \\vee x_{6}\\right) \\wedge \\left(x_{0} \\vee x_{1} \\vee x_{2} \\vee x_{3} \\vee x_{4} \\vee x_{5} \\vee x_{6} \\vee x_{7}\\right)\\right)\\right)$"
      ],
      "text/plain": [
       "Xor(x8, x9, x7 & (x0 | x1 | x2 | x3 | x4 | x5 | x6), (~x0 | ~x7) & (~x1 | ~x7) & (~x2 | ~x7) & (~x3 | ~x7) & (~x4 | ~x7) & (~x5 | ~x7) & (~x6 | ~x7) & (x0 | x1 | x2 | x3 | x4 | x5 | x6 | x7), (x7 & x8 & (x0 | x1 | x2 | x3 | x4 | x5 | x6)) | (x8 & (~x0 | ~x7) & (~x1 | ~x7) & (~x2 | ~x7) & (~x3 | ~x7) & (~x4 | ~x7) & (~x5 | ~x7) & (~x6 | ~x7) & (x0 | x1 | x2 | x3 | x4 | x5 | x6 | x7)) | (x7 & (~x0 | ~x7) & (~x1 | ~x7) & (~x2 | ~x7) & (~x3 | ~x7) & (~x4 | ~x7) & (~x5 | ~x7) & (~x6 | ~x7) & (x0 | x1 | x2 | x3 | x4 | x5 | x6) & (x0 | x1 | x2 | x3 | x4 | x5 | x6 | x7)))"
      ]
     },
     "execution_count": 12,
     "metadata": {},
     "output_type": "execute_result"
    }
   ],
   "source": [
    "carry_out = 0\n",
    "i = 0\n",
    "su = 0\n",
    "for i in range(len(syms)):\n",
    "    print(su)\n",
    "    su, carry_out = rippleAdder(su, syms[i], carry_out)\n",
    "# su, carry_in = rippleAdder(su, carry_in, 0)\n",
    "su"
   ]
  },
  {
   "cell_type": "code",
   "execution_count": 29,
   "metadata": {},
   "outputs": [
    {
     "name": "stdout",
     "output_type": "stream",
     "text": [
      "Xor(x0, x1, x2, x3, x4, x5, x6, x7, x8, x9, x0 & x1, x2 & (x0 | x1), x3 & (x0 | x1 | x2), x4 & (x0 | x1 | x2 | x3), x5 & (x0 | x1 | x2 | x3 | x4), x6 & (x0 | x1 | x2 | x3 | x4 | x5), x7 & (x0 | x1 | x2 | x3 | x4 | x5 | x6), (x7 & x8 & (x0 | x1 | x2 | x3 | x4 | x5 | x6)) | (x8 & (Xor(x0, x1, x2, x3, x4, x5, x6, x7, x0 & x1, x2 & (x0 | x1), x3 & (x0 | x1 | x2), x4 & (x0 | x1 | x2 | x3), x5 & (x0 | x1 | x2 | x3 | x4), x6 & (x0 | x1 | x2 | x3 | x4 | x5)))))\n"
     ]
    }
   ],
   "source": [
    "print(sp.to_cnf(su, True))"
   ]
  },
  {
   "cell_type": "code",
   "execution_count": 31,
   "metadata": {},
   "outputs": [
    {
     "data": {
      "text/latex": [
       "$\\displaystyle x_{0} \\veebar x_{1} \\veebar x_{2} \\veebar x_{3} \\veebar x_{4} \\veebar x_{5} \\veebar x_{6} \\veebar x_{7} \\veebar x_{8} \\veebar x_{9} \\veebar \\left(x_{0} \\wedge x_{1}\\right) \\veebar \\left(x_{2} \\wedge \\left(x_{0} \\vee x_{1}\\right)\\right) \\veebar \\left(x_{3} \\wedge \\left(x_{0} \\vee x_{1} \\vee x_{2}\\right)\\right) \\veebar \\left(x_{4} \\wedge \\left(x_{0} \\vee x_{1} \\vee x_{2} \\vee x_{3}\\right)\\right) \\veebar \\left(x_{5} \\wedge \\left(x_{0} \\vee x_{1} \\vee x_{2} \\vee x_{3} \\vee x_{4}\\right)\\right) \\veebar \\left(x_{6} \\wedge \\left(x_{0} \\vee x_{1} \\vee x_{2} \\vee x_{3} \\vee x_{4} \\vee x_{5}\\right)\\right) \\veebar \\left(x_{7} \\wedge \\left(x_{0} \\vee x_{1} \\vee x_{2} \\vee x_{3} \\vee x_{4} \\vee x_{5} \\vee x_{6}\\right)\\right) \\veebar \\left(\\left(x_{8} \\wedge \\left(x_{0} \\veebar x_{1} \\veebar x_{2} \\veebar x_{3} \\veebar x_{4} \\veebar x_{5} \\veebar x_{6} \\veebar x_{7} \\veebar \\left(x_{0} \\wedge x_{1}\\right) \\veebar \\left(x_{2} \\wedge \\left(x_{0} \\vee x_{1}\\right)\\right) \\veebar \\left(x_{3} \\wedge \\left(x_{0} \\vee x_{1} \\vee x_{2}\\right)\\right) \\veebar \\left(x_{4} \\wedge \\left(x_{0} \\vee x_{1} \\vee x_{2} \\vee x_{3}\\right)\\right) \\veebar \\left(x_{5} \\wedge \\left(x_{0} \\vee x_{1} \\vee x_{2} \\vee x_{3} \\vee x_{4}\\right)\\right) \\veebar \\left(x_{6} \\wedge \\left(x_{0} \\vee x_{1} \\vee x_{2} \\vee x_{3} \\vee x_{4} \\vee x_{5}\\right)\\right)\\right)\\right) \\vee \\left(x_{7} \\wedge x_{8} \\wedge \\left(x_{0} \\vee x_{1} \\vee x_{2} \\vee x_{3} \\vee x_{4} \\vee x_{5} \\vee x_{6}\\right)\\right)\\right)$"
      ],
      "text/plain": [
       "Xor(x0, x1, x2, x3, x4, x5, x6, x7, x8, x9, x0 & x1, x2 & (x0 | x1), x3 & (x0 | x1 | x2), x4 & (x0 | x1 | x2 | x3), x5 & (x0 | x1 | x2 | x3 | x4), x6 & (x0 | x1 | x2 | x3 | x4 | x5), x7 & (x0 | x1 | x2 | x3 | x4 | x5 | x6), (x7 & x8 & (x0 | x1 | x2 | x3 | x4 | x5 | x6)) | (x8 & (Xor(x0, x1, x2, x3, x4, x5, x6, x7, x0 & x1, x2 & (x0 | x1), x3 & (x0 | x1 | x2), x4 & (x0 | x1 | x2 | x3), x5 & (x0 | x1 | x2 | x3 | x4), x6 & (x0 | x1 | x2 | x3 | x4 | x5)))))"
      ]
     },
     "execution_count": 31,
     "metadata": {},
     "output_type": "execute_result"
    }
   ],
   "source": [
    "su"
   ]
  },
  {
   "cell_type": "code",
   "execution_count": 14,
   "metadata": {},
   "outputs": [
    {
     "data": {
      "text/plain": [
       "'101'"
      ]
     },
     "execution_count": 14,
     "metadata": {},
     "output_type": "execute_result"
    }
   ],
   "source": [
    "k = 5\n",
    "bin(5)[2:]"
   ]
  },
  {
   "cell_type": "code",
   "execution_count": 32,
   "metadata": {},
   "outputs": [
    {
     "data": {
      "text/latex": [
       "$\\displaystyle \\text{True}$"
      ],
      "text/plain": [
       "True"
      ]
     },
     "execution_count": 32,
     "metadata": {},
     "output_type": "execute_result"
    }
   ],
   "source": [
    "su, carry = rippleAdder(x0, 0, 0)\n",
    "su, carry\n",
    "su.subs({x0: True, x2: True, x4: True, x1: False, x3: False})"
   ]
  },
  {
   "cell_type": "code",
   "execution_count": 33,
   "metadata": {},
   "outputs": [
    {
     "data": {
      "text/latex": [
       "$\\displaystyle \\text{True}$"
      ],
      "text/plain": [
       "True"
      ]
     },
     "execution_count": 33,
     "metadata": {},
     "output_type": "execute_result"
    }
   ],
   "source": [
    "su, carry = rippleAdder(su, x1, carry)\n",
    "su, carry\n",
    "su.subs({x0: True, x2: True, x4: True, x1: False, x3: False})"
   ]
  },
  {
   "cell_type": "code",
   "execution_count": 34,
   "metadata": {},
   "outputs": [
    {
     "data": {
      "text/latex": [
       "$\\displaystyle \\text{False}$"
      ],
      "text/plain": [
       "False"
      ]
     },
     "execution_count": 34,
     "metadata": {},
     "output_type": "execute_result"
    }
   ],
   "source": [
    "su, carry = rippleAdder(su, x2, carry)\n",
    "su, carry\n",
    "su.subs({x0: True, x2: True, x4: True, x1: False, x3: False})"
   ]
  },
  {
   "cell_type": "code",
   "execution_count": 35,
   "metadata": {},
   "outputs": [
    {
     "data": {
      "text/latex": [
       "$\\displaystyle \\text{True}$"
      ],
      "text/plain": [
       "True"
      ]
     },
     "execution_count": 35,
     "metadata": {},
     "output_type": "execute_result"
    }
   ],
   "source": [
    "su, carry = rippleAdder(su, x3, carry)\n",
    "su, carry\n",
    "su.subs({x0: True, x2: True, x4: True, x1: False, x3: False})"
   ]
  },
  {
   "cell_type": "code",
   "execution_count": 36,
   "metadata": {},
   "outputs": [
    {
     "data": {
      "text/latex": [
       "$\\displaystyle \\text{False}$"
      ],
      "text/plain": [
       "False"
      ]
     },
     "execution_count": 36,
     "metadata": {},
     "output_type": "execute_result"
    }
   ],
   "source": [
    "su, carry = rippleAdder(su, x4, carry)\n",
    "su, carry\n",
    "su.subs({x0: True, x2: True, x4: True, x1: False, x3: False})"
   ]
  },
  {
   "cell_type": "code",
   "execution_count": 31,
   "metadata": {},
   "outputs": [
    {
     "data": {
      "text/latex": [
       "$\\displaystyle \\neg x_{5}$"
      ],
      "text/plain": [
       "~x5"
      ]
     },
     "execution_count": 31,
     "metadata": {},
     "output_type": "execute_result"
    }
   ],
   "source": [
    "su, carry = rippleAdder(su, x5, carry)\n",
    "su, carry\n",
    "su.subs({x0: True, x2: True, x4: True, x1: False, x3: False})"
   ]
  },
  {
   "cell_type": "code",
   "execution_count": 82,
   "metadata": {},
   "outputs": [
    {
     "data": {
      "text/latex": [
       "$\\displaystyle \\left(\\neg x_{0} \\vee \\neg x_{1}\\right) \\wedge \\left(\\neg x_{0} \\vee \\neg x_{2}\\right) \\wedge \\left(\\neg x_{0} \\vee \\neg x_{3}\\right) \\wedge \\left(\\neg x_{0} \\vee \\neg x_{4}\\right) \\wedge \\left(\\neg x_{1} \\vee \\neg x_{2}\\right) \\wedge \\left(\\neg x_{1} \\vee \\neg x_{3}\\right) \\wedge \\left(\\neg x_{1} \\vee \\neg x_{4}\\right) \\wedge \\left(\\neg x_{2} \\vee \\neg x_{3}\\right) \\wedge \\left(\\neg x_{2} \\vee \\neg x_{4}\\right) \\wedge \\left(\\neg x_{3} \\vee \\neg x_{4}\\right) \\wedge \\left(x_{0} \\vee x_{1} \\vee x_{2} \\vee x_{3} \\vee x_{4}\\right)$"
      ],
      "text/plain": [
       "(~x0 | ~x1) & (~x0 | ~x2) & (~x0 | ~x3) & (~x0 | ~x4) & (~x1 | ~x2) & (~x1 | ~x3) & (~x1 | ~x4) & (~x2 | ~x3) & (~x2 | ~x4) & (~x3 | ~x4) & (x0 | x1 | x2 | x3 | x4)"
      ]
     },
     "execution_count": 82,
     "metadata": {},
     "output_type": "execute_result"
    }
   ],
   "source": [
    "from itertools import combinations\n",
    "m = len(clauses)\n",
    "k = 1\n",
    "overall_addition = []\n",
    "for i in range(1, k+1):\n",
    "    se = set(['x0', 'x1','x2', 'x3', 'x4'])\n",
    "    x = list(combinations(se, i))\n",
    "#     print(x)\n",
    "    clause_string = ''\n",
    "    for part_clause in x:\n",
    "        clause_string += '&'.join(part_clause) \n",
    "        negated = se - set(part_clause)\n",
    "        clause_string += '&~'+'&~'.join(negated)\n",
    "        clause_string += '|'\n",
    "    clause_string = clause_string[:-1]\n",
    "    overall_addition.append(clause_string)\n",
    "#     print(clause_string)\n",
    "#     exec(clause[:-1])\n",
    "exec('overall_addition_course = ' + '&'.join(overall_addition))\n",
    "sp.to_cnf(overall_addition_course, True)"
   ]
  },
  {
   "cell_type": "code",
   "execution_count": 47,
   "metadata": {},
   "outputs": [
    {
     "data": {
      "text/plain": [
       "'x0&x1&x2|x0&x1&x3|x0&x1&x4|x0&x2&x3|x0&x2&x4|x0&x3&x4|x1&x2&x3|x1&x2&x4|x1&x3&x4|x2&x3&x4|'"
      ]
     },
     "execution_count": 47,
     "metadata": {},
     "output_type": "execute_result"
    }
   ],
   "source": [
    "clause"
   ]
  },
  {
   "cell_type": "code",
   "execution_count": 52,
   "metadata": {},
   "outputs": [
    {
     "data": {
      "text/latex": [
       "$\\displaystyle \\left(x_{0} \\wedge x_{1} \\wedge x_{2}\\right) \\vee \\left(x_{0} \\wedge x_{1} \\wedge x_{3}\\right) \\vee \\left(x_{0} \\wedge x_{1} \\wedge x_{4}\\right) \\vee \\left(x_{0} \\wedge x_{2} \\wedge x_{3}\\right) \\vee \\left(x_{0} \\wedge x_{2} \\wedge x_{4}\\right) \\vee \\left(x_{0} \\wedge x_{3} \\wedge x_{4}\\right) \\vee \\left(x_{1} \\wedge x_{2} \\wedge x_{3}\\right) \\vee \\left(x_{1} \\wedge x_{2} \\wedge x_{4}\\right) \\vee \\left(x_{1} \\wedge x_{3} \\wedge x_{4}\\right) \\vee \\left(x_{2} \\wedge x_{3} \\wedge x_{4}\\right)$"
      ],
      "text/plain": [
       "(x0 & x1 & x2) | (x0 & x1 & x3) | (x0 & x1 & x4) | (x0 & x2 & x3) | (x0 & x2 & x4) | (x0 & x3 & x4) | (x1 & x2 & x3) | (x1 & x2 & x4) | (x1 & x3 & x4) | (x2 & x3 & x4)"
      ]
     },
     "execution_count": 52,
     "metadata": {},
     "output_type": "execute_result"
    }
   ],
   "source": [
    "clauses[4]"
   ]
  },
  {
   "cell_type": "code",
   "execution_count": 81,
   "metadata": {},
   "outputs": [
    {
     "data": {
      "text/latex": [
       "$\\displaystyle \\text{False}$"
      ],
      "text/plain": [
       "False"
      ]
     },
     "execution_count": 81,
     "metadata": {},
     "output_type": "execute_result"
    }
   ],
   "source": [
    "sp.to_cnf(x1 & ~x1, True)"
   ]
  },
  {
   "cell_type": "code",
   "execution_count": null,
   "metadata": {},
   "outputs": [],
   "source": []
  }
 ],
 "metadata": {
  "kernelspec": {
   "display_name": "Python 3",
   "language": "python",
   "name": "python3"
  },
  "language_info": {
   "codemirror_mode": {
    "name": "ipython",
    "version": 3
   },
   "file_extension": ".py",
   "mimetype": "text/x-python",
   "name": "python",
   "nbconvert_exporter": "python",
   "pygments_lexer": "ipython3",
   "version": "3.7.3"
  }
 },
 "nbformat": 4,
 "nbformat_minor": 2
}
