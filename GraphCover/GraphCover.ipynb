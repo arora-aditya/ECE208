{
 "cells": [
  {
   "cell_type": "markdown",
   "metadata": {},
   "source": [
    "# Graph Cover"
   ]
  },
  {
   "cell_type": "code",
   "execution_count": null,
   "metadata": {},
   "outputs": [],
   "source": []
  },
  {
   "cell_type": "code",
   "execution_count": 1,
   "metadata": {},
   "outputs": [],
   "source": [
    "import sympy as sp\n",
    "from sympy import *\n",
    "from sympy.abc import *\n",
    "from sympy.parsing.sympy_parser import parse_expr"
   ]
  },
  {
   "cell_type": "code",
   "execution_count": null,
   "metadata": {},
   "outputs": [],
   "source": []
  },
  {
   "cell_type": "code",
   "execution_count": 2,
   "metadata": {},
   "outputs": [],
   "source": [
    "adjaceny_matrix = am = [\n",
    "     [0, 1, 0, 1, 1, 0],\n",
    "     [1, 0, 1, 1, 0, 1],\n",
    "     [0, 1, 0, 0, 1, 1],\n",
    "     [1, 1, 0, 0, 1, 1],\n",
    "     [1, 0, 1, 1, 0, 1],\n",
    "     [0, 1, 1, 1, 1, 0]\n",
    "]"
   ]
  },
  {
   "cell_type": "code",
   "execution_count": 3,
   "metadata": {},
   "outputs": [],
   "source": [
    "max_num = len(am)"
   ]
  },
  {
   "cell_type": "code",
   "execution_count": 4,
   "metadata": {},
   "outputs": [],
   "source": [
    "def define_variables(max_no: int):\n",
    "    return symbols(f'x:{max_no}')"
   ]
  },
  {
   "cell_type": "code",
   "execution_count": 6,
   "metadata": {},
   "outputs": [],
   "source": [
    "syms: sp.Symbol = define_variables(max_num+1)\n",
    "for i in range(max_num+1):\n",
    "    exec(f'x{i} = syms[{i}]')"
   ]
  },
  {
   "cell_type": "code",
   "execution_count": 8,
   "metadata": {},
   "outputs": [],
   "source": [
    "clauses = []"
   ]
  },
  {
   "cell_type": "code",
   "execution_count": 10,
   "metadata": {},
   "outputs": [],
   "source": [
    "for i in range(max_num):\n",
    "    for j in range(len(am[i])):\n",
    "        if am[i][j] == 1:\n",
    "            clauses.append([i,j])"
   ]
  },
  {
   "cell_type": "code",
   "execution_count": 11,
   "metadata": {},
   "outputs": [
    {
     "data": {
      "text/plain": [
       "[[0, 1],\n",
       " [0, 3],\n",
       " [0, 4],\n",
       " [1, 0],\n",
       " [1, 2],\n",
       " [1, 3],\n",
       " [1, 5],\n",
       " [2, 1],\n",
       " [2, 4],\n",
       " [2, 5],\n",
       " [3, 0],\n",
       " [3, 1],\n",
       " [3, 4],\n",
       " [3, 5],\n",
       " [4, 0],\n",
       " [4, 2],\n",
       " [4, 3],\n",
       " [4, 5],\n",
       " [5, 1],\n",
       " [5, 2],\n",
       " [5, 3],\n",
       " [5, 4]]"
      ]
     },
     "execution_count": 11,
     "metadata": {},
     "output_type": "execute_result"
    }
   ],
   "source": []
  },
  {
   "cell_type": "code",
   "execution_count": null,
   "metadata": {},
   "outputs": [],
   "source": []
  }
 ],
 "metadata": {
  "kernelspec": {
   "display_name": "Python 3",
   "language": "python",
   "name": "python3"
  },
  "language_info": {
   "codemirror_mode": {
    "name": "ipython",
    "version": 3
   },
   "file_extension": ".py",
   "mimetype": "text/x-python",
   "name": "python",
   "nbconvert_exporter": "python",
   "pygments_lexer": "ipython3",
   "version": "3.7.3"
  }
 },
 "nbformat": 4,
 "nbformat_minor": 2
}
