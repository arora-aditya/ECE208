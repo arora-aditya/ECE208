{
 "cells": [
  {
   "cell_type": "markdown",
   "metadata": {},
   "source": [
    "# Graph Cover"
   ]
  },
  {
   "cell_type": "code",
   "execution_count": null,
   "metadata": {},
   "outputs": [],
   "source": []
  },
  {
   "cell_type": "code",
   "execution_count": 9,
   "metadata": {},
   "outputs": [],
   "source": [
    "import sympy as sp\n",
    "from sympy import *\n",
    "from sympy.abc import *\n",
    "from sympy.parsing.sympy_parser import parse_expr"
   ]
  },
  {
   "cell_type": "code",
   "execution_count": null,
   "metadata": {},
   "outputs": [],
   "source": []
  },
  {
   "cell_type": "code",
   "execution_count": 10,
   "metadata": {},
   "outputs": [],
   "source": [
    "adjaceny_matrix = am = [\n",
    "     [0, 1, 0, 1, 1, 0],\n",
    "     [1, 0, 1, 1, 0, 1],\n",
    "     [0, 1, 0, 0, 1, 1],\n",
    "     [1, 1, 0, 0, 1, 1],\n",
    "     [1, 0, 1, 1, 0, 1],\n",
    "     [0, 1, 1, 1, 1, 0]\n",
    "]"
   ]
  },
  {
   "cell_type": "code",
   "execution_count": 11,
   "metadata": {},
   "outputs": [],
   "source": [
    "max_num = len(am)"
   ]
  },
  {
   "cell_type": "code",
   "execution_count": 12,
   "metadata": {},
   "outputs": [],
   "source": [
    "def define_variables(max_no: int):\n",
    "    return symbols(f'x:{max_no}')"
   ]
  },
  {
   "cell_type": "code",
   "execution_count": 13,
   "metadata": {},
   "outputs": [],
   "source": [
    "syms: sp.Symbol = define_variables(9+1)\n",
    "for i in range(max_num+1):\n",
    "    exec(f'x{i} = syms[{i}]')"
   ]
  },
  {
   "cell_type": "code",
   "execution_count": 14,
   "metadata": {},
   "outputs": [],
   "source": [
    "clauses = []"
   ]
  },
  {
   "cell_type": "code",
   "execution_count": 15,
   "metadata": {},
   "outputs": [],
   "source": [
    "for i in range(max_num):\n",
    "    for j in range(len(am[i])):\n",
    "        if am[i][j] == 1:\n",
    "            clauses.append([i,j])"
   ]
  },
  {
   "cell_type": "code",
   "execution_count": 17,
   "metadata": {},
   "outputs": [],
   "source": [
    "def comparator(a, b, g_i_1, e_i_1, l_i_1):\n",
    "    g_i = g_i_1 | (e_i_1 & a & ~b)\n",
    "    e_i = e_i_1 & ~(a ^ b)\n",
    "    l_i = l_i_1 | (e_i_1 & ~a & b)\n",
    "    return g_i, e_i, l_i"
   ]
  },
  {
   "cell_type": "code",
   "execution_count": 24,
   "metadata": {},
   "outputs": [],
   "source": [
    "def rippleAdder(x, y, carry):\n",
    "    su = x ^ y ^ carry\n",
    "    carry_out = Or((x & y), (y & carry), (x & carry))\n",
    "#     return su, carry_out\n",
    "#     return sp.to_cnf(su, simplify=True), sp.to_cnf(carry_out, simplify=True)\n",
    "    return sp.simplify(su), sp.simplify(carry_out)"
   ]
  },
  {
   "cell_type": "code",
   "execution_count": 25,
   "metadata": {},
   "outputs": [
    {
     "data": {
      "text/plain": [
       "(Xor(x1, x2, x3), (x1 & x2) | (x1 & x3) | (x2 & x3))"
      ]
     },
     "execution_count": 25,
     "metadata": {},
     "output_type": "execute_result"
    }
   ],
   "source": [
    "rippleAdder(x1, x2, x3)"
   ]
  },
  {
   "cell_type": "code",
   "execution_count": 21,
   "metadata": {},
   "outputs": [
    {
     "data": {
      "text/plain": [
       "(x0, x1, x2, x3, x4, x5, x6, x7, x8, x9)"
      ]
     },
     "execution_count": 21,
     "metadata": {},
     "output_type": "execute_result"
    }
   ],
   "source": [
    "syms"
   ]
  },
  {
   "cell_type": "code",
   "execution_count": 26,
   "metadata": {},
   "outputs": [
    {
     "name": "stdout",
     "output_type": "stream",
     "text": [
      "0\n",
      "False\n",
      "x0 & x1\n",
      "x2 & (x0 | x1)\n",
      "x3 & (x0 | x1 | x2)\n",
      "x4 & (x0 | x1 | x2 | x3)\n",
      "x5 & (x0 | x1 | x2 | x3 | x4)\n",
      "x6 & (x0 | x1 | x2 | x3 | x4 | x5)\n",
      "x7 & (x0 | x1 | x2 | x3 | x4 | x5 | x6)\n",
      "(x7 & x8 & (x0 | x1 | x2 | x3 | x4 | x5 | x6)) | (x8 & (Xor(x0, x1, x2, x3, x4, x5, x6, x7, x0 & x1, x2 & (x0 | x1), x3 & (x0 | x1 | x2), x4 & (x0 | x1 | x2 | x3), x5 & (x0 | x1 | x2 | x3 | x4), x6 & (x0 | x1 | x2 | x3 | x4 | x5))))\n"
     ]
    },
    {
     "data": {
      "text/latex": [
       "$\\displaystyle x_{0} \\veebar x_{1} \\veebar x_{2} \\veebar x_{3} \\veebar x_{4} \\veebar x_{5} \\veebar x_{6} \\veebar x_{7} \\veebar x_{8} \\veebar x_{9} \\veebar \\left(x_{0} \\wedge x_{1}\\right) \\veebar \\left(x_{2} \\wedge \\left(x_{0} \\vee x_{1}\\right)\\right) \\veebar \\left(x_{3} \\wedge \\left(x_{0} \\vee x_{1} \\vee x_{2}\\right)\\right) \\veebar \\left(x_{4} \\wedge \\left(x_{0} \\vee x_{1} \\vee x_{2} \\vee x_{3}\\right)\\right) \\veebar \\left(x_{5} \\wedge \\left(x_{0} \\vee x_{1} \\vee x_{2} \\vee x_{3} \\vee x_{4}\\right)\\right) \\veebar \\left(x_{6} \\wedge \\left(x_{0} \\vee x_{1} \\vee x_{2} \\vee x_{3} \\vee x_{4} \\vee x_{5}\\right)\\right) \\veebar \\left(x_{7} \\wedge \\left(x_{0} \\vee x_{1} \\vee x_{2} \\vee x_{3} \\vee x_{4} \\vee x_{5} \\vee x_{6}\\right)\\right) \\veebar \\left(\\left(x_{8} \\wedge \\left(x_{0} \\veebar x_{1} \\veebar x_{2} \\veebar x_{3} \\veebar x_{4} \\veebar x_{5} \\veebar x_{6} \\veebar x_{7} \\veebar \\left(x_{0} \\wedge x_{1}\\right) \\veebar \\left(x_{2} \\wedge \\left(x_{0} \\vee x_{1}\\right)\\right) \\veebar \\left(x_{3} \\wedge \\left(x_{0} \\vee x_{1} \\vee x_{2}\\right)\\right) \\veebar \\left(x_{4} \\wedge \\left(x_{0} \\vee x_{1} \\vee x_{2} \\vee x_{3}\\right)\\right) \\veebar \\left(x_{5} \\wedge \\left(x_{0} \\vee x_{1} \\vee x_{2} \\vee x_{3} \\vee x_{4}\\right)\\right) \\veebar \\left(x_{6} \\wedge \\left(x_{0} \\vee x_{1} \\vee x_{2} \\vee x_{3} \\vee x_{4} \\vee x_{5}\\right)\\right)\\right)\\right) \\vee \\left(x_{7} \\wedge x_{8} \\wedge \\left(x_{0} \\vee x_{1} \\vee x_{2} \\vee x_{3} \\vee x_{4} \\vee x_{5} \\vee x_{6}\\right)\\right)\\right)$"
      ],
      "text/plain": [
       "Xor(x0, x1, x2, x3, x4, x5, x6, x7, x8, x9, x0 & x1, x2 & (x0 | x1), x3 & (x0 | x1 | x2), x4 & (x0 | x1 | x2 | x3), x5 & (x0 | x1 | x2 | x3 | x4), x6 & (x0 | x1 | x2 | x3 | x4 | x5), x7 & (x0 | x1 | x2 | x3 | x4 | x5 | x6), (x7 & x8 & (x0 | x1 | x2 | x3 | x4 | x5 | x6)) | (x8 & (Xor(x0, x1, x2, x3, x4, x5, x6, x7, x0 & x1, x2 & (x0 | x1), x3 & (x0 | x1 | x2), x4 & (x0 | x1 | x2 | x3), x5 & (x0 | x1 | x2 | x3 | x4), x6 & (x0 | x1 | x2 | x3 | x4 | x5)))))"
      ]
     },
     "execution_count": 26,
     "metadata": {},
     "output_type": "execute_result"
    }
   ],
   "source": [
    "carry_out = 0\n",
    "i = 0\n",
    "su = 0\n",
    "for i in range(len(syms)):\n",
    "    print(carry_out)\n",
    "    su, carry_out = rippleAdder(su, syms[i], carry_out)\n",
    "# su, carry_in = rippleAdder(su, carry_in, 0)\n",
    "su"
   ]
  },
  {
   "cell_type": "code",
   "execution_count": 29,
   "metadata": {},
   "outputs": [
    {
     "name": "stdout",
     "output_type": "stream",
     "text": [
      "Xor(x0, x1, x2, x3, x4, x5, x6, x7, x8, x9, x0 & x1, x2 & (x0 | x1), x3 & (x0 | x1 | x2), x4 & (x0 | x1 | x2 | x3), x5 & (x0 | x1 | x2 | x3 | x4), x6 & (x0 | x1 | x2 | x3 | x4 | x5), x7 & (x0 | x1 | x2 | x3 | x4 | x5 | x6), (x7 & x8 & (x0 | x1 | x2 | x3 | x4 | x5 | x6)) | (x8 & (Xor(x0, x1, x2, x3, x4, x5, x6, x7, x0 & x1, x2 & (x0 | x1), x3 & (x0 | x1 | x2), x4 & (x0 | x1 | x2 | x3), x5 & (x0 | x1 | x2 | x3 | x4), x6 & (x0 | x1 | x2 | x3 | x4 | x5)))))\n"
     ]
    }
   ],
   "source": [
    "print(sp.to_cnf(su, True))"
   ]
  },
  {
   "cell_type": "code",
   "execution_count": 31,
   "metadata": {},
   "outputs": [
    {
     "data": {
      "text/latex": [
       "$\\displaystyle x_{0} \\veebar x_{1} \\veebar x_{2} \\veebar x_{3} \\veebar x_{4} \\veebar x_{5} \\veebar x_{6} \\veebar x_{7} \\veebar x_{8} \\veebar x_{9} \\veebar \\left(x_{0} \\wedge x_{1}\\right) \\veebar \\left(x_{2} \\wedge \\left(x_{0} \\vee x_{1}\\right)\\right) \\veebar \\left(x_{3} \\wedge \\left(x_{0} \\vee x_{1} \\vee x_{2}\\right)\\right) \\veebar \\left(x_{4} \\wedge \\left(x_{0} \\vee x_{1} \\vee x_{2} \\vee x_{3}\\right)\\right) \\veebar \\left(x_{5} \\wedge \\left(x_{0} \\vee x_{1} \\vee x_{2} \\vee x_{3} \\vee x_{4}\\right)\\right) \\veebar \\left(x_{6} \\wedge \\left(x_{0} \\vee x_{1} \\vee x_{2} \\vee x_{3} \\vee x_{4} \\vee x_{5}\\right)\\right) \\veebar \\left(x_{7} \\wedge \\left(x_{0} \\vee x_{1} \\vee x_{2} \\vee x_{3} \\vee x_{4} \\vee x_{5} \\vee x_{6}\\right)\\right) \\veebar \\left(\\left(x_{8} \\wedge \\left(x_{0} \\veebar x_{1} \\veebar x_{2} \\veebar x_{3} \\veebar x_{4} \\veebar x_{5} \\veebar x_{6} \\veebar x_{7} \\veebar \\left(x_{0} \\wedge x_{1}\\right) \\veebar \\left(x_{2} \\wedge \\left(x_{0} \\vee x_{1}\\right)\\right) \\veebar \\left(x_{3} \\wedge \\left(x_{0} \\vee x_{1} \\vee x_{2}\\right)\\right) \\veebar \\left(x_{4} \\wedge \\left(x_{0} \\vee x_{1} \\vee x_{2} \\vee x_{3}\\right)\\right) \\veebar \\left(x_{5} \\wedge \\left(x_{0} \\vee x_{1} \\vee x_{2} \\vee x_{3} \\vee x_{4}\\right)\\right) \\veebar \\left(x_{6} \\wedge \\left(x_{0} \\vee x_{1} \\vee x_{2} \\vee x_{3} \\vee x_{4} \\vee x_{5}\\right)\\right)\\right)\\right) \\vee \\left(x_{7} \\wedge x_{8} \\wedge \\left(x_{0} \\vee x_{1} \\vee x_{2} \\vee x_{3} \\vee x_{4} \\vee x_{5} \\vee x_{6}\\right)\\right)\\right)$"
      ],
      "text/plain": [
       "Xor(x0, x1, x2, x3, x4, x5, x6, x7, x8, x9, x0 & x1, x2 & (x0 | x1), x3 & (x0 | x1 | x2), x4 & (x0 | x1 | x2 | x3), x5 & (x0 | x1 | x2 | x3 | x4), x6 & (x0 | x1 | x2 | x3 | x4 | x5), x7 & (x0 | x1 | x2 | x3 | x4 | x5 | x6), (x7 & x8 & (x0 | x1 | x2 | x3 | x4 | x5 | x6)) | (x8 & (Xor(x0, x1, x2, x3, x4, x5, x6, x7, x0 & x1, x2 & (x0 | x1), x3 & (x0 | x1 | x2), x4 & (x0 | x1 | x2 | x3), x5 & (x0 | x1 | x2 | x3 | x4), x6 & (x0 | x1 | x2 | x3 | x4 | x5)))))"
      ]
     },
     "execution_count": 31,
     "metadata": {},
     "output_type": "execute_result"
    }
   ],
   "source": [
    "su"
   ]
  },
  {
   "cell_type": "code",
   "execution_count": null,
   "metadata": {},
   "outputs": [],
   "source": []
  },
  {
   "cell_type": "code",
   "execution_count": null,
   "metadata": {},
   "outputs": [],
   "source": []
  },
  {
   "cell_type": "code",
   "execution_count": null,
   "metadata": {},
   "outputs": [],
   "source": []
  },
  {
   "cell_type": "code",
   "execution_count": null,
   "metadata": {},
   "outputs": [],
   "source": []
  },
  {
   "cell_type": "code",
   "execution_count": null,
   "metadata": {},
   "outputs": [],
   "source": []
  },
  {
   "cell_type": "code",
   "execution_count": null,
   "metadata": {},
   "outputs": [],
   "source": []
  },
  {
   "cell_type": "code",
   "execution_count": null,
   "metadata": {},
   "outputs": [],
   "source": []
  },
  {
   "cell_type": "code",
   "execution_count": null,
   "metadata": {},
   "outputs": [],
   "source": []
  }
 ],
 "metadata": {
  "kernelspec": {
   "display_name": "Python 3",
   "language": "python",
   "name": "python3"
  }
 },
 "nbformat": 4,
 "nbformat_minor": 2
}
