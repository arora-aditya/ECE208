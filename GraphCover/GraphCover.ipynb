{
 "cells": [
  {
   "cell_type": "code",
   "execution_count": 1,
   "metadata": {},
   "outputs": [],
   "source": [
    "import sympy as sp\n",
    "from sympy import *\n",
    "from sympy.abc import *\n",
    "from sympy.parsing.sympy_parser import parse_expr\n",
    "from itertools import combinations"
   ]
  },
  {
   "cell_type": "code",
   "execution_count": 2,
   "metadata": {},
   "outputs": [],
   "source": [
    "CNF_FILE_NAME = f'graph.cnf'"
   ]
  },
  {
   "cell_type": "code",
   "execution_count": 3,
   "metadata": {},
   "outputs": [],
   "source": [
    "def readIntoAM(filename: str):\n",
    "    am = []\n",
    "    with open(filename) as f:\n",
    "        lines = f.readlines()\n",
    "        for line in lines:\n",
    "            line = list(map(int, line[:-1]))\n",
    "            am.append(list(line))\n",
    "    for i in range(len(am)):\n",
    "        for j in range(i, len(am[i])):\n",
    "            am[i][j] = am[j][i]\n",
    "    return am\n",
    "    "
   ]
  },
  {
   "cell_type": "code",
   "execution_count": 4,
   "metadata": {},
   "outputs": [],
   "source": [
    "adjaceny_matrix = am = readIntoAM(f'./adjacency_matrices_8/testcase_{1}.cov')"
   ]
  },
  {
   "cell_type": "code",
   "execution_count": 5,
   "metadata": {},
   "outputs": [
    {
     "data": {
      "text/plain": [
       "[[0, 1, 0, 1, 0, 0, 1, 1],\n",
       " [1, 0, 1, 0, 1, 0, 1, 1],\n",
       " [0, 1, 0, 0, 1, 1, 0, 1],\n",
       " [1, 0, 0, 0, 0, 0, 1, 1],\n",
       " [0, 1, 1, 0, 0, 1, 1, 1],\n",
       " [0, 0, 1, 0, 1, 0, 1, 1],\n",
       " [1, 1, 0, 1, 1, 1, 0, 1],\n",
       " [1, 1, 1, 1, 1, 1, 1, 0]]"
      ]
     },
     "execution_count": 5,
     "metadata": {},
     "output_type": "execute_result"
    }
   ],
   "source": [
    "am"
   ]
  },
  {
   "cell_type": "code",
   "execution_count": 6,
   "metadata": {},
   "outputs": [],
   "source": [
    "k = 3"
   ]
  },
  {
   "cell_type": "code",
   "execution_count": 7,
   "metadata": {},
   "outputs": [],
   "source": [
    "# adjaceny_matrix = am = [\n",
    "#             [0, 1, 1, 1, 1],\n",
    "#             [1, 0, 0, 0, 1],\n",
    "#             [1, 0, 0, 1, 1],\n",
    "#             [1, 0, 1, 0, 1],\n",
    "#             [1, 1, 1, 1, 0]\n",
    "# ]"
   ]
  },
  {
   "cell_type": "code",
   "execution_count": 8,
   "metadata": {},
   "outputs": [],
   "source": [
    "max_num = len(am)"
   ]
  },
  {
   "cell_type": "code",
   "execution_count": 9,
   "metadata": {},
   "outputs": [
    {
     "data": {
      "text/plain": [
       "8"
      ]
     },
     "execution_count": 9,
     "metadata": {},
     "output_type": "execute_result"
    }
   ],
   "source": [
    "max_num"
   ]
  },
  {
   "cell_type": "code",
   "execution_count": 10,
   "metadata": {},
   "outputs": [],
   "source": [
    "def define_variables(max_no: int):\n",
    "    return symbols(f'x:{max_no}')"
   ]
  },
  {
   "cell_type": "code",
   "execution_count": 11,
   "metadata": {},
   "outputs": [],
   "source": [
    "syms: sp.Symbol = define_variables(max_num)\n",
    "for i in range(max_num):\n",
    "    exec(f'x{i} = syms[{i}]')"
   ]
  },
  {
   "cell_type": "code",
   "execution_count": null,
   "metadata": {},
   "outputs": [],
   "source": []
  },
  {
   "cell_type": "code",
   "execution_count": 12,
   "metadata": {},
   "outputs": [],
   "source": [
    "clauses = []"
   ]
  },
  {
   "cell_type": "code",
   "execution_count": 13,
   "metadata": {},
   "outputs": [],
   "source": [
    "# add edges to our clauses\n",
    "for i in range(max_num):\n",
    "    for j in range(i+1):\n",
    "        if am[i][j] == 1:\n",
    "            clauses.append(f'x{i}|x{j}')"
   ]
  },
  {
   "cell_type": "code",
   "execution_count": 14,
   "metadata": {},
   "outputs": [
    {
     "data": {
      "text/plain": [
       "['x1|x0',\n",
       " 'x2|x1',\n",
       " 'x3|x0',\n",
       " 'x4|x1',\n",
       " 'x4|x2',\n",
       " 'x5|x2',\n",
       " 'x5|x4',\n",
       " 'x6|x0',\n",
       " 'x6|x1',\n",
       " 'x6|x3',\n",
       " 'x6|x4',\n",
       " 'x6|x5',\n",
       " 'x7|x0',\n",
       " 'x7|x1',\n",
       " 'x7|x2',\n",
       " 'x7|x3',\n",
       " 'x7|x4',\n",
       " 'x7|x5',\n",
       " 'x7|x6']"
      ]
     },
     "execution_count": 14,
     "metadata": {},
     "output_type": "execute_result"
    }
   ],
   "source": [
    "clauses"
   ]
  },
  {
   "cell_type": "code",
   "execution_count": 15,
   "metadata": {},
   "outputs": [
    {
     "data": {
      "text/latex": [
       "$\\displaystyle \\left(\\neg x_{0} \\vee \\neg x_{1} \\vee \\neg x_{2} \\vee \\neg x_{3}\\right) \\wedge \\left(\\neg x_{0} \\vee \\neg x_{1} \\vee \\neg x_{2} \\vee \\neg x_{4}\\right) \\wedge \\left(\\neg x_{0} \\vee \\neg x_{1} \\vee \\neg x_{2} \\vee \\neg x_{5}\\right) \\wedge \\left(\\neg x_{0} \\vee \\neg x_{1} \\vee \\neg x_{2} \\vee \\neg x_{6}\\right) \\wedge \\left(\\neg x_{0} \\vee \\neg x_{1} \\vee \\neg x_{2} \\vee \\neg x_{7}\\right) \\wedge \\left(\\neg x_{0} \\vee \\neg x_{1} \\vee \\neg x_{3} \\vee \\neg x_{4}\\right) \\wedge \\left(\\neg x_{0} \\vee \\neg x_{1} \\vee \\neg x_{3} \\vee \\neg x_{5}\\right) \\wedge \\left(\\neg x_{0} \\vee \\neg x_{1} \\vee \\neg x_{3} \\vee \\neg x_{6}\\right) \\wedge \\left(\\neg x_{0} \\vee \\neg x_{1} \\vee \\neg x_{3} \\vee \\neg x_{7}\\right) \\wedge \\left(\\neg x_{0} \\vee \\neg x_{1} \\vee \\neg x_{4} \\vee \\neg x_{5}\\right) \\wedge \\left(\\neg x_{0} \\vee \\neg x_{1} \\vee \\neg x_{4} \\vee \\neg x_{6}\\right) \\wedge \\left(\\neg x_{0} \\vee \\neg x_{1} \\vee \\neg x_{4} \\vee \\neg x_{7}\\right) \\wedge \\left(\\neg x_{0} \\vee \\neg x_{1} \\vee \\neg x_{5} \\vee \\neg x_{6}\\right) \\wedge \\left(\\neg x_{0} \\vee \\neg x_{1} \\vee \\neg x_{5} \\vee \\neg x_{7}\\right) \\wedge \\left(\\neg x_{0} \\vee \\neg x_{1} \\vee \\neg x_{6} \\vee \\neg x_{7}\\right) \\wedge \\left(\\neg x_{0} \\vee \\neg x_{2} \\vee \\neg x_{3} \\vee \\neg x_{4}\\right) \\wedge \\left(\\neg x_{0} \\vee \\neg x_{2} \\vee \\neg x_{3} \\vee \\neg x_{5}\\right) \\wedge \\left(\\neg x_{0} \\vee \\neg x_{2} \\vee \\neg x_{3} \\vee \\neg x_{6}\\right) \\wedge \\left(\\neg x_{0} \\vee \\neg x_{2} \\vee \\neg x_{3} \\vee \\neg x_{7}\\right) \\wedge \\left(\\neg x_{0} \\vee \\neg x_{2} \\vee \\neg x_{4} \\vee \\neg x_{5}\\right) \\wedge \\left(\\neg x_{0} \\vee \\neg x_{2} \\vee \\neg x_{4} \\vee \\neg x_{6}\\right) \\wedge \\left(\\neg x_{0} \\vee \\neg x_{2} \\vee \\neg x_{4} \\vee \\neg x_{7}\\right) \\wedge \\left(\\neg x_{0} \\vee \\neg x_{2} \\vee \\neg x_{5} \\vee \\neg x_{6}\\right) \\wedge \\left(\\neg x_{0} \\vee \\neg x_{2} \\vee \\neg x_{5} \\vee \\neg x_{7}\\right) \\wedge \\left(\\neg x_{0} \\vee \\neg x_{2} \\vee \\neg x_{6} \\vee \\neg x_{7}\\right) \\wedge \\left(\\neg x_{0} \\vee \\neg x_{3} \\vee \\neg x_{4} \\vee \\neg x_{5}\\right) \\wedge \\left(\\neg x_{0} \\vee \\neg x_{3} \\vee \\neg x_{4} \\vee \\neg x_{6}\\right) \\wedge \\left(\\neg x_{0} \\vee \\neg x_{3} \\vee \\neg x_{4} \\vee \\neg x_{7}\\right) \\wedge \\left(\\neg x_{0} \\vee \\neg x_{3} \\vee \\neg x_{5} \\vee \\neg x_{6}\\right) \\wedge \\left(\\neg x_{0} \\vee \\neg x_{3} \\vee \\neg x_{5} \\vee \\neg x_{7}\\right) \\wedge \\left(\\neg x_{0} \\vee \\neg x_{3} \\vee \\neg x_{6} \\vee \\neg x_{7}\\right) \\wedge \\left(\\neg x_{0} \\vee \\neg x_{4} \\vee \\neg x_{5} \\vee \\neg x_{6}\\right) \\wedge \\left(\\neg x_{0} \\vee \\neg x_{4} \\vee \\neg x_{5} \\vee \\neg x_{7}\\right) \\wedge \\left(\\neg x_{0} \\vee \\neg x_{4} \\vee \\neg x_{6} \\vee \\neg x_{7}\\right) \\wedge \\left(\\neg x_{0} \\vee \\neg x_{5} \\vee \\neg x_{6} \\vee \\neg x_{7}\\right) \\wedge \\left(\\neg x_{1} \\vee \\neg x_{2} \\vee \\neg x_{3} \\vee \\neg x_{4}\\right) \\wedge \\left(\\neg x_{1} \\vee \\neg x_{2} \\vee \\neg x_{3} \\vee \\neg x_{5}\\right) \\wedge \\left(\\neg x_{1} \\vee \\neg x_{2} \\vee \\neg x_{3} \\vee \\neg x_{6}\\right) \\wedge \\left(\\neg x_{1} \\vee \\neg x_{2} \\vee \\neg x_{3} \\vee \\neg x_{7}\\right) \\wedge \\left(\\neg x_{1} \\vee \\neg x_{2} \\vee \\neg x_{4} \\vee \\neg x_{5}\\right) \\wedge \\left(\\neg x_{1} \\vee \\neg x_{2} \\vee \\neg x_{4} \\vee \\neg x_{6}\\right) \\wedge \\left(\\neg x_{1} \\vee \\neg x_{2} \\vee \\neg x_{4} \\vee \\neg x_{7}\\right) \\wedge \\left(\\neg x_{1} \\vee \\neg x_{2} \\vee \\neg x_{5} \\vee \\neg x_{6}\\right) \\wedge \\left(\\neg x_{1} \\vee \\neg x_{2} \\vee \\neg x_{5} \\vee \\neg x_{7}\\right) \\wedge \\left(\\neg x_{1} \\vee \\neg x_{2} \\vee \\neg x_{6} \\vee \\neg x_{7}\\right) \\wedge \\left(\\neg x_{1} \\vee \\neg x_{3} \\vee \\neg x_{4} \\vee \\neg x_{5}\\right) \\wedge \\left(\\neg x_{1} \\vee \\neg x_{3} \\vee \\neg x_{4} \\vee \\neg x_{6}\\right) \\wedge \\left(\\neg x_{1} \\vee \\neg x_{3} \\vee \\neg x_{4} \\vee \\neg x_{7}\\right) \\wedge \\left(\\neg x_{1} \\vee \\neg x_{3} \\vee \\neg x_{5} \\vee \\neg x_{6}\\right) \\wedge \\left(\\neg x_{1} \\vee \\neg x_{3} \\vee \\neg x_{5} \\vee \\neg x_{7}\\right) \\wedge \\left(\\neg x_{1} \\vee \\neg x_{3} \\vee \\neg x_{6} \\vee \\neg x_{7}\\right) \\wedge \\left(\\neg x_{1} \\vee \\neg x_{4} \\vee \\neg x_{5} \\vee \\neg x_{6}\\right) \\wedge \\left(\\neg x_{1} \\vee \\neg x_{4} \\vee \\neg x_{5} \\vee \\neg x_{7}\\right) \\wedge \\left(\\neg x_{1} \\vee \\neg x_{4} \\vee \\neg x_{6} \\vee \\neg x_{7}\\right) \\wedge \\left(\\neg x_{1} \\vee \\neg x_{5} \\vee \\neg x_{6} \\vee \\neg x_{7}\\right) \\wedge \\left(\\neg x_{2} \\vee \\neg x_{3} \\vee \\neg x_{4} \\vee \\neg x_{5}\\right) \\wedge \\left(\\neg x_{2} \\vee \\neg x_{3} \\vee \\neg x_{4} \\vee \\neg x_{6}\\right) \\wedge \\left(\\neg x_{2} \\vee \\neg x_{3} \\vee \\neg x_{4} \\vee \\neg x_{7}\\right) \\wedge \\left(\\neg x_{2} \\vee \\neg x_{3} \\vee \\neg x_{5} \\vee \\neg x_{6}\\right) \\wedge \\left(\\neg x_{2} \\vee \\neg x_{3} \\vee \\neg x_{5} \\vee \\neg x_{7}\\right) \\wedge \\left(\\neg x_{2} \\vee \\neg x_{3} \\vee \\neg x_{6} \\vee \\neg x_{7}\\right) \\wedge \\left(\\neg x_{2} \\vee \\neg x_{4} \\vee \\neg x_{5} \\vee \\neg x_{6}\\right) \\wedge \\left(\\neg x_{2} \\vee \\neg x_{4} \\vee \\neg x_{5} \\vee \\neg x_{7}\\right) \\wedge \\left(\\neg x_{2} \\vee \\neg x_{4} \\vee \\neg x_{6} \\vee \\neg x_{7}\\right) \\wedge \\left(\\neg x_{2} \\vee \\neg x_{5} \\vee \\neg x_{6} \\vee \\neg x_{7}\\right) \\wedge \\left(\\neg x_{3} \\vee \\neg x_{4} \\vee \\neg x_{5} \\vee \\neg x_{6}\\right) \\wedge \\left(\\neg x_{3} \\vee \\neg x_{4} \\vee \\neg x_{5} \\vee \\neg x_{7}\\right) \\wedge \\left(\\neg x_{3} \\vee \\neg x_{4} \\vee \\neg x_{6} \\vee \\neg x_{7}\\right) \\wedge \\left(\\neg x_{3} \\vee \\neg x_{5} \\vee \\neg x_{6} \\vee \\neg x_{7}\\right) \\wedge \\left(\\neg x_{4} \\vee \\neg x_{5} \\vee \\neg x_{6} \\vee \\neg x_{7}\\right) \\wedge \\left(x_{0} \\vee x_{1} \\vee x_{2} \\vee x_{3} \\vee x_{4} \\vee x_{5} \\vee x_{6} \\vee x_{7}\\right)$"
      ],
      "text/plain": [
       "(~x0 | ~x1 | ~x2 | ~x3) & (~x0 | ~x1 | ~x2 | ~x4) & (~x0 | ~x1 | ~x2 | ~x5) & (~x0 | ~x1 | ~x2 | ~x6) & (~x0 | ~x1 | ~x2 | ~x7) & (~x0 | ~x1 | ~x3 | ~x4) & (~x0 | ~x1 | ~x3 | ~x5) & (~x0 | ~x1 | ~x3 | ~x6) & (~x0 | ~x1 | ~x3 | ~x7) & (~x0 | ~x1 | ~x4 | ~x5) & (~x0 | ~x1 | ~x4 | ~x6) & (~x0 | ~x1 | ~x4 | ~x7) & (~x0 | ~x1 | ~x5 | ~x6) & (~x0 | ~x1 | ~x5 | ~x7) & (~x0 | ~x1 | ~x6 | ~x7) & (~x0 | ~x2 | ~x3 | ~x4) & (~x0 | ~x2 | ~x3 | ~x5) & (~x0 | ~x2 | ~x3 | ~x6) & (~x0 | ~x2 | ~x3 | ~x7) & (~x0 | ~x2 | ~x4 | ~x5) & (~x0 | ~x2 | ~x4 | ~x6) & (~x0 | ~x2 | ~x4 | ~x7) & (~x0 | ~x2 | ~x5 | ~x6) & (~x0 | ~x2 | ~x5 | ~x7) & (~x0 | ~x2 | ~x6 | ~x7) & (~x0 | ~x3 | ~x4 | ~x5) & (~x0 | ~x3 | ~x4 | ~x6) & (~x0 | ~x3 | ~x4 | ~x7) & (~x0 | ~x3 | ~x5 | ~x6) & (~x0 | ~x3 | ~x5 | ~x7) & (~x0 | ~x3 | ~x6 | ~x7) & (~x0 | ~x4 | ~x5 | ~x6) & (~x0 | ~x4 | ~x5 | ~x7) & (~x0 | ~x4 | ~x6 | ~x7) & (~x0 | ~x5 | ~x6 | ~x7) & (~x1 | ~x2 | ~x3 | ~x4) & (~x1 | ~x2 | ~x3 | ~x5) & (~x1 | ~x2 | ~x3 | ~x6) & (~x1 | ~x2 | ~x3 | ~x7) & (~x1 | ~x2 | ~x4 | ~x5) & (~x1 | ~x2 | ~x4 | ~x6) & (~x1 | ~x2 | ~x4 | ~x7) & (~x1 | ~x2 | ~x5 | ~x6) & (~x1 | ~x2 | ~x5 | ~x7) & (~x1 | ~x2 | ~x6 | ~x7) & (~x1 | ~x3 | ~x4 | ~x5) & (~x1 | ~x3 | ~x4 | ~x6) & (~x1 | ~x3 | ~x4 | ~x7) & (~x1 | ~x3 | ~x5 | ~x6) & (~x1 | ~x3 | ~x5 | ~x7) & (~x1 | ~x3 | ~x6 | ~x7) & (~x1 | ~x4 | ~x5 | ~x6) & (~x1 | ~x4 | ~x5 | ~x7) & (~x1 | ~x4 | ~x6 | ~x7) & (~x1 | ~x5 | ~x6 | ~x7) & (~x2 | ~x3 | ~x4 | ~x5) & (~x2 | ~x3 | ~x4 | ~x6) & (~x2 | ~x3 | ~x4 | ~x7) & (~x2 | ~x3 | ~x5 | ~x6) & (~x2 | ~x3 | ~x5 | ~x7) & (~x2 | ~x3 | ~x6 | ~x7) & (~x2 | ~x4 | ~x5 | ~x6) & (~x2 | ~x4 | ~x5 | ~x7) & (~x2 | ~x4 | ~x6 | ~x7) & (~x2 | ~x5 | ~x6 | ~x7) & (~x3 | ~x4 | ~x5 | ~x6) & (~x3 | ~x4 | ~x5 | ~x7) & (~x3 | ~x4 | ~x6 | ~x7) & (~x3 | ~x5 | ~x6 | ~x7) & (~x4 | ~x5 | ~x6 | ~x7) & (x0 | x1 | x2 | x3 | x4 | x5 | x6 | x7)"
      ]
     },
     "execution_count": 15,
     "metadata": {},
     "output_type": "execute_result"
    }
   ],
   "source": [
    "# encode addition from 1 to k\n",
    "# m = len(clauses)\n",
    "overall_addition = []\n",
    "se = set()\n",
    "for symbol in syms:\n",
    "    se.add(str(symbol))\n",
    "\n",
    "for i in range(1, k+1):\n",
    "    x = list(combinations(se, i))\n",
    "    clause_string = ''\n",
    "    for part_clause in x:\n",
    "        clause_string += '&'.join(part_clause) \n",
    "        negated = se - set(part_clause)\n",
    "        if len(negated) != 0:\n",
    "            clause_string += '&~'+'&~'.join(negated)\n",
    "        clause_string += '|'\n",
    "    clause_string.replace('||', '|')\n",
    "    clause_string = clause_string[:-1]\n",
    "    overall_addition.append(clause_string)\n",
    "\n",
    "exec('overall_addition_course = ' + '|'.join(overall_addition))\n",
    "sp.to_cnf(overall_addition_course, True)"
   ]
  },
  {
   "cell_type": "code",
   "execution_count": 16,
   "metadata": {},
   "outputs": [],
   "source": [
    "# se"
   ]
  },
  {
   "cell_type": "code",
   "execution_count": 17,
   "metadata": {},
   "outputs": [],
   "source": [
    "overall_addition_course_cnf = sp.to_cnf(overall_addition_course, True)"
   ]
  },
  {
   "cell_type": "code",
   "execution_count": 18,
   "metadata": {},
   "outputs": [],
   "source": [
    "# overall_addition_course_cnf"
   ]
  },
  {
   "cell_type": "code",
   "execution_count": 19,
   "metadata": {},
   "outputs": [],
   "source": [
    "clauses.append(str(overall_addition_course_cnf))"
   ]
  },
  {
   "cell_type": "code",
   "execution_count": 20,
   "metadata": {},
   "outputs": [],
   "source": [
    "# clauses"
   ]
  },
  {
   "cell_type": "code",
   "execution_count": 21,
   "metadata": {},
   "outputs": [],
   "source": [
    "exec('a='+'('+')&('.join(clauses) + ')')"
   ]
  },
  {
   "cell_type": "code",
   "execution_count": 22,
   "metadata": {},
   "outputs": [],
   "source": [
    "# sp.to_cnf(a, True)"
   ]
  },
  {
   "cell_type": "code",
   "execution_count": 23,
   "metadata": {},
   "outputs": [
    {
     "data": {
      "text/latex": [
       "$\\displaystyle \\text{False}$"
      ],
      "text/plain": [
       "False"
      ]
     },
     "execution_count": 23,
     "metadata": {},
     "output_type": "execute_result"
    }
   ],
   "source": [
    "simplify(a)"
   ]
  },
  {
   "cell_type": "code",
   "execution_count": 24,
   "metadata": {},
   "outputs": [
    {
     "data": {
      "text/plain": [
       "False"
      ]
     },
     "execution_count": 24,
     "metadata": {},
     "output_type": "execute_result"
    }
   ],
   "source": [
    "satisfiable(a)"
   ]
  },
  {
   "cell_type": "code",
   "execution_count": 25,
   "metadata": {},
   "outputs": [],
   "source": [
    "# a"
   ]
  },
  {
   "cell_type": "code",
   "execution_count": 26,
   "metadata": {},
   "outputs": [],
   "source": [
    "def write_cnf(filename, cnf_ans, set_of_vars):\n",
    "    assert cnf_ans.func == sp.And\n",
    "    l = []\n",
    "    for row in am:\n",
    "        l.append(f'c {row}')\n",
    "    l.append(f'c k = {k}')\n",
    "    l.append(f'p cnf {len(set_of_vars)} {len(cnf_ans.args)}')\n",
    "    for arg in cnf_ans.args:\n",
    "        s = ''\n",
    "        if arg.func == sp.Symbol:\n",
    "            s += str(set_of_vars[arg]) + ' '\n",
    "        else:\n",
    "            assert arg.func == sp.Or\n",
    "            for sub_arg in arg.args:\n",
    "                if len(sub_arg.args) == 1:\n",
    "                    s += str(-1*(set_of_vars[sub_arg.args[0]])) + ' '\n",
    "                elif len(sub_arg.args) == 0:\n",
    "                    s += str(set_of_vars[sub_arg]) + ' '\n",
    "        s += '0'\n",
    "        l.append(s)\n",
    "    with open(filename,'w') as f:\n",
    "        f.write('\\n'.join(l))"
   ]
  },
  {
   "cell_type": "code",
   "execution_count": 27,
   "metadata": {},
   "outputs": [],
   "source": [
    "def set_wrapper(cnf_ans):\n",
    "    set_of_vars = {}\n",
    "    counter = 1\n",
    "    def recursive_add_to_set(a):\n",
    "        nonlocal counter\n",
    "        if a.func == sp.Symbol:\n",
    "            if a not in set_of_vars:\n",
    "                set_of_vars[a] = counter\n",
    "                counter += 1\n",
    "        elif len(a.args)==1:\n",
    "            b = a.args[0]\n",
    "            if b not in set_of_vars:\n",
    "                set_of_vars[b] = counter\n",
    "                counter += 1\n",
    "        else:\n",
    "            for arg in a.args:\n",
    "                recursive_add_to_set(arg)\n",
    "    recursive_add_to_set(cnf_ans)\n",
    "    return set_of_vars"
   ]
  },
  {
   "cell_type": "code",
   "execution_count": 28,
   "metadata": {},
   "outputs": [],
   "source": [
    "if k > len(am):\n",
    "    a = x1 | ~x1\n",
    "    l = []\n",
    "    for row in am:\n",
    "        l.append(f'c {row}')\n",
    "    l.append(f'c k = {k}')\n",
    "    l.append(f'p cnf 1 1')\n",
    "    l.append(f'1 -1 0')\n",
    "    with open(CNF_FILE_NAME,'w') as f:\n",
    "        f.write('\\n'.join(l))\n",
    "else:\n",
    "    write_cnf(CNF_FILE_NAME, a, set_wrapper(a))"
   ]
  },
  {
   "cell_type": "code",
   "execution_count": null,
   "metadata": {},
   "outputs": [],
   "source": []
  },
  {
   "cell_type": "code",
   "execution_count": 29,
   "metadata": {},
   "outputs": [],
   "source": [
    "def encode_sum(k: int):\n",
    "#     print(k, end=':')\n",
    "    overall_addition = []\n",
    "    se = set()\n",
    "    for symbol in syms:\n",
    "        se.add(str(symbol))\n",
    "    overall_addition_course = None\n",
    "    for i in range(1, k+1):\n",
    "        x = list(combinations(se, i))\n",
    "        clause_string = ''\n",
    "        for part_clause in x:\n",
    "            clause_string += '&'.join(part_clause) \n",
    "            negated = se - set(part_clause)\n",
    "            if len(negated) != 0:\n",
    "                clause_string += '&~'+'&~'.join(negated)\n",
    "            clause_string += '|'\n",
    "        clause_string.replace('||', '|')\n",
    "        clause_string = clause_string[:-1]\n",
    "        overall_addition.append(clause_string)\n",
    "    overall_addition_course = parse_expr('|'.join(overall_addition))\n",
    "    overall_addition_course = sp.to_cnf(overall_addition_course, True)\n",
    "    return overall_addition_course"
   ]
  },
  {
   "cell_type": "code",
   "execution_count": 36,
   "metadata": {},
   "outputs": [],
   "source": [
    "def find_min_size():\n",
    "    edges = []\n",
    "    # add edges to our clauses\n",
    "    for i in range(max_num):\n",
    "        for j in range(i+1):\n",
    "            if am[i][j] == 1:\n",
    "                edges.append(f'x{i}|x{j}')\n",
    "    for l in range(1, len(am)+1):\n",
    "        clauses = edges[:]\n",
    "        clauses.append(str(encode_sum(l)))\n",
    "        a = parse_expr('('+')&('.join(clauses) + ')')\n",
    "        if satisfiable(a) != False:\n",
    "            # print(a)\n",
    "            # print(f'{l}, {satisfiable(a)}')\n",
    "            global k\n",
    "            k = l\n",
    "            break\n",
    "    return l, a"
   ]
  },
  {
   "cell_type": "code",
   "execution_count": 37,
   "metadata": {},
   "outputs": [
    {
     "data": {
      "text/plain": [
       "(4,\n",
       " (x0 | x3) & (x1 | x3) & (x1 | x4) & (x1 | x5) & (x2 | x3) & (x2 | x5) & (x2 | x6) & (x3 | x6) & (x4 | x6) & (x5 | x6) & (x0 | x1 | x2 | x3 | x4 | x5 | x6 | x7) & (~x0 | ~x1 | ~x2 | ~x3 | ~x4) & (~x0 | ~x1 | ~x2 | ~x3 | ~x5) & (~x0 | ~x1 | ~x2 | ~x3 | ~x6) & (~x0 | ~x1 | ~x2 | ~x3 | ~x7) & (~x0 | ~x1 | ~x2 | ~x4 | ~x5) & (~x0 | ~x1 | ~x2 | ~x4 | ~x6) & (~x0 | ~x1 | ~x2 | ~x4 | ~x7) & (~x0 | ~x1 | ~x2 | ~x5 | ~x6) & (~x0 | ~x1 | ~x2 | ~x5 | ~x7) & (~x0 | ~x1 | ~x2 | ~x6 | ~x7) & (~x0 | ~x1 | ~x3 | ~x4 | ~x5) & (~x0 | ~x1 | ~x3 | ~x4 | ~x6) & (~x0 | ~x1 | ~x3 | ~x4 | ~x7) & (~x0 | ~x1 | ~x3 | ~x5 | ~x6) & (~x0 | ~x1 | ~x3 | ~x5 | ~x7) & (~x0 | ~x1 | ~x3 | ~x6 | ~x7) & (~x0 | ~x1 | ~x4 | ~x5 | ~x6) & (~x0 | ~x1 | ~x4 | ~x5 | ~x7) & (~x0 | ~x1 | ~x4 | ~x6 | ~x7) & (~x0 | ~x1 | ~x5 | ~x6 | ~x7) & (~x0 | ~x2 | ~x3 | ~x4 | ~x5) & (~x0 | ~x2 | ~x3 | ~x4 | ~x6) & (~x0 | ~x2 | ~x3 | ~x4 | ~x7) & (~x0 | ~x2 | ~x3 | ~x5 | ~x6) & (~x0 | ~x2 | ~x3 | ~x5 | ~x7) & (~x0 | ~x2 | ~x3 | ~x6 | ~x7) & (~x0 | ~x2 | ~x4 | ~x5 | ~x6) & (~x0 | ~x2 | ~x4 | ~x5 | ~x7) & (~x0 | ~x2 | ~x4 | ~x6 | ~x7) & (~x0 | ~x2 | ~x5 | ~x6 | ~x7) & (~x0 | ~x3 | ~x4 | ~x5 | ~x6) & (~x0 | ~x3 | ~x4 | ~x5 | ~x7) & (~x0 | ~x3 | ~x4 | ~x6 | ~x7) & (~x0 | ~x3 | ~x5 | ~x6 | ~x7) & (~x0 | ~x4 | ~x5 | ~x6 | ~x7) & (~x1 | ~x2 | ~x3 | ~x4 | ~x5) & (~x1 | ~x2 | ~x3 | ~x4 | ~x6) & (~x1 | ~x2 | ~x3 | ~x4 | ~x7) & (~x1 | ~x2 | ~x3 | ~x5 | ~x6) & (~x1 | ~x2 | ~x3 | ~x5 | ~x7) & (~x1 | ~x2 | ~x3 | ~x6 | ~x7) & (~x1 | ~x2 | ~x4 | ~x5 | ~x6) & (~x1 | ~x2 | ~x4 | ~x5 | ~x7) & (~x1 | ~x2 | ~x4 | ~x6 | ~x7) & (~x1 | ~x2 | ~x5 | ~x6 | ~x7) & (~x1 | ~x3 | ~x4 | ~x5 | ~x6) & (~x1 | ~x3 | ~x4 | ~x5 | ~x7) & (~x1 | ~x3 | ~x4 | ~x6 | ~x7) & (~x1 | ~x3 | ~x5 | ~x6 | ~x7) & (~x1 | ~x4 | ~x5 | ~x6 | ~x7) & (~x2 | ~x3 | ~x4 | ~x5 | ~x6) & (~x2 | ~x3 | ~x4 | ~x5 | ~x7) & (~x2 | ~x3 | ~x4 | ~x6 | ~x7) & (~x2 | ~x3 | ~x5 | ~x6 | ~x7) & (~x2 | ~x4 | ~x5 | ~x6 | ~x7) & (~x3 | ~x4 | ~x5 | ~x6 | ~x7))"
      ]
     },
     "execution_count": 37,
     "metadata": {},
     "output_type": "execute_result"
    }
   ],
   "source": [
    "find_min_size()"
   ]
  },
  {
   "cell_type": "code",
   "execution_count": 32,
   "metadata": {},
   "outputs": [
    {
     "data": {
      "text/plain": [
       "[[0, 1, 0, 1, 0, 0, 1, 1],\n",
       " [1, 0, 1, 0, 1, 0, 1, 1],\n",
       " [0, 1, 0, 0, 1, 1, 0, 1],\n",
       " [1, 0, 0, 0, 0, 0, 1, 1],\n",
       " [0, 1, 1, 0, 0, 1, 1, 1],\n",
       " [0, 0, 1, 0, 1, 0, 1, 1],\n",
       " [1, 1, 0, 1, 1, 1, 0, 1],\n",
       " [1, 1, 1, 1, 1, 1, 1, 0]]"
      ]
     },
     "execution_count": 32,
     "metadata": {},
     "output_type": "execute_result"
    }
   ],
   "source": [
    "am"
   ]
  },
  {
   "cell_type": "code",
   "execution_count": 33,
   "metadata": {},
   "outputs": [],
   "source": [
    "correct_ans_8 = [['testcase_0', 5], ['testcase_1', 5], ['testcase_2', 4], ['testcase_3', 5], ['testcase_4', 3], ['testcase_5', 4], ['testcase_6', 4], ['testcase_7', 3], ['testcase_8', 5], ['testcase_9', 5], ['testcase_10', 5], ['testcase_11', 5], ['testcase_12', 4], ['testcase_13', 4], ['testcase_14', 5], ['testcase_15', 4], ['testcase_16', 5], ['testcase_17', 4], ['testcase_18', 5], ['testcase_19', 5], ['testcase_20', 4], ['testcase_21', 5], ['testcase_22', 5], ['testcase_23', 3], ['testcase_24', 4], ['testcase_25', 5], ['testcase_26', 5], ['testcase_27', 5], ['testcase_28', 5], ['testcase_29', 4], ['testcase_30', 3], ['testcase_31', 5], ['testcase_32', 4], ['testcase_33', 5], ['testcase_34', 6], ['testcase_35', 5], ['testcase_36', 5], ['testcase_37', 4], ['testcase_38', 4], ['testcase_39', 5], ['testcase_40', 5], ['testcase_41', 4], ['testcase_42', 4], ['testcase_43', 4], ['testcase_44', 4], ['testcase_45', 5], ['testcase_46', 4], ['testcase_47', 5], ['testcase_48', 5], ['testcase_49', 5], ['testcase_50', 5], ['testcase_51', 4], ['testcase_52', 5], ['testcase_53', 4], ['testcase_54', 4], ['testcase_55', 5], ['testcase_56', 4], ['testcase_57', 5], ['testcase_58', 4], ['testcase_59', 5], ['testcase_60', 4], ['testcase_61', 4], ['testcase_62', 5], ['testcase_63', 5], ['testcase_64', 4], ['testcase_65', 5], ['testcase_66', 4], ['testcase_67', 4], ['testcase_68', 5], ['testcase_69', 5], ['testcase_70', 5], ['testcase_71', 4], ['testcase_72', 5], ['testcase_73', 5], ['testcase_74', 5], ['testcase_75', 5], ['testcase_76', 4], ['testcase_77', 5], ['testcase_78', 4], ['testcase_79', 5], ['testcase_80', 5], ['testcase_81', 5], ['testcase_82', 4], ['testcase_83', 4], ['testcase_84', 5], ['testcase_85', 5], ['testcase_86', 5], ['testcase_87', 4], ['testcase_88', 5], ['testcase_89', 5], ['testcase_90', 4], ['testcase_91', 5], ['testcase_92', 5], ['testcase_93', 5], ['testcase_94', 4], ['testcase_95', 5], ['testcase_96', 4], ['testcase_97', 4], ['testcase_98', 4], ['testcase_99', 5]]\n",
    "correct_ans_7 = [['testcase_0', 4], ['testcase_1', 5], ['testcase_2', 3], ['testcase_3', 3], ['testcase_4', 3], ['testcase_5', 4], ['testcase_6', 4], ['testcase_7', 4], ['testcase_8', 4], ['testcase_9', 3], ['testcase_10', 4], ['testcase_11', 4], ['testcase_12', 5], ['testcase_13', 5], ['testcase_14', 4], ['testcase_15', 4], ['testcase_16', 4], ['testcase_17', 4], ['testcase_18', 4], ['testcase_19', 4], ['testcase_20', 3], ['testcase_21', 3], ['testcase_22', 4], ['testcase_23', 5], ['testcase_24', 4], ['testcase_25', 4], ['testcase_26', 3], ['testcase_27', 4], ['testcase_28', 4], ['testcase_29', 4], ['testcase_30', 4], ['testcase_31', 4], ['testcase_32', 3], ['testcase_33', 4], ['testcase_34', 4], ['testcase_35', 3], ['testcase_36', 4], ['testcase_37', 3], ['testcase_38', 3], ['testcase_39', 4], ['testcase_40', 4], ['testcase_41', 4], ['testcase_42', 4], ['testcase_43', 4], ['testcase_44', 4], ['testcase_45', 4], ['testcase_46', 3], ['testcase_47', 4], ['testcase_48', 5], ['testcase_49', 4], ['testcase_50', 4], ['testcase_51', 4], ['testcase_52', 4], ['testcase_53', 3], ['testcase_54', 4], ['testcase_55', 5], ['testcase_56', 4], ['testcase_57', 3], ['testcase_58', 4], ['testcase_59', 4], ['testcase_60', 3], ['testcase_61', 4], ['testcase_62', 4], ['testcase_63', 5], ['testcase_64', 5], ['testcase_65', 3], ['testcase_66', 4], ['testcase_67', 4], ['testcase_68', 3], ['testcase_69', 3], ['testcase_70', 4], ['testcase_71', 3], ['testcase_72', 4], ['testcase_73', 5], ['testcase_74', 3], ['testcase_75', 4], ['testcase_76', 4], ['testcase_77', 5], ['testcase_78', 3], ['testcase_79', 3], ['testcase_80', 4], ['testcase_81', 3], ['testcase_82', 4], ['testcase_83', 4], ['testcase_84', 4], ['testcase_85', 3], ['testcase_86', 3], ['testcase_87', 4], ['testcase_88', 4], ['testcase_89', 4], ['testcase_90', 3], ['testcase_91', 5], ['testcase_92', 4], ['testcase_93', 3], ['testcase_94', 3], ['testcase_95', 3], ['testcase_96', 4], ['testcase_97', 4], ['testcase_98', 4], ['testcase_99', 4]]"
   ]
  },
  {
   "cell_type": "code",
   "execution_count": 38,
   "metadata": {},
   "outputs": [
    {
     "name": "stdout",
     "output_type": "stream",
     "text": [
      "99/100\r"
     ]
    }
   ],
   "source": [
    "ans = []\n",
    "for i in range(100):\n",
    "    global am\n",
    "    adjaceny_matrix = am = readIntoAM(f'./adjacency_matrices_7/testcase_{i}.cov')\n",
    "    global max_num\n",
    "    max_num = len(am)\n",
    "    min_size, cnf_formula = find_min_size()\n",
    "    ans.append([f'testcase_{i}', min_size])\n",
    "    assert min_size == correct_ans_7[i][-1], f'./adjacency_matrices_7/testcase_{i}.cov min-size - {min_size}, correct_ans-{correct_ans_7[i][-1]}' \n",
    "    write_cnf(f'./output_cnf/{CNF_FILE_NAME}_testcase_{i}', cnf_formula, set_wrapper(cnf_formula))\n",
    "    print(f'{i}/100', end='\\r')\n",
    "#     print(ans[-1])"
   ]
  },
  {
   "cell_type": "code",
   "execution_count": null,
   "metadata": {},
   "outputs": [],
   "source": []
  },
  {
   "cell_type": "code",
   "execution_count": null,
   "metadata": {},
   "outputs": [],
   "source": []
  },
  {
   "cell_type": "code",
   "execution_count": null,
   "metadata": {},
   "outputs": [],
   "source": []
  }
 ],
 "metadata": {
  "kernelspec": {
   "display_name": "Python 3",
   "language": "python",
   "name": "python3"
  },
  "language_info": {
   "codemirror_mode": {
    "name": "ipython",
    "version": 3
   },
   "file_extension": ".py",
   "mimetype": "text/x-python",
   "name": "python",
   "nbconvert_exporter": "python",
   "pygments_lexer": "ipython3",
   "version": "3.7.3"
  }
 },
 "nbformat": 4,
 "nbformat_minor": 2
}
