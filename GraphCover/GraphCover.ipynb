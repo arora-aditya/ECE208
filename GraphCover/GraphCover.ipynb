{
 "cells": [
  {
   "cell_type": "code",
   "execution_count": 1,
   "metadata": {},
   "outputs": [],
   "source": [
    "import sympy as sp\n",
    "from sympy import *\n",
    "from sympy.abc import *\n",
    "from sympy.parsing.sympy_parser import parse_expr\n",
    "from itertools import combinations"
   ]
  },
  {
   "cell_type": "code",
   "execution_count": 2,
   "metadata": {},
   "outputs": [],
   "source": [
    "CNF_FILE_NAME = f'graph_{1}.cnf'"
   ]
  },
  {
   "cell_type": "code",
   "execution_count": 3,
   "metadata": {},
   "outputs": [],
   "source": [
    "adjaceny_matrix = am = [\n",
    "            [0, 1, 1, 1, 1],\n",
    "            [1, 0, 0, 0, 1],\n",
    "            [1, 0, 0, 1, 1],\n",
    "            [1, 0, 1, 0, 1],\n",
    "            [1, 1, 1, 1, 0]\n",
    "]"
   ]
  },
  {
   "cell_type": "code",
   "execution_count": 4,
   "metadata": {},
   "outputs": [],
   "source": [
    "max_num = len(am)"
   ]
  },
  {
   "cell_type": "code",
   "execution_count": 5,
   "metadata": {},
   "outputs": [],
   "source": [
    "def define_variables(max_no: int):\n",
    "    return symbols(f'x:{max_no}')"
   ]
  },
  {
   "cell_type": "code",
   "execution_count": 6,
   "metadata": {},
   "outputs": [],
   "source": [
    "syms: sp.Symbol = define_variables(max_num)\n",
    "for i in range(max_num):\n",
    "    exec(f'x{i} = syms[{i}]')"
   ]
  },
  {
   "cell_type": "code",
   "execution_count": null,
   "metadata": {},
   "outputs": [],
   "source": []
  },
  {
   "cell_type": "code",
   "execution_count": 7,
   "metadata": {},
   "outputs": [],
   "source": [
    "clauses = []"
   ]
  },
  {
   "cell_type": "code",
   "execution_count": 8,
   "metadata": {},
   "outputs": [],
   "source": [
    "# add edges to our clauses\n",
    "for i in range(max_num):\n",
    "    for j in range(i+1):\n",
    "        if am[i][j] == 1:\n",
    "            clauses.append(f'x{i}|x{j}')"
   ]
  },
  {
   "cell_type": "code",
   "execution_count": 9,
   "metadata": {},
   "outputs": [
    {
     "data": {
      "text/plain": [
       "['x1|x0', 'x2|x0', 'x3|x0', 'x3|x2', 'x4|x0', 'x4|x1', 'x4|x2', 'x4|x3']"
      ]
     },
     "execution_count": 9,
     "metadata": {},
     "output_type": "execute_result"
    }
   ],
   "source": [
    "clauses"
   ]
  },
  {
   "cell_type": "code",
   "execution_count": 10,
   "metadata": {},
   "outputs": [
    {
     "data": {
      "text/latex": [
       "$\\displaystyle \\left(\\neg x_{0} \\vee \\neg x_{1} \\vee \\neg x_{2} \\vee \\neg x_{3}\\right) \\wedge \\left(\\neg x_{0} \\vee \\neg x_{1} \\vee \\neg x_{2} \\vee \\neg x_{4}\\right) \\wedge \\left(\\neg x_{0} \\vee \\neg x_{1} \\vee \\neg x_{3} \\vee \\neg x_{4}\\right) \\wedge \\left(\\neg x_{0} \\vee \\neg x_{2} \\vee \\neg x_{3} \\vee \\neg x_{4}\\right) \\wedge \\left(\\neg x_{1} \\vee \\neg x_{2} \\vee \\neg x_{3} \\vee \\neg x_{4}\\right) \\wedge \\left(x_{0} \\vee x_{1} \\vee x_{2} \\vee x_{3} \\vee x_{4}\\right)$"
      ],
      "text/plain": [
       "(x0 | x1 | x2 | x3 | x4) & (~x0 | ~x1 | ~x2 | ~x3) & (~x0 | ~x1 | ~x2 | ~x4) & (~x0 | ~x1 | ~x3 | ~x4) & (~x0 | ~x2 | ~x3 | ~x4) & (~x1 | ~x2 | ~x3 | ~x4)"
      ]
     },
     "execution_count": 10,
     "metadata": {},
     "output_type": "execute_result"
    }
   ],
   "source": [
    "# encode addition from 1 to k\n",
    "# m = len(clauses)\n",
    "k = 3\n",
    "overall_addition = []\n",
    "se = set()\n",
    "for symbol in syms:\n",
    "    se.add(str(symbol))\n",
    "\n",
    "for i in range(1, k+1):\n",
    "    x = list(combinations(se, i))\n",
    "    clause_string = ''\n",
    "    for part_clause in x:\n",
    "        clause_string += '&'.join(part_clause) \n",
    "        negated = se - set(part_clause)\n",
    "        if len(negated) != 0:\n",
    "            clause_string += '&~'+'&~'.join(negated)\n",
    "        clause_string += '|'\n",
    "    clause_string = clause_string[:-1]\n",
    "    overall_addition.append(clause_string)\n",
    "\n",
    "exec('overall_addition_course = ' + '|'.join(overall_addition))\n",
    "sp.to_cnf(overall_addition_course, True)"
   ]
  },
  {
   "cell_type": "code",
   "execution_count": null,
   "metadata": {},
   "outputs": [],
   "source": [
    "# se"
   ]
  },
  {
   "cell_type": "code",
   "execution_count": 12,
   "metadata": {},
   "outputs": [],
   "source": [
    "overall_addition_course_cnf = sp.to_cnf(overall_addition_course, True)"
   ]
  },
  {
   "cell_type": "code",
   "execution_count": 13,
   "metadata": {},
   "outputs": [],
   "source": [
    "# overall_addition_course_cnf"
   ]
  },
  {
   "cell_type": "code",
   "execution_count": 14,
   "metadata": {},
   "outputs": [],
   "source": [
    "clauses.append(str(overall_addition_course_cnf))"
   ]
  },
  {
   "cell_type": "code",
   "execution_count": 15,
   "metadata": {},
   "outputs": [],
   "source": [
    "# clauses"
   ]
  },
  {
   "cell_type": "code",
   "execution_count": 16,
   "metadata": {},
   "outputs": [],
   "source": [
    "exec('a='+'('+')&('.join(clauses) + ')')"
   ]
  },
  {
   "cell_type": "code",
   "execution_count": 17,
   "metadata": {},
   "outputs": [],
   "source": [
    "# sp.to_cnf(a, True)"
   ]
  },
  {
   "cell_type": "code",
   "execution_count": 18,
   "metadata": {},
   "outputs": [],
   "source": [
    "# simplify(a)"
   ]
  },
  {
   "cell_type": "code",
   "execution_count": 19,
   "metadata": {},
   "outputs": [
    {
     "data": {
      "text/plain": [
       "{x0: True, x2: True, x4: True, x3: False, x1: False}"
      ]
     },
     "execution_count": 19,
     "metadata": {},
     "output_type": "execute_result"
    }
   ],
   "source": [
    "satisfiable(a)"
   ]
  },
  {
   "cell_type": "code",
   "execution_count": 20,
   "metadata": {},
   "outputs": [],
   "source": [
    "# a"
   ]
  },
  {
   "cell_type": "code",
   "execution_count": 21,
   "metadata": {},
   "outputs": [],
   "source": [
    "def write_cnf(filename, cnf_ans, set_of_vars):\n",
    "    assert cnf_ans.func == sp.And\n",
    "    l = []\n",
    "    for row in am:\n",
    "        l.append(f'c {row}')\n",
    "    l.append(f'p cnf {len(set_of_vars)} {len(cnf_ans.args)}')\n",
    "    for arg in cnf_ans.args:\n",
    "        s = ''\n",
    "        if arg.func == sp.Symbol:\n",
    "            s += str(set_of_vars[arg]) + ' '\n",
    "        else:\n",
    "            assert arg.func == sp.Or\n",
    "            for sub_arg in arg.args:\n",
    "                if len(sub_arg.args) == 1:\n",
    "                    s += str(-1*(set_of_vars[sub_arg.args[0]])) + ' '\n",
    "                elif len(sub_arg.args) == 0:\n",
    "                    s += str(set_of_vars[sub_arg]) + ' '\n",
    "        s += '0'\n",
    "        l.append(s)\n",
    "    with open(filename,'w') as f:\n",
    "        f.write('\\n'.join(l))"
   ]
  },
  {
   "cell_type": "code",
   "execution_count": 22,
   "metadata": {},
   "outputs": [],
   "source": [
    "def set_wrapper(cnf_ans):\n",
    "    set_of_vars = {}\n",
    "    counter = 1\n",
    "    def recursive_add_to_set(a):\n",
    "        nonlocal counter\n",
    "        if a.func == sp.Symbol:\n",
    "            if a not in set_of_vars:\n",
    "                set_of_vars[a] = counter\n",
    "                counter += 1\n",
    "        elif len(a.args)==1:\n",
    "            b = a.args[0]\n",
    "            if b not in set_of_vars:\n",
    "                set_of_vars[b] = counter\n",
    "                counter += 1\n",
    "        else:\n",
    "            for arg in a.args:\n",
    "                recursive_add_to_set(arg)\n",
    "    recursive_add_to_set(cnf_ans)\n",
    "    return set_of_vars"
   ]
  },
  {
   "cell_type": "code",
   "execution_count": 23,
   "metadata": {},
   "outputs": [],
   "source": [
    "write_cnf(CNF_FILE_NAME, a, set_wrapper(a))"
   ]
  },
  {
   "cell_type": "code",
   "execution_count": null,
   "metadata": {},
   "outputs": [],
   "source": []
  },
  {
   "cell_type": "code",
   "execution_count": null,
   "metadata": {},
   "outputs": [],
   "source": []
  }
 ],
 "metadata": {
  "kernelspec": {
   "display_name": "Python 3",
   "language": "python",
   "name": "python3"
  },
  "language_info": {
   "codemirror_mode": {
    "name": "ipython",
    "version": 3
   },
   "file_extension": ".py",
   "mimetype": "text/x-python",
   "name": "python",
   "nbconvert_exporter": "python",
   "pygments_lexer": "ipython3",
   "version": "3.7.3"
  }
 },
 "nbformat": 4,
 "nbformat_minor": 2
}
